{
 "cells": [
  {
   "cell_type": "markdown",
   "metadata": {},
   "source": [
    "Before you turn this problem in, make sure everything runs as expected. First, **restart the kernel** (in the menubar, select Kernel$\\rightarrow$Restart) and then **run all cells** (in the menubar, select Cell$\\rightarrow$Run All).\n",
    "\n",
    "Make sure you fill in any place that says `YOUR CODE HERE` or \"YOUR ANSWER HERE\", as well as your name and collaborators below:"
   ]
  },
  {
   "cell_type": "code",
   "execution_count": 139,
   "metadata": {},
   "outputs": [],
   "source": [
    "NAME = \"Michael Cornelisse\"\n",
    "STUDENT_NUMBER = \"s1059020\"\n",
    "COLLABORATOR_NAME = \"Nienke Helmers\"\n",
    "COLLABORATOR_STUDENT_NUMBER = \"s1016904\""
   ]
  },
  {
   "cell_type": "markdown",
   "metadata": {},
   "source": [
    "---"
   ]
  },
  {
   "cell_type": "markdown",
   "metadata": {
    "deletable": false,
    "editable": false,
    "nbgrader": {
     "cell_type": "markdown",
     "checksum": "f8b758bd0bf3376195029a7ed3d9984f",
     "grade": false,
     "grade_id": "cell-9e757036a2917269",
     "locked": true,
     "schema_version": 3,
     "solution": false,
     "task": false
    }
   },
   "source": [
    "# Assignment 5: Association mining\n",
    "\n",
    "## Objective of this assignment\n",
    "The overall objective is to understand how frequent itemsets can be extracted by\n",
    "the Apriori algorithm and be able to calculate and interpret association rules in terms of support and confidence.\n",
    "\n",
    "## ** Important: ** When handing in your homework:\n",
    "+ Hand in the notebook (and nothing else) named as follows: StudentName1_snumber_StudentName2_snumber.ipynb\n",
    "+ Provide clear and complete answers to the questions below under a separate header (not hidden somewhere in your source code), and make sure to explain your answers / motivate your choices. Add Markdown cells where necessary.\n",
    "+ Source code, output graphs, derivations, etc., should be included in the notebook.\n",
    "+ Hand-in: upload to Blackboard.\n",
    "+ Include name, student number, assignment (especially in filenames)!\n",
    "+ When working in pairs only one of you should upload the assignment, and report the name of your partner in your filename.\n",
    "+ For problems or questions: use the BB discussion board or email the student assistants.\n",
    "\n",
    "\n",
    "## Advised Reading and Exercise Material\n",
    "**The following reading material is recommended:**\n",
    "\n",
    "- Pang-Ning Tan, Michael Steinbach, and Vipin Kumar, *Introduction to Data Mining*, section 6.\n",
    "\n",
    "\n",
    "## Additional Tools\n",
    "For this exercise you will need to load the provided *apriorimining.py* script. \n",
    "\n",
    "\n",
    "##  5.1 Association mining for course data \n",
    "We will use the Apriori algorithm to automatically mine for associations. The Apriori algorithm is an adapted version of the script found here: https://github.com/nalinaksh/Association-Rule-Mining-Python\n",
    "\n",
    "Check out the script and doc and check if you understand how the association rules are computed. \n",
    "\n"
   ]
  },
  {
   "cell_type": "markdown",
   "metadata": {
    "deletable": false,
    "editable": false,
    "nbgrader": {
     "cell_type": "markdown",
     "checksum": "bdb3ac5bf2399a8c37fe70dc26f0cdf5",
     "grade": false,
     "grade_id": "cell-0dad9fbbce66f736",
     "locked": true,
     "schema_version": 3,
     "solution": false,
     "task": false
    }
   },
   "source": [
    "\n",
    "#### 5.1.1\n",
    "\n",
    "(0.25 points) Look at the data file `data/courses.txt` by **using Python**. The data is represented in Table 1. Inspect the file `data/courses.txt` and make sure you understand how the data in Table 1 is stored in the text file. Explain how the table is a representation of the text file. What information that we would need for complete reconstruction of the table is missing from the text file?\n",
    "\n",
    "##### Table 1\n",
    "|#  |   History |Math| Biology| Spanish | Economics| Physics | Chemistry | English  |  \n",
    "| :-------------: |:-------------:| :-----------:| :----------:| :------------:|:-------------:| :------------:|  :-------------: | :-------------: |\n",
    "|student 1 | 0| 1 | 0 | 0 | 1| 1 |1 |1   \n",
    "|student 2 | 1| 1 | 1 | 0 | 0| 1 |1 |1   \n",
    "|student 3 | 0| 1 | 0 | 1 | 0| 1 |0 |1   \n",
    "|student 4 | 0| 0 | 1 | 0 | 0| 1 |1 |0   \n",
    "|student 5 | 0| 1 | 0 | 0 | 0| 1 |1 |0        \n",
    "|student 6 | 0| 1 | 1 | 0 | 0| 1 |1 |1   \n"
   ]
  },
  {
   "cell_type": "code",
   "execution_count": 147,
   "metadata": {
    "deletable": false,
    "nbgrader": {
     "cell_type": "code",
     "checksum": "a43499c1db7b363ac36384c8e8a89b8c",
     "grade": true,
     "grade_id": "cell-965614a7de3fe34e",
     "locked": false,
     "points": 0,
     "schema_version": 3,
     "solution": true,
     "task": false
    }
   },
   "outputs": [
    {
     "name": "stdout",
     "output_type": "stream",
     "text": [
      "2,5,6,7,8\n",
      "1,2,3,6,7,8\n",
      "2,4,6,8\n",
      "3,6,7\n",
      "2,6,7\n",
      "2,3,6,7,8\n",
      "\n"
     ]
    }
   ],
   "source": [
    "##Answer to question 5.1.1\n",
    "import pandas as pd\n",
    "data = open('data/courses.txt')\n",
    "print(data.read())"
   ]
  },
  {
   "cell_type": "markdown",
   "metadata": {
    "deletable": false,
    "nbgrader": {
     "cell_type": "markdown",
     "checksum": "66fee4e6f7ffa2b802095395a725c06f",
     "grade": true,
     "grade_id": "cell-5cd66ce18ced94f7",
     "locked": false,
     "points": 25,
     "schema_version": 3,
     "solution": true,
     "task": false
    }
   },
   "source": [
    "Every row of the text file courses represents a student. Each row contains the index numbers of the courses that student follows starting from 1: history, math, biology, Spanish, economics, physics, chemistry and English. In the table, when a student follows the course, this is indicated by a 1, if not, there is a 0.\n",
    "\n",
    "To reconstruct the table from the text file, the row of students and the row of courses is needed."
   ]
  },
  {
   "cell_type": "markdown",
   "metadata": {
    "deletable": false,
    "editable": false,
    "nbgrader": {
     "cell_type": "markdown",
     "checksum": "b8d38fe1adb8f4fdb0eeda6d7dbb2be5",
     "grade": false,
     "grade_id": "cell-3ee519b8f858d234",
     "locked": true,
     "schema_version": 3,
     "solution": false,
     "task": false
    }
   },
   "source": [
    "#### 5.1.2\n",
    "(0.75 points) We will analyze the data in Table 1  using the function `associationmining.generate_association_rules()` from the toolbox. Analyze the data with $ minsupport  \\geq 80 \\% $ and $ minconfidence \\geq 100 \\%$.What\n",
    "are the generated association rules? What kind of conclusions can you make based on these association rules about the subjects that students took? You can optionally provide `generate_association_rules` a dictionary `names` translating the integers in the file to the names in the table.  \n"
   ]
  },
  {
   "cell_type": "code",
   "execution_count": 141,
   "metadata": {
    "deletable": false,
    "nbgrader": {
     "cell_type": "code",
     "checksum": "aafa1a384d38d2467d3bbd86ff45ee41",
     "grade": true,
     "grade_id": "cell-bedf69f7ed7721f3",
     "locked": false,
     "points": 0,
     "schema_version": 3,
     "solution": true,
     "task": false
    }
   },
   "outputs": [
    {
     "name": "stdout",
     "output_type": "stream",
     "text": [
      "---------------TOP 10 FREQUENT 1-ITEMSET-------------------------\n",
      "set= { Physics },  sup= 100.0\n",
      "set= { Math },  sup= 83.33\n",
      "set= { Chemistry },  sup= 83.33\n",
      "-----------------------------------------------------------------\n",
      "-------TOP 10 (or less) FREQUENT 2-ITEMSET------------------------\n",
      "set= { Math, Physics },  sup= 83.33\n",
      "set= { Chemistry, Physics },  sup= 83.33\n",
      "------------------------------------------------------------------\n",
      "---------------------ASSOCIATION RULES------------------\n",
      "--------------------------------------------------------\n",
      "Rule #1: {  } ==> { Physics }, sup= 100.00, conf= 100.00\n",
      "\n",
      "Rule #2: { Math } ==> { Physics }, sup= 83.33, conf= 100.00\n",
      "\n",
      "Rule #3: { Chemistry } ==> { Physics }, sup= 83.33, conf= 100.00\n",
      "--------------------------------------------------------\n"
     ]
    }
   ],
   "source": [
    "##Answer to question 5.1.2\n",
    "import toolbox.apriorimining as a\n",
    "\n",
    "file_name = 'data/courses.txt'\n",
    "courses_support = 80\n",
    "courses_confidence = 100\n",
    "\n",
    "courses = {'1': 'History', \n",
    "           '2': 'Math', \n",
    "           '3':'Biology', \n",
    "           '4':'Spanish', \n",
    "           '5':'Economics', \n",
    "           '6': 'Physics', \n",
    "           '7': 'Chemistry', \n",
    "           '8': 'English'}  \n",
    "\n",
    "a.generate_association_rules(file_name, courses_support, courses_confidence, names=courses)"
   ]
  },
  {
   "cell_type": "markdown",
   "metadata": {
    "deletable": false,
    "nbgrader": {
     "cell_type": "markdown",
     "checksum": "ad15d8b3c2d32ab7dc9489a182c4cf8d",
     "grade": true,
     "grade_id": "cell-88cb0896ed074bba",
     "locked": false,
     "points": 75,
     "schema_version": 3,
     "solution": true,
     "task": false
    }
   },
   "source": [
    "The generated rules indicate that: everyone takes the physics course, everyone who has math also takes physics those who take chemistry also take physics The conclusion from these rules is that everyone takes physics, and most of them also take either chemistry or math."
   ]
  },
  {
   "cell_type": "markdown",
   "metadata": {
    "deletable": false,
    "editable": false,
    "nbgrader": {
     "cell_type": "markdown",
     "checksum": "b82ac706bd39a15d3363c4a6b90888d9",
     "grade": false,
     "grade_id": "cell-ffd427a023e0db49",
     "locked": true,
     "schema_version": 3,
     "solution": false,
     "task": false
    }
   },
   "source": [
    "##  5.2 Association mining for MovieLens data \n",
    "  \n",
    "  \n",
    "In this part of the exercise we consider a Market Basket data set containing 943 users purchases of 1682 movies. A total of 100,000 movies\n",
    "have been purchased.The data set is called MovieLens100K and is provided by http://www.grouplens.org/node/73, see also the readme `MovieLensData.txt` in the data folder. The data currently considered is not the original data but modified for the apriori algorithm.\n",
    "\n",
    "#### 5.2.1\n",
    "(0.25 points) The MovieLens data is stored in the files `data/MovieLensData.txt` and `data/u.item`. Inspect the files **using Python** to see how the data is stored. How do these files relate? \n",
    "  "
   ]
  },
  {
   "cell_type": "code",
   "execution_count": 142,
   "metadata": {
    "deletable": false,
    "nbgrader": {
     "cell_type": "code",
     "checksum": "1930e184e84645274c9f4c489166d0db",
     "grade": true,
     "grade_id": "cell-5d628389694de412",
     "locked": false,
     "points": 0,
     "schema_version": 3,
     "solution": true,
     "task": false
    }
   },
   "outputs": [
    {
     "name": "stdout",
     "output_type": "stream",
     "text": [
      "MovieLensData:\n",
      "1,2,3,4,5,6,7,8,9,10,11,12,13,14,15,16,17,18,19,20,21,22,23,24,25,26,27,28,29,30,31,32,33,34,35,36,37,38,39,40,41,42,43,44,45,46,47,48,49,50,51,52,53,54,55,56,57,58,59,60,61,62,63,64,65,66,67,68,69,70,71,72,73,74,75,76,77,78,79,80,81,82,83,84,85,86,87,88,89,90,91,92,93,94,95,96,97,98,99,100,101,102,103,104,105,106,107,108,109,110,111,112,113,114,115,116,117,118,119,120,121,122,123,124,125,126,127,128,129,130,131,132,133,134,135,136,137,138,139,140,141,142,143,144,145,146,147,148,149,150,151,152,153,154,155,156,157,158,159,160,161,162,163,164,165,166,167,168,169,170,171,172,173,174,175,176,177,178,179,180,181,182,183,184,185,186,187,188,189,190,191,192,193,194,195,196,197,198,199,200,201,202,203,204,205,206,207,208,209,210,211,212,213,214,215,216,217,218,219,220,221,222,223,224,225,226,227,228,229,230,231,232,233,234,235,236,237,238,239,240,241,242,243,244,245,246,247,248,249,250,251,252,253,254,255,256,257,258,259,260,261,262,263,264,265,266,267,268,269,270,271,272\n",
      "\n",
      "1,10,13,14,19,25,50,100,111,127,237,242,251,255,257,258,269,272,273,274,275,276,277,278,279,280,281,282,283,284,285,286,287,288,289,290,291,292,293,294,295,296,297,298,299,300,301,302,303,304,305,306,307,308,309,310,311,312,313,314,315,316\n",
      "\n",
      "181,245,258,260,264,268,271,272,288,294,299,300,302,303,307,317,318,319,320,321,322,323,324,325,326,327,328,329,330,331,332,333,334,335,336,337,338,339,340,341,342,343,344,345,346,347,348,349,350,351,352,353,354,355\n",
      "\n",
      "u\n",
      "1|Toy Story (1995)|01-Jan-1995||http://us.imdb.com/M/title-exact?Toy%20Story%20(1995)|0|0|0|1|1|1|0|0|0|0|0|0|0|0|0|0|0|0|0\n",
      "\n",
      "2|GoldenEye (1995)|01-Jan-1995||http://us.imdb.com/M/title-exact?GoldenEye%20(1995)|0|1|1|0|0|0|0|0|0|0|0|0|0|0|0|0|1|0|0\n",
      "\n",
      "3|Four Rooms (1995)|01-Jan-1995||http://us.imdb.com/M/title-exact?Four%20Rooms%20(1995)|0|0|0|0|0|0|0|0|0|0|0|0|0|0|0|0|1|0|0\n",
      "\n"
     ]
    }
   ],
   "source": [
    "##Answer to question 5.2.1\n",
    "movie_file = open('data/MovieLensData.txt')\n",
    "item_file = open('data/u.item')\n",
    "\n",
    "# Only read the first three lines of the file\n",
    "print('MovieLensData:')\n",
    "for i in range(3):\n",
    "    print(movie_file.readline())\n",
    "print('u')\n",
    "for i in range(3):\n",
    "    print(item_file.readline())"
   ]
  },
  {
   "cell_type": "markdown",
   "metadata": {
    "deletable": false,
    "nbgrader": {
     "cell_type": "markdown",
     "checksum": "9c3f2c707e44ede432380b5107cd672f",
     "grade": true,
     "grade_id": "cell-efdb7712e7785341",
     "locked": false,
     "points": 25,
     "schema_version": 3,
     "solution": true,
     "task": false
    }
   },
   "source": [
    "The data inside MovieLensData.txt appears to be related to the data stored in u.item.\n",
    "\n",
    "The MovieLensData indicates which movies were in each purchase, while the u.item data stores the names of the movies and their properties (id, name, year of publishing, identifier and genres)."
   ]
  },
  {
   "cell_type": "markdown",
   "metadata": {
    "deletable": false,
    "editable": false,
    "nbgrader": {
     "cell_type": "markdown",
     "checksum": "0101f0b2131fe626e97100955b4e1445",
     "grade": false,
     "grade_id": "cell-346d03787206834b",
     "locked": true,
     "schema_version": 3,
     "solution": false,
     "task": false
    }
   },
   "source": [
    "#### 5.2.2 \n",
    "(0.75 point) Find association rules using the function below with $ minsupport  \\geq 30 \\% $ and $ minconfidence \\geq 80 \\%$. You can use the `max_rules` argument to set a maximum number of potential rules to print. Use the `movie_names` dict as the optional `names` argument in `generate_association_rules` to interpret the results. What are the associations with strongest confidence? Do these associations make sense? Explain."
   ]
  },
  {
   "cell_type": "code",
   "execution_count": 143,
   "metadata": {
    "deletable": false,
    "nbgrader": {
     "cell_type": "code",
     "checksum": "2fb7b3f2376493a6730da84bb582b226",
     "grade": true,
     "grade_id": "cell-e132e4a0a0850259",
     "locked": false,
     "points": 0,
     "schema_version": 3,
     "solution": true,
     "task": false
    },
    "scrolled": false
   },
   "outputs": [
    {
     "name": "stdout",
     "output_type": "stream",
     "text": [
      "---------------TOP 10 FREQUENT 1-ITEMSET-------------------------\n",
      "set= { Star Wars (1977) },  sup= 61.82\n",
      "set= { Contact (1997) },  sup= 53.98\n",
      "set= { Fargo (1996) },  sup= 53.87\n",
      "set= { Return of the Jedi (1983) },  sup= 53.76\n",
      "set= { Liar Liar (1997) },  sup= 51.43\n",
      "set= { English Patient, The (1996) },  sup= 51.01\n",
      "set= { Scream (1996) },  sup= 50.69\n",
      "set= { Toy Story (1995) },  sup= 47.93\n",
      "set= { Air Force One (1997) },  sup= 45.71\n",
      "set= { Independence Day (ID4) (1996) },  sup= 45.49\n",
      "-----------------------------------------------------------------\n",
      "-------TOP 10 (or less) FREQUENT 2-ITEMSET------------------------\n",
      "set= { Return of the Jedi (1983), Star Wars (1977) },  sup= 50.9\n",
      "set= { Fargo (1996), Star Wars (1977) },  sup= 41.78\n",
      "set= { Star Wars (1977), Toy Story (1995) },  sup= 40.4\n",
      "set= { Raiders of the Lost Ark (1981), Star Wars (1977) },  sup= 40.3\n",
      "set= { Independence Day (ID4) (1996), Star Wars (1977) },  sup= 38.39\n",
      "set= { Godfather, The (1972), Star Wars (1977) },  sup= 37.86\n",
      "set= { Fargo (1996), Return of the Jedi (1983) },  sup= 36.69\n",
      "set= { Empire Strikes Back, The (1980), Star Wars (1977) },  sup= 36.59\n",
      "set= { Raiders of the Lost Ark (1981), Return of the Jedi (1983) },  sup= 36.27\n",
      "set= { Return of the Jedi (1983), Toy Story (1995) },  sup= 36.06\n",
      "------------------------------------------------------------------\n",
      "-------TOP 10 (or less) FREQUENT 3-ITEMSET------------------------\n",
      "set= { Raiders of the Lost Ark (1981), Return of the Jedi (1983), Star Wars (1977) },  sup= 35.74\n",
      "set= { Return of the Jedi (1983), Star Wars (1977), Toy Story (1995) },  sup= 35.31\n",
      "set= { Fargo (1996), Return of the Jedi (1983), Star Wars (1977) },  sup= 34.99\n",
      "set= { Independence Day (ID4) (1996), Return of the Jedi (1983), Star Wars (1977) },  sup= 34.68\n",
      "set= { Empire Strikes Back, The (1980), Raiders of the Lost Ark (1981), Star Wars (1977) },  sup= 33.51\n",
      "set= { Empire Strikes Back, The (1980), Return of the Jedi (1983), Star Wars (1977) },  sup= 33.4\n",
      "set= { Godfather, The (1972), Return of the Jedi (1983), Star Wars (1977) },  sup= 31.92\n",
      "set= { Empire Strikes Back, The (1980), Raiders of the Lost Ark (1981), Return of the Jedi (1983) },  sup= 31.28\n",
      "set= { Raiders of the Lost Ark (1981), Silence of the Lambs, The (1991), Star Wars (1977) },  sup= 30.86\n",
      "set= { Pulp Fiction (1994), Raiders of the Lost Ark (1981), Star Wars (1977) },  sup= 30.65\n",
      "------------------------------------------------------------------\n",
      "-------TOP 10 (or less) FREQUENT 4-ITEMSET------------------------\n",
      "set= { Empire Strikes Back, The (1980), Raiders of the Lost Ark (1981), Return of the Jedi (1983), Star Wars (1977) },  sup= 31.18\n",
      "------------------------------------------------------------------\n",
      "---------------------ASSOCIATION RULES------------------\n",
      "--------------------------------------------------------\n",
      "Rule #72: { Empire Strikes Back, The (1980), Raiders of the Lost Ark (1981), Return of the Jedi (1983) } ==> { Star Wars (1977) }, sup= 31.18, conf= 99.66\n",
      "\n",
      "Rule #50: { Empire Strikes Back, The (1980), Return of the Jedi (1983) } ==> { Star Wars (1977) }, sup= 33.40, conf= 99.37\n",
      "\n",
      "Rule #33: { Pulp Fiction (1994), Return of the Jedi (1983) } ==> { Star Wars (1977) }, sup= 30.22, conf= 98.62\n",
      "\n",
      "Rule #56: { Raiders of the Lost Ark (1981), Return of the Jedi (1983) } ==> { Star Wars (1977) }, sup= 35.74, conf= 98.54\n",
      "\n",
      "Rule #57: { Return of the Jedi (1983), Toy Story (1995) } ==> { Star Wars (1977) }, sup= 35.31, conf= 97.94\n",
      "\n",
      "Rule #62: { Return of the Jedi (1983), Silence of the Lambs, The (1991) } ==> { Star Wars (1977) }, sup= 30.65, conf= 97.64\n",
      "\n",
      "Rule #59: { Return of the Jedi (1983), Twelve Monkeys (1995) } ==> { Star Wars (1977) }, sup= 30.54, conf= 97.63\n",
      "\n",
      "Rule #39: { Godfather, The (1972), Return of the Jedi (1983) } ==> { Star Wars (1977) }, sup= 31.92, conf= 97.10\n",
      "\n",
      "Rule #64: { Return of the Jedi (1983), Star Trek: First Contact (1996) } ==> { Star Wars (1977) }, sup= 30.65, conf= 96.98\n",
      "\n",
      "Rule #42: { Empire Strikes Back, The (1980), Raiders of the Lost Ark (1981) } ==> { Star Wars (1977) }, sup= 33.51, conf= 96.64\n",
      "\n",
      "Rule #37: { Independence Day (ID4) (1996), Return of the Jedi (1983) } ==> { Star Wars (1977) }, sup= 34.68, conf= 96.46\n",
      "\n",
      "Rule #65: { Contact (1997), Return of the Jedi (1983) } ==> { Star Wars (1977) }, sup= 30.22, conf= 95.64\n",
      "\n",
      "Rule #36: { Fargo (1996), Return of the Jedi (1983) } ==> { Star Wars (1977) }, sup= 34.99, conf= 95.38\n",
      "\n",
      "Rule #19: { Return of the Jedi (1983) } ==> { Star Wars (1977) }, sup= 50.90, conf= 94.67\n",
      "\n",
      "Rule #13: { Empire Strikes Back, The (1980) } ==> { Star Wars (1977) }, sup= 36.59, conf= 94.01\n",
      "\n",
      "Rule #53: { Raiders of the Lost Ark (1981), Silence of the Lambs, The (1991) } ==> { Star Wars (1977) }, sup= 30.86, conf= 93.57\n",
      "\n",
      "Rule #73: { Empire Strikes Back, The (1980), Return of the Jedi (1983), Star Wars (1977) } ==> { Raiders of the Lost Ark (1981) }, sup= 31.18, conf= 93.33\n",
      "\n",
      "Rule #47: { Empire Strikes Back, The (1980), Return of the Jedi (1983) } ==> { Raiders of the Lost Ark (1981) }, sup= 31.28, conf= 93.06\n",
      "\n",
      "Rule #74: { Empire Strikes Back, The (1980), Raiders of the Lost Ark (1981), Star Wars (1977) } ==> { Return of the Jedi (1983) }, sup= 31.18, conf= 93.04\n",
      "\n",
      "Rule #70: { Empire Strikes Back, The (1980), Return of the Jedi (1983) } ==> { Raiders of the Lost Ark (1981), Star Wars (1977) }, sup= 31.18, conf= 92.74\n",
      "\n",
      "Rule #31: { Pulp Fiction (1994), Raiders of the Lost Ark (1981) } ==> { Star Wars (1977) }, sup= 30.65, conf= 92.04\n",
      "\n",
      "Rule #25: { Indiana Jones and the Last Crusade (1989) } ==> { Star Wars (1977) }, sup= 32.24, conf= 91.84\n",
      "\n",
      "Rule #44: { Empire Strikes Back, The (1980), Star Wars (1977) } ==> { Raiders of the Lost Ark (1981) }, sup= 33.51, conf= 91.59\n",
      "\n",
      "Rule #63: { Star Trek: First Contact (1996), Star Wars (1977) } ==> { Return of the Jedi (1983) }, sup= 30.65, conf= 91.46\n",
      "\n",
      "Rule #51: { Empire Strikes Back, The (1980), Star Wars (1977) } ==> { Return of the Jedi (1983) }, sup= 33.40, conf= 91.30\n",
      "\n",
      "Rule #11: { Mission: Impossible (1996) } ==> { Independence Day (ID4) (1996) }, sup= 33.30, conf= 91.28\n",
      "\n",
      "Rule #17: { Raiders of the Lost Ark (1981) } ==> { Star Wars (1977) }, sup= 40.30, conf= 90.48\n",
      "\n",
      "Rule #38: { Independence Day (ID4) (1996), Star Wars (1977) } ==> { Return of the Jedi (1983) }, sup= 34.68, conf= 90.33\n",
      "\n",
      "Rule #46: { Empire Strikes Back, The (1980), Raiders of the Lost Ark (1981) } ==> { Return of the Jedi (1983) }, sup= 31.28, conf= 90.21\n",
      "\n",
      "Rule #68: { Empire Strikes Back, The (1980), Raiders of the Lost Ark (1981) } ==> { Return of the Jedi (1983), Star Wars (1977) }, sup= 31.18, conf= 89.91\n",
      "\n",
      "Rule #14: { Empire Strikes Back, The (1980) } ==> { Raiders of the Lost Ark (1981) }, sup= 34.68, conf= 89.10\n",
      "\n",
      "Rule #60: { Star Wars (1977), Twelve Monkeys (1995) } ==> { Return of the Jedi (1983) }, sup= 30.54, conf= 88.89\n",
      "\n",
      "Rule #55: { Raiders of the Lost Ark (1981), Star Wars (1977) } ==> { Return of the Jedi (1983) }, sup= 35.74, conf= 88.68\n",
      "\n",
      "Rule #4: { Forrest Gump (1994) } ==> { Star Wars (1977) }, sup= 30.12, conf= 88.47\n",
      "\n",
      "Rule #5: { Fugitive, The (1993) } ==> { Star Wars (1977) }, sup= 31.50, conf= 88.39\n",
      "\n",
      "Rule #22: { Back to the Future (1985) } ==> { Star Wars (1977) }, sup= 32.77, conf= 88.29\n",
      "\n",
      "Rule #16: { Princess Bride, The (1987) } ==> { Star Wars (1977) }, sup= 30.12, conf= 87.65\n",
      "\n",
      "Rule #30: { Pulp Fiction (1994), Star Wars (1977) } ==> { Raiders of the Lost Ark (1981) }, sup= 30.65, conf= 87.58\n",
      "\n",
      "Rule #58: { Star Wars (1977), Toy Story (1995) } ==> { Return of the Jedi (1983) }, sup= 35.31, conf= 87.40\n",
      "\n",
      "Rule #34: { Fargo (1996), Toy Story (1995) } ==> { Star Wars (1977) }, sup= 30.12, conf= 87.38\n",
      "\n",
      "Rule #26: { Indiana Jones and the Last Crusade (1989) } ==> { Raiders of the Lost Ark (1981) }, sup= 30.65, conf= 87.31\n",
      "\n",
      "Rule #75: { Raiders of the Lost Ark (1981), Return of the Jedi (1983), Star Wars (1977) } ==> { Empire Strikes Back, The (1980) }, sup= 31.18, conf= 87.24\n",
      "\n",
      "Rule #52: { Silence of the Lambs, The (1991), Star Wars (1977) } ==> { Raiders of the Lost Ark (1981) }, sup= 30.86, conf= 86.87\n",
      "\n",
      "Rule #28: { Star Trek: First Contact (1996) } ==> { Star Wars (1977) }, sup= 33.51, conf= 86.58\n",
      "\n",
      "Rule #12: { Godfather, The (1972) } ==> { Star Wars (1977) }, sup= 37.86, conf= 86.44\n",
      "\n",
      "Rule #15: { Empire Strikes Back, The (1980) } ==> { Return of the Jedi (1983) }, sup= 33.62, conf= 86.38\n",
      "\n",
      "Rule #32: { Pulp Fiction (1994), Star Wars (1977) } ==> { Return of the Jedi (1983) }, sup= 30.22, conf= 86.36\n",
      "\n",
      "Rule #61: { Silence of the Lambs, The (1991), Star Wars (1977) } ==> { Return of the Jedi (1983) }, sup= 30.65, conf= 86.27\n",
      "\n",
      "Rule #48: { Raiders of the Lost Ark (1981), Return of the Jedi (1983) } ==> { Empire Strikes Back, The (1980) }, sup= 31.28, conf= 86.26\n",
      "\n",
      "Rule #41: { Empire Strikes Back, The (1980) } ==> { Raiders of the Lost Ark (1981), Star Wars (1977) }, sup= 33.51, conf= 86.10\n",
      "\n",
      "Rule #69: { Raiders of the Lost Ark (1981), Return of the Jedi (1983) } ==> { Empire Strikes Back, The (1980), Star Wars (1977) }, sup= 31.18, conf= 85.96\n",
      "\n",
      "Rule #7: { Silence of the Lambs, The (1991) } ==> { Star Wars (1977) }, sup= 35.52, conf= 85.90\n",
      "\n",
      "Rule #49: { Empire Strikes Back, The (1980) } ==> { Return of the Jedi (1983), Star Wars (1977) }, sup= 33.40, conf= 85.83\n",
      "\n",
      "Rule #27: { Indiana Jones and the Last Crusade (1989) } ==> { Return of the Jedi (1983) }, sup= 30.01, conf= 85.50\n",
      "\n",
      "Rule #66: { Contact (1997), Star Wars (1977) } ==> { Return of the Jedi (1983) }, sup= 30.22, conf= 85.33\n",
      "\n",
      "Rule #71: { Empire Strikes Back, The (1980), Star Wars (1977) } ==> { Raiders of the Lost Ark (1981), Return of the Jedi (1983) }, sup= 31.18, conf= 85.22\n",
      "\n",
      "Rule #23: { Back to the Future (1985) } ==> { Raiders of the Lost Ark (1981) }, sup= 31.60, conf= 85.14\n",
      "\n",
      "Rule #6: { Fugitive, The (1993) } ==> { Raiders of the Lost Ark (1981) }, sup= 30.33, conf= 85.12\n",
      "\n",
      "Rule #10: { Independence Day (ID4) (1996) } ==> { Star Wars (1977) }, sup= 38.39, conf= 84.38\n",
      "\n",
      "Rule #40: { Godfather, The (1972), Star Wars (1977) } ==> { Return of the Jedi (1983) }, sup= 31.92, conf= 84.31\n",
      "\n",
      "Rule #29: { Mission: Impossible (1996) } ==> { Star Wars (1977) }, sup= 30.75, conf= 84.30\n",
      "\n",
      "Rule #1: { Toy Story (1995) } ==> { Star Wars (1977) }, sup= 40.40, conf= 84.29\n",
      "\n",
      "Rule #3: { Pulp Fiction (1994) } ==> { Star Wars (1977) }, sup= 34.99, conf= 83.76\n",
      "\n",
      "Rule #35: { Fargo (1996), Star Wars (1977) } ==> { Return of the Jedi (1983) }, sup= 34.99, conf= 83.76\n",
      "\n",
      "Rule #43: { Raiders of the Lost Ark (1981), Star Wars (1977) } ==> { Empire Strikes Back, The (1980) }, sup= 33.51, conf= 83.16\n",
      "\n",
      "Rule #2: { Twelve Monkeys (1995) } ==> { Star Wars (1977) }, sup= 34.36, conf= 82.65\n",
      "\n",
      "Rule #9: { Rock, The (1996) } ==> { Star Wars (1977) }, sup= 33.09, conf= 82.54\n",
      "\n",
      "Rule #20: { Star Wars (1977) } ==> { Return of the Jedi (1983) }, sup= 50.90, conf= 82.33\n",
      "\n",
      "Rule #24: { Back to the Future (1985) } ==> { Return of the Jedi (1983) }, sup= 30.33, conf= 81.71\n",
      "\n",
      "Rule #21: { Star Trek: First Contact (1996) } ==> { Return of the Jedi (1983) }, sup= 31.60, conf= 81.64\n",
      "\n",
      "Rule #8: { Twelve Monkeys (1995) } ==> { Fargo (1996) }, sup= 33.93, conf= 81.63\n",
      "\n",
      "Rule #18: { Raiders of the Lost Ark (1981) } ==> { Return of the Jedi (1983) }, sup= 36.27, conf= 81.43\n",
      "\n",
      "Rule #45: { Empire Strikes Back, The (1980) } ==> { Raiders of the Lost Ark (1981), Return of the Jedi (1983) }, sup= 31.28, conf= 80.38\n",
      "\n",
      "Rule #54: { Raiders of the Lost Ark (1981) } ==> { Return of the Jedi (1983), Star Wars (1977) }, sup= 35.74, conf= 80.24\n",
      "\n",
      "Rule #67: { Empire Strikes Back, The (1980) } ==> { Raiders of the Lost Ark (1981), Return of the Jedi (1983), Star Wars (1977) }, sup= 31.18, conf= 80.11\n",
      "--------------------------------------------------------\n"
     ]
    }
   ],
   "source": [
    "from toolbox.load_movie_names import load_movie_names\n",
    "movie_names = load_movie_names()\n",
    "\n",
    "##Answer to question 5.2.2\n",
    "file_name = 'data/MovieLensData.txt'\n",
    "movie_support = 30\n",
    "movie_confidence = 80\n",
    "\n",
    "a.generate_association_rules(file_name, movie_support, movie_confidence, names=movie_names)"
   ]
  },
  {
   "cell_type": "markdown",
   "metadata": {
    "deletable": false,
    "nbgrader": {
     "cell_type": "markdown",
     "checksum": "f9fd3c86918f5b6d4a10220f72f61527",
     "grade": true,
     "grade_id": "cell-55357c028d94dc3d",
     "locked": false,
     "points": 75,
     "schema_version": 3,
     "solution": true,
     "task": false
    }
   },
   "source": [
    "The association rules with the mosst confidence are: Rule #73: { The Empire Strikes Back, Raiders of the Lost Ark, Return of the Jedi } ==> { Star Wars } Rule #50: { The Empire Strikes Back, Return of the Jedi } ==> { Star Wars } Rule #32: { Pulp Fiction, Return of the Jedi } ==> { Star Wars } Generally this makes sense, because most of the movies are related to each other as prequel-sequel : Star Wars, The empire strikes back and Return of the Jedi. The other two movies (Raiders of the Lost Ark and Pulp Fiction) are also very well know, which would mean they have been purchased more frequently and thus contribute also to the association rules."
   ]
  },
  {
   "cell_type": "markdown",
   "metadata": {
    "deletable": false,
    "editable": false,
    "nbgrader": {
     "cell_type": "markdown",
     "checksum": "8ea521beaee598f232d67ba858b95d98",
     "grade": false,
     "grade_id": "cell-611129feaa4f4bf9",
     "locked": true,
     "schema_version": 3,
     "solution": false,
     "task": false
    }
   },
   "source": [
    "#### 5.2.3 \n",
    "(1 point) Which movies have been watched by the most users? There are only few rules with more than three items. Why?"
   ]
  },
  {
   "cell_type": "markdown",
   "metadata": {
    "deletable": false,
    "nbgrader": {
     "cell_type": "markdown",
     "checksum": "03add2389649abfaf767f0c099369005",
     "grade": true,
     "grade_id": "cell-79c29f0d8b8abf0d",
     "locked": false,
     "points": 100,
     "schema_version": 3,
     "solution": true,
     "task": false
    }
   },
   "source": [
    "Star Wrs, Contact and Fargo have been watched the most, indicated by their highest support.\n",
    "\n",
    "There are only a few rules with more than three items because of the many movie entries there are and their popularity. Many of the movies have probably been purchased only a few times, not enough to generate a conformity rule. There are only a few movies that have been purchased enough times so their rules to exceed the support and confidence threshold."
   ]
  },
  {
   "cell_type": "markdown",
   "metadata": {
    "deletable": false,
    "editable": false,
    "nbgrader": {
     "cell_type": "markdown",
     "checksum": "d745cbb493c73b654ed4fe3293a58eb1",
     "grade": false,
     "grade_id": "cell-899ad151d09eb727",
     "locked": true,
     "schema_version": 3,
     "solution": false,
     "task": false
    }
   },
   "source": [
    "#### 5.2.4\n",
    "(0.5 points) Often we are interested in rules with high confidence. Is it possible for\n",
    "itemsets to have very low support but still have a very high confidence?"
   ]
  },
  {
   "cell_type": "markdown",
   "metadata": {
    "deletable": false,
    "nbgrader": {
     "cell_type": "markdown",
     "checksum": "6788758edbfef6f4fb50e4cf08c93246",
     "grade": true,
     "grade_id": "cell-6c11c899cc3b097e",
     "locked": false,
     "points": 50,
     "schema_version": 3,
     "solution": true,
     "task": false
    }
   },
   "source": [
    "Suport gives the fraction of transactions that contain all items in two itemset, while the confidence indicates how often items of one itemset appear in itemsets that contain another itemset.\n",
    "This means that the support is always lower than the confidence measure, because the chances of all items of the two itemsets appearing in the same set is lower than a part of one itemset and the whole of another. However, if the support is extremely low, the confidence cannot be very high, as this would indicate that there are no sets containing all items, automatically lowering the confidence measure."
   ]
  },
  {
   "cell_type": "markdown",
   "metadata": {
    "deletable": false,
    "editable": false,
    "nbgrader": {
     "cell_type": "markdown",
     "checksum": "70035a45dc5cc4b7c50185436ced4791",
     "grade": false,
     "grade_id": "cell-f39981d68f484531",
     "locked": true,
     "schema_version": 3,
     "solution": false,
     "task": false
    }
   },
   "source": [
    "## 5.3 Calculating support, confidence and interest\n",
    "\n",
    "Calculate these measures and write down how you computed things, not just the answers. You can use Latex syntax for writing your answers.\n",
    "\n",
    "\n",
    "#### 5.3.1\n",
    " Suppose we have market basket data consisting of 100 transactions and 20 items. The support for item $ \\text{a} = 45 \\%$, the support for item $ \\text{b} = 80 \\%$ and the support for itemset $ \\text{ {a,b }} = 30 \\%$. Let the support and confidence thresholds be 20$ \\%$ and 60$ \\%$, respectively.\n",
    "  \n",
    "1. (0.5 points) Compute the confidence of the association rule $ \\text{ {a } } \\rightarrow   \\text{{b }} $. Is the rule interesting according to the confidence measure?\n",
    "\n",
    "2. (0.5 points) Compute the interest measure (or lift, see slide 44 of chapter 6) for the association pattern $ \\text{ {a,b}}$. Describe the nature of the relationship between item $ \\text{a}$ and item $ \\text{b}$  in terms of the itemset measure.\n",
    "3. (1 points) What conclusion can you draw from the results of parts (1) and (2)?"
   ]
  },
  {
   "cell_type": "markdown",
   "metadata": {
    "deletable": false,
    "nbgrader": {
     "cell_type": "markdown",
     "checksum": "704d54b02645f5b84bc0acd9b5be7cae",
     "grade": true,
     "grade_id": "cell-8948754509212bc2",
     "locked": false,
     "points": 200,
     "schema_version": 3,
     "solution": true,
     "task": false
    }
   },
   "source": [
    "#### 1\n",
    "$$\n",
    "\\text{confidence } = \\frac{ \\{a, b\\}}{ \\{a\\}} = \\frac{30}{45} = 0.667\\\\\n",
    "\\text{confidence } a \\rightarrow b = 67 \\%\\, \\text{Which is above the threshold, so its an interesting measure.}\n",
    "$$\n",
    "\n",
    "#### 2\n",
    "$$\n",
    "\\text{lift } = \\frac{P(Y|X)}{P(Y)}, P(Y|X)= \\frac{P(X, Y)}{P(X)}\\\\\n",
    "P(X|Y) = \\frac{ \\{a, b\\}}{ \\{a\\}} = 0.667\\\\\n",
    "\\text{lift } = \\frac{0.667}{0.80} = 0.833\\\\\n",
    "\\text{Since it is positive, the relation is also positive.  }\n",
    "$$\n",
    "#### 3\n",
    "\n",
    "\n"
   ]
  },
  {
   "cell_type": "markdown",
   "metadata": {
    "deletable": false,
    "editable": false,
    "nbgrader": {
     "cell_type": "markdown",
     "checksum": "ce7e64c276bd77963a95999141af920e",
     "grade": false,
     "grade_id": "cell-a5d346a073af8c65",
     "locked": true,
     "schema_version": 3,
     "solution": false,
     "task": false
    }
   },
   "source": [
    "#### 5.3.2\n",
    "\n",
    "1. (1 points) Let $c_1$, $c_2$, and $c_3$ be the confidence values of the rules $ \\text{ {a } } \\rightarrow   \\text{{b }} $, $ \\text{ {a } } \\rightarrow   \\text{{b,c }} $, and $ \\text{ {a,c } } \\rightarrow   \\text{{b }} $ respectively. If we assume that $c_1$, $c_2$, and $c_3$ have different values, what are the possible inequality relationships (e.g. $c_1 \\leq c_2 \\leq c_3$) among $c_1$, $c_2$, and $c_3$? Which rule has the lowest confidence?\n",
    "2. (0.5 points) Suppose the confidence of the rules  $ \\text{ {a } } \\rightarrow   \\text{{b }} $ and $ \\text{ {b } } \\rightarrow   \\text{{c }} $ are larger than the confidence threshold. Is it possible that $ \\text{ {a } } \\rightarrow   \\text{{c }} $ has a confidence below that threshold? If no, explain why. If yes, give an example. "
   ]
  },
  {
   "cell_type": "markdown",
   "metadata": {
    "deletable": false,
    "nbgrader": {
     "cell_type": "markdown",
     "checksum": "8c3af8c12511c96bb5caee7a13e48ca8",
     "grade": true,
     "grade_id": "cell-20ac31a07805335e",
     "locked": false,
     "points": 150,
     "schema_version": 3,
     "solution": true,
     "task": false
    }
   },
   "source": [
    "1.\n",
    "\n",
    "Possible inequality relationships:\n",
    "\n",
    "$c_{1} \\leq c_{2} \\leq c_{3}$\n",
    "\n",
    "$c_{1} \\leq c_{3} \\leq c_{2}$\n",
    "\n",
    "$c_{2} \\leq c_{1} \\leq c_{3}$\n",
    "\n",
    "$c_{2} \\leq c_{1} \\leq c_{3}$\n",
    "\n",
    "$c_{3} \\leq c_{1} \\leq c_{2}$\n",
    "\n",
    "$c_{3} \\leq c_{2} \\leq c_{1}$\n",
    "\n",
    "Confidence:\n",
    "$$ \\text{a } \\rightarrow \\text{b}\\  \\frac{\\{a,b\\}}{\\{a\\}}$$\n",
    "\n",
    "$$ \\text{a } \\rightarrow \\text{b,c }\\  \\frac{\\{a,b,c\\}}{\\{a\\}}$$\n",
    "\n",
    "$$ \\text{a,c } \\rightarrow \\text{b}\\  \\frac{\\{a,b,c\\}}{\\{a,c\\}}$$\n",
    ",\n",
    "Support $ \\{a\\} > \\{a,b\\}, \\{a,c\\} > \\{a,b,c\\}$\n",
    "\n",
    "$\\rightarrow \\frac{\\{a,b\\}}{\\{b\\}} >\\ \\frac{\\{a,b,c\\}}{\\{a\\}} , \\frac{\\{a,b,c\\}}{\\{a.c\\}}$\n",
    "\n",
    "$\\frac{\\{a,b,c\\}}{\\{a,c\\}} > \\frac{\\{a,b,c\\}}{\\{a\\}}$\n",
    "\n",
    "\n",
    "The rule with the lowest confidence is $c_{2}: \\{a\\} \\rightarrow \\{b,c\\}$\n",
    "\n",
    "2.\n",
    "\n",
    "Lets say we have the following data set:\n",
    "\n",
    "1.a,b\n",
    "\n",
    "2.b,c\n",
    "\n",
    "3.a,b\n",
    "\n",
    "4.a,b\n",
    "\n",
    "5.a,b\n",
    "\n",
    "6.b,c\n",
    "\n",
    "7.b,c\n",
    "\n",
    "8.a,c\n",
    "\n",
    "\n",
    "The confidence rule for $a \\rightarrow b = \\frac{4}{5} = 80\\%$\n",
    "\n",
    "The confidence rule for $b \\rightarrow c = \\frac{3}{3} = 100\\%$\n",
    "\n",
    "Then the confidence rule for $a \\rightarrow \\text{c becomes very small } \\frac{1}{5}$ So only 20%\n",
    "\n",
    "This dataset shows that even if the first two rules are above the threshold, a-> c does not necessarily have to be as well. Now this data set is very small and not seem very realistic, so the chances of it happening in a real life example are smaller, especially if there are many more item instances.\n",
    "\n",
    "\n"
   ]
  },
  {
   "cell_type": "markdown",
   "metadata": {
    "deletable": false,
    "editable": false,
    "nbgrader": {
     "cell_type": "markdown",
     "checksum": "2711b0d0edd734dc946097f61430abac",
     "grade": false,
     "grade_id": "cell-bf27fd8315cf8bce",
     "locked": true,
     "schema_version": 3,
     "solution": false,
     "task": false
    }
   },
   "source": [
    "\n",
    "#### 5.3.3\n",
    "\n",
    "(3 points) Consider the relationships between customers who buy high-definition televisions and exercise machines as shown in Table 2 and 3.\n",
    "\n",
    "1. Compute the odd ratios for both tables.\n",
    "2. Compute the $\\phi$-coefficient for both tables.\n",
    "3. Compute the interest (or lift, in the book) factor for both tables.\n",
    "\n",
    "For Table 3 you should compute measures given above separately for College\n",
    "Students and for Adults. For each of the measures, describe how the direction\n",
    "of association changes when data is pooled together (Table 2) instead of being\n",
    "separated into two groups (Table 3)\n",
    "\n",
    "##### Table 2: Two way contingency table between the sale of high-definition television and exercise machine\n",
    "| |   Buy Exercise machine |     |     |\n",
    "| :------------- | -------------:| :-----------:| :----------:| \n",
    "| **Buy HDTV     ** | yes | no | total |\n",
    "| yes  | 105| 87 | 192 | \n",
    "| no | 40| 62 | 102 |   \n",
    "| total | 145 | 149 | 294 | \n",
    " \n",
    "\n",
    "##### Table 3: Example of three-way contingency table\n",
    "| | |   Buy Exercise machine |     |     |\n",
    "|--- | :------------- | -------------:| :-----------:| :----------:| \n",
    "|**Customer group** | **Buy HDTV     ** | yes | no | total |\n",
    "|College students | yes  | 2| 9 | 11 | \n",
    "| | no | 5| 20 | 25 |\n",
    "| Working adults | yes  | 103| 78 | 181 | \n",
    "| | no | 35| 42 | 77 |  \n",
    "\n"
   ]
  },
  {
   "cell_type": "markdown",
   "metadata": {
    "deletable": false,
    "nbgrader": {
     "cell_type": "markdown",
     "checksum": "35bfc84d31448553fc31fcc88aefe489",
     "grade": true,
     "grade_id": "cell-4b5aebb5eab150c6",
     "locked": false,
     "points": 300,
     "schema_version": 3,
     "solution": true,
     "task": false
    }
   },
   "source": [
    "Odds ratio = \n",
    "\n",
    "Odds ratio table 2:\n",
    "$$\\frac{105\\cdot62}{40\\cdot87}= 1.87$$\n",
    "Odds ratio table 3, adults:\n",
    "$$\\frac{2\\cdot20}{5\\cdot9}=0.889$$\n",
    "Odds ratio table 3, students:\n",
    "$$\\frac{103\\cdot42}{35\\cdot78}=1.58$$\n",
    "\n",
    "When pooled together, the data suggests that peaople with a TV also buy an exercise machine. While this is the case for the adults, the opposite is true for students: people without a TV buy an exercise machine.\n",
    "\n",
    "Phi-coeffcient = $\\frac{P\\left(A,B\\right)-P\\left(A\\right)\\cdot P\\left(B\\right)}{\\sqrt{P\\left(A\\right)\\cdot P\\left(B\\right)\\cdot\\left(1-P\\left(A\\right)\\right)\\cdot\\left(1-P\\left(B\\right)\\right)}}$\n",
    "Phi-coefficient table 2:\n",
    "$$\\frac{\\left(\\frac{105}{294}-\\frac{40}{294}\\cdot\\frac{87}{294}\\right)}{\\sqrt{\\frac{40}{294}\\cdot\\frac{87}{294}\\cdot\\left(1-\\frac{40}{294}\\right)\\cdot\\left(1-\\frac{87}{294}\\right)}}=2.02$$\n",
    "\n",
    "Phi-coefficient table 3, adults:\n",
    "$$\\frac{\\left(\\frac{103}{258}-\\frac{78}{258}\\cdot\\frac{35}{258}\\right)}{\\sqrt{\\frac{78}{258}\\cdot\\frac{35}{258}\\cdot\\left(1-\\frac{78}{258}\\right)\\cdot\\left(1-\\frac{35}{258}\\right)}}=2.28$$\n",
    "Phi-coefficient table 3, students:\n",
    "$$\\frac{\\left(\\frac{2}{36}-\\frac{9}{36}\\cdot\\frac{5}{36}\\right)}{\\sqrt{\\frac{9}{36}\\cdot\\frac{5}{36}\\cdot\\left(1-\\frac{9}{36}\\right)\\cdot\\left(1-\\frac{5}{36}\\right)}}= 0.139$$\n",
    "\n",
    "Interest = $\\frac{P\\left(A,B\\right)}{P\\left(A\\right)\\cdot P\\left(B\\right)}$\n",
    "\n",
    "Interest table 2:\n",
    "$$\\frac{\\frac{105}{294}}{\\frac{40}{294}\\cdot\\frac{87}{294}}=8.87$$\n",
    "Interest table 3, adults:\n",
    "$$\\frac{\\frac{103}{258}}{\\frac{78}{258}\\cdot\\frac{35}{258}}=9.73$$\n",
    "Interest table 3, students:\n",
    "$$\\frac{\\frac{2}{36}}{\\frac{5}{36}\\cdot\\frac{9}{36}}=1.6$$"
   ]
  },
  {
   "cell_type": "code",
   "execution_count": null,
   "metadata": {},
   "outputs": [],
   "source": []
  }
 ],
 "metadata": {
  "anaconda-cloud": {},
  "kernelspec": {
   "display_name": "Python 3",
   "language": "python",
   "name": "python3"
  },
  "language_info": {
   "codemirror_mode": {
    "name": "ipython",
    "version": 3
   },
   "file_extension": ".py",
   "mimetype": "text/x-python",
   "name": "python",
   "nbconvert_exporter": "python",
   "pygments_lexer": "ipython3",
   "version": "3.8.3"
  }
 },
 "nbformat": 4,
 "nbformat_minor": 1
}
