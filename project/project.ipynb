{
 "cells": [
  {
   "cell_type": "code",
   "execution_count": 42,
   "metadata": {},
   "outputs": [],
   "source": [
    "NAME = \"Michael Cornelisse\"\n",
    "STUDENT_NUMBER = \"s1059020\"\n",
    "COLLABORATOR_NAME = \"Nienke Helmers\"\n",
    "COLLABORATOR_STUDENT_NUMBER = \"s1016904\""
   ]
  },
  {
   "cell_type": "code",
   "execution_count": 43,
   "metadata": {},
   "outputs": [],
   "source": [
    "# import libraries\n",
    "import os\n",
    "import numpy as np\n",
    "import pandas as pd\n",
    "import matplotlib.pyplot as plt\n",
    "from sklearn import preprocessing\n",
    "from sklearn.model_selection import KFold\n",
    "from sklearn.decomposition import PCA\n",
    "from sklearn import metrics\n",
    "from sklearn import tree\n",
    "from sklearn.tree import export_graphviz\n",
    "from sklearn.ensemble import RandomForestClassifier, GradientBoostingClassifier"
   ]
  },
  {
   "cell_type": "code",
   "execution_count": 44,
   "metadata": {},
   "outputs": [],
   "source": [
    "PROJECT_ROOT_DIR = \".\"\n",
    "\n",
    "def image_path(fig_id):\n",
    "    return os.path.join(PROJECT_ROOT_DIR, \"images\", fig_id)"
   ]
  },
  {
   "cell_type": "code",
   "execution_count": 45,
   "metadata": {},
   "outputs": [],
   "source": [
    "# Load data\n",
    "#actual_data = pd.read_csv('data/archive/actual.csv')\n",
    "patient_data = pd.read_csv('data/archive/actual.csv', index_col = 'patient')\n",
    "train_data = pd.read_csv('data/archive/data_set_ALL_AML_train.csv')\n",
    "test_data = pd.read_csv('data/archive/data_set_ALL_AML_independent.csv')"
   ]
  },
  {
   "cell_type": "code",
   "execution_count": 46,
   "metadata": {},
   "outputs": [
    {
     "name": "stdout",
     "output_type": "stream",
     "text": [
      "(72, 1)\n"
     ]
    }
   ],
   "source": [
    "# Clean all the data\n",
    "# Drop the call collumns from both data sets\n",
    "call_cols_train = [col for col in train_data.columns if 'call' in col]\n",
    "train_data = train_data.drop(call_cols_train, axis = 1)\n",
    "\n",
    "call_cols_test = [col for col in test_data.columns if 'call' in col]\n",
    "test_data = test_data.drop(call_cols_test, axis = 1)\n",
    "\n",
    "# Drop \"Gene Description\" and \"Gene Accession Number\"\n",
    "cols_to_drop = ['Gene Description', 'Gene Accession Number']\n",
    "train_data = train_data.drop(cols_to_drop, axis = 1)\n",
    "test_data = test_data.drop(cols_to_drop, axis = 1)\n",
    "\n",
    "# Transpose both data_sets\n",
    "train_data = train_data.T\n",
    "test_data = test_data.T\n",
    "\n",
    "# now clean the patient_data\n",
    "patient_data = patient_data.replace({'ALL': 0, 'AML': 1})\n",
    "patient_train = patient_data[patient_data.index <= 38]\n",
    "patient_test = patient_data[patient_data.index > 38]\n",
    "# Define labels to use in our decission tree later.\n",
    "patient_labels = ['ALL', 'AML']\n",
    "# Make a seperate numpy array with our patient data, patient train data and patient test data\n",
    "patient_train_np = patient_train.to_numpy()\n",
    "print(patient_data_np.shape)\n"
   ]
  },
  {
   "cell_type": "code",
   "execution_count": 47,
   "metadata": {},
   "outputs": [
    {
     "data": {
      "text/html": [
       "<div>\n",
       "<style scoped>\n",
       "    .dataframe tbody tr th:only-of-type {\n",
       "        vertical-align: middle;\n",
       "    }\n",
       "\n",
       "    .dataframe tbody tr th {\n",
       "        vertical-align: top;\n",
       "    }\n",
       "\n",
       "    .dataframe thead th {\n",
       "        text-align: right;\n",
       "    }\n",
       "</style>\n",
       "<table border=\"1\" class=\"dataframe\">\n",
       "  <thead>\n",
       "    <tr style=\"text-align: right;\">\n",
       "      <th></th>\n",
       "      <th>cancer</th>\n",
       "    </tr>\n",
       "    <tr>\n",
       "      <th>patient</th>\n",
       "      <th></th>\n",
       "    </tr>\n",
       "  </thead>\n",
       "  <tbody>\n",
       "    <tr>\n",
       "      <th>1</th>\n",
       "      <td>0</td>\n",
       "    </tr>\n",
       "    <tr>\n",
       "      <th>2</th>\n",
       "      <td>0</td>\n",
       "    </tr>\n",
       "    <tr>\n",
       "      <th>3</th>\n",
       "      <td>0</td>\n",
       "    </tr>\n",
       "    <tr>\n",
       "      <th>4</th>\n",
       "      <td>0</td>\n",
       "    </tr>\n",
       "    <tr>\n",
       "      <th>5</th>\n",
       "      <td>0</td>\n",
       "    </tr>\n",
       "  </tbody>\n",
       "</table>\n",
       "</div>"
      ],
      "text/plain": [
       "         cancer\n",
       "patient        \n",
       "1             0\n",
       "2             0\n",
       "3             0\n",
       "4             0\n",
       "5             0"
      ]
     },
     "execution_count": 47,
     "metadata": {},
     "output_type": "execute_result"
    }
   ],
   "source": [
    "# Show head patient data 0 = ALL, 1 = AML\n",
    "patient_data.head()"
   ]
  },
  {
   "cell_type": "code",
   "execution_count": 48,
   "metadata": {},
   "outputs": [
    {
     "data": {
      "text/html": [
       "<div>\n",
       "<style scoped>\n",
       "    .dataframe tbody tr th:only-of-type {\n",
       "        vertical-align: middle;\n",
       "    }\n",
       "\n",
       "    .dataframe tbody tr th {\n",
       "        vertical-align: top;\n",
       "    }\n",
       "\n",
       "    .dataframe thead th {\n",
       "        text-align: right;\n",
       "    }\n",
       "</style>\n",
       "<table border=\"1\" class=\"dataframe\">\n",
       "  <thead>\n",
       "    <tr style=\"text-align: right;\">\n",
       "      <th></th>\n",
       "      <th>0</th>\n",
       "      <th>1</th>\n",
       "      <th>2</th>\n",
       "      <th>3</th>\n",
       "      <th>4</th>\n",
       "      <th>5</th>\n",
       "      <th>6</th>\n",
       "      <th>7</th>\n",
       "      <th>8</th>\n",
       "      <th>9</th>\n",
       "      <th>...</th>\n",
       "      <th>7119</th>\n",
       "      <th>7120</th>\n",
       "      <th>7121</th>\n",
       "      <th>7122</th>\n",
       "      <th>7123</th>\n",
       "      <th>7124</th>\n",
       "      <th>7125</th>\n",
       "      <th>7126</th>\n",
       "      <th>7127</th>\n",
       "      <th>7128</th>\n",
       "    </tr>\n",
       "  </thead>\n",
       "  <tbody>\n",
       "    <tr>\n",
       "      <th>1</th>\n",
       "      <td>-214</td>\n",
       "      <td>-153</td>\n",
       "      <td>-58</td>\n",
       "      <td>88</td>\n",
       "      <td>-295</td>\n",
       "      <td>-558</td>\n",
       "      <td>199</td>\n",
       "      <td>-176</td>\n",
       "      <td>252</td>\n",
       "      <td>206</td>\n",
       "      <td>...</td>\n",
       "      <td>185</td>\n",
       "      <td>511</td>\n",
       "      <td>-125</td>\n",
       "      <td>389</td>\n",
       "      <td>-37</td>\n",
       "      <td>793</td>\n",
       "      <td>329</td>\n",
       "      <td>36</td>\n",
       "      <td>191</td>\n",
       "      <td>-37</td>\n",
       "    </tr>\n",
       "    <tr>\n",
       "      <th>2</th>\n",
       "      <td>-139</td>\n",
       "      <td>-73</td>\n",
       "      <td>-1</td>\n",
       "      <td>283</td>\n",
       "      <td>-264</td>\n",
       "      <td>-400</td>\n",
       "      <td>-330</td>\n",
       "      <td>-168</td>\n",
       "      <td>101</td>\n",
       "      <td>74</td>\n",
       "      <td>...</td>\n",
       "      <td>169</td>\n",
       "      <td>837</td>\n",
       "      <td>-36</td>\n",
       "      <td>442</td>\n",
       "      <td>-17</td>\n",
       "      <td>782</td>\n",
       "      <td>295</td>\n",
       "      <td>11</td>\n",
       "      <td>76</td>\n",
       "      <td>-14</td>\n",
       "    </tr>\n",
       "    <tr>\n",
       "      <th>3</th>\n",
       "      <td>-76</td>\n",
       "      <td>-49</td>\n",
       "      <td>-307</td>\n",
       "      <td>309</td>\n",
       "      <td>-376</td>\n",
       "      <td>-650</td>\n",
       "      <td>33</td>\n",
       "      <td>-367</td>\n",
       "      <td>206</td>\n",
       "      <td>-215</td>\n",
       "      <td>...</td>\n",
       "      <td>315</td>\n",
       "      <td>1199</td>\n",
       "      <td>33</td>\n",
       "      <td>168</td>\n",
       "      <td>52</td>\n",
       "      <td>1138</td>\n",
       "      <td>777</td>\n",
       "      <td>41</td>\n",
       "      <td>228</td>\n",
       "      <td>-41</td>\n",
       "    </tr>\n",
       "    <tr>\n",
       "      <th>4</th>\n",
       "      <td>-135</td>\n",
       "      <td>-114</td>\n",
       "      <td>265</td>\n",
       "      <td>12</td>\n",
       "      <td>-419</td>\n",
       "      <td>-585</td>\n",
       "      <td>158</td>\n",
       "      <td>-253</td>\n",
       "      <td>49</td>\n",
       "      <td>31</td>\n",
       "      <td>...</td>\n",
       "      <td>240</td>\n",
       "      <td>835</td>\n",
       "      <td>218</td>\n",
       "      <td>174</td>\n",
       "      <td>-110</td>\n",
       "      <td>627</td>\n",
       "      <td>170</td>\n",
       "      <td>-50</td>\n",
       "      <td>126</td>\n",
       "      <td>-91</td>\n",
       "    </tr>\n",
       "    <tr>\n",
       "      <th>5</th>\n",
       "      <td>-106</td>\n",
       "      <td>-125</td>\n",
       "      <td>-76</td>\n",
       "      <td>168</td>\n",
       "      <td>-230</td>\n",
       "      <td>-284</td>\n",
       "      <td>4</td>\n",
       "      <td>-122</td>\n",
       "      <td>70</td>\n",
       "      <td>252</td>\n",
       "      <td>...</td>\n",
       "      <td>156</td>\n",
       "      <td>649</td>\n",
       "      <td>57</td>\n",
       "      <td>504</td>\n",
       "      <td>-26</td>\n",
       "      <td>250</td>\n",
       "      <td>314</td>\n",
       "      <td>14</td>\n",
       "      <td>56</td>\n",
       "      <td>-25</td>\n",
       "    </tr>\n",
       "  </tbody>\n",
       "</table>\n",
       "<p>5 rows × 7129 columns</p>\n",
       "</div>"
      ],
      "text/plain": [
       "   0     1     2     3     4     5     6     7     8     9     ...  7119  \\\n",
       "1  -214  -153   -58    88  -295  -558   199  -176   252   206  ...   185   \n",
       "2  -139   -73    -1   283  -264  -400  -330  -168   101    74  ...   169   \n",
       "3   -76   -49  -307   309  -376  -650    33  -367   206  -215  ...   315   \n",
       "4  -135  -114   265    12  -419  -585   158  -253    49    31  ...   240   \n",
       "5  -106  -125   -76   168  -230  -284     4  -122    70   252  ...   156   \n",
       "\n",
       "   7120  7121  7122  7123  7124  7125  7126  7127  7128  \n",
       "1   511  -125   389   -37   793   329    36   191   -37  \n",
       "2   837   -36   442   -17   782   295    11    76   -14  \n",
       "3  1199    33   168    52  1138   777    41   228   -41  \n",
       "4   835   218   174  -110   627   170   -50   126   -91  \n",
       "5   649    57   504   -26   250   314    14    56   -25  \n",
       "\n",
       "[5 rows x 7129 columns]"
      ]
     },
     "execution_count": 48,
     "metadata": {},
     "output_type": "execute_result"
    }
   ],
   "source": [
    "# Merge the test and training data set together\n",
    "train_data = train_data.replace(np.inf, np.nan)\n",
    "train_data = train_data.fillna(value = train_data.values.mean())\n",
    "\n",
    "test_data = test_data.replace(np.inf, np.nan)\n",
    "test_data = test_data.fillna(value = train_data.values.mean())\n",
    "\n",
    "complete_data = train_data.append(test_data) # or train_data.append(test_data, ignore_index = True)\n",
    "complete_data.head()"
   ]
  },
  {
   "cell_type": "code",
   "execution_count": 49,
   "metadata": {},
   "outputs": [],
   "source": [
    "# Dimensionality reduction PCA\n",
    "pca = PCA()\n",
    "pca_data = pca.fit_transform(complete_data)\n",
    "\n",
    "pca_variance_ratio = pca.explained_variance_ratio_.cumsum()\n",
    "pca_variance_percentage = pca_variance_ratio*100"
   ]
  },
  {
   "cell_type": "code",
   "execution_count": 50,
   "metadata": {},
   "outputs": [
    {
     "data": {
      "image/png": "[encoded data removed]",
      "text/plain": [
       "<Figure size 432x288 with 1 Axes>"
      ]
     },
     "metadata": {
      "needs_background": "light"
     },
     "output_type": "display_data"
    },
    {
     "name": "stdout",
     "output_type": "stream",
     "text": [
      "Figure: A plot of the explained variance. The variance is summed for all attributes up to and including\n",
      "the current attribute number,for examplethe tenth attribute shows the sum of attributes 1 to 10.\n",
      "There are 33 attributes that together explain 90% of the variance.\n"
     ]
    }
   ],
   "source": [
    "#Calculate and plot explained variance PCA\n",
    "pca_variance_ratio = pca.explained_variance_ratio_.cumsum()\n",
    "pca_variance_percentage = pca_variance_ratio * 100\n",
    "plt.bar(range(1,pca_variance_percentage.size+1), pca_variance_percentage)\n",
    "plt.title(\"Explained variance summed per attribute\")\n",
    "plt.xlabel(\"Attribute number\")\n",
    "plt.ylabel(\"Explained variance percentage\")\n",
    "plt.show()\n",
    "print('''Figure: A plot of the explained variance. The variance is summed for all attributes up to and including\n",
    "the current attribute number,for examplethe tenth attribute shows the sum of attributes 1 to 10.''')\n",
    "\n",
    "#Determine number of attributes needed for an explained variance of 90%\n",
    "pca_variance_cropped = [i for i in pca_variance_percentage if i <= 90]\n",
    "no_attributes = len(pca_variance_cropped)\n",
    "print(\"There are {} attributes that together explain 90% of the variance.\" .format(no_attributes))"
   ]
  },
  {
   "cell_type": "code",
   "execution_count": 51,
   "metadata": {},
   "outputs": [
    {
     "name": "stdout",
     "output_type": "stream",
     "text": [
      "(38, 33)\n"
     ]
    }
   ],
   "source": [
    "#Crop pca_data\n",
    "pca_data = np.delete(pca_data, slice(no_attributes, len(pca_data)) , 1)\n",
    "\n",
    "#Split data back to original train and test split\n",
    "pca_train = pca_data[:38]\n",
    "pca_test = pca_data[38:]\n",
    "\n",
    "print(pca_train.shape)"
   ]
  },
  {
   "cell_type": "code",
   "execution_count": 52,
   "metadata": {},
   "outputs": [
    {
     "data": {
      "text/plain": [
       "\"\\ndef k_fold():\\n    kf = KFold(n_splits=10)\\n    accuracy_mean_train = np.array([])\\n    accuracy_mean_test = np.array([])\\n    for i in range(1, 21):\\n        accuracy_train = np.array([])\\n        accuracy_test = np.array([])\\n        for train, test in kf.split(pca_data, patient_data):\\n            split_clf = tree.DecisionTreeClassifier(criterion='gini', max_depth = i)\\n            split_clf = split_clf.fit(pca_data[train], patient_data_np[train])\\n            accuracy_train = np.append(\\n                accuracy_train, metrics.accuracy_score(patient_data_np[train], split_clf.predict(pca_data[train])))\\n            accuracy_test = np.append(\\n                accuracy_test, metrics.accuracy_score(patient_data_np[test], split_clf.predict(pca_data[test]))) \\n        \\n        accuracy_mean_train = np.append(accuracy_mean_train, np.mean(accuracy_train))\\n        accuracy_mean_test = np.append(accuracy_mean_test, np.mean(accuracy_test))\\n    return accuracy_mean_train, accuracy_mean_test\\naccuracy_mean_train, accuracy_mean_test = k_fold()\\nplt.plot(range(1,21), (1-accuracy_mean_train), label='accuracy train set')\\nplt.plot(range(1,21), (1-accuracy_mean_test), label='accuracy test set')\\nplt.legend()\\nplt.xlabel('Maximum tree depth')\\nplt.ylabel('Classification error')\\nplt.title('Classification error of a decision tree as function of depth')\\nplt.show()\\n\""
      ]
     },
     "execution_count": 52,
     "metadata": {},
     "output_type": "execute_result"
    }
   ],
   "source": [
    "# attempt 1\n",
    "'''\n",
    "def k_fold():\n",
    "    kf = KFold(n_splits=10)\n",
    "    accuracy_mean_train = np.array([])\n",
    "    accuracy_mean_test = np.array([])\n",
    "    for i in range(1, 21):\n",
    "        accuracy_train = np.array([])\n",
    "        accuracy_test = np.array([])\n",
    "        for train, test in kf.split(pca_data, patient_data):\n",
    "            split_clf = tree.DecisionTreeClassifier(criterion='gini', max_depth = i)\n",
    "            split_clf = split_clf.fit(pca_data[train], patient_data_np[train])\n",
    "            accuracy_train = np.append(\n",
    "                accuracy_train, metrics.accuracy_score(patient_data_np[train], split_clf.predict(pca_data[train])))\n",
    "            accuracy_test = np.append(\n",
    "                accuracy_test, metrics.accuracy_score(patient_data_np[test], split_clf.predict(pca_data[test]))) \n",
    "        \n",
    "        accuracy_mean_train = np.append(accuracy_mean_train, np.mean(accuracy_train))\n",
    "        accuracy_mean_test = np.append(accuracy_mean_test, np.mean(accuracy_test))\n",
    "    return accuracy_mean_train, accuracy_mean_test\n",
    "accuracy_mean_train, accuracy_mean_test = k_fold()\n",
    "plt.plot(range(1,21), (1-accuracy_mean_train), label='accuracy train set')\n",
    "plt.plot(range(1,21), (1-accuracy_mean_test), label='accuracy test set')\n",
    "plt.legend()\n",
    "plt.xlabel('Maximum tree depth')\n",
    "plt.ylabel('Classification error')\n",
    "plt.title('Classification error of a decision tree as function of depth')\n",
    "plt.show()\n",
    "'''"
   ]
  },
  {
   "cell_type": "code",
   "execution_count": 53,
   "metadata": {},
   "outputs": [
    {
     "data": {
      "text/plain": [
       "\"\\ndef k_fold(method):\\n    kf = KFold(n_splits=10)\\n    accuracy_mean_train = np.array([])\\n    accuracy_mean_test = np.array([])\\n    if(method == 'tree'):\\n        for i in range(1, 21):\\n            accuracy_train = np.array([])\\n            accuracy_test = np.array([])\\n            for train, test in kf.split(pca_data, patient_data):\\n                split_clf = tree.DecisionTreeClassifier(criterion='gini', max_depth = i)\\n                split_clf = split_clf.fit(pca_data[train], patient_data_np[train])\\n                accuracy_train = np.append(\\n                    accuracy_train, metrics.accuracy_score(patient_data_np[train], split_clf.predict(pca_data[train])))\\n                accuracy_test = np.append(\\n                    accuracy_test, metrics.accuracy_score(patient_data_np[test], split_clf.predict(pca_data[test]))) \\n        \\n            accuracy_mean_train = np.append(accuracy_mean_train, np.mean(accuracy_train))\\n            accuracy_mean_test = np.append(accuracy_mean_test, np.mean(accuracy_test))\\n    return accuracy_mean_train, accuracy_mean_test\\naccuracy_mean_train, accuracy_mean_test = k_fold('tree')\\nplt.plot(range(1,21), (1-accuracy_mean_train), label='accuracy train set')\\nplt.plot(range(1,21), (1-accuracy_mean_test), label='accuracy test set')\\nplt.legend()\\nplt.xlabel('Maximum tree depth')\\nplt.ylabel('Classification error')\\nplt.title('Classification error of a decision tree as function of depth')\\nplt.show()\\n\""
      ]
     },
     "execution_count": 53,
     "metadata": {},
     "output_type": "execute_result"
    }
   ],
   "source": [
    "# Attempt 2\n",
    "'''\n",
    "def k_fold(method):\n",
    "    kf = KFold(n_splits=10)\n",
    "    accuracy_mean_train = np.array([])\n",
    "    accuracy_mean_test = np.array([])\n",
    "    if(method == 'tree'):\n",
    "        for i in range(1, 21):\n",
    "            accuracy_train = np.array([])\n",
    "            accuracy_test = np.array([])\n",
    "            for train, test in kf.split(pca_data, patient_data):\n",
    "                split_clf = tree.DecisionTreeClassifier(criterion='gini', max_depth = i)\n",
    "                split_clf = split_clf.fit(pca_data[train], patient_data_np[train])\n",
    "                accuracy_train = np.append(\n",
    "                    accuracy_train, metrics.accuracy_score(patient_data_np[train], split_clf.predict(pca_data[train])))\n",
    "                accuracy_test = np.append(\n",
    "                    accuracy_test, metrics.accuracy_score(patient_data_np[test], split_clf.predict(pca_data[test]))) \n",
    "        \n",
    "            accuracy_mean_train = np.append(accuracy_mean_train, np.mean(accuracy_train))\n",
    "            accuracy_mean_test = np.append(accuracy_mean_test, np.mean(accuracy_test))\n",
    "    return accuracy_mean_train, accuracy_mean_test\n",
    "accuracy_mean_train, accuracy_mean_test = k_fold('tree')\n",
    "plt.plot(range(1,21), (1-accuracy_mean_train), label='accuracy train set')\n",
    "plt.plot(range(1,21), (1-accuracy_mean_test), label='accuracy test set')\n",
    "plt.legend()\n",
    "plt.xlabel('Maximum tree depth')\n",
    "plt.ylabel('Classification error')\n",
    "plt.title('Classification error of a decision tree as function of depth')\n",
    "plt.show()\n",
    "'''"
   ]
  },
  {
   "cell_type": "code",
   "execution_count": 54,
   "metadata": {},
   "outputs": [
    {
     "data": {
      "text/plain": [
       "\"patient_data_np = patient_data.to_numpy()\\ndef plot_classification_error(start, stop, accuracy_mean_train, accuracy_mean_test):\\n    plt.plot(range(1,21), (1-accuracy_mean_train), label='accuracy train set')\\n    plt.plot(range(1,21), (1-accuracy_mean_test), label='accuracy test set')\\n    plt.legend()\\n    plt.xlabel('Maximum tree depth')\\n    plt.ylabel('Classification error')\\n    plt.title('Classification error of a decision tree as function of depth')\\n    plt.show()\\n    \\ndef k_fold(folds, start, stop, method):\\n    #Find best depth\\n    kf = KFold(n_splits=folds)\\n    accuracy_mean_train = np.array([])\\n    accuracy_mean_test = np.array([])\\n    for i in range(1, 21):\\n        accuracy_train = np.array([])\\n        accuracy_test = np.array([])\\n        for train, test in kf.split(pca_data, patient_data):\\n            \\n            if(method == 'tree'):\\n                split_clf = tree.DecisionTreeClassifier(criterion='gini', max_depth = i)\\n                split_clf = split_clf.fit(pca_data[train], patient_data_np[train])\\n                \\n                accuracy_train = np.append(\\n                    accuracy_train, metrics.accuracy_score(patient_data_np[train], split_clf.predict(pca_data[train])))\\n                accuracy_test = np.append(\\n                    accuracy_test, metrics.accuracy_score(patient_data_np[test], split_clf.predict(pca_data[test])))\\n            elif (method == 'rf'):\\n                \\n                patient_data_np = patient_data_np.ravel()\\n                rf = RandomForestClassifier(n_estimators = 100, criterion='gini', max_depth = i)\\n                rf = rf.fit(pca_data[train], patient_data[train])\\n                \\n                accuracy_train = np.append(\\n                    accuracy_train, metrics.accuracy_score(patient_data[train], rf.predict(pca_data[train])))\\n                accuracy_test = np.append(\\n                    accuracy_test, metrics.accuracy_score(patient_data[test], rf.predict(pca_data[test])))\\n                \\n        \\n        accuracy_mean_train = np.append(accuracy_mean_train, np.mean(accuracy_train))\\n        accuracy_mean_test = np.append(accuracy_mean_test, np.mean(accuracy_test))\\n    plot_classification_error(start, stop, accuracy_mean_train, accuracy_mean_test)\\n    #return accuracy_mean_train, accuracy_mean_test\\n\\nk_fold(10, 1, 21, 'tree')\\n\""
      ]
     },
     "execution_count": 54,
     "metadata": {},
     "output_type": "execute_result"
    }
   ],
   "source": [
    "'''\n",
    "def plot_classification_error(start, stop, accuracy_mean_train, accuracy_mean_test):\n",
    "    plt.plot(range(1,21), (1-accuracy_mean_train), label='accuracy train set')\n",
    "    plt.plot(range(1,21), (1-accuracy_mean_test), label='accuracy test set')\n",
    "    plt.legend()\n",
    "    plt.xlabel('Maximum tree depth')\n",
    "    plt.ylabel('Classification error')\n",
    "    plt.title('Classification error of a decision tree as function of depth')\n",
    "    plt.show()\n",
    "    \n",
    "def k_fold(folds, start, stop, method):\n",
    "    #Find best depth\n",
    "    kf = KFold(n_splits=folds)\n",
    "    accuracy_mean_train = np.array([])\n",
    "    accuracy_mean_test = np.array([])\n",
    "    for i in range(1, 21):\n",
    "        accuracy_train = np.array([])\n",
    "        accuracy_test = np.array([])\n",
    "        for train, test in kf.split(pca_data, patient_data):\n",
    "            \n",
    "            if(method == 'tree'):\n",
    "                split_clf = tree.DecisionTreeClassifier(criterion='gini', max_depth = i)\n",
    "                split_clf = split_clf.fit(pca_data[train], patient_data_np[train])\n",
    "                \n",
    "                accuracy_train = np.append(\n",
    "                    accuracy_train, metrics.accuracy_score(patient_data_np[train], split_clf.predict(pca_data[train])))\n",
    "                accuracy_test = np.append(\n",
    "                    accuracy_test, metrics.accuracy_score(patient_data_np[test], split_clf.predict(pca_data[test])))\n",
    "            elif (method == 'rf'):\n",
    "                \n",
    "                patient_data_np = patient_data_np.ravel()\n",
    "                rf = RandomForestClassifier(n_estimators = 100, criterion='gini', max_depth = i)\n",
    "                rf = rf.fit(pca_data[train], patient_data[train])\n",
    "                \n",
    "                accuracy_train = np.append(\n",
    "                    accuracy_train, metrics.accuracy_score(patient_data[train], rf.predict(pca_data[train])))\n",
    "                accuracy_test = np.append(\n",
    "                    accuracy_test, metrics.accuracy_score(patient_data[test], rf.predict(pca_data[test])))\n",
    "                \n",
    "        \n",
    "        accuracy_mean_train = np.append(accuracy_mean_train, np.mean(accuracy_train))\n",
    "        accuracy_mean_test = np.append(accuracy_mean_test, np.mean(accuracy_test))\n",
    "    plot_classification_error(start, stop, accuracy_mean_train, accuracy_mean_test)\n",
    "    #return accuracy_mean_train, accuracy_mean_test\n",
    "\n",
    "k_fold(10, 1, 21, 'tree')\n",
    "'''\n"
   ]
  },
  {
   "cell_type": "code",
   "execution_count": 55,
   "metadata": {},
   "outputs": [],
   "source": [
    "# Classification Decision Tree\n",
    "#Find best depth\n",
    "# Original code\n",
    "''\n",
    "kf = KFold(n_splits=10)\n",
    "\n",
    "accuracy_mean_train = np.array([])\n",
    "accuracy_mean_test = np.array([])\n",
    "\n",
    "for i in range(1, 21):\n",
    "    accuracy_train = np.array([])\n",
    "    accuracy_test = np.array([])\n",
    "    for train, test in kf.split(pca_data, patient_data):\n",
    "        split_clf = tree.DecisionTreeClassifier(criterion='gini', max_depth = i)\n",
    "        split_clf = split_clf.fit(pca_data[train], patient_data_np[train])\n",
    "\n",
    "        accuracy_train = np.append(\n",
    "            accuracy_train, metrics.accuracy_score(patient_data_np[train], split_clf.predict(pca_data[train])))\n",
    "        \n",
    "        accuracy_test = np.append(\n",
    "            accuracy_test, metrics.accuracy_score(patient_data_np[test], split_clf.predict(pca_data[test]))) \n",
    "        \n",
    "    accuracy_mean_train = np.append(accuracy_mean_train, np.mean(accuracy_train))\n",
    "    accuracy_mean_test = np.append(accuracy_mean_test, np.mean(accuracy_test))"
   ]
  },
  {
   "cell_type": "code",
   "execution_count": 56,
   "metadata": {},
   "outputs": [
    {
     "data": {
      "image/png": "[encoded data removed]",
      "text/plain": [
       "<Figure size 432x288 with 1 Axes>"
      ]
     },
     "metadata": {
      "needs_background": "light"
     },
     "output_type": "display_data"
    }
   ],
   "source": [
    "# Plot accuracy test and train\n",
    "# Original plot code\n",
    "\n",
    "plt.plot(range(1,21), (1-accuracy_mean_train), label='accuracy train set')\n",
    "plt.plot(range(1,21), (1-accuracy_mean_test), label='accuracy test set')\n",
    "plt.legend()\n",
    "plt.xlabel('Maximum tree depth')\n",
    "plt.ylabel('Classification error')\n",
    "plt.title('Classification error of a decision tree as function of depth')\n",
    "plt.show()"
   ]
  },
  {
   "cell_type": "code",
   "execution_count": 57,
   "metadata": {},
   "outputs": [
    {
     "data": {
      "image/png": "[encoded data removed]",
      "text/plain": [
       "<Figure size 720x720 with 1 Axes>"
      ]
     },
     "metadata": {
      "needs_background": "light"
     },
     "output_type": "display_data"
    },
    {
     "name": "stdout",
     "output_type": "stream",
     "text": [
      "The standard decision tree has an accuracy of 0.5294117647058824 and an error rate of 0.47058823529411764.\n"
     ]
    }
   ],
   "source": [
    "# Fit the actual tree\n",
    "# Fit the actual decision tree\n",
    "# firstly we wil lfit the tree with the gini criterion\n",
    "tree_clf = tree.DecisionTreeClassifier(criterion='gini', max_depth = 4)\n",
    "tree_clf = tree_clf.fit(pca_train, patient_train)\n",
    "plt.figure(figsize=(10, 10))\n",
    "tree.plot_tree(tree_clf, feature_names = range(1,34), class_names = patient_labels)\n",
    "plt.show()\n",
    "accuracy = metrics.accuracy_score(patient_test, tree_clf.predict(pca_test))\n",
    "print(\"The standard decision tree has an accuracy of {} and an error rate of {}.\".format(accuracy, 1-accuracy))"
   ]
  },
  {
   "cell_type": "code",
   "execution_count": 59,
   "metadata": {},
   "outputs": [
    {
     "data": {
      "image/svg+xml": [
       "<?xml version=\"1.0\" encoding=\"UTF-8\" standalone=\"no\"?>\r\n",
       "<!DOCTYPE svg PUBLIC \"-//W3C//DTD SVG 1.1//EN\"\r\n",
       " \"http://www.w3.org/Graphics/SVG/1.1/DTD/svg11.dtd\">\r\n",
       "<!-- Generated by graphviz version 2.38.0 (20140413.2041)\r\n",
       " -->\r\n",
       "<!-- Title: Tree Pages: 1 -->\r\n",
       "<svg width=\"302pt\" height=\"314pt\"\r\n",
       " viewBox=\"0.00 0.00 302.00 314.00\" xmlns=\"http://www.w3.org/2000/svg\" xmlns:xlink=\"http://www.w3.org/1999/xlink\">\r\n",
       "<g id=\"graph0\" class=\"graph\" transform=\"scale(1 1) rotate(0) translate(4 310)\">\r\n",
       "<title>Tree</title>\r\n",
       "<polygon fill=\"white\" stroke=\"none\" points=\"-4,4 -4,-310 298,-310 298,4 -4,4\"/>\r\n",
       "<!-- 0 -->\r\n",
       "<g id=\"node1\" class=\"node\"><title>0</title>\r\n",
       "<path fill=\"#f0b48a\" stroke=\"black\" d=\"M221,-306C221,-306 132,-306 132,-306 126,-306 120,-300 120,-294 120,-294 120,-235 120,-235 120,-229 126,-223 132,-223 132,-223 221,-223 221,-223 227,-223 233,-229 233,-235 233,-235 233,-294 233,-294 233,-300 227,-306 221,-306\"/>\r\n",
       "<text text-anchor=\"middle\" x=\"176.5\" y=\"-290.8\" font-family=\"Helvetica,sans-Serif\" font-size=\"14.00\">2 &lt;= 2217.881</text>\r\n",
       "<text text-anchor=\"middle\" x=\"176.5\" y=\"-275.8\" font-family=\"Helvetica,sans-Serif\" font-size=\"14.00\">gini = 0.411</text>\r\n",
       "<text text-anchor=\"middle\" x=\"176.5\" y=\"-260.8\" font-family=\"Helvetica,sans-Serif\" font-size=\"14.00\">samples = 38</text>\r\n",
       "<text text-anchor=\"middle\" x=\"176.5\" y=\"-245.8\" font-family=\"Helvetica,sans-Serif\" font-size=\"14.00\">value = [27, 11]</text>\r\n",
       "<text text-anchor=\"middle\" x=\"176.5\" y=\"-230.8\" font-family=\"Helvetica,sans-Serif\" font-size=\"14.00\">class = ALL</text>\r\n",
       "</g>\r\n",
       "<!-- 1 -->\r\n",
       "<g id=\"node2\" class=\"node\"><title>1</title>\r\n",
       "<path fill=\"#e68640\" stroke=\"black\" d=\"M159,-187C159,-187 64,-187 64,-187 58,-187 52,-181 52,-175 52,-175 52,-116 52,-116 52,-110 58,-104 64,-104 64,-104 159,-104 159,-104 165,-104 171,-110 171,-116 171,-116 171,-175 171,-175 171,-181 165,-187 159,-187\"/>\r\n",
       "<text text-anchor=\"middle\" x=\"111.5\" y=\"-171.8\" font-family=\"Helvetica,sans-Serif\" font-size=\"14.00\">1 &lt;= 41554.072</text>\r\n",
       "<text text-anchor=\"middle\" x=\"111.5\" y=\"-156.8\" font-family=\"Helvetica,sans-Serif\" font-size=\"14.00\">gini = 0.069</text>\r\n",
       "<text text-anchor=\"middle\" x=\"111.5\" y=\"-141.8\" font-family=\"Helvetica,sans-Serif\" font-size=\"14.00\">samples = 28</text>\r\n",
       "<text text-anchor=\"middle\" x=\"111.5\" y=\"-126.8\" font-family=\"Helvetica,sans-Serif\" font-size=\"14.00\">value = [27, 1]</text>\r\n",
       "<text text-anchor=\"middle\" x=\"111.5\" y=\"-111.8\" font-family=\"Helvetica,sans-Serif\" font-size=\"14.00\">class = ALL</text>\r\n",
       "</g>\r\n",
       "<!-- 0&#45;&gt;1 -->\r\n",
       "<g id=\"edge1\" class=\"edge\"><title>0&#45;&gt;1</title>\r\n",
       "<path fill=\"none\" stroke=\"black\" d=\"M153.949,-222.907C149.109,-214.195 143.943,-204.897 138.941,-195.893\"/>\r\n",
       "<polygon fill=\"black\" stroke=\"black\" points=\"141.928,-194.063 134.012,-187.021 135.808,-197.462 141.928,-194.063\"/>\r\n",
       "<text text-anchor=\"middle\" x=\"127.144\" y=\"-207.359\" font-family=\"Helvetica,sans-Serif\" font-size=\"14.00\">True</text>\r\n",
       "</g>\r\n",
       "<!-- 4 -->\r\n",
       "<g id=\"node5\" class=\"node\"><title>4</title>\r\n",
       "<path fill=\"#399de5\" stroke=\"black\" d=\"M282,-179.5C282,-179.5 201,-179.5 201,-179.5 195,-179.5 189,-173.5 189,-167.5 189,-167.5 189,-123.5 189,-123.5 189,-117.5 195,-111.5 201,-111.5 201,-111.5 282,-111.5 282,-111.5 288,-111.5 294,-117.5 294,-123.5 294,-123.5 294,-167.5 294,-167.5 294,-173.5 288,-179.5 282,-179.5\"/>\r\n",
       "<text text-anchor=\"middle\" x=\"241.5\" y=\"-164.3\" font-family=\"Helvetica,sans-Serif\" font-size=\"14.00\">gini = 0.0</text>\r\n",
       "<text text-anchor=\"middle\" x=\"241.5\" y=\"-149.3\" font-family=\"Helvetica,sans-Serif\" font-size=\"14.00\">samples = 10</text>\r\n",
       "<text text-anchor=\"middle\" x=\"241.5\" y=\"-134.3\" font-family=\"Helvetica,sans-Serif\" font-size=\"14.00\">value = [0, 10]</text>\r\n",
       "<text text-anchor=\"middle\" x=\"241.5\" y=\"-119.3\" font-family=\"Helvetica,sans-Serif\" font-size=\"14.00\">class = AML</text>\r\n",
       "</g>\r\n",
       "<!-- 0&#45;&gt;4 -->\r\n",
       "<g id=\"edge4\" class=\"edge\"><title>0&#45;&gt;4</title>\r\n",
       "<path fill=\"none\" stroke=\"black\" d=\"M199.051,-222.907C205.243,-211.763 211.968,-199.658 218.2,-188.439\"/>\r\n",
       "<polygon fill=\"black\" stroke=\"black\" points=\"221.277,-190.108 223.074,-179.667 215.158,-186.709 221.277,-190.108\"/>\r\n",
       "<text text-anchor=\"middle\" x=\"229.942\" y=\"-200.005\" font-family=\"Helvetica,sans-Serif\" font-size=\"14.00\">False</text>\r\n",
       "</g>\r\n",
       "<!-- 2 -->\r\n",
       "<g id=\"node3\" class=\"node\"><title>2</title>\r\n",
       "<path fill=\"#e58139\" stroke=\"black\" d=\"M93,-68C93,-68 12,-68 12,-68 6,-68 0,-62 0,-56 0,-56 0,-12 0,-12 0,-6 6,-0 12,-0 12,-0 93,-0 93,-0 99,-0 105,-6 105,-12 105,-12 105,-56 105,-56 105,-62 99,-68 93,-68\"/>\r\n",
       "<text text-anchor=\"middle\" x=\"52.5\" y=\"-52.8\" font-family=\"Helvetica,sans-Serif\" font-size=\"14.00\">gini = 0.0</text>\r\n",
       "<text text-anchor=\"middle\" x=\"52.5\" y=\"-37.8\" font-family=\"Helvetica,sans-Serif\" font-size=\"14.00\">samples = 27</text>\r\n",
       "<text text-anchor=\"middle\" x=\"52.5\" y=\"-22.8\" font-family=\"Helvetica,sans-Serif\" font-size=\"14.00\">value = [27, 0]</text>\r\n",
       "<text text-anchor=\"middle\" x=\"52.5\" y=\"-7.8\" font-family=\"Helvetica,sans-Serif\" font-size=\"14.00\">class = ALL</text>\r\n",
       "</g>\r\n",
       "<!-- 1&#45;&gt;2 -->\r\n",
       "<g id=\"edge2\" class=\"edge\"><title>1&#45;&gt;2</title>\r\n",
       "<path fill=\"none\" stroke=\"black\" d=\"M89.5306,-103.726C84.8619,-95.0615 79.9235,-85.8962 75.2272,-77.1802\"/>\r\n",
       "<polygon fill=\"black\" stroke=\"black\" points=\"78.2669,-75.4428 70.4422,-68.2996 72.1045,-78.7632 78.2669,-75.4428\"/>\r\n",
       "</g>\r\n",
       "<!-- 3 -->\r\n",
       "<g id=\"node4\" class=\"node\"><title>3</title>\r\n",
       "<path fill=\"#399de5\" stroke=\"black\" d=\"M208,-68C208,-68 135,-68 135,-68 129,-68 123,-62 123,-56 123,-56 123,-12 123,-12 123,-6 129,-0 135,-0 135,-0 208,-0 208,-0 214,-0 220,-6 220,-12 220,-12 220,-56 220,-56 220,-62 214,-68 208,-68\"/>\r\n",
       "<text text-anchor=\"middle\" x=\"171.5\" y=\"-52.8\" font-family=\"Helvetica,sans-Serif\" font-size=\"14.00\">gini = 0.0</text>\r\n",
       "<text text-anchor=\"middle\" x=\"171.5\" y=\"-37.8\" font-family=\"Helvetica,sans-Serif\" font-size=\"14.00\">samples = 1</text>\r\n",
       "<text text-anchor=\"middle\" x=\"171.5\" y=\"-22.8\" font-family=\"Helvetica,sans-Serif\" font-size=\"14.00\">value = [0, 1]</text>\r\n",
       "<text text-anchor=\"middle\" x=\"171.5\" y=\"-7.8\" font-family=\"Helvetica,sans-Serif\" font-size=\"14.00\">class = AML</text>\r\n",
       "</g>\r\n",
       "<!-- 1&#45;&gt;3 -->\r\n",
       "<g id=\"edge3\" class=\"edge\"><title>1&#45;&gt;3</title>\r\n",
       "<path fill=\"none\" stroke=\"black\" d=\"M133.842,-103.726C138.59,-95.0615 143.612,-85.8962 148.388,-77.1802\"/>\r\n",
       "<polygon fill=\"black\" stroke=\"black\" points=\"151.518,-78.7513 153.254,-68.2996 145.379,-75.3875 151.518,-78.7513\"/>\r\n",
       "</g>\r\n",
       "</g>\r\n",
       "</svg>\r\n"
      ],
      "text/plain": [
       "<graphviz.files.Source at 0x2c7d67cbfd0>"
      ]
     },
     "execution_count": 59,
     "metadata": {},
     "output_type": "execute_result"
    }
   ],
   "source": [
    "# Now we will show the decision tree with gini criterion \n",
    "\n",
    "# Alternate version that does not save the file\n",
    "'''\n",
    "# DOT data\n",
    "dot_data = export_graphviz(tree_clf, out_file=None, \n",
    "                                feature_names=range(1,34),  \n",
    "                                class_names=patient_labels,\n",
    "                                filled=True)\n",
    "\n",
    "# Draw graph\n",
    "graph = Source(dot_data, format=\"png\") \n",
    "graph\n",
    "'''\n",
    "\n",
    "# Messy version\n",
    "'''\n",
    "from graphviz import Source\n",
    "#PROJECT_ROOT_DIR = \".\"\n",
    "image_path = './images/'\n",
    "os.makedirs(image_path, exist_ok=True)\n",
    "dot_data = export_graphviz(\n",
    "    tree_clf,\n",
    "    out_file = os.path.join(image_path, \"tree.dot\") ,\n",
    "    feature_names = range(1,34),\n",
    "    class_names = patient_labels,\n",
    "    rounded=True,\n",
    "    filled=True\n",
    ")\n",
    "Source.from_file(os.path.join(image_path, \"tree.dot\"))\n",
    "'''\n",
    "#graph.render(\"decision_tree_graphivz\")\n",
    "#graph = Source(dot_data, format=\"png\") \n",
    "#graph\n",
    "accuracy = metrics.accuracy_score(patient_test, tree_clf.predict(pca_test))\n",
    "from graphviz import Source\n",
    "#PROJECT_ROOT_DIR = \".\"\n",
    "#image_path = './images/'\n",
    "#os.makedirs(image_path, exist_ok=True)\n",
    "dot_data = export_graphviz(\n",
    "    tree_clf,\n",
    "    out_file = image_path('decision_tree_gini.dot'),#os.path.join(image_path, \"tree.dot\") ,\n",
    "    feature_names = range(1,34),\n",
    "    class_names = patient_labels,\n",
    "    rounded=True,\n",
    "    filled=True\n",
    ")\n",
    "graph = Source.from_file(\"images/decision_tree_gini.dot\")\n",
    "graph"
   ]
  },
  {
   "cell_type": "code",
   "execution_count": 60,
   "metadata": {},
   "outputs": [
    {
     "name": "stdout",
     "output_type": "stream",
     "text": [
      "The standard decision tree with gini has an accuracy of 0.5294117647058824 and an error rate of 0.47058823529411764.\n"
     ]
    }
   ],
   "source": [
    "accuracy = metrics.accuracy_score(patient_test, tree_clf.predict(pca_test))\n",
    "print(\"The standard decision tree with gini has an accuracy of {} and an error rate of {}.\".format(accuracy, 1-accuracy))"
   ]
  },
  {
   "cell_type": "code",
   "execution_count": 61,
   "metadata": {
    "scrolled": false
   },
   "outputs": [
    {
     "data": {
      "text/plain": [
       "'# DOT data\\ndot_data = export_graphviz(tree_clf, out_file=None, \\n                                feature_names=range(1,34),  \\n                                class_names=patient_labels,\\n                                filled=True)\\n\\n# Draw graph\\ngraph = Source(dot_data, format=\"png\") \\ngraph'"
      ]
     },
     "execution_count": 61,
     "metadata": {},
     "output_type": "execute_result"
    }
   ],
   "source": [
    "'''# DOT data\n",
    "dot_data = export_graphviz(tree_clf, out_file=None, \n",
    "                                feature_names=range(1,34),  \n",
    "                                class_names=patient_labels,\n",
    "                                filled=True)\n",
    "\n",
    "# Draw graph\n",
    "graph = Source(dot_data, format=\"png\") \n",
    "graph'''"
   ]
  },
  {
   "cell_type": "code",
   "execution_count": 62,
   "metadata": {},
   "outputs": [
    {
     "data": {
      "text/plain": [
       "\"# Export the tree\\nimport graphviz\\nexport_graphviz(\\n    tree_clf,\\n    out_file = image_path('decision_tree.dot'),\\n    feature_names = range(1,34),\\n    class_names = patient_labels,\\n    rounded=True,\\n    filled=True\\n)\""
      ]
     },
     "execution_count": 62,
     "metadata": {},
     "output_type": "execute_result"
    }
   ],
   "source": [
    "'''# Export the tree\n",
    "import graphviz\n",
    "export_graphviz(\n",
    "    tree_clf,\n",
    "    out_file = image_path('decision_tree.dot'),\n",
    "    feature_names = range(1,34),\n",
    "    class_names = patient_labels,\n",
    "    rounded=True,\n",
    "    filled=True\n",
    ")'''\n",
    "\n",
    "\n",
    "#criterion = \"entropy\""
   ]
  },
  {
   "cell_type": "code",
   "execution_count": 64,
   "metadata": {},
   "outputs": [
    {
     "data": {
      "image/png": "[encoded data removed]",
      "text/plain": [
       "<Figure size 720x720 with 1 Axes>"
      ]
     },
     "metadata": {
      "needs_background": "light"
     },
     "output_type": "display_data"
    },
    {
     "name": "stdout",
     "output_type": "stream",
     "text": [
      "The standard decision tree with entropy has an accuracy of 0.5588235294117647 and an error rate of 0.4411764705882353.\n"
     ]
    }
   ],
   "source": [
    "# fit decision tree with entropy criterion\n",
    "tree_clf = tree.DecisionTreeClassifier(criterion='entropy', max_depth = 4)\n",
    "tree_clf = tree_clf.fit(pca_train, patient_train)\n",
    "plt.figure(figsize=(10, 10))\n",
    "tree.plot_tree(tree_clf, feature_names = range(1,34), class_names = patient_labels)\n",
    "plt.show()\n",
    "accuracy = metrics.accuracy_score(patient_test, tree_clf.predict(pca_test))\n",
    "print(\"The standard decision tree with entropy has an accuracy of {} and an error rate of {}.\".format(accuracy, 1-accuracy))"
   ]
  },
  {
   "cell_type": "code",
   "execution_count": 65,
   "metadata": {},
   "outputs": [
    {
     "data": {
      "image/svg+xml": [
       "<?xml version=\"1.0\" encoding=\"UTF-8\" standalone=\"no\"?>\r\n",
       "<!DOCTYPE svg PUBLIC \"-//W3C//DTD SVG 1.1//EN\"\r\n",
       " \"http://www.w3.org/Graphics/SVG/1.1/DTD/svg11.dtd\">\r\n",
       "<!-- Generated by graphviz version 2.38.0 (20140413.2041)\r\n",
       " -->\r\n",
       "<!-- Title: Tree Pages: 1 -->\r\n",
       "<svg width=\"307pt\" height=\"314pt\"\r\n",
       " viewBox=\"0.00 0.00 306.50 314.00\" xmlns=\"http://www.w3.org/2000/svg\" xmlns:xlink=\"http://www.w3.org/1999/xlink\">\r\n",
       "<g id=\"graph0\" class=\"graph\" transform=\"scale(1 1) rotate(0) translate(4 310)\">\r\n",
       "<title>Tree</title>\r\n",
       "<polygon fill=\"white\" stroke=\"none\" points=\"-4,4 -4,-310 302.5,-310 302.5,4 -4,4\"/>\r\n",
       "<!-- 0 -->\r\n",
       "<g id=\"node1\" class=\"node\"><title>0</title>\r\n",
       "<path fill=\"#f0b48a\" stroke=\"black\" d=\"M224,-306C224,-306 132,-306 132,-306 126,-306 120,-300 120,-294 120,-294 120,-235 120,-235 120,-229 126,-223 132,-223 132,-223 224,-223 224,-223 230,-223 236,-229 236,-235 236,-235 236,-294 236,-294 236,-300 230,-306 224,-306\"/>\r\n",
       "<text text-anchor=\"middle\" x=\"178\" y=\"-290.8\" font-family=\"Helvetica,sans-Serif\" font-size=\"14.00\">2 &lt;= 2217.881</text>\r\n",
       "<text text-anchor=\"middle\" x=\"178\" y=\"-275.8\" font-family=\"Helvetica,sans-Serif\" font-size=\"14.00\">entropy = 0.868</text>\r\n",
       "<text text-anchor=\"middle\" x=\"178\" y=\"-260.8\" font-family=\"Helvetica,sans-Serif\" font-size=\"14.00\">samples = 38</text>\r\n",
       "<text text-anchor=\"middle\" x=\"178\" y=\"-245.8\" font-family=\"Helvetica,sans-Serif\" font-size=\"14.00\">value = [27, 11]</text>\r\n",
       "<text text-anchor=\"middle\" x=\"178\" y=\"-230.8\" font-family=\"Helvetica,sans-Serif\" font-size=\"14.00\">class = ALL</text>\r\n",
       "</g>\r\n",
       "<!-- 1 -->\r\n",
       "<g id=\"node2\" class=\"node\"><title>1</title>\r\n",
       "<path fill=\"#e68640\" stroke=\"black\" d=\"M163.5,-187C163.5,-187 56.5,-187 56.5,-187 50.5,-187 44.5,-181 44.5,-175 44.5,-175 44.5,-116 44.5,-116 44.5,-110 50.5,-104 56.5,-104 56.5,-104 163.5,-104 163.5,-104 169.5,-104 175.5,-110 175.5,-116 175.5,-116 175.5,-175 175.5,-175 175.5,-181 169.5,-187 163.5,-187\"/>\r\n",
       "<text text-anchor=\"middle\" x=\"110\" y=\"-171.8\" font-family=\"Helvetica,sans-Serif\" font-size=\"14.00\">29 &lt;= &#45;10281.188</text>\r\n",
       "<text text-anchor=\"middle\" x=\"110\" y=\"-156.8\" font-family=\"Helvetica,sans-Serif\" font-size=\"14.00\">entropy = 0.222</text>\r\n",
       "<text text-anchor=\"middle\" x=\"110\" y=\"-141.8\" font-family=\"Helvetica,sans-Serif\" font-size=\"14.00\">samples = 28</text>\r\n",
       "<text text-anchor=\"middle\" x=\"110\" y=\"-126.8\" font-family=\"Helvetica,sans-Serif\" font-size=\"14.00\">value = [27, 1]</text>\r\n",
       "<text text-anchor=\"middle\" x=\"110\" y=\"-111.8\" font-family=\"Helvetica,sans-Serif\" font-size=\"14.00\">class = ALL</text>\r\n",
       "</g>\r\n",
       "<!-- 0&#45;&gt;1 -->\r\n",
       "<g id=\"edge1\" class=\"edge\"><title>0&#45;&gt;1</title>\r\n",
       "<path fill=\"none\" stroke=\"black\" d=\"M154.408,-222.907C149.344,-214.195 143.94,-204.897 138.707,-195.893\"/>\r\n",
       "<polygon fill=\"black\" stroke=\"black\" points=\"141.602,-193.908 133.551,-187.021 135.549,-197.425 141.602,-193.908\"/>\r\n",
       "<text text-anchor=\"middle\" x=\"127.15\" y=\"-207.487\" font-family=\"Helvetica,sans-Serif\" font-size=\"14.00\">True</text>\r\n",
       "</g>\r\n",
       "<!-- 4 -->\r\n",
       "<g id=\"node5\" class=\"node\"><title>4</title>\r\n",
       "<path fill=\"#399de5\" stroke=\"black\" d=\"M286.5,-179.5C286.5,-179.5 205.5,-179.5 205.5,-179.5 199.5,-179.5 193.5,-173.5 193.5,-167.5 193.5,-167.5 193.5,-123.5 193.5,-123.5 193.5,-117.5 199.5,-111.5 205.5,-111.5 205.5,-111.5 286.5,-111.5 286.5,-111.5 292.5,-111.5 298.5,-117.5 298.5,-123.5 298.5,-123.5 298.5,-167.5 298.5,-167.5 298.5,-173.5 292.5,-179.5 286.5,-179.5\"/>\r\n",
       "<text text-anchor=\"middle\" x=\"246\" y=\"-164.3\" font-family=\"Helvetica,sans-Serif\" font-size=\"14.00\">entropy = 0.0</text>\r\n",
       "<text text-anchor=\"middle\" x=\"246\" y=\"-149.3\" font-family=\"Helvetica,sans-Serif\" font-size=\"14.00\">samples = 10</text>\r\n",
       "<text text-anchor=\"middle\" x=\"246\" y=\"-134.3\" font-family=\"Helvetica,sans-Serif\" font-size=\"14.00\">value = [0, 10]</text>\r\n",
       "<text text-anchor=\"middle\" x=\"246\" y=\"-119.3\" font-family=\"Helvetica,sans-Serif\" font-size=\"14.00\">class = AML</text>\r\n",
       "</g>\r\n",
       "<!-- 0&#45;&gt;4 -->\r\n",
       "<g id=\"edge4\" class=\"edge\"><title>0&#45;&gt;4</title>\r\n",
       "<path fill=\"none\" stroke=\"black\" d=\"M201.592,-222.907C208.07,-211.763 215.105,-199.658 221.625,-188.439\"/>\r\n",
       "<polygon fill=\"black\" stroke=\"black\" points=\"224.725,-190.072 226.723,-179.667 218.672,-186.554 224.725,-190.072\"/>\r\n",
       "<text text-anchor=\"middle\" x=\"233.124\" y=\"-200.134\" font-family=\"Helvetica,sans-Serif\" font-size=\"14.00\">False</text>\r\n",
       "</g>\r\n",
       "<!-- 2 -->\r\n",
       "<g id=\"node3\" class=\"node\"><title>2</title>\r\n",
       "<path fill=\"#399de5\" stroke=\"black\" d=\"M88,-68C88,-68 12,-68 12,-68 6,-68 0,-62 0,-56 0,-56 0,-12 0,-12 0,-6 6,-0 12,-0 12,-0 88,-0 88,-0 94,-0 100,-6 100,-12 100,-12 100,-56 100,-56 100,-62 94,-68 88,-68\"/>\r\n",
       "<text text-anchor=\"middle\" x=\"50\" y=\"-52.8\" font-family=\"Helvetica,sans-Serif\" font-size=\"14.00\">entropy = 0.0</text>\r\n",
       "<text text-anchor=\"middle\" x=\"50\" y=\"-37.8\" font-family=\"Helvetica,sans-Serif\" font-size=\"14.00\">samples = 1</text>\r\n",
       "<text text-anchor=\"middle\" x=\"50\" y=\"-22.8\" font-family=\"Helvetica,sans-Serif\" font-size=\"14.00\">value = [0, 1]</text>\r\n",
       "<text text-anchor=\"middle\" x=\"50\" y=\"-7.8\" font-family=\"Helvetica,sans-Serif\" font-size=\"14.00\">class = AML</text>\r\n",
       "</g>\r\n",
       "<!-- 1&#45;&gt;2 -->\r\n",
       "<g id=\"edge2\" class=\"edge\"><title>1&#45;&gt;2</title>\r\n",
       "<path fill=\"none\" stroke=\"black\" d=\"M87.6582,-103.726C82.9104,-95.0615 77.8883,-85.8962 73.1124,-77.1802\"/>\r\n",
       "<polygon fill=\"black\" stroke=\"black\" points=\"76.1212,-75.3875 68.2464,-68.2996 69.9823,-78.7513 76.1212,-75.3875\"/>\r\n",
       "</g>\r\n",
       "<!-- 3 -->\r\n",
       "<g id=\"node4\" class=\"node\"><title>3</title>\r\n",
       "<path fill=\"#e58139\" stroke=\"black\" d=\"M211.5,-68C211.5,-68 130.5,-68 130.5,-68 124.5,-68 118.5,-62 118.5,-56 118.5,-56 118.5,-12 118.5,-12 118.5,-6 124.5,-0 130.5,-0 130.5,-0 211.5,-0 211.5,-0 217.5,-0 223.5,-6 223.5,-12 223.5,-12 223.5,-56 223.5,-56 223.5,-62 217.5,-68 211.5,-68\"/>\r\n",
       "<text text-anchor=\"middle\" x=\"171\" y=\"-52.8\" font-family=\"Helvetica,sans-Serif\" font-size=\"14.00\">entropy = 0.0</text>\r\n",
       "<text text-anchor=\"middle\" x=\"171\" y=\"-37.8\" font-family=\"Helvetica,sans-Serif\" font-size=\"14.00\">samples = 27</text>\r\n",
       "<text text-anchor=\"middle\" x=\"171\" y=\"-22.8\" font-family=\"Helvetica,sans-Serif\" font-size=\"14.00\">value = [27, 0]</text>\r\n",
       "<text text-anchor=\"middle\" x=\"171\" y=\"-7.8\" font-family=\"Helvetica,sans-Serif\" font-size=\"14.00\">class = ALL</text>\r\n",
       "</g>\r\n",
       "<!-- 1&#45;&gt;3 -->\r\n",
       "<g id=\"edge3\" class=\"edge\"><title>1&#45;&gt;3</title>\r\n",
       "<path fill=\"none\" stroke=\"black\" d=\"M132.714,-103.726C137.541,-95.0615 142.647,-85.8962 147.502,-77.1802\"/>\r\n",
       "<polygon fill=\"black\" stroke=\"black\" points=\"150.64,-78.7389 152.45,-68.2996 144.525,-75.3322 150.64,-78.7389\"/>\r\n",
       "</g>\r\n",
       "</g>\r\n",
       "</svg>\r\n"
      ],
      "text/plain": [
       "<graphviz.files.Source at 0x2c7d6846640>"
      ]
     },
     "execution_count": 65,
     "metadata": {},
     "output_type": "execute_result"
    }
   ],
   "source": [
    "dot_data = export_graphviz(\n",
    "    tree_clf,\n",
    "    out_file = image_path('decision_tree_entropy.dot'),#os.path.join(image_path, \"tree.dot\") ,\n",
    "    feature_names = range(1,34),\n",
    "    class_names = patient_labels,\n",
    "    rounded=True,\n",
    "    filled=True\n",
    ")\n",
    "graph = Source.from_file(\"images/decision_tree_entropy.dot\")\n",
    "graph"
   ]
  },
  {
   "cell_type": "code",
   "execution_count": 68,
   "metadata": {},
   "outputs": [],
   "source": [
    "# Classification Random Forrest\n",
    "patient_train_np = patient_train_np.ravel()\n",
    "\n",
    "rf = RandomForestClassifier(n_estimators = 10, criterion='gini', max_depth = 10)\n",
    "rf.fit(pca_train, patient_train_np)\n",
    "\n",
    "accuracy = metrics.accuracy_score(patient_test, rf.predict(pca_test))\n",
    "error = 1-accuracy\n",
    "\n",
    "accuracy_mean_train = np.array([])\n",
    "accuracy_mean_test = np.array([])\n",
    "\n",
    "patient_data_np = patient_data_np.ravel()\n",
    "\n",
    "for i in range(1, 41):\n",
    "    accuracy_train = np.array([])\n",
    "    accuracy_test = np.array([])\n",
    "    for train, test in kf.split(pca_data, patient_data):\n",
    "        rf = RandomForestClassifier(n_estimators = 100, criterion='gini', max_depth = i)\n",
    "        #rf = rf.fit(pca_data[train], patient_data[train])\n",
    "        rf = rf.fit(pca_data[train], patient_data_np[train])\n",
    "\n",
    "        accuracy_train = np.append(accuracy_train, metrics.accuracy_score(patient_data_np[train], rf.predict(pca_data[train])))\n",
    "        accuracy_test = np.append(accuracy_test, metrics.accuracy_score(patient_data_np[test], rf.predict(pca_data[test]))) \n",
    "    accuracy_mean_train = np.append(accuracy_mean_train, np.mean(accuracy_train))\n",
    "    accuracy_mean_test = np.append(accuracy_mean_test, np.mean(accuracy_test))"
   ]
  },
  {
   "cell_type": "code",
   "execution_count": null,
   "metadata": {
    "scrolled": true
   },
   "outputs": [],
   "source": [
    "# Plot accuracy test and train\n",
    "#k_fold(10, 1, 41, 'rf')"
   ]
  },
  {
   "cell_type": "code",
   "execution_count": null,
   "metadata": {},
   "outputs": [],
   "source": [
    "# Original rf classification code\n",
    "'''\n",
    "accuracy_mean_train = np.array([])\n",
    "accuracy_mean_test = np.array([])\n",
    "\n",
    "patient_data_np = patient_data_np.ravel()\n",
    "\n",
    "# Original rf classification code\n",
    "for i in range(1, 41):\n",
    "    accuracy_train = np.array([])\n",
    "    accuracy_test = np.array([])\n",
    "    for train, test in kf.split(pca_data, patient_data):\n",
    "        rf = RandomForestClassifier(n_estimators = 100, criterion='gini', max_depth = i)\n",
    "        rf = rf.fit(pca_data[train], patient_data[train])\n",
    "\n",
    "        accuracy_train = np.append(accuracy_train, metrics.accuracy_score(patient_data[train], rf.predict(pca_data[train])))\n",
    "        accuracy_test = np.append(accuracy_test, metrics.accuracy_score(patient_data[test], rf.predict(pca_data[test]))) \n",
    "    accuracy_mean_train = np.append(accuracy_mean_train, np.mean(accuracy_train))\n",
    "    accuracy_mean_test = np.append(accuracy_mean_test, np.mean(accuracy_test))\n",
    "'''"
   ]
  },
  {
   "cell_type": "code",
   "execution_count": 69,
   "metadata": {},
   "outputs": [
    {
     "data": {
      "image/png": "[encoded data removed]",
      "text/plain": [
       "<Figure size 432x288 with 1 Axes>"
      ]
     },
     "metadata": {
      "needs_background": "light"
     },
     "output_type": "display_data"
    }
   ],
   "source": [
    "# Plot accuracy test and train\n",
    "# Original plot code\n",
    "plt.plot(range(1,41), (1-accuracy_mean_train), label='accuracy train set')\n",
    "plt.plot(range(1,41), (1-accuracy_mean_test), label='accuracy test set')\n",
    "plt.legend()\n",
    "plt.xlabel('Maximum tree depth')\n",
    "plt.ylabel('Classification error')\n",
    "plt.title('Classification error of a decision tree as function of depth')\n",
    "plt.show()"
   ]
  },
  {
   "cell_type": "code",
   "execution_count": 70,
   "metadata": {},
   "outputs": [
    {
     "data": {
      "image/svg+xml": [
       "<?xml version=\"1.0\" encoding=\"UTF-8\" standalone=\"no\"?>\r\n",
       "<!DOCTYPE svg PUBLIC \"-//W3C//DTD SVG 1.1//EN\"\r\n",
       " \"http://www.w3.org/Graphics/SVG/1.1/DTD/svg11.dtd\">\r\n",
       "<!-- Generated by graphviz version 2.38.0 (20140413.2041)\r\n",
       " -->\r\n",
       "<!-- Title: Tree Pages: 1 -->\r\n",
       "<svg width=\"302pt\" height=\"314pt\"\r\n",
       " viewBox=\"0.00 0.00 302.00 314.00\" xmlns=\"http://www.w3.org/2000/svg\" xmlns:xlink=\"http://www.w3.org/1999/xlink\">\r\n",
       "<g id=\"graph0\" class=\"graph\" transform=\"scale(1 1) rotate(0) translate(4 310)\">\r\n",
       "<title>Tree</title>\r\n",
       "<polygon fill=\"white\" stroke=\"none\" points=\"-4,4 -4,-310 298,-310 298,4 -4,4\"/>\r\n",
       "<!-- 0 -->\r\n",
       "<g id=\"node1\" class=\"node\"><title>0</title>\r\n",
       "<path fill=\"#f3c3a0\" stroke=\"black\" d=\"M221,-306C221,-306 132,-306 132,-306 126,-306 120,-300 120,-294 120,-294 120,-235 120,-235 120,-229 126,-223 132,-223 132,-223 221,-223 221,-223 227,-223 233,-229 233,-235 233,-235 233,-294 233,-294 233,-300 227,-306 221,-306\"/>\r\n",
       "<text text-anchor=\"middle\" x=\"176.5\" y=\"-290.8\" font-family=\"Helvetica,sans-Serif\" font-size=\"14.00\">2 &lt;= 1171.95</text>\r\n",
       "<text text-anchor=\"middle\" x=\"176.5\" y=\"-275.8\" font-family=\"Helvetica,sans-Serif\" font-size=\"14.00\">gini = 0.45</text>\r\n",
       "<text text-anchor=\"middle\" x=\"176.5\" y=\"-260.8\" font-family=\"Helvetica,sans-Serif\" font-size=\"14.00\">samples = 25</text>\r\n",
       "<text text-anchor=\"middle\" x=\"176.5\" y=\"-245.8\" font-family=\"Helvetica,sans-Serif\" font-size=\"14.00\">value = [25, 13]</text>\r\n",
       "<text text-anchor=\"middle\" x=\"176.5\" y=\"-230.8\" font-family=\"Helvetica,sans-Serif\" font-size=\"14.00\">class = ALL</text>\r\n",
       "</g>\r\n",
       "<!-- 1 -->\r\n",
       "<g id=\"node2\" class=\"node\"><title>1</title>\r\n",
       "<path fill=\"#e68641\" stroke=\"black\" d=\"M159,-187C159,-187 64,-187 64,-187 58,-187 52,-181 52,-175 52,-175 52,-116 52,-116 52,-110 58,-104 64,-104 64,-104 159,-104 159,-104 165,-104 171,-110 171,-116 171,-116 171,-175 171,-175 171,-181 165,-187 159,-187\"/>\r\n",
       "<text text-anchor=\"middle\" x=\"111.5\" y=\"-171.8\" font-family=\"Helvetica,sans-Serif\" font-size=\"14.00\">1 &lt;= 31868.095</text>\r\n",
       "<text text-anchor=\"middle\" x=\"111.5\" y=\"-156.8\" font-family=\"Helvetica,sans-Serif\" font-size=\"14.00\">gini = 0.074</text>\r\n",
       "<text text-anchor=\"middle\" x=\"111.5\" y=\"-141.8\" font-family=\"Helvetica,sans-Serif\" font-size=\"14.00\">samples = 18</text>\r\n",
       "<text text-anchor=\"middle\" x=\"111.5\" y=\"-126.8\" font-family=\"Helvetica,sans-Serif\" font-size=\"14.00\">value = [25, 1]</text>\r\n",
       "<text text-anchor=\"middle\" x=\"111.5\" y=\"-111.8\" font-family=\"Helvetica,sans-Serif\" font-size=\"14.00\">class = ALL</text>\r\n",
       "</g>\r\n",
       "<!-- 0&#45;&gt;1 -->\r\n",
       "<g id=\"edge1\" class=\"edge\"><title>0&#45;&gt;1</title>\r\n",
       "<path fill=\"none\" stroke=\"black\" d=\"M153.949,-222.907C149.109,-214.195 143.943,-204.897 138.941,-195.893\"/>\r\n",
       "<polygon fill=\"black\" stroke=\"black\" points=\"141.928,-194.063 134.012,-187.021 135.808,-197.462 141.928,-194.063\"/>\r\n",
       "<text text-anchor=\"middle\" x=\"127.144\" y=\"-207.359\" font-family=\"Helvetica,sans-Serif\" font-size=\"14.00\">True</text>\r\n",
       "</g>\r\n",
       "<!-- 4 -->\r\n",
       "<g id=\"node5\" class=\"node\"><title>4</title>\r\n",
       "<path fill=\"#399de5\" stroke=\"black\" d=\"M282,-179.5C282,-179.5 201,-179.5 201,-179.5 195,-179.5 189,-173.5 189,-167.5 189,-167.5 189,-123.5 189,-123.5 189,-117.5 195,-111.5 201,-111.5 201,-111.5 282,-111.5 282,-111.5 288,-111.5 294,-117.5 294,-123.5 294,-123.5 294,-167.5 294,-167.5 294,-173.5 288,-179.5 282,-179.5\"/>\r\n",
       "<text text-anchor=\"middle\" x=\"241.5\" y=\"-164.3\" font-family=\"Helvetica,sans-Serif\" font-size=\"14.00\">gini = 0.0</text>\r\n",
       "<text text-anchor=\"middle\" x=\"241.5\" y=\"-149.3\" font-family=\"Helvetica,sans-Serif\" font-size=\"14.00\">samples = 7</text>\r\n",
       "<text text-anchor=\"middle\" x=\"241.5\" y=\"-134.3\" font-family=\"Helvetica,sans-Serif\" font-size=\"14.00\">value = [0, 12]</text>\r\n",
       "<text text-anchor=\"middle\" x=\"241.5\" y=\"-119.3\" font-family=\"Helvetica,sans-Serif\" font-size=\"14.00\">class = AML</text>\r\n",
       "</g>\r\n",
       "<!-- 0&#45;&gt;4 -->\r\n",
       "<g id=\"edge4\" class=\"edge\"><title>0&#45;&gt;4</title>\r\n",
       "<path fill=\"none\" stroke=\"black\" d=\"M199.051,-222.907C205.243,-211.763 211.968,-199.658 218.2,-188.439\"/>\r\n",
       "<polygon fill=\"black\" stroke=\"black\" points=\"221.277,-190.108 223.074,-179.667 215.158,-186.709 221.277,-190.108\"/>\r\n",
       "<text text-anchor=\"middle\" x=\"229.942\" y=\"-200.005\" font-family=\"Helvetica,sans-Serif\" font-size=\"14.00\">False</text>\r\n",
       "</g>\r\n",
       "<!-- 2 -->\r\n",
       "<g id=\"node3\" class=\"node\"><title>2</title>\r\n",
       "<path fill=\"#e58139\" stroke=\"black\" d=\"M93,-68C93,-68 12,-68 12,-68 6,-68 0,-62 0,-56 0,-56 0,-12 0,-12 0,-6 6,-0 12,-0 12,-0 93,-0 93,-0 99,-0 105,-6 105,-12 105,-12 105,-56 105,-56 105,-62 99,-68 93,-68\"/>\r\n",
       "<text text-anchor=\"middle\" x=\"52.5\" y=\"-52.8\" font-family=\"Helvetica,sans-Serif\" font-size=\"14.00\">gini = 0.0</text>\r\n",
       "<text text-anchor=\"middle\" x=\"52.5\" y=\"-37.8\" font-family=\"Helvetica,sans-Serif\" font-size=\"14.00\">samples = 17</text>\r\n",
       "<text text-anchor=\"middle\" x=\"52.5\" y=\"-22.8\" font-family=\"Helvetica,sans-Serif\" font-size=\"14.00\">value = [25, 0]</text>\r\n",
       "<text text-anchor=\"middle\" x=\"52.5\" y=\"-7.8\" font-family=\"Helvetica,sans-Serif\" font-size=\"14.00\">class = ALL</text>\r\n",
       "</g>\r\n",
       "<!-- 1&#45;&gt;2 -->\r\n",
       "<g id=\"edge2\" class=\"edge\"><title>1&#45;&gt;2</title>\r\n",
       "<path fill=\"none\" stroke=\"black\" d=\"M89.5306,-103.726C84.8619,-95.0615 79.9235,-85.8962 75.2272,-77.1802\"/>\r\n",
       "<polygon fill=\"black\" stroke=\"black\" points=\"78.2669,-75.4428 70.4422,-68.2996 72.1045,-78.7632 78.2669,-75.4428\"/>\r\n",
       "</g>\r\n",
       "<!-- 3 -->\r\n",
       "<g id=\"node4\" class=\"node\"><title>3</title>\r\n",
       "<path fill=\"#399de5\" stroke=\"black\" d=\"M208,-68C208,-68 135,-68 135,-68 129,-68 123,-62 123,-56 123,-56 123,-12 123,-12 123,-6 129,-0 135,-0 135,-0 208,-0 208,-0 214,-0 220,-6 220,-12 220,-12 220,-56 220,-56 220,-62 214,-68 208,-68\"/>\r\n",
       "<text text-anchor=\"middle\" x=\"171.5\" y=\"-52.8\" font-family=\"Helvetica,sans-Serif\" font-size=\"14.00\">gini = 0.0</text>\r\n",
       "<text text-anchor=\"middle\" x=\"171.5\" y=\"-37.8\" font-family=\"Helvetica,sans-Serif\" font-size=\"14.00\">samples = 1</text>\r\n",
       "<text text-anchor=\"middle\" x=\"171.5\" y=\"-22.8\" font-family=\"Helvetica,sans-Serif\" font-size=\"14.00\">value = [0, 1]</text>\r\n",
       "<text text-anchor=\"middle\" x=\"171.5\" y=\"-7.8\" font-family=\"Helvetica,sans-Serif\" font-size=\"14.00\">class = AML</text>\r\n",
       "</g>\r\n",
       "<!-- 1&#45;&gt;3 -->\r\n",
       "<g id=\"edge3\" class=\"edge\"><title>1&#45;&gt;3</title>\r\n",
       "<path fill=\"none\" stroke=\"black\" d=\"M133.842,-103.726C138.59,-95.0615 143.612,-85.8962 148.388,-77.1802\"/>\r\n",
       "<polygon fill=\"black\" stroke=\"black\" points=\"151.518,-78.7513 153.254,-68.2996 145.379,-75.3875 151.518,-78.7513\"/>\r\n",
       "</g>\r\n",
       "</g>\r\n",
       "</svg>\r\n"
      ],
      "text/plain": [
       "<graphviz.files.Source at 0x2c7d7263ac0>"
      ]
     },
     "execution_count": 70,
     "metadata": {},
     "output_type": "execute_result"
    }
   ],
   "source": [
    "#visualisation random forest classifier\n",
    "rf = RandomForestClassifier(n_estimators = 1000, criterion='gini', max_depth = 4)\n",
    "rf = rf.fit(pca_train, patient_train_np)\n",
    "\n",
    "estimator = rf.estimators_[100]\n",
    "\n",
    "dot_data = export_graphviz(\n",
    "    estimator,\n",
    "    out_file = image_path('random_forrest.dot'),#os.path.join(image_path, \"tree.dot\") ,\n",
    "    feature_names = range(1,34),\n",
    "    class_names = patient_labels,\n",
    "    rounded=True,\n",
    "    filled=True\n",
    ")\n",
    "graph = Source.from_file(\"images/random_forrest.dot\")\n",
    "graph"
   ]
  },
  {
   "cell_type": "code",
   "execution_count": 71,
   "metadata": {},
   "outputs": [
    {
     "name": "stdout",
     "output_type": "stream",
     "text": [
      "The Random forrest has an accuracy of 0.7058823529411765 and an error rate of 0.2941176470588235.\n"
     ]
    }
   ],
   "source": [
    "# Use the forest's predict method on the test data\n",
    "accuracy = metrics.accuracy_score(patient_test, rf.predict(pca_test))\n",
    "print(\"The Random forrest has an accuracy of {} and an error rate of {}.\".format(accuracy, 1-accuracy))"
   ]
  },
  {
   "cell_type": "code",
   "execution_count": null,
   "metadata": {},
   "outputs": [],
   "source": [
    "# Classification Gradient Boost"
   ]
  }
 ],
 "metadata": {
  "kernelspec": {
   "display_name": "Python 3",
   "language": "python",
   "name": "python3"
  },
  "language_info": {
   "codemirror_mode": {
    "name": "ipython",
    "version": 3
   },
   "file_extension": ".py",
   "mimetype": "text/x-python",
   "name": "python",
   "nbconvert_exporter": "python",
   "pygments_lexer": "ipython3",
   "version": "3.8.3"
  }
 },
 "nbformat": 4,
 "nbformat_minor": 4
}
