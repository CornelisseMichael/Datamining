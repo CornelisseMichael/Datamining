{
 "cells": [
  {
   "cell_type": "code",
   "execution_count": 1,
   "metadata": {},
   "outputs": [],
   "source": [
    "NAME = \"Michael Cornelisse\"\n",
    "STUDENT_NUMBER = \"s1059020\"\n",
    "COLLABORATOR_NAME = \"Nienke Helmers\"\n",
    "COLLABORATOR_STUDENT_NUMBER = \"s1016904\""
   ]
  },
  {
   "cell_type": "code",
   "execution_count": 2,
   "metadata": {},
   "outputs": [],
   "source": [
    "# Import libraries\n",
    "import os\n",
    "import numpy as np\n",
    "import pandas as pd\n",
    "import matplotlib.pyplot as plt\n",
    "import seaborn as sns\n",
    "from graphviz import Source\n",
    "\n",
    "from sklearn import preprocessing\n",
    "from sklearn.preprocessing import StandardScaler\n",
    "from sklearn.preprocessing import normalize\n",
    "from sklearn.model_selection import KFold\n",
    "from sklearn.decomposition import PCA\n",
    "from sklearn import metrics\n",
    "from sklearn import tree\n",
    "from sklearn.tree import export_graphviz\n",
    "from sklearn.ensemble import RandomForestClassifier, GradientBoostingClassifier\n",
    "import xgboost as xgb\n",
    "from xgboost import plot_tree\n",
    "\n",
    "from toolbox.tools import plot_classification_error, k_fold, plot_tree_graph"
   ]
  },
  {
   "cell_type": "code",
   "execution_count": 3,
   "metadata": {},
   "outputs": [],
   "source": [
    "PROJECT_ROOT_DIR = \".\"\n",
    "\n",
    "def image_path(fig_id):\n",
    "    return os.path.join(PROJECT_ROOT_DIR, \"images\", fig_id)"
   ]
  },
  {
   "cell_type": "code",
   "execution_count": 4,
   "metadata": {},
   "outputs": [],
   "source": [
    "# Load data\n",
    "y = pd.read_csv('data/archive/actual.csv', index_col = 'patient')\n",
    "X_train = pd.read_csv('data/archive/data_set_ALL_AML_train.csv')\n",
    "X_test = pd.read_csv('data/archive/data_set_ALL_AML_independent.csv')"
   ]
  },
  {
   "cell_type": "code",
   "execution_count": 5,
   "metadata": {
    "scrolled": false
   },
   "outputs": [],
   "source": [
    "# Clean all the data\n",
    "# Drop the call collumns from both data sets\n",
    "call_cols_train = [col for col in X_train.columns if 'call' in col]\n",
    "X_train = X_train.drop(call_cols_train, axis = 1)\n",
    "\n",
    "call_cols_test = [col for col in X_test.columns if 'call' in col]\n",
    "X_test = X_test.drop(call_cols_test, axis = 1)\n",
    "\n",
    "# Drop \"Gene Description\" and \"Gene Accession Number\"\n",
    "cols_to_drop = ['Gene Description', 'Gene Accession Number']\n",
    "X_train = X_train.drop(cols_to_drop, axis = 1)\n",
    "X_test = X_test.drop(cols_to_drop, axis = 1)\n",
    "\n",
    "# Transpose both data_sets\n",
    "X_train = X_train.T\n",
    "X_test = X_test.T\n",
    "\n",
    "# now clean the patient_data\n",
    "y = y.replace({'ALL': 0, 'AML': 1})\n",
    "y_train = y[y.index <= 38]\n",
    "y_test = y[y.index > 38]\n",
    "\n",
    "# Define labels to use in our decission tree later.\n",
    "patient_labels = ['ALL', 'AML']"
   ]
  },
  {
   "cell_type": "code",
   "execution_count": 6,
   "metadata": {},
   "outputs": [
    {
     "data": {
      "text/html": [
       "<div>\n",
       "<style scoped>\n",
       "    .dataframe tbody tr th:only-of-type {\n",
       "        vertical-align: middle;\n",
       "    }\n",
       "\n",
       "    .dataframe tbody tr th {\n",
       "        vertical-align: top;\n",
       "    }\n",
       "\n",
       "    .dataframe thead th {\n",
       "        text-align: right;\n",
       "    }\n",
       "</style>\n",
       "<table border=\"1\" class=\"dataframe\">\n",
       "  <thead>\n",
       "    <tr style=\"text-align: right;\">\n",
       "      <th></th>\n",
       "      <th>0</th>\n",
       "      <th>1</th>\n",
       "      <th>2</th>\n",
       "      <th>3</th>\n",
       "      <th>4</th>\n",
       "      <th>5</th>\n",
       "      <th>6</th>\n",
       "      <th>7</th>\n",
       "      <th>8</th>\n",
       "      <th>9</th>\n",
       "      <th>...</th>\n",
       "      <th>7119</th>\n",
       "      <th>7120</th>\n",
       "      <th>7121</th>\n",
       "      <th>7122</th>\n",
       "      <th>7123</th>\n",
       "      <th>7124</th>\n",
       "      <th>7125</th>\n",
       "      <th>7126</th>\n",
       "      <th>7127</th>\n",
       "      <th>7128</th>\n",
       "    </tr>\n",
       "  </thead>\n",
       "  <tbody>\n",
       "    <tr>\n",
       "      <th>0</th>\n",
       "      <td>-214</td>\n",
       "      <td>-153</td>\n",
       "      <td>-58</td>\n",
       "      <td>88</td>\n",
       "      <td>-295</td>\n",
       "      <td>-558</td>\n",
       "      <td>199</td>\n",
       "      <td>-176</td>\n",
       "      <td>252</td>\n",
       "      <td>206</td>\n",
       "      <td>...</td>\n",
       "      <td>185</td>\n",
       "      <td>511</td>\n",
       "      <td>-125</td>\n",
       "      <td>389</td>\n",
       "      <td>-37</td>\n",
       "      <td>793</td>\n",
       "      <td>329</td>\n",
       "      <td>36</td>\n",
       "      <td>191</td>\n",
       "      <td>-37</td>\n",
       "    </tr>\n",
       "    <tr>\n",
       "      <th>1</th>\n",
       "      <td>-139</td>\n",
       "      <td>-73</td>\n",
       "      <td>-1</td>\n",
       "      <td>283</td>\n",
       "      <td>-264</td>\n",
       "      <td>-400</td>\n",
       "      <td>-330</td>\n",
       "      <td>-168</td>\n",
       "      <td>101</td>\n",
       "      <td>74</td>\n",
       "      <td>...</td>\n",
       "      <td>169</td>\n",
       "      <td>837</td>\n",
       "      <td>-36</td>\n",
       "      <td>442</td>\n",
       "      <td>-17</td>\n",
       "      <td>782</td>\n",
       "      <td>295</td>\n",
       "      <td>11</td>\n",
       "      <td>76</td>\n",
       "      <td>-14</td>\n",
       "    </tr>\n",
       "    <tr>\n",
       "      <th>2</th>\n",
       "      <td>-76</td>\n",
       "      <td>-49</td>\n",
       "      <td>-307</td>\n",
       "      <td>309</td>\n",
       "      <td>-376</td>\n",
       "      <td>-650</td>\n",
       "      <td>33</td>\n",
       "      <td>-367</td>\n",
       "      <td>206</td>\n",
       "      <td>-215</td>\n",
       "      <td>...</td>\n",
       "      <td>315</td>\n",
       "      <td>1199</td>\n",
       "      <td>33</td>\n",
       "      <td>168</td>\n",
       "      <td>52</td>\n",
       "      <td>1138</td>\n",
       "      <td>777</td>\n",
       "      <td>41</td>\n",
       "      <td>228</td>\n",
       "      <td>-41</td>\n",
       "    </tr>\n",
       "    <tr>\n",
       "      <th>3</th>\n",
       "      <td>-135</td>\n",
       "      <td>-114</td>\n",
       "      <td>265</td>\n",
       "      <td>12</td>\n",
       "      <td>-419</td>\n",
       "      <td>-585</td>\n",
       "      <td>158</td>\n",
       "      <td>-253</td>\n",
       "      <td>49</td>\n",
       "      <td>31</td>\n",
       "      <td>...</td>\n",
       "      <td>240</td>\n",
       "      <td>835</td>\n",
       "      <td>218</td>\n",
       "      <td>174</td>\n",
       "      <td>-110</td>\n",
       "      <td>627</td>\n",
       "      <td>170</td>\n",
       "      <td>-50</td>\n",
       "      <td>126</td>\n",
       "      <td>-91</td>\n",
       "    </tr>\n",
       "    <tr>\n",
       "      <th>4</th>\n",
       "      <td>-106</td>\n",
       "      <td>-125</td>\n",
       "      <td>-76</td>\n",
       "      <td>168</td>\n",
       "      <td>-230</td>\n",
       "      <td>-284</td>\n",
       "      <td>4</td>\n",
       "      <td>-122</td>\n",
       "      <td>70</td>\n",
       "      <td>252</td>\n",
       "      <td>...</td>\n",
       "      <td>156</td>\n",
       "      <td>649</td>\n",
       "      <td>57</td>\n",
       "      <td>504</td>\n",
       "      <td>-26</td>\n",
       "      <td>250</td>\n",
       "      <td>314</td>\n",
       "      <td>14</td>\n",
       "      <td>56</td>\n",
       "      <td>-25</td>\n",
       "    </tr>\n",
       "    <tr>\n",
       "      <th>...</th>\n",
       "      <td>...</td>\n",
       "      <td>...</td>\n",
       "      <td>...</td>\n",
       "      <td>...</td>\n",
       "      <td>...</td>\n",
       "      <td>...</td>\n",
       "      <td>...</td>\n",
       "      <td>...</td>\n",
       "      <td>...</td>\n",
       "      <td>...</td>\n",
       "      <td>...</td>\n",
       "      <td>...</td>\n",
       "      <td>...</td>\n",
       "      <td>...</td>\n",
       "      <td>...</td>\n",
       "      <td>...</td>\n",
       "      <td>...</td>\n",
       "      <td>...</td>\n",
       "      <td>...</td>\n",
       "      <td>...</td>\n",
       "      <td>...</td>\n",
       "    </tr>\n",
       "    <tr>\n",
       "      <th>67</th>\n",
       "      <td>-154</td>\n",
       "      <td>-136</td>\n",
       "      <td>49</td>\n",
       "      <td>180</td>\n",
       "      <td>-257</td>\n",
       "      <td>-273</td>\n",
       "      <td>141</td>\n",
       "      <td>-123</td>\n",
       "      <td>52</td>\n",
       "      <td>878</td>\n",
       "      <td>...</td>\n",
       "      <td>214</td>\n",
       "      <td>540</td>\n",
       "      <td>13</td>\n",
       "      <td>1075</td>\n",
       "      <td>-45</td>\n",
       "      <td>524</td>\n",
       "      <td>249</td>\n",
       "      <td>40</td>\n",
       "      <td>-68</td>\n",
       "      <td>-1</td>\n",
       "    </tr>\n",
       "    <tr>\n",
       "      <th>68</th>\n",
       "      <td>-79</td>\n",
       "      <td>-118</td>\n",
       "      <td>-30</td>\n",
       "      <td>68</td>\n",
       "      <td>-110</td>\n",
       "      <td>-264</td>\n",
       "      <td>-28</td>\n",
       "      <td>-61</td>\n",
       "      <td>40</td>\n",
       "      <td>-217</td>\n",
       "      <td>...</td>\n",
       "      <td>409</td>\n",
       "      <td>617</td>\n",
       "      <td>-34</td>\n",
       "      <td>738</td>\n",
       "      <td>11</td>\n",
       "      <td>742</td>\n",
       "      <td>234</td>\n",
       "      <td>72</td>\n",
       "      <td>109</td>\n",
       "      <td>-30</td>\n",
       "    </tr>\n",
       "    <tr>\n",
       "      <th>69</th>\n",
       "      <td>-55</td>\n",
       "      <td>-44</td>\n",
       "      <td>12</td>\n",
       "      <td>129</td>\n",
       "      <td>-108</td>\n",
       "      <td>-301</td>\n",
       "      <td>-222</td>\n",
       "      <td>-133</td>\n",
       "      <td>136</td>\n",
       "      <td>320</td>\n",
       "      <td>...</td>\n",
       "      <td>131</td>\n",
       "      <td>318</td>\n",
       "      <td>35</td>\n",
       "      <td>241</td>\n",
       "      <td>-66</td>\n",
       "      <td>320</td>\n",
       "      <td>174</td>\n",
       "      <td>-4</td>\n",
       "      <td>176</td>\n",
       "      <td>40</td>\n",
       "    </tr>\n",
       "    <tr>\n",
       "      <th>70</th>\n",
       "      <td>-59</td>\n",
       "      <td>-114</td>\n",
       "      <td>23</td>\n",
       "      <td>146</td>\n",
       "      <td>-171</td>\n",
       "      <td>-227</td>\n",
       "      <td>-73</td>\n",
       "      <td>-126</td>\n",
       "      <td>-6</td>\n",
       "      <td>149</td>\n",
       "      <td>...</td>\n",
       "      <td>214</td>\n",
       "      <td>760</td>\n",
       "      <td>-38</td>\n",
       "      <td>201</td>\n",
       "      <td>-55</td>\n",
       "      <td>348</td>\n",
       "      <td>208</td>\n",
       "      <td>0</td>\n",
       "      <td>74</td>\n",
       "      <td>-12</td>\n",
       "    </tr>\n",
       "    <tr>\n",
       "      <th>71</th>\n",
       "      <td>-131</td>\n",
       "      <td>-126</td>\n",
       "      <td>-50</td>\n",
       "      <td>211</td>\n",
       "      <td>-206</td>\n",
       "      <td>-287</td>\n",
       "      <td>-34</td>\n",
       "      <td>-114</td>\n",
       "      <td>62</td>\n",
       "      <td>341</td>\n",
       "      <td>...</td>\n",
       "      <td>206</td>\n",
       "      <td>697</td>\n",
       "      <td>3</td>\n",
       "      <td>1046</td>\n",
       "      <td>27</td>\n",
       "      <td>874</td>\n",
       "      <td>393</td>\n",
       "      <td>34</td>\n",
       "      <td>237</td>\n",
       "      <td>-2</td>\n",
       "    </tr>\n",
       "  </tbody>\n",
       "</table>\n",
       "<p>72 rows × 7129 columns</p>\n",
       "</div>"
      ],
      "text/plain": [
       "    0     1     2     3     4     5     6     7     8     9     ...  7119  \\\n",
       "0   -214  -153   -58    88  -295  -558   199  -176   252   206  ...   185   \n",
       "1   -139   -73    -1   283  -264  -400  -330  -168   101    74  ...   169   \n",
       "2    -76   -49  -307   309  -376  -650    33  -367   206  -215  ...   315   \n",
       "3   -135  -114   265    12  -419  -585   158  -253    49    31  ...   240   \n",
       "4   -106  -125   -76   168  -230  -284     4  -122    70   252  ...   156   \n",
       "..   ...   ...   ...   ...   ...   ...   ...   ...   ...   ...  ...   ...   \n",
       "67  -154  -136    49   180  -257  -273   141  -123    52   878  ...   214   \n",
       "68   -79  -118   -30    68  -110  -264   -28   -61    40  -217  ...   409   \n",
       "69   -55   -44    12   129  -108  -301  -222  -133   136   320  ...   131   \n",
       "70   -59  -114    23   146  -171  -227   -73  -126    -6   149  ...   214   \n",
       "71  -131  -126   -50   211  -206  -287   -34  -114    62   341  ...   206   \n",
       "\n",
       "    7120  7121  7122  7123  7124  7125  7126  7127  7128  \n",
       "0    511  -125   389   -37   793   329    36   191   -37  \n",
       "1    837   -36   442   -17   782   295    11    76   -14  \n",
       "2   1199    33   168    52  1138   777    41   228   -41  \n",
       "3    835   218   174  -110   627   170   -50   126   -91  \n",
       "4    649    57   504   -26   250   314    14    56   -25  \n",
       "..   ...   ...   ...   ...   ...   ...   ...   ...   ...  \n",
       "67   540    13  1075   -45   524   249    40   -68    -1  \n",
       "68   617   -34   738    11   742   234    72   109   -30  \n",
       "69   318    35   241   -66   320   174    -4   176    40  \n",
       "70   760   -38   201   -55   348   208     0    74   -12  \n",
       "71   697     3  1046    27   874   393    34   237    -2  \n",
       "\n",
       "[72 rows x 7129 columns]"
      ]
     },
     "execution_count": 6,
     "metadata": {},
     "output_type": "execute_result"
    }
   ],
   "source": [
    "# Sort the indices in the data sets\n",
    "X_train.index = pd.to_numeric(X_train.index) \n",
    "X_test.index = pd.to_numeric(X_test.index) \n",
    "X_train.sort_index(inplace=True) \n",
    "X_test.sort_index(inplace=True)\n",
    "\n",
    "# Reset the indices\n",
    "X_train = X_train.reset_index(drop=True)\n",
    "y_train = y_train.reset_index(drop=True)\n",
    "\n",
    "X_test = X_test.reset_index(drop=True)\n",
    "y_test= y_test.reset_index(drop=True)\n",
    "\n",
    "X_train = X_train.replace(np.inf, np.nan)\n",
    "X_train = X_train.fillna(value = X_train.values.mean())\n",
    "\n",
    "X_test = X_test.replace(np.inf, np.nan)\n",
    "X_test = X_test.fillna(value = X_train.values.mean())\n",
    "\n",
    "#\n",
    "y = y.to_numpy()\n",
    "y_train = y_train.to_numpy()\n",
    "y_test = y_test.to_numpy()\n",
    "\n",
    "# Merge X data sets\n",
    "X_complete = X_train.append(X_test)\n",
    "X_complete= X_complete.reset_index(drop=True)\n",
    "X_complete"
   ]
  },
  {
   "cell_type": "code",
   "execution_count": 7,
   "metadata": {},
   "outputs": [],
   "source": [
    "# PCA\n",
    "pca = PCA()\n",
    "pca_data = pca.fit_transform(X_complete)\n",
    "\n",
    "# Stack explained variance\n",
    "pca_variance_ratio = pca.explained_variance_ratio_.cumsum()\n",
    "pca_variance_percentage = pca_variance_ratio*100"
   ]
  },
  {
   "cell_type": "code",
   "execution_count": 8,
   "metadata": {},
   "outputs": [
    {
     "data": {
      "image/png": "[encoded data removed]",
      "text/plain": [
       "<Figure size 432x288 with 1 Axes>"
      ]
     },
     "metadata": {
      "needs_background": "light"
     },
     "output_type": "display_data"
    },
    {
     "name": "stdout",
     "output_type": "stream",
     "text": [
      "Figure: A plot of the explained variance. The variance is summed for all attributes up to and including\n",
      "the current attribute number,for examplethe tenth attribute shows the sum of attributes 1 to 10.\n",
      "There are 33 attributes that together explain 90% of the variance.\n"
     ]
    }
   ],
   "source": [
    "# Plot explained variance PCA\n",
    "plt.bar(range(1,pca_variance_percentage.size+1), pca_variance_percentage)\n",
    "plt.title(\"Explained variance summed per attribute\")\n",
    "plt.xlabel(\"Attribute number\")\n",
    "plt.ylabel(\"Explained variance percentage\")\n",
    "plt.show()\n",
    "print('''Figure: A plot of the explained variance. The variance is summed for all attributes up to and including\n",
    "the current attribute number,for examplethe tenth attribute shows the sum of attributes 1 to 10.''')\n",
    "\n",
    "#Determine number of attributes needed for an explained variance of 90%\n",
    "pca_variance_cropped = [i for i in pca_variance_percentage if i <= 90]\n",
    "no_attributes = len(pca_variance_cropped)\n",
    "print(\"There are {} attributes that together explain 90% of the variance.\" .format(no_attributes))"
   ]
  },
  {
   "cell_type": "code",
   "execution_count": 9,
   "metadata": {},
   "outputs": [],
   "source": [
    "#Crop pca_data for the useful number of attributes\n",
    "pca_data = np.delete(pca_data, slice(no_attributes, len(pca_data)) , 1)\n",
    "\n",
    "#Split data back to original train and test split\n",
    "X_train_pca = pca_data[:38]\n",
    "X_test_pca = pca_data[38:]\n",
    "y = y.ravel()"
   ]
  },
  {
   "cell_type": "markdown",
   "metadata": {},
   "source": [
    "# Decision tree"
   ]
  },
  {
   "cell_type": "code",
   "execution_count": 27,
   "metadata": {},
   "outputs": [
    {
     "data": {
      "image/png": "[encoded data removed]",
      "text/plain": [
       "<Figure size 432x288 with 1 Axes>"
      ]
     },
     "metadata": {
      "needs_background": "light"
     },
     "output_type": "display_data"
    }
   ],
   "source": [
    "accuracy_mean_train_tree, accuracy_mean_test_tree = k_fold(pca_data, y, 10, 1, 21, 1, 'tree')\n",
    "plot_classification_error(1, 21, 1, accuracy_mean_train_tree, accuracy_mean_test_tree, 'tree depth')"
   ]
  },
  {
   "cell_type": "code",
   "execution_count": 31,
   "metadata": {},
   "outputs": [
    {
     "name": "stdout",
     "output_type": "stream",
     "text": [
      "The standard decision tree has an accuracy of 0.8235294117647058 and an error rate of 0.17647058823529416.\n"
     ]
    }
   ],
   "source": [
    "tree_complete = tree.DecisionTreeClassifier(criterion='gini', max_depth = 4, random_state = 2)\n",
    "tree_complete = tree_complete.fit(X_train_pca, y_train)\n",
    "prediction_complete=tree_complete.predict(X_test_pca)\n",
    "accuracy_complete = metrics.accuracy_score(y_test, prediction_complete)\n",
    "\n",
    "print(\"The standard decision tree has an accuracy of {} and an error rate of {}.\".format(accuracy_complete, 1-accuracy_complete))"
   ]
  },
  {
   "cell_type": "code",
   "execution_count": 29,
   "metadata": {},
   "outputs": [
    {
     "data": {
      "image/svg+xml": [
       "<?xml version=\"1.0\" encoding=\"UTF-8\" standalone=\"no\"?>\r\n",
       "<!DOCTYPE svg PUBLIC \"-//W3C//DTD SVG 1.1//EN\"\r\n",
       " \"http://www.w3.org/Graphics/SVG/1.1/DTD/svg11.dtd\">\r\n",
       "<!-- Generated by graphviz version 2.38.0 (20140413.2041)\r\n",
       " -->\r\n",
       "<!-- Title: Tree Pages: 1 -->\r\n",
       "<svg width=\"302pt\" height=\"314pt\"\r\n",
       " viewBox=\"0.00 0.00 302.00 314.00\" xmlns=\"http://www.w3.org/2000/svg\" xmlns:xlink=\"http://www.w3.org/1999/xlink\">\r\n",
       "<g id=\"graph0\" class=\"graph\" transform=\"scale(1 1) rotate(0) translate(4 310)\">\r\n",
       "<title>Tree</title>\r\n",
       "<polygon fill=\"white\" stroke=\"none\" points=\"-4,4 -4,-310 298,-310 298,4 -4,4\"/>\r\n",
       "<!-- 0 -->\r\n",
       "<g id=\"node1\" class=\"node\"><title>0</title>\r\n",
       "<path fill=\"#f0b48a\" stroke=\"black\" d=\"M221,-306C221,-306 132,-306 132,-306 126,-306 120,-300 120,-294 120,-294 120,-235 120,-235 120,-229 126,-223 132,-223 132,-223 221,-223 221,-223 227,-223 233,-229 233,-235 233,-235 233,-294 233,-294 233,-300 227,-306 221,-306\"/>\r\n",
       "<text text-anchor=\"middle\" x=\"176.5\" y=\"-290.8\" font-family=\"Helvetica,sans-Serif\" font-size=\"14.00\">2 &lt;= 2217.881</text>\r\n",
       "<text text-anchor=\"middle\" x=\"176.5\" y=\"-275.8\" font-family=\"Helvetica,sans-Serif\" font-size=\"14.00\">gini = 0.411</text>\r\n",
       "<text text-anchor=\"middle\" x=\"176.5\" y=\"-260.8\" font-family=\"Helvetica,sans-Serif\" font-size=\"14.00\">samples = 38</text>\r\n",
       "<text text-anchor=\"middle\" x=\"176.5\" y=\"-245.8\" font-family=\"Helvetica,sans-Serif\" font-size=\"14.00\">value = [27, 11]</text>\r\n",
       "<text text-anchor=\"middle\" x=\"176.5\" y=\"-230.8\" font-family=\"Helvetica,sans-Serif\" font-size=\"14.00\">class = ALL</text>\r\n",
       "</g>\r\n",
       "<!-- 1 -->\r\n",
       "<g id=\"node2\" class=\"node\"><title>1</title>\r\n",
       "<path fill=\"#e68640\" stroke=\"black\" d=\"M159,-187C159,-187 64,-187 64,-187 58,-187 52,-181 52,-175 52,-175 52,-116 52,-116 52,-110 58,-104 64,-104 64,-104 159,-104 159,-104 165,-104 171,-110 171,-116 171,-116 171,-175 171,-175 171,-181 165,-187 159,-187\"/>\r\n",
       "<text text-anchor=\"middle\" x=\"111.5\" y=\"-171.8\" font-family=\"Helvetica,sans-Serif\" font-size=\"14.00\">1 &lt;= 41554.072</text>\r\n",
       "<text text-anchor=\"middle\" x=\"111.5\" y=\"-156.8\" font-family=\"Helvetica,sans-Serif\" font-size=\"14.00\">gini = 0.069</text>\r\n",
       "<text text-anchor=\"middle\" x=\"111.5\" y=\"-141.8\" font-family=\"Helvetica,sans-Serif\" font-size=\"14.00\">samples = 28</text>\r\n",
       "<text text-anchor=\"middle\" x=\"111.5\" y=\"-126.8\" font-family=\"Helvetica,sans-Serif\" font-size=\"14.00\">value = [27, 1]</text>\r\n",
       "<text text-anchor=\"middle\" x=\"111.5\" y=\"-111.8\" font-family=\"Helvetica,sans-Serif\" font-size=\"14.00\">class = ALL</text>\r\n",
       "</g>\r\n",
       "<!-- 0&#45;&gt;1 -->\r\n",
       "<g id=\"edge1\" class=\"edge\"><title>0&#45;&gt;1</title>\r\n",
       "<path fill=\"none\" stroke=\"black\" d=\"M153.949,-222.907C149.109,-214.195 143.943,-204.897 138.941,-195.893\"/>\r\n",
       "<polygon fill=\"black\" stroke=\"black\" points=\"141.928,-194.063 134.012,-187.021 135.808,-197.462 141.928,-194.063\"/>\r\n",
       "<text text-anchor=\"middle\" x=\"127.144\" y=\"-207.359\" font-family=\"Helvetica,sans-Serif\" font-size=\"14.00\">True</text>\r\n",
       "</g>\r\n",
       "<!-- 4 -->\r\n",
       "<g id=\"node5\" class=\"node\"><title>4</title>\r\n",
       "<path fill=\"#399de5\" stroke=\"black\" d=\"M282,-179.5C282,-179.5 201,-179.5 201,-179.5 195,-179.5 189,-173.5 189,-167.5 189,-167.5 189,-123.5 189,-123.5 189,-117.5 195,-111.5 201,-111.5 201,-111.5 282,-111.5 282,-111.5 288,-111.5 294,-117.5 294,-123.5 294,-123.5 294,-167.5 294,-167.5 294,-173.5 288,-179.5 282,-179.5\"/>\r\n",
       "<text text-anchor=\"middle\" x=\"241.5\" y=\"-164.3\" font-family=\"Helvetica,sans-Serif\" font-size=\"14.00\">gini = 0.0</text>\r\n",
       "<text text-anchor=\"middle\" x=\"241.5\" y=\"-149.3\" font-family=\"Helvetica,sans-Serif\" font-size=\"14.00\">samples = 10</text>\r\n",
       "<text text-anchor=\"middle\" x=\"241.5\" y=\"-134.3\" font-family=\"Helvetica,sans-Serif\" font-size=\"14.00\">value = [0, 10]</text>\r\n",
       "<text text-anchor=\"middle\" x=\"241.5\" y=\"-119.3\" font-family=\"Helvetica,sans-Serif\" font-size=\"14.00\">class = AML</text>\r\n",
       "</g>\r\n",
       "<!-- 0&#45;&gt;4 -->\r\n",
       "<g id=\"edge4\" class=\"edge\"><title>0&#45;&gt;4</title>\r\n",
       "<path fill=\"none\" stroke=\"black\" d=\"M199.051,-222.907C205.243,-211.763 211.968,-199.658 218.2,-188.439\"/>\r\n",
       "<polygon fill=\"black\" stroke=\"black\" points=\"221.277,-190.108 223.074,-179.667 215.158,-186.709 221.277,-190.108\"/>\r\n",
       "<text text-anchor=\"middle\" x=\"229.942\" y=\"-200.005\" font-family=\"Helvetica,sans-Serif\" font-size=\"14.00\">False</text>\r\n",
       "</g>\r\n",
       "<!-- 2 -->\r\n",
       "<g id=\"node3\" class=\"node\"><title>2</title>\r\n",
       "<path fill=\"#e58139\" stroke=\"black\" d=\"M93,-68C93,-68 12,-68 12,-68 6,-68 0,-62 0,-56 0,-56 0,-12 0,-12 0,-6 6,-0 12,-0 12,-0 93,-0 93,-0 99,-0 105,-6 105,-12 105,-12 105,-56 105,-56 105,-62 99,-68 93,-68\"/>\r\n",
       "<text text-anchor=\"middle\" x=\"52.5\" y=\"-52.8\" font-family=\"Helvetica,sans-Serif\" font-size=\"14.00\">gini = 0.0</text>\r\n",
       "<text text-anchor=\"middle\" x=\"52.5\" y=\"-37.8\" font-family=\"Helvetica,sans-Serif\" font-size=\"14.00\">samples = 27</text>\r\n",
       "<text text-anchor=\"middle\" x=\"52.5\" y=\"-22.8\" font-family=\"Helvetica,sans-Serif\" font-size=\"14.00\">value = [27, 0]</text>\r\n",
       "<text text-anchor=\"middle\" x=\"52.5\" y=\"-7.8\" font-family=\"Helvetica,sans-Serif\" font-size=\"14.00\">class = ALL</text>\r\n",
       "</g>\r\n",
       "<!-- 1&#45;&gt;2 -->\r\n",
       "<g id=\"edge2\" class=\"edge\"><title>1&#45;&gt;2</title>\r\n",
       "<path fill=\"none\" stroke=\"black\" d=\"M89.5306,-103.726C84.8619,-95.0615 79.9235,-85.8962 75.2272,-77.1802\"/>\r\n",
       "<polygon fill=\"black\" stroke=\"black\" points=\"78.2669,-75.4428 70.4422,-68.2996 72.1045,-78.7632 78.2669,-75.4428\"/>\r\n",
       "</g>\r\n",
       "<!-- 3 -->\r\n",
       "<g id=\"node4\" class=\"node\"><title>3</title>\r\n",
       "<path fill=\"#399de5\" stroke=\"black\" d=\"M208,-68C208,-68 135,-68 135,-68 129,-68 123,-62 123,-56 123,-56 123,-12 123,-12 123,-6 129,-0 135,-0 135,-0 208,-0 208,-0 214,-0 220,-6 220,-12 220,-12 220,-56 220,-56 220,-62 214,-68 208,-68\"/>\r\n",
       "<text text-anchor=\"middle\" x=\"171.5\" y=\"-52.8\" font-family=\"Helvetica,sans-Serif\" font-size=\"14.00\">gini = 0.0</text>\r\n",
       "<text text-anchor=\"middle\" x=\"171.5\" y=\"-37.8\" font-family=\"Helvetica,sans-Serif\" font-size=\"14.00\">samples = 1</text>\r\n",
       "<text text-anchor=\"middle\" x=\"171.5\" y=\"-22.8\" font-family=\"Helvetica,sans-Serif\" font-size=\"14.00\">value = [0, 1]</text>\r\n",
       "<text text-anchor=\"middle\" x=\"171.5\" y=\"-7.8\" font-family=\"Helvetica,sans-Serif\" font-size=\"14.00\">class = AML</text>\r\n",
       "</g>\r\n",
       "<!-- 1&#45;&gt;3 -->\r\n",
       "<g id=\"edge3\" class=\"edge\"><title>1&#45;&gt;3</title>\r\n",
       "<path fill=\"none\" stroke=\"black\" d=\"M133.842,-103.726C138.59,-95.0615 143.612,-85.8962 148.388,-77.1802\"/>\r\n",
       "<polygon fill=\"black\" stroke=\"black\" points=\"151.518,-78.7513 153.254,-68.2996 145.379,-75.3875 151.518,-78.7513\"/>\r\n",
       "</g>\r\n",
       "</g>\r\n",
       "</svg>\r\n"
      ],
      "text/plain": [
       "<graphviz.files.Source at 0x11df83c9e80>"
      ]
     },
     "execution_count": 29,
     "metadata": {},
     "output_type": "execute_result"
    }
   ],
   "source": [
    "graph = plot_tree_graph(tree_complete, 1, 34)\n",
    "graph"
   ]
  },
  {
   "cell_type": "markdown",
   "metadata": {},
   "source": [
    "# Random forest"
   ]
  },
  {
   "cell_type": "code",
   "execution_count": 13,
   "metadata": {
    "scrolled": true
   },
   "outputs": [
    {
     "data": {
      "image/png": "[encoded data removed]",
      "text/plain": [
       "<Figure size 432x288 with 1 Axes>"
      ]
     },
     "metadata": {
      "needs_background": "light"
     },
     "output_type": "display_data"
    }
   ],
   "source": [
    "accuracy_mean_train_tree, accuracy_mean_test_tree = k_fold(pca_data, y, 10, 1, 21, 1, 'rf')\n",
    "plot_classification_error(1, 21, 1, accuracy_mean_train_tree, accuracy_mean_test_tree, 'tree depth')"
   ]
  },
  {
   "cell_type": "code",
   "execution_count": 32,
   "metadata": {},
   "outputs": [
    {
     "data": {
      "image/png": "[encoded data removed]",
      "text/plain": [
       "<Figure size 432x288 with 1 Axes>"
      ]
     },
     "metadata": {
      "needs_background": "light"
     },
     "output_type": "display_data"
    }
   ],
   "source": [
    "accuracy_mean_train_tree, accuracy_mean_test_tree = k_fold(pca_data, y, 10, 10, 1001, 100, 'rf_estimators')\n",
    "plot_classification_error(10, 101, 10, accuracy_mean_train_tree, accuracy_mean_test_tree, 'number of estimators')"
   ]
  },
  {
   "cell_type": "code",
   "execution_count": 17,
   "metadata": {},
   "outputs": [
    {
     "name": "stderr",
     "output_type": "stream",
     "text": [
      "<ipython-input-17-11686b54b0b6>:2: DataConversionWarning: A column-vector y was passed when a 1d array was expected. Please change the shape of y to (n_samples,), for example using ravel().\n",
      "  rf = rf.fit(X_train_pca, y_train)\n"
     ]
    },
    {
     "name": "stdout",
     "output_type": "stream",
     "text": [
      "The Random forrest has an accuracy of 0.8823529411764706 and an error rate of 0.11764705882352944.\n"
     ]
    }
   ],
   "source": [
    "rf = RandomForestClassifier(n_estimators = 1000, criterion='gini', max_depth = 4)\n",
    "rf = rf.fit(X_train_pca, y_train)\n",
    "accuracy = metrics.accuracy_score(y_test, rf.predict(X_test_pca))\n",
    "print(\"The Random forest has an accuracy of {} and an error rate of {}.\".format(accuracy, 1-accuracy))"
   ]
  },
  {
   "cell_type": "code",
   "execution_count": 18,
   "metadata": {},
   "outputs": [
    {
     "data": {
      "image/svg+xml": [
       "<?xml version=\"1.0\" encoding=\"UTF-8\" standalone=\"no\"?>\r\n",
       "<!DOCTYPE svg PUBLIC \"-//W3C//DTD SVG 1.1//EN\"\r\n",
       " \"http://www.w3.org/Graphics/SVG/1.1/DTD/svg11.dtd\">\r\n",
       "<!-- Generated by graphviz version 2.38.0 (20140413.2041)\r\n",
       " -->\r\n",
       "<!-- Title: Tree Pages: 1 -->\r\n",
       "<svg width=\"607pt\" height=\"433pt\"\r\n",
       " viewBox=\"0.00 0.00 607.00 433.00\" xmlns=\"http://www.w3.org/2000/svg\" xmlns:xlink=\"http://www.w3.org/1999/xlink\">\r\n",
       "<g id=\"graph0\" class=\"graph\" transform=\"scale(1 1) rotate(0) translate(4 429)\">\r\n",
       "<title>Tree</title>\r\n",
       "<polygon fill=\"white\" stroke=\"none\" points=\"-4,4 -4,-429 603,-429 603,4 -4,4\"/>\r\n",
       "<!-- 0 -->\r\n",
       "<g id=\"node1\" class=\"node\"><title>0</title>\r\n",
       "<path fill=\"#f4caac\" stroke=\"black\" d=\"M345,-425C345,-425 250,-425 250,-425 244,-425 238,-419 238,-413 238,-413 238,-354 238,-354 238,-348 244,-342 250,-342 250,-342 345,-342 345,-342 351,-342 357,-348 357,-354 357,-354 357,-413 357,-413 357,-419 351,-425 345,-425\"/>\r\n",
       "<text text-anchor=\"middle\" x=\"297.5\" y=\"-409.8\" font-family=\"Helvetica,sans-Serif\" font-size=\"14.00\">18 &lt;= 3972.176</text>\r\n",
       "<text text-anchor=\"middle\" x=\"297.5\" y=\"-394.8\" font-family=\"Helvetica,sans-Serif\" font-size=\"14.00\">gini = 0.465</text>\r\n",
       "<text text-anchor=\"middle\" x=\"297.5\" y=\"-379.8\" font-family=\"Helvetica,sans-Serif\" font-size=\"14.00\">samples = 22</text>\r\n",
       "<text text-anchor=\"middle\" x=\"297.5\" y=\"-364.8\" font-family=\"Helvetica,sans-Serif\" font-size=\"14.00\">value = [24, 14]</text>\r\n",
       "<text text-anchor=\"middle\" x=\"297.5\" y=\"-349.8\" font-family=\"Helvetica,sans-Serif\" font-size=\"14.00\">class = ALL</text>\r\n",
       "</g>\r\n",
       "<!-- 1 -->\r\n",
       "<g id=\"node2\" class=\"node\"><title>1</title>\r\n",
       "<path fill=\"#e89153\" stroke=\"black\" d=\"M274.5,-306C274.5,-306 188.5,-306 188.5,-306 182.5,-306 176.5,-300 176.5,-294 176.5,-294 176.5,-235 176.5,-235 176.5,-229 182.5,-223 188.5,-223 188.5,-223 274.5,-223 274.5,-223 280.5,-223 286.5,-229 286.5,-235 286.5,-235 286.5,-294 286.5,-294 286.5,-300 280.5,-306 274.5,-306\"/>\r\n",
       "<text text-anchor=\"middle\" x=\"231.5\" y=\"-290.8\" font-family=\"Helvetica,sans-Serif\" font-size=\"14.00\">2 &lt;= 2286.951</text>\r\n",
       "<text text-anchor=\"middle\" x=\"231.5\" y=\"-275.8\" font-family=\"Helvetica,sans-Serif\" font-size=\"14.00\">gini = 0.204</text>\r\n",
       "<text text-anchor=\"middle\" x=\"231.5\" y=\"-260.8\" font-family=\"Helvetica,sans-Serif\" font-size=\"14.00\">samples = 17</text>\r\n",
       "<text text-anchor=\"middle\" x=\"231.5\" y=\"-245.8\" font-family=\"Helvetica,sans-Serif\" font-size=\"14.00\">value = [23, 3]</text>\r\n",
       "<text text-anchor=\"middle\" x=\"231.5\" y=\"-230.8\" font-family=\"Helvetica,sans-Serif\" font-size=\"14.00\">class = ALL</text>\r\n",
       "</g>\r\n",
       "<!-- 0&#45;&gt;1 -->\r\n",
       "<g id=\"edge1\" class=\"edge\"><title>0&#45;&gt;1</title>\r\n",
       "<path fill=\"none\" stroke=\"black\" d=\"M274.602,-341.907C269.687,-333.195 264.442,-323.897 259.363,-314.893\"/>\r\n",
       "<polygon fill=\"black\" stroke=\"black\" points=\"262.32,-313.011 254.358,-306.021 256.223,-316.45 262.32,-313.011\"/>\r\n",
       "<text text-anchor=\"middle\" x=\"247.646\" y=\"-326.403\" font-family=\"Helvetica,sans-Serif\" font-size=\"14.00\">True</text>\r\n",
       "</g>\r\n",
       "<!-- 6 -->\r\n",
       "<g id=\"node7\" class=\"node\"><title>6</title>\r\n",
       "<path fill=\"#4ba6e7\" stroke=\"black\" d=\"M412,-306C412,-306 317,-306 317,-306 311,-306 305,-300 305,-294 305,-294 305,-235 305,-235 305,-229 311,-223 317,-223 317,-223 412,-223 412,-223 418,-223 424,-229 424,-235 424,-235 424,-294 424,-294 424,-300 418,-306 412,-306\"/>\r\n",
       "<text text-anchor=\"middle\" x=\"364.5\" y=\"-290.8\" font-family=\"Helvetica,sans-Serif\" font-size=\"14.00\">14 &lt;= 2721.092</text>\r\n",
       "<text text-anchor=\"middle\" x=\"364.5\" y=\"-275.8\" font-family=\"Helvetica,sans-Serif\" font-size=\"14.00\">gini = 0.153</text>\r\n",
       "<text text-anchor=\"middle\" x=\"364.5\" y=\"-260.8\" font-family=\"Helvetica,sans-Serif\" font-size=\"14.00\">samples = 5</text>\r\n",
       "<text text-anchor=\"middle\" x=\"364.5\" y=\"-245.8\" font-family=\"Helvetica,sans-Serif\" font-size=\"14.00\">value = [1, 11]</text>\r\n",
       "<text text-anchor=\"middle\" x=\"364.5\" y=\"-230.8\" font-family=\"Helvetica,sans-Serif\" font-size=\"14.00\">class = AML</text>\r\n",
       "</g>\r\n",
       "<!-- 0&#45;&gt;6 -->\r\n",
       "<g id=\"edge6\" class=\"edge\"><title>0&#45;&gt;6</title>\r\n",
       "<path fill=\"none\" stroke=\"black\" d=\"M320.745,-341.907C325.734,-333.195 331.059,-323.897 336.215,-314.893\"/>\r\n",
       "<polygon fill=\"black\" stroke=\"black\" points=\"339.364,-316.438 341.296,-306.021 333.289,-312.959 339.364,-316.438\"/>\r\n",
       "<text text-anchor=\"middle\" x=\"347.852\" y=\"-326.446\" font-family=\"Helvetica,sans-Serif\" font-size=\"14.00\">False</text>\r\n",
       "</g>\r\n",
       "<!-- 2 -->\r\n",
       "<g id=\"node3\" class=\"node\"><title>2</title>\r\n",
       "<path fill=\"#e68642\" stroke=\"black\" d=\"M157,-187C157,-187 58,-187 58,-187 52,-187 46,-181 46,-175 46,-175 46,-116 46,-116 46,-110 52,-104 58,-104 58,-104 157,-104 157,-104 163,-104 169,-110 169,-116 169,-116 169,-175 169,-175 169,-181 163,-187 157,-187\"/>\r\n",
       "<text text-anchor=\"middle\" x=\"107.5\" y=\"-171.8\" font-family=\"Helvetica,sans-Serif\" font-size=\"14.00\">29 &lt;= &#45;9614.254</text>\r\n",
       "<text text-anchor=\"middle\" x=\"107.5\" y=\"-156.8\" font-family=\"Helvetica,sans-Serif\" font-size=\"14.00\">gini = 0.08</text>\r\n",
       "<text text-anchor=\"middle\" x=\"107.5\" y=\"-141.8\" font-family=\"Helvetica,sans-Serif\" font-size=\"14.00\">samples = 15</text>\r\n",
       "<text text-anchor=\"middle\" x=\"107.5\" y=\"-126.8\" font-family=\"Helvetica,sans-Serif\" font-size=\"14.00\">value = [23, 1]</text>\r\n",
       "<text text-anchor=\"middle\" x=\"107.5\" y=\"-111.8\" font-family=\"Helvetica,sans-Serif\" font-size=\"14.00\">class = ALL</text>\r\n",
       "</g>\r\n",
       "<!-- 1&#45;&gt;2 -->\r\n",
       "<g id=\"edge2\" class=\"edge\"><title>1&#45;&gt;2</title>\r\n",
       "<path fill=\"none\" stroke=\"black\" d=\"M188.479,-222.907C178.572,-213.56 167.95,-203.538 157.766,-193.929\"/>\r\n",
       "<polygon fill=\"black\" stroke=\"black\" points=\"160.121,-191.338 150.445,-187.021 155.317,-196.429 160.121,-191.338\"/>\r\n",
       "</g>\r\n",
       "<!-- 5 -->\r\n",
       "<g id=\"node6\" class=\"node\"><title>5</title>\r\n",
       "<path fill=\"#399de5\" stroke=\"black\" d=\"M272,-179.5C272,-179.5 199,-179.5 199,-179.5 193,-179.5 187,-173.5 187,-167.5 187,-167.5 187,-123.5 187,-123.5 187,-117.5 193,-111.5 199,-111.5 199,-111.5 272,-111.5 272,-111.5 278,-111.5 284,-117.5 284,-123.5 284,-123.5 284,-167.5 284,-167.5 284,-173.5 278,-179.5 272,-179.5\"/>\r\n",
       "<text text-anchor=\"middle\" x=\"235.5\" y=\"-164.3\" font-family=\"Helvetica,sans-Serif\" font-size=\"14.00\">gini = 0.0</text>\r\n",
       "<text text-anchor=\"middle\" x=\"235.5\" y=\"-149.3\" font-family=\"Helvetica,sans-Serif\" font-size=\"14.00\">samples = 2</text>\r\n",
       "<text text-anchor=\"middle\" x=\"235.5\" y=\"-134.3\" font-family=\"Helvetica,sans-Serif\" font-size=\"14.00\">value = [0, 2]</text>\r\n",
       "<text text-anchor=\"middle\" x=\"235.5\" y=\"-119.3\" font-family=\"Helvetica,sans-Serif\" font-size=\"14.00\">class = AML</text>\r\n",
       "</g>\r\n",
       "<!-- 1&#45;&gt;5 -->\r\n",
       "<g id=\"edge5\" class=\"edge\"><title>1&#45;&gt;5</title>\r\n",
       "<path fill=\"none\" stroke=\"black\" d=\"M232.888,-222.907C233.254,-212.204 233.65,-200.615 234.02,-189.776\"/>\r\n",
       "<polygon fill=\"black\" stroke=\"black\" points=\"237.522,-189.781 234.366,-179.667 230.526,-189.541 237.522,-189.781\"/>\r\n",
       "</g>\r\n",
       "<!-- 3 -->\r\n",
       "<g id=\"node4\" class=\"node\"><title>3</title>\r\n",
       "<path fill=\"#399de5\" stroke=\"black\" d=\"M85,-68C85,-68 12,-68 12,-68 6,-68 0,-62 0,-56 0,-56 0,-12 0,-12 0,-6 6,-0 12,-0 12,-0 85,-0 85,-0 91,-0 97,-6 97,-12 97,-12 97,-56 97,-56 97,-62 91,-68 85,-68\"/>\r\n",
       "<text text-anchor=\"middle\" x=\"48.5\" y=\"-52.8\" font-family=\"Helvetica,sans-Serif\" font-size=\"14.00\">gini = 0.0</text>\r\n",
       "<text text-anchor=\"middle\" x=\"48.5\" y=\"-37.8\" font-family=\"Helvetica,sans-Serif\" font-size=\"14.00\">samples = 1</text>\r\n",
       "<text text-anchor=\"middle\" x=\"48.5\" y=\"-22.8\" font-family=\"Helvetica,sans-Serif\" font-size=\"14.00\">value = [0, 1]</text>\r\n",
       "<text text-anchor=\"middle\" x=\"48.5\" y=\"-7.8\" font-family=\"Helvetica,sans-Serif\" font-size=\"14.00\">class = AML</text>\r\n",
       "</g>\r\n",
       "<!-- 2&#45;&gt;3 -->\r\n",
       "<g id=\"edge3\" class=\"edge\"><title>2&#45;&gt;3</title>\r\n",
       "<path fill=\"none\" stroke=\"black\" d=\"M85.5306,-103.726C80.8619,-95.0615 75.9235,-85.8962 71.2272,-77.1802\"/>\r\n",
       "<polygon fill=\"black\" stroke=\"black\" points=\"74.2669,-75.4428 66.4422,-68.2996 68.1045,-78.7632 74.2669,-75.4428\"/>\r\n",
       "</g>\r\n",
       "<!-- 4 -->\r\n",
       "<g id=\"node5\" class=\"node\"><title>4</title>\r\n",
       "<path fill=\"#e58139\" stroke=\"black\" d=\"M208,-68C208,-68 127,-68 127,-68 121,-68 115,-62 115,-56 115,-56 115,-12 115,-12 115,-6 121,-0 127,-0 127,-0 208,-0 208,-0 214,-0 220,-6 220,-12 220,-12 220,-56 220,-56 220,-62 214,-68 208,-68\"/>\r\n",
       "<text text-anchor=\"middle\" x=\"167.5\" y=\"-52.8\" font-family=\"Helvetica,sans-Serif\" font-size=\"14.00\">gini = 0.0</text>\r\n",
       "<text text-anchor=\"middle\" x=\"167.5\" y=\"-37.8\" font-family=\"Helvetica,sans-Serif\" font-size=\"14.00\">samples = 14</text>\r\n",
       "<text text-anchor=\"middle\" x=\"167.5\" y=\"-22.8\" font-family=\"Helvetica,sans-Serif\" font-size=\"14.00\">value = [23, 0]</text>\r\n",
       "<text text-anchor=\"middle\" x=\"167.5\" y=\"-7.8\" font-family=\"Helvetica,sans-Serif\" font-size=\"14.00\">class = ALL</text>\r\n",
       "</g>\r\n",
       "<!-- 2&#45;&gt;4 -->\r\n",
       "<g id=\"edge4\" class=\"edge\"><title>2&#45;&gt;4</title>\r\n",
       "<path fill=\"none\" stroke=\"black\" d=\"M129.842,-103.726C134.59,-95.0615 139.612,-85.8962 144.388,-77.1802\"/>\r\n",
       "<polygon fill=\"black\" stroke=\"black\" points=\"147.518,-78.7513 149.254,-68.2996 141.379,-75.3875 147.518,-78.7513\"/>\r\n",
       "</g>\r\n",
       "<!-- 7 -->\r\n",
       "<g id=\"node8\" class=\"node\"><title>7</title>\r\n",
       "<path fill=\"#399de5\" stroke=\"black\" d=\"M402,-179.5C402,-179.5 321,-179.5 321,-179.5 315,-179.5 309,-173.5 309,-167.5 309,-167.5 309,-123.5 309,-123.5 309,-117.5 315,-111.5 321,-111.5 321,-111.5 402,-111.5 402,-111.5 408,-111.5 414,-117.5 414,-123.5 414,-123.5 414,-167.5 414,-167.5 414,-173.5 408,-179.5 402,-179.5\"/>\r\n",
       "<text text-anchor=\"middle\" x=\"361.5\" y=\"-164.3\" font-family=\"Helvetica,sans-Serif\" font-size=\"14.00\">gini = 0.0</text>\r\n",
       "<text text-anchor=\"middle\" x=\"361.5\" y=\"-149.3\" font-family=\"Helvetica,sans-Serif\" font-size=\"14.00\">samples = 3</text>\r\n",
       "<text text-anchor=\"middle\" x=\"361.5\" y=\"-134.3\" font-family=\"Helvetica,sans-Serif\" font-size=\"14.00\">value = [0, 10]</text>\r\n",
       "<text text-anchor=\"middle\" x=\"361.5\" y=\"-119.3\" font-family=\"Helvetica,sans-Serif\" font-size=\"14.00\">class = AML</text>\r\n",
       "</g>\r\n",
       "<!-- 6&#45;&gt;7 -->\r\n",
       "<g id=\"edge7\" class=\"edge\"><title>6&#45;&gt;7</title>\r\n",
       "<path fill=\"none\" stroke=\"black\" d=\"M363.459,-222.907C363.185,-212.204 362.888,-200.615 362.61,-189.776\"/>\r\n",
       "<polygon fill=\"black\" stroke=\"black\" points=\"366.106,-189.574 362.35,-179.667 359.108,-189.753 366.106,-189.574\"/>\r\n",
       "</g>\r\n",
       "<!-- 8 -->\r\n",
       "<g id=\"node9\" class=\"node\"><title>8</title>\r\n",
       "<path fill=\"#ffffff\" stroke=\"black\" d=\"M543,-187C543,-187 444,-187 444,-187 438,-187 432,-181 432,-175 432,-175 432,-116 432,-116 432,-110 438,-104 444,-104 444,-104 543,-104 543,-104 549,-104 555,-110 555,-116 555,-116 555,-175 555,-175 555,-181 549,-187 543,-187\"/>\r\n",
       "<text text-anchor=\"middle\" x=\"493.5\" y=\"-171.8\" font-family=\"Helvetica,sans-Serif\" font-size=\"14.00\">12 &lt;= &#45;6024.277</text>\r\n",
       "<text text-anchor=\"middle\" x=\"493.5\" y=\"-156.8\" font-family=\"Helvetica,sans-Serif\" font-size=\"14.00\">gini = 0.5</text>\r\n",
       "<text text-anchor=\"middle\" x=\"493.5\" y=\"-141.8\" font-family=\"Helvetica,sans-Serif\" font-size=\"14.00\">samples = 2</text>\r\n",
       "<text text-anchor=\"middle\" x=\"493.5\" y=\"-126.8\" font-family=\"Helvetica,sans-Serif\" font-size=\"14.00\">value = [1, 1]</text>\r\n",
       "<text text-anchor=\"middle\" x=\"493.5\" y=\"-111.8\" font-family=\"Helvetica,sans-Serif\" font-size=\"14.00\">class = ALL</text>\r\n",
       "</g>\r\n",
       "<!-- 6&#45;&gt;8 -->\r\n",
       "<g id=\"edge8\" class=\"edge\"><title>6&#45;&gt;8</title>\r\n",
       "<path fill=\"none\" stroke=\"black\" d=\"M409.256,-222.907C419.562,-213.56 430.612,-203.538 441.207,-193.929\"/>\r\n",
       "<polygon fill=\"black\" stroke=\"black\" points=\"443.767,-196.332 448.823,-187.021 439.065,-191.146 443.767,-196.332\"/>\r\n",
       "</g>\r\n",
       "<!-- 9 -->\r\n",
       "<g id=\"node10\" class=\"node\"><title>9</title>\r\n",
       "<path fill=\"#399de5\" stroke=\"black\" d=\"M472,-68C472,-68 399,-68 399,-68 393,-68 387,-62 387,-56 387,-56 387,-12 387,-12 387,-6 393,-0 399,-0 399,-0 472,-0 472,-0 478,-0 484,-6 484,-12 484,-12 484,-56 484,-56 484,-62 478,-68 472,-68\"/>\r\n",
       "<text text-anchor=\"middle\" x=\"435.5\" y=\"-52.8\" font-family=\"Helvetica,sans-Serif\" font-size=\"14.00\">gini = 0.0</text>\r\n",
       "<text text-anchor=\"middle\" x=\"435.5\" y=\"-37.8\" font-family=\"Helvetica,sans-Serif\" font-size=\"14.00\">samples = 1</text>\r\n",
       "<text text-anchor=\"middle\" x=\"435.5\" y=\"-22.8\" font-family=\"Helvetica,sans-Serif\" font-size=\"14.00\">value = [0, 1]</text>\r\n",
       "<text text-anchor=\"middle\" x=\"435.5\" y=\"-7.8\" font-family=\"Helvetica,sans-Serif\" font-size=\"14.00\">class = AML</text>\r\n",
       "</g>\r\n",
       "<!-- 8&#45;&gt;9 -->\r\n",
       "<g id=\"edge9\" class=\"edge\"><title>8&#45;&gt;9</title>\r\n",
       "<path fill=\"none\" stroke=\"black\" d=\"M471.903,-103.726C467.313,-95.0615 462.459,-85.8962 457.842,-77.1802\"/>\r\n",
       "<polygon fill=\"black\" stroke=\"black\" points=\"460.912,-75.4982 453.138,-68.2996 454.726,-78.7748 460.912,-75.4982\"/>\r\n",
       "</g>\r\n",
       "<!-- 10 -->\r\n",
       "<g id=\"node11\" class=\"node\"><title>10</title>\r\n",
       "<path fill=\"#e58139\" stroke=\"black\" d=\"M587,-68C587,-68 514,-68 514,-68 508,-68 502,-62 502,-56 502,-56 502,-12 502,-12 502,-6 508,-0 514,-0 514,-0 587,-0 587,-0 593,-0 599,-6 599,-12 599,-12 599,-56 599,-56 599,-62 593,-68 587,-68\"/>\r\n",
       "<text text-anchor=\"middle\" x=\"550.5\" y=\"-52.8\" font-family=\"Helvetica,sans-Serif\" font-size=\"14.00\">gini = 0.0</text>\r\n",
       "<text text-anchor=\"middle\" x=\"550.5\" y=\"-37.8\" font-family=\"Helvetica,sans-Serif\" font-size=\"14.00\">samples = 1</text>\r\n",
       "<text text-anchor=\"middle\" x=\"550.5\" y=\"-22.8\" font-family=\"Helvetica,sans-Serif\" font-size=\"14.00\">value = [1, 0]</text>\r\n",
       "<text text-anchor=\"middle\" x=\"550.5\" y=\"-7.8\" font-family=\"Helvetica,sans-Serif\" font-size=\"14.00\">class = ALL</text>\r\n",
       "</g>\r\n",
       "<!-- 8&#45;&gt;10 -->\r\n",
       "<g id=\"edge10\" class=\"edge\"><title>8&#45;&gt;10</title>\r\n",
       "<path fill=\"none\" stroke=\"black\" d=\"M514.725,-103.726C519.235,-95.0615 524.006,-85.8962 528.543,-77.1802\"/>\r\n",
       "<polygon fill=\"black\" stroke=\"black\" points=\"531.653,-78.7859 533.166,-68.2996 525.444,-75.5537 531.653,-78.7859\"/>\r\n",
       "</g>\r\n",
       "</g>\r\n",
       "</svg>\r\n"
      ],
      "text/plain": [
       "<graphviz.files.Source at 0x11df820ff40>"
      ]
     },
     "execution_count": 18,
     "metadata": {},
     "output_type": "execute_result"
    }
   ],
   "source": [
    "estimator = rf.estimators_[100]\n",
    "graph_rf = plot_tree_graph(estimator, 1, 34)\n",
    "graph_rf"
   ]
  },
  {
   "cell_type": "markdown",
   "metadata": {},
   "source": [
    "# Gradient boosting tree"
   ]
  },
  {
   "cell_type": "code",
   "execution_count": 19,
   "metadata": {
    "scrolled": true
   },
   "outputs": [
    {
     "data": {
      "image/png": "[encoded data removed]",
      "text/plain": [
       "<Figure size 432x288 with 1 Axes>"
      ]
     },
     "metadata": {
      "needs_background": "light"
     },
     "output_type": "display_data"
    }
   ],
   "source": [
    "accuracy_mean_train_tree, accuracy_mean_test_tree = k_fold(pca_data, y, 10, 1, 21, 1, 'rf')\n",
    "plot_classification_error(1, 21, 1, accuracy_mean_train_tree, accuracy_mean_test_tree, 'tree depth')"
   ]
  },
  {
   "cell_type": "code",
   "execution_count": 22,
   "metadata": {
    "scrolled": true
   },
   "outputs": [
    {
     "data": {
      "image/png": "[encoded data removed]",
      "text/plain": [
       "<Figure size 432x288 with 1 Axes>"
      ]
     },
     "metadata": {
      "needs_background": "light"
     },
     "output_type": "display_data"
    }
   ],
   "source": [
    "accuracy_mean_train_tree, accuracy_mean_test_tree =  k_fold(pca_data, y, 10, 10, 101, 10, 'rf_estimators')\n",
    "plot_classification_error(10, 101, 10, accuracy_mean_train_tree, accuracy_mean_test_tree, 'number of estimators')"
   ]
  },
  {
   "cell_type": "code",
   "execution_count": 23,
   "metadata": {},
   "outputs": [
    {
     "name": "stdout",
     "output_type": "stream",
     "text": [
      "The XGBoost has an accuracy of 0.9411764705882353 and an error rate of 0.05882352941176472.\n"
     ]
    }
   ],
   "source": [
    "xb = xgb.XGBClassifier(n_estimators = 50, max_depth = 5, eval_metric='error', use_label_encoder=False)\n",
    "xb = xb.fit(X_train_pca, y_train)\n",
    "\n",
    "accuracy = metrics.accuracy_score(y_test, xb.predict(X_test_pca))\n",
    "print(\"The XGBoost has an accuracy of {} and an error rate of {}.\".format(accuracy, 1-accuracy))"
   ]
  },
  {
   "cell_type": "code",
   "execution_count": 24,
   "metadata": {},
   "outputs": [
    {
     "data": {
      "image/svg+xml": [
       "<?xml version=\"1.0\" encoding=\"UTF-8\" standalone=\"no\"?>\r\n",
       "<!DOCTYPE svg PUBLIC \"-//W3C//DTD SVG 1.1//EN\"\r\n",
       " \"http://www.w3.org/Graphics/SVG/1.1/DTD/svg11.dtd\">\r\n",
       "<!-- Generated by graphviz version 2.38.0 (20140413.2041)\r\n",
       " -->\r\n",
       "<!-- Title: %3 Pages: 1 -->\r\n",
       "<svg width=\"326pt\" height=\"218pt\"\r\n",
       " viewBox=\"0.00 0.00 325.50 218.00\" xmlns=\"http://www.w3.org/2000/svg\" xmlns:xlink=\"http://www.w3.org/1999/xlink\">\r\n",
       "<g id=\"graph0\" class=\"graph\" transform=\"scale(1 1) rotate(0) translate(4 214)\">\r\n",
       "<title>%3</title>\r\n",
       "<polygon fill=\"white\" stroke=\"none\" points=\"-4,4 -4,-214 321.5,-214 321.5,4 -4,4\"/>\r\n",
       "<!-- 0 -->\r\n",
       "<g id=\"node1\" class=\"node\"><title>0</title>\r\n",
       "<path fill=\"#78bceb\" stroke=\"black\" d=\"M247.5,-210C247.5,-210 177.5,-210 177.5,-210 171.5,-210 165.5,-204 165.5,-198 165.5,-198 165.5,-186 165.5,-186 165.5,-180 171.5,-174 177.5,-174 177.5,-174 247.5,-174 247.5,-174 253.5,-174 259.5,-180 259.5,-186 259.5,-186 259.5,-198 259.5,-198 259.5,-204 253.5,-210 247.5,-210\"/>\r\n",
       "<text text-anchor=\"middle\" x=\"212.5\" y=\"-188.3\" font-family=\"Times New Roman,serif\" font-size=\"14.00\">f1&lt;2217.8811</text>\r\n",
       "</g>\r\n",
       "<!-- 1 -->\r\n",
       "<g id=\"node2\" class=\"node\"><title>1</title>\r\n",
       "<path fill=\"#78bceb\" stroke=\"black\" d=\"M171.5,-123C171.5,-123 97.5,-123 97.5,-123 91.5,-123 85.5,-117 85.5,-111 85.5,-111 85.5,-99 85.5,-99 85.5,-93 91.5,-87 97.5,-87 97.5,-87 171.5,-87 171.5,-87 177.5,-87 183.5,-93 183.5,-99 183.5,-99 183.5,-111 183.5,-111 183.5,-117 177.5,-123 171.5,-123\"/>\r\n",
       "<text text-anchor=\"middle\" x=\"134.5\" y=\"-101.3\" font-family=\"Times New Roman,serif\" font-size=\"14.00\">f6&lt;&#45;14857.334</text>\r\n",
       "</g>\r\n",
       "<!-- 0&#45;&gt;1 -->\r\n",
       "<g id=\"edge1\" class=\"edge\"><title>0&#45;&gt;1</title>\r\n",
       "<path fill=\"none\" stroke=\"#0000ff\" d=\"M181.596,-173.882C174.097,-168.785 166.516,-162.737 160.5,-156 154.317,-149.076 149.146,-140.417 145.086,-132.26\"/>\r\n",
       "<polygon fill=\"#0000ff\" stroke=\"#0000ff\" points=\"148.203,-130.662 140.836,-123.048 141.847,-133.595 148.203,-130.662\"/>\r\n",
       "<text text-anchor=\"middle\" x=\"195\" y=\"-144.8\" font-family=\"Times New Roman,serif\" font-size=\"14.00\">yes, missing</text>\r\n",
       "</g>\r\n",
       "<!-- 2 -->\r\n",
       "<g id=\"node3\" class=\"node\"><title>2</title>\r\n",
       "<path fill=\"#e48038\" stroke=\"black\" d=\"M305.5,-123C305.5,-123 213.5,-123 213.5,-123 207.5,-123 201.5,-117 201.5,-111 201.5,-111 201.5,-99 201.5,-99 201.5,-93 207.5,-87 213.5,-87 213.5,-87 305.5,-87 305.5,-87 311.5,-87 317.5,-93 317.5,-99 317.5,-99 317.5,-111 317.5,-111 317.5,-117 311.5,-123 305.5,-123\"/>\r\n",
       "<text text-anchor=\"middle\" x=\"259.5\" y=\"-101.3\" font-family=\"Times New Roman,serif\" font-size=\"14.00\">leaf=0.299140513</text>\r\n",
       "</g>\r\n",
       "<!-- 0&#45;&gt;2 -->\r\n",
       "<g id=\"edge2\" class=\"edge\"><title>0&#45;&gt;2</title>\r\n",
       "<path fill=\"none\" stroke=\"#ff0000\" d=\"M222.011,-173.799C228.637,-161.817 237.594,-145.617 245.092,-132.057\"/>\r\n",
       "<polygon fill=\"#ff0000\" stroke=\"#ff0000\" points=\"248.227,-133.62 250.003,-123.175 242.101,-130.233 248.227,-133.62\"/>\r\n",
       "<text text-anchor=\"middle\" x=\"247\" y=\"-144.8\" font-family=\"Times New Roman,serif\" font-size=\"14.00\">no</text>\r\n",
       "</g>\r\n",
       "<!-- 3 -->\r\n",
       "<g id=\"node4\" class=\"node\"><title>3</title>\r\n",
       "<path fill=\"#e48038\" stroke=\"black\" d=\"M115,-36C115,-36 12,-36 12,-36 6,-36 -7.10543e-015,-30 -7.10543e-015,-24 -7.10543e-015,-24 -7.10543e-015,-12 -7.10543e-015,-12 -7.10543e-015,-6 6,-0 12,-0 12,-0 115,-0 115,-0 121,-0 127,-6 127,-12 127,-12 127,-24 127,-24 127,-30 121,-36 115,-36\"/>\r\n",
       "<text text-anchor=\"middle\" x=\"63.5\" y=\"-14.3\" font-family=\"Times New Roman,serif\" font-size=\"14.00\">leaf=&#45;0.0747156143</text>\r\n",
       "</g>\r\n",
       "<!-- 1&#45;&gt;3 -->\r\n",
       "<g id=\"edge3\" class=\"edge\"><title>1&#45;&gt;3</title>\r\n",
       "<path fill=\"none\" stroke=\"#0000ff\" d=\"M120.132,-86.799C109.835,-74.4713 95.8081,-57.6787 84.2907,-43.8902\"/>\r\n",
       "<polygon fill=\"#0000ff\" stroke=\"#0000ff\" points=\"86.9435,-41.6065 77.8465,-36.1754 81.5711,-46.094 86.9435,-41.6065\"/>\r\n",
       "<text text-anchor=\"middle\" x=\"138\" y=\"-57.8\" font-family=\"Times New Roman,serif\" font-size=\"14.00\">yes, missing</text>\r\n",
       "</g>\r\n",
       "<!-- 4 -->\r\n",
       "<g id=\"node5\" class=\"node\"><title>4</title>\r\n",
       "<path fill=\"#e48038\" stroke=\"black\" d=\"M253.5,-36C253.5,-36 157.5,-36 157.5,-36 151.5,-36 145.5,-30 145.5,-24 145.5,-24 145.5,-12 145.5,-12 145.5,-6 151.5,-0 157.5,-0 157.5,-0 253.5,-0 253.5,-0 259.5,-0 265.5,-6 265.5,-12 265.5,-12 265.5,-24 265.5,-24 265.5,-30 259.5,-36 253.5,-36\"/>\r\n",
       "<text text-anchor=\"middle\" x=\"205.5\" y=\"-14.3\" font-family=\"Times New Roman,serif\" font-size=\"14.00\">leaf=&#45;0.356181324</text>\r\n",
       "</g>\r\n",
       "<!-- 1&#45;&gt;4 -->\r\n",
       "<g id=\"edge4\" class=\"edge\"><title>1&#45;&gt;4</title>\r\n",
       "<path fill=\"none\" stroke=\"#ff0000\" d=\"M158.064,-86.812C164.468,-81.5148 171.114,-75.384 176.5,-69 182.546,-61.8335 188.042,-53.2375 192.584,-45.2102\"/>\r\n",
       "<polygon fill=\"#ff0000\" stroke=\"#ff0000\" points=\"195.794,-46.6319 197.453,-36.1679 189.631,-43.313 195.794,-46.6319\"/>\r\n",
       "<text text-anchor=\"middle\" x=\"195\" y=\"-57.8\" font-family=\"Times New Roman,serif\" font-size=\"14.00\">no</text>\r\n",
       "</g>\r\n",
       "</g>\r\n",
       "</svg>\r\n"
      ],
      "text/plain": [
       "<graphviz.files.Source at 0x11df82ca880>"
      ]
     },
     "execution_count": 24,
     "metadata": {},
     "output_type": "execute_result"
    }
   ],
   "source": [
    "cd = {'shape': 'box',\n",
    " 'style': 'filled,rounded',\n",
    " 'fillcolor': '#78bceb'}\n",
    "\n",
    "lf = {'shape': 'box',\n",
    " 'style': 'filled, rounded',\n",
    " 'fillcolor': '#e48038'}\n",
    "\n",
    "xgb.to_graphviz(xb,condition_node_params = cd, leaf_node_params = lf, num_trees=2, feature_names= \"test\")"
   ]
  },
  {
   "cell_type": "code",
   "execution_count": null,
   "metadata": {},
   "outputs": [],
   "source": []
  }
 ],
 "metadata": {
  "kernelspec": {
   "display_name": "Python 3",
   "language": "python",
   "name": "python3"
  },
  "language_info": {
   "codemirror_mode": {
    "name": "ipython",
    "version": 3
   },
   "file_extension": ".py",
   "mimetype": "text/x-python",
   "name": "python",
   "nbconvert_exporter": "python",
   "pygments_lexer": "ipython3",
   "version": "3.8.3"
  }
 },
 "nbformat": 4,
 "nbformat_minor": 4
}
