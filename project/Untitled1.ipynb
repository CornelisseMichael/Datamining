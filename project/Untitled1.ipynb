{
 "cells": [
  {
   "cell_type": "code",
   "execution_count": 1,
   "metadata": {},
   "outputs": [],
   "source": [
    "NAME = \"Michael Cornelisse\"\n",
    "STUDENT_NUMBER = \"s1059020\"\n",
    "COLLABORATOR_NAME = \"Nienke Helmers\"\n",
    "COLLABORATOR_STUDENT_NUMBER = \"s1016904\""
   ]
  },
  {
   "cell_type": "code",
   "execution_count": 2,
   "metadata": {},
   "outputs": [],
   "source": [
    "import os\n",
    "import numpy as np\n",
    "import pandas as pd\n",
    "import matplotlib.pyplot as plt\n",
    "import seaborn as sns\n",
    "from graphviz import Source\n",
    "\n",
    "from toolbox.pca_plot import get_variance_percentage, get_number_of_attributes, plot_pca_variance\n",
    "from toolbox.data_processing import load_data, clean_data, sort_X_train_and_test_data, get_X_train_and_test_data, merge_train_and_test_data,get_y_train_and_test_data\n",
    "from toolbox.k_fold_algorithm import k_fold, plot_classification_error\n",
    "from toolbox.plot_results import get_tree_graph, plot_cm_and_rc\n",
    "from toolbox.gradient_search import grid_search_classifier\n",
    "\n",
    "from sklearn import preprocessing\n",
    "from sklearn.preprocessing import StandardScaler\n",
    "from sklearn.preprocessing import normalize\n",
    "from sklearn.model_selection import KFold\n",
    "from sklearn.decomposition import PCA\n",
    "from sklearn import metrics\n",
    "from sklearn import tree\n",
    "from sklearn.tree import export_graphviz\n",
    "from sklearn.ensemble import RandomForestClassifier, GradientBoostingClassifier\n",
    "import xgboost as xgb\n",
    "from xgboost import plot_tree"
   ]
  },
  {
   "cell_type": "code",
   "execution_count": 3,
   "metadata": {},
   "outputs": [],
   "source": [
    "X_train, X_test, y = load_data()"
   ]
  },
  {
   "cell_type": "code",
   "execution_count": 4,
   "metadata": {},
   "outputs": [],
   "source": [
    "# Clean data\n",
    "X_train, X_test, y = clean_data(X_train, X_test, y)"
   ]
  },
  {
   "cell_type": "code",
   "execution_count": 5,
   "metadata": {},
   "outputs": [],
   "source": [
    "# Sort the indexes\n",
    "X_train, X_test = sort_X_train_and_test_data(X_train, X_test)\n",
    "y.index = pd.to_numeric(y.index)\n",
    "y_train, y_test = get_y_train_and_test_data(y)"
   ]
  },
  {
   "cell_type": "code",
   "execution_count": 6,
   "metadata": {},
   "outputs": [
    {
     "data": {
      "text/plain": [
       "38"
      ]
     },
     "execution_count": 6,
     "metadata": {},
     "output_type": "execute_result"
    }
   ],
   "source": [
    "pca = PCA()\n",
    "pca_train = pca.fit_transform(X_train)\n",
    "pca_test = pca.transform(X_test)\n",
    "\n",
    "pca_complete = np.append(pca_train, pca_test, 0)\n",
    "pca.n_components_"
   ]
  },
  {
   "cell_type": "code",
   "execution_count": 7,
   "metadata": {},
   "outputs": [
    {
     "data": {
      "image/png": "[encoded data removed]",
      "text/plain": [
       "<Figure size 432x288 with 1 Axes>"
      ]
     },
     "metadata": {
      "needs_background": "light"
     },
     "output_type": "display_data"
    },
    {
     "name": "stdout",
     "output_type": "stream",
     "text": [
      "Figure: A plot of the explained variance. The variance is summed for all attributes up to and including\n",
      "    the current attribute number,for examplethe tenth attribute shows the sum of attributes 1 to 10.\n",
      "There are 21 attributes that together explain 90% of the variance.\n"
     ]
    }
   ],
   "source": [
    "pca_variance_percentage = get_variance_percentage(pca)\n",
    "no_attributes = get_number_of_attributes(pca_variance_percentage)\n",
    "plot_pca_variance(pca_variance_percentage, no_attributes)"
   ]
  },
  {
   "cell_type": "code",
   "execution_count": 8,
   "metadata": {},
   "outputs": [],
   "source": [
    "#Crop pca_data\n",
    "pca_data = np.delete(pca_complete, slice(no_attributes, len(pca_complete)) , 1)\n",
    "\n",
    "#Split data back to original train and test split\n",
    "pca_train = pca_data[:38]\n",
    "pca_test = pca_data[38:]"
   ]
  },
  {
   "cell_type": "code",
   "execution_count": 9,
   "metadata": {},
   "outputs": [
    {
     "name": "stdout",
     "output_type": "stream",
     "text": [
      "The best parameters for this model are: \n",
      "DecisionTreeClassifier(max_depth=2, min_samples_leaf=2, random_state=10)\n",
      "This gives an accuracy of 0.7941176470588235 and an error of 0.20588235294117652\n"
     ]
    }
   ],
   "source": [
    "parameters_tree = {\n",
    "    'max_depth' : [2, 4, 6, 10, 'None'],\n",
    "    'min_samples_leaf' : [2, 4, 6],\n",
    "    'criterion' : ['gini', 'entropy'],\n",
    "    'random_state' : ['None', 10, 42]\n",
    "}\n",
    "\n",
    "predictions_tree, dtc = grid_search_classifier('tree', parameters_tree, pca_train, pca_test, y_train, y_test, False)"
   ]
  },
  {
   "cell_type": "code",
   "execution_count": null,
   "metadata": {},
   "outputs": [],
   "source": []
  }
 ],
 "metadata": {
  "kernelspec": {
   "display_name": "Python 3",
   "language": "python",
   "name": "python3"
  },
  "language_info": {
   "codemirror_mode": {
    "name": "ipython",
    "version": 3
   },
   "file_extension": ".py",
   "mimetype": "text/x-python",
   "name": "python",
   "nbconvert_exporter": "python",
   "pygments_lexer": "ipython3",
   "version": "3.8.3"
  }
 },
 "nbformat": 4,
 "nbformat_minor": 4
}
