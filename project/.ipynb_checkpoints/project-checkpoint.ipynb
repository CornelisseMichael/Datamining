{
 "cells": [
  {
   "cell_type": "code",
   "execution_count": 1,
   "metadata": {},
   "outputs": [],
   "source": [
    "NAME = \"Michael Cornelisse\"\n",
    "STUDENT_NUMBER = \"s1059020\"\n",
    "COLLABORATOR_NAME = \"Nienke Helmers\"\n",
    "COLLABORATOR_STUDENT_NUMBER = \"s1016904\""
   ]
  },
  {
   "cell_type": "code",
   "execution_count": 2,
   "metadata": {},
   "outputs": [],
   "source": [
    "# import libraries\n",
    "import os\n",
    "import numpy as np\n",
    "import pandas as pd\n",
    "import matplotlib.pyplot as plt\n",
    "from sklearn import preprocessing\n",
    "from sklearn.model_selection import KFold\n",
    "from sklearn.decomposition import PCA\n",
    "from sklearn import metrics\n",
    "from sklearn import tree\n",
    "from sklearn.tree import export_graphviz\n",
    "from sklearn.ensemble import RandomForestClassifier, GradientBoostingClassifier\n",
    "from graphviz import Source\n",
    "import xgboost as xgb"
   ]
  },
  {
   "cell_type": "code",
   "execution_count": 3,
   "metadata": {},
   "outputs": [],
   "source": [
    "PROJECT_ROOT_DIR = \".\"\n",
    "\n",
    "def image_path(fig_id):\n",
    "    return os.path.join(PROJECT_ROOT_DIR, \"images\", fig_id)"
   ]
  },
  {
   "cell_type": "code",
   "execution_count": 4,
   "metadata": {},
   "outputs": [],
   "source": [
    "# Load data\n",
    "#actual_data = pd.read_csv('data/archive/actual.csv')\n",
    "patient_data = pd.read_csv('data/archive/actual.csv', index_col = 'patient')\n",
    "train_data = pd.read_csv('data/archive/data_set_ALL_AML_train.csv')\n",
    "test_data = pd.read_csv('data/archive/data_set_ALL_AML_independent.csv')"
   ]
  },
  {
   "cell_type": "code",
   "execution_count": 5,
   "metadata": {},
   "outputs": [
    {
     "name": "stdout",
     "output_type": "stream",
     "text": [
      "(72, 1)\n"
     ]
    }
   ],
   "source": [
    "# Clean all the data\n",
    "# Drop the call collumns from both data sets\n",
    "call_cols_train = [col for col in train_data.columns if 'call' in col]\n",
    "train_data = train_data.drop(call_cols_train, axis = 1)\n",
    "\n",
    "call_cols_test = [col for col in test_data.columns if 'call' in col]\n",
    "test_data = test_data.drop(call_cols_test, axis = 1)\n",
    "\n",
    "# Drop \"Gene Description\" and \"Gene Accession Number\"\n",
    "cols_to_drop = ['Gene Description', 'Gene Accession Number']\n",
    "train_data = train_data.drop(cols_to_drop, axis = 1)\n",
    "test_data = test_data.drop(cols_to_drop, axis = 1)\n",
    "\n",
    "# Transpose both data_sets\n",
    "train_data = train_data.T\n",
    "test_data = test_data.T\n",
    "\n",
    "# now clean the patient_data\n",
    "patient_data = patient_data.replace({'ALL': 0, 'AML': 1})\n",
    "patient_train = patient_data[patient_data.index <= 38]\n",
    "patient_test = patient_data[patient_data.index > 38]\n",
    "# Define labels to use in our decission tree later.\n",
    "patient_labels = ['ALL', 'AML']\n",
    "# Make a seperate numpy array with our patient data, patient train data and patient test data\n",
    "patient_data_np = patient_data.to_numpy()\n",
    "patient_train_np = patient_train.to_numpy()\n",
    "print(patient_data_np.shape)\n"
   ]
  },
  {
   "cell_type": "code",
   "execution_count": 6,
   "metadata": {},
   "outputs": [
    {
     "data": {
      "text/html": [
       "<div>\n",
       "<style scoped>\n",
       "    .dataframe tbody tr th:only-of-type {\n",
       "        vertical-align: middle;\n",
       "    }\n",
       "\n",
       "    .dataframe tbody tr th {\n",
       "        vertical-align: top;\n",
       "    }\n",
       "\n",
       "    .dataframe thead th {\n",
       "        text-align: right;\n",
       "    }\n",
       "</style>\n",
       "<table border=\"1\" class=\"dataframe\">\n",
       "  <thead>\n",
       "    <tr style=\"text-align: right;\">\n",
       "      <th></th>\n",
       "      <th>cancer</th>\n",
       "    </tr>\n",
       "    <tr>\n",
       "      <th>patient</th>\n",
       "      <th></th>\n",
       "    </tr>\n",
       "  </thead>\n",
       "  <tbody>\n",
       "    <tr>\n",
       "      <th>1</th>\n",
       "      <td>0</td>\n",
       "    </tr>\n",
       "    <tr>\n",
       "      <th>2</th>\n",
       "      <td>0</td>\n",
       "    </tr>\n",
       "    <tr>\n",
       "      <th>3</th>\n",
       "      <td>0</td>\n",
       "    </tr>\n",
       "    <tr>\n",
       "      <th>4</th>\n",
       "      <td>0</td>\n",
       "    </tr>\n",
       "    <tr>\n",
       "      <th>5</th>\n",
       "      <td>0</td>\n",
       "    </tr>\n",
       "  </tbody>\n",
       "</table>\n",
       "</div>"
      ],
      "text/plain": [
       "         cancer\n",
       "patient        \n",
       "1             0\n",
       "2             0\n",
       "3             0\n",
       "4             0\n",
       "5             0"
      ]
     },
     "execution_count": 6,
     "metadata": {},
     "output_type": "execute_result"
    }
   ],
   "source": [
    "# Show head patient data 0 = ALL, 1 = AML\n",
    "patient_data.head()"
   ]
  },
  {
   "cell_type": "code",
   "execution_count": 7,
   "metadata": {},
   "outputs": [
    {
     "data": {
      "text/html": [
       "<div>\n",
       "<style scoped>\n",
       "    .dataframe tbody tr th:only-of-type {\n",
       "        vertical-align: middle;\n",
       "    }\n",
       "\n",
       "    .dataframe tbody tr th {\n",
       "        vertical-align: top;\n",
       "    }\n",
       "\n",
       "    .dataframe thead th {\n",
       "        text-align: right;\n",
       "    }\n",
       "</style>\n",
       "<table border=\"1\" class=\"dataframe\">\n",
       "  <thead>\n",
       "    <tr style=\"text-align: right;\">\n",
       "      <th></th>\n",
       "      <th>0</th>\n",
       "      <th>1</th>\n",
       "      <th>2</th>\n",
       "      <th>3</th>\n",
       "      <th>4</th>\n",
       "      <th>5</th>\n",
       "      <th>6</th>\n",
       "      <th>7</th>\n",
       "      <th>8</th>\n",
       "      <th>9</th>\n",
       "      <th>...</th>\n",
       "      <th>7119</th>\n",
       "      <th>7120</th>\n",
       "      <th>7121</th>\n",
       "      <th>7122</th>\n",
       "      <th>7123</th>\n",
       "      <th>7124</th>\n",
       "      <th>7125</th>\n",
       "      <th>7126</th>\n",
       "      <th>7127</th>\n",
       "      <th>7128</th>\n",
       "    </tr>\n",
       "  </thead>\n",
       "  <tbody>\n",
       "    <tr>\n",
       "      <th>1</th>\n",
       "      <td>-214</td>\n",
       "      <td>-153</td>\n",
       "      <td>-58</td>\n",
       "      <td>88</td>\n",
       "      <td>-295</td>\n",
       "      <td>-558</td>\n",
       "      <td>199</td>\n",
       "      <td>-176</td>\n",
       "      <td>252</td>\n",
       "      <td>206</td>\n",
       "      <td>...</td>\n",
       "      <td>185</td>\n",
       "      <td>511</td>\n",
       "      <td>-125</td>\n",
       "      <td>389</td>\n",
       "      <td>-37</td>\n",
       "      <td>793</td>\n",
       "      <td>329</td>\n",
       "      <td>36</td>\n",
       "      <td>191</td>\n",
       "      <td>-37</td>\n",
       "    </tr>\n",
       "    <tr>\n",
       "      <th>2</th>\n",
       "      <td>-139</td>\n",
       "      <td>-73</td>\n",
       "      <td>-1</td>\n",
       "      <td>283</td>\n",
       "      <td>-264</td>\n",
       "      <td>-400</td>\n",
       "      <td>-330</td>\n",
       "      <td>-168</td>\n",
       "      <td>101</td>\n",
       "      <td>74</td>\n",
       "      <td>...</td>\n",
       "      <td>169</td>\n",
       "      <td>837</td>\n",
       "      <td>-36</td>\n",
       "      <td>442</td>\n",
       "      <td>-17</td>\n",
       "      <td>782</td>\n",
       "      <td>295</td>\n",
       "      <td>11</td>\n",
       "      <td>76</td>\n",
       "      <td>-14</td>\n",
       "    </tr>\n",
       "    <tr>\n",
       "      <th>3</th>\n",
       "      <td>-76</td>\n",
       "      <td>-49</td>\n",
       "      <td>-307</td>\n",
       "      <td>309</td>\n",
       "      <td>-376</td>\n",
       "      <td>-650</td>\n",
       "      <td>33</td>\n",
       "      <td>-367</td>\n",
       "      <td>206</td>\n",
       "      <td>-215</td>\n",
       "      <td>...</td>\n",
       "      <td>315</td>\n",
       "      <td>1199</td>\n",
       "      <td>33</td>\n",
       "      <td>168</td>\n",
       "      <td>52</td>\n",
       "      <td>1138</td>\n",
       "      <td>777</td>\n",
       "      <td>41</td>\n",
       "      <td>228</td>\n",
       "      <td>-41</td>\n",
       "    </tr>\n",
       "    <tr>\n",
       "      <th>4</th>\n",
       "      <td>-135</td>\n",
       "      <td>-114</td>\n",
       "      <td>265</td>\n",
       "      <td>12</td>\n",
       "      <td>-419</td>\n",
       "      <td>-585</td>\n",
       "      <td>158</td>\n",
       "      <td>-253</td>\n",
       "      <td>49</td>\n",
       "      <td>31</td>\n",
       "      <td>...</td>\n",
       "      <td>240</td>\n",
       "      <td>835</td>\n",
       "      <td>218</td>\n",
       "      <td>174</td>\n",
       "      <td>-110</td>\n",
       "      <td>627</td>\n",
       "      <td>170</td>\n",
       "      <td>-50</td>\n",
       "      <td>126</td>\n",
       "      <td>-91</td>\n",
       "    </tr>\n",
       "    <tr>\n",
       "      <th>5</th>\n",
       "      <td>-106</td>\n",
       "      <td>-125</td>\n",
       "      <td>-76</td>\n",
       "      <td>168</td>\n",
       "      <td>-230</td>\n",
       "      <td>-284</td>\n",
       "      <td>4</td>\n",
       "      <td>-122</td>\n",
       "      <td>70</td>\n",
       "      <td>252</td>\n",
       "      <td>...</td>\n",
       "      <td>156</td>\n",
       "      <td>649</td>\n",
       "      <td>57</td>\n",
       "      <td>504</td>\n",
       "      <td>-26</td>\n",
       "      <td>250</td>\n",
       "      <td>314</td>\n",
       "      <td>14</td>\n",
       "      <td>56</td>\n",
       "      <td>-25</td>\n",
       "    </tr>\n",
       "  </tbody>\n",
       "</table>\n",
       "<p>5 rows × 7129 columns</p>\n",
       "</div>"
      ],
      "text/plain": [
       "   0     1     2     3     4     5     6     7     8     9     ...  7119  \\\n",
       "1  -214  -153   -58    88  -295  -558   199  -176   252   206  ...   185   \n",
       "2  -139   -73    -1   283  -264  -400  -330  -168   101    74  ...   169   \n",
       "3   -76   -49  -307   309  -376  -650    33  -367   206  -215  ...   315   \n",
       "4  -135  -114   265    12  -419  -585   158  -253    49    31  ...   240   \n",
       "5  -106  -125   -76   168  -230  -284     4  -122    70   252  ...   156   \n",
       "\n",
       "   7120  7121  7122  7123  7124  7125  7126  7127  7128  \n",
       "1   511  -125   389   -37   793   329    36   191   -37  \n",
       "2   837   -36   442   -17   782   295    11    76   -14  \n",
       "3  1199    33   168    52  1138   777    41   228   -41  \n",
       "4   835   218   174  -110   627   170   -50   126   -91  \n",
       "5   649    57   504   -26   250   314    14    56   -25  \n",
       "\n",
       "[5 rows x 7129 columns]"
      ]
     },
     "execution_count": 7,
     "metadata": {},
     "output_type": "execute_result"
    }
   ],
   "source": [
    "# Merge the test and training data set together\n",
    "train_data = train_data.replace(np.inf, np.nan)\n",
    "train_data = train_data.fillna(value = train_data.values.mean())\n",
    "\n",
    "test_data = test_data.replace(np.inf, np.nan)\n",
    "test_data = test_data.fillna(value = train_data.values.mean())\n",
    "\n",
    "complete_data = train_data.append(test_data) # or train_data.append(test_data, ignore_index = True)\n",
    "complete_data.head()"
   ]
  },
  {
   "cell_type": "code",
   "execution_count": 8,
   "metadata": {},
   "outputs": [],
   "source": [
    "# Dimensionality reduction PCA\n",
    "pca = PCA()\n",
    "pca_data = pca.fit_transform(complete_data)\n",
    "\n",
    "pca_variance_ratio = pca.explained_variance_ratio_.cumsum()\n",
    "pca_variance_percentage = pca_variance_ratio*100"
   ]
  },
  {
   "cell_type": "code",
   "execution_count": 9,
   "metadata": {},
   "outputs": [
    {
     "data": {
      "image/png": "[encoded data removed]",
      "text/plain": [
       "<Figure size 432x288 with 1 Axes>"
      ]
     },
     "metadata": {
      "needs_background": "light"
     },
     "output_type": "display_data"
    },
    {
     "name": "stdout",
     "output_type": "stream",
     "text": [
      "Figure: A plot of the explained variance. The variance is summed for all attributes up to and including\n",
      "the current attribute number,for examplethe tenth attribute shows the sum of attributes 1 to 10.\n",
      "There are 33 attributes that together explain 90% of the variance.\n"
     ]
    }
   ],
   "source": [
    "#Calculate and plot explained variance PCA\n",
    "pca_variance_ratio = pca.explained_variance_ratio_.cumsum()\n",
    "pca_variance_percentage = pca_variance_ratio * 100\n",
    "plt.bar(range(1,pca_variance_percentage.size+1), pca_variance_percentage)\n",
    "plt.title(\"Explained variance summed per attribute\")\n",
    "plt.xlabel(\"Attribute number\")\n",
    "plt.ylabel(\"Explained variance percentage\")\n",
    "plt.show()\n",
    "print('''Figure: A plot of the explained variance. The variance is summed for all attributes up to and including\n",
    "the current attribute number,for examplethe tenth attribute shows the sum of attributes 1 to 10.''')\n",
    "\n",
    "#Determine number of attributes needed for an explained variance of 90%\n",
    "pca_variance_cropped = [i for i in pca_variance_percentage if i <= 90]\n",
    "no_attributes = len(pca_variance_cropped)\n",
    "print(\"There are {} attributes that together explain 90% of the variance.\" .format(no_attributes))"
   ]
  },
  {
   "cell_type": "code",
   "execution_count": 10,
   "metadata": {},
   "outputs": [
    {
     "name": "stdout",
     "output_type": "stream",
     "text": [
      "(38, 33)\n"
     ]
    }
   ],
   "source": [
    "#Crop pca_data\n",
    "pca_data = np.delete(pca_data, slice(no_attributes, len(pca_data)) , 1)\n",
    "\n",
    "#Split data back to original train and test split\n",
    "pca_train = pca_data[:38]\n",
    "pca_test = pca_data[38:]\n",
    "\n",
    "print(pca_train.shape)"
   ]
  },
  {
   "cell_type": "code",
   "execution_count": 24,
   "metadata": {},
   "outputs": [],
   "source": [
    "\n",
    "def plot_classification_error(start, stop, step, accuracy_mean_train, accuracy_mean_test, function):\n",
    "    plt.plot(range(start,stop, step), (1-accuracy_mean_train), label='accuracy train set')\n",
    "    plt.plot(range(start,stop, step), (1-accuracy_mean_test), label='accuracy test set')\n",
    "    plt.legend()\n",
    "    plt.xlabel('Maximum {}'.format(function))\n",
    "    plt.ylabel('Classification error')\n",
    "    plt.title('Classification error of a decision tree as function of {}'.format(function))\n",
    "    plt.show()\n",
    "\n",
    "def k_fold(folds, start, stop, step, method):\n",
    "    kf = KFold(n_splits=folds)\n",
    "    accuracy_mean_train = np.array([])\n",
    "    accuracy_mean_test = np.array([])\n",
    "    for i in range(start, stop, step):\n",
    "        accuracy_train = np.array([])\n",
    "        accuracy_test = np.array([])\n",
    "        for train, test in kf.split(pca_data, patient_data):\n",
    "            \n",
    "            if(method == 'tree'):\n",
    "                split_clf = tree.DecisionTreeClassifier(criterion='gini', max_depth = i)\n",
    "                split_clf = split_clf.fit(pca_data[train], patient_data_np[train])\n",
    "                accuracy_train = np.append(\n",
    "                    accuracy_train, metrics.accuracy_score(patient_data_np[train], split_clf.predict(pca_data[train])))\n",
    "                accuracy_test = np.append(\n",
    "                    accuracy_test, metrics.accuracy_score(patient_data_np[test], split_clf.predict(pca_data[test]))) \n",
    "            \n",
    "            elif(method == 'rf'):\n",
    "                rf = RandomForestClassifier(n_estimators = 100, criterion='gini', max_depth = i)\n",
    "                rf = rf.fit(pca_data[train], patient_data_np[train])\n",
    "                accuracy_train = np.append(\n",
    "                    accuracy_train, metrics.accuracy_score(patient_data_np[train], rf.predict(pca_data[train])))\n",
    "                accuracy_test = np.append(\n",
    "                    accuracy_test, metrics.accuracy_score(patient_data_np[test], rf.predict(pca_data[test]))) \n",
    "                \n",
    "            elif(method == 'rf_estimators'):\n",
    "                    rf = RandomForestClassifier(n_estimators = i, criterion='gini', max_depth = 4)\n",
    "                    rf = rf.fit(pca_data[train], patient_data_np[train])\n",
    "                    accuracy_train = np.append(\n",
    "                        accuracy_train, metrics.accuracy_score(patient_data_np[train], rf.predict(pca_data[train])))\n",
    "                    accuracy_test = np.append(\n",
    "                        accuracy_test, metrics.accuracy_score(patient_data_np[test], rf.predict(pca_data[test]))) \n",
    "                \n",
    "        accuracy_mean_train = np.append(accuracy_mean_train, np.mean(accuracy_train))\n",
    "        accuracy_mean_test = np.append(accuracy_mean_test, np.mean(accuracy_test))\n",
    "    return accuracy_mean_train, accuracy_mean_test"
   ]
  },
  {
   "cell_type": "code",
   "execution_count": 25,
   "metadata": {},
   "outputs": [
    {
     "data": {
      "image/png": "[encoded data removed]",
      "text/plain": [
       "<Figure size 432x288 with 1 Axes>"
      ]
     },
     "metadata": {
      "needs_background": "light"
     },
     "output_type": "display_data"
    }
   ],
   "source": [
    "accuracy_mean_train_tree, accuracy_mean_test_tree = k_fold(10, 1, 21, 1, 'tree')\n",
    "plot_classification_error(1, 21, 1, accuracy_mean_train_tree, accuracy_mean_test_tree, 'tree depth')"
   ]
  },
  {
   "cell_type": "code",
   "execution_count": 13,
   "metadata": {},
   "outputs": [
    {
     "name": "stdout",
     "output_type": "stream",
     "text": [
      "The standard decision tree has an accuracy of 0.5588235294117647 and an error rate of 0.4411764705882353.\n"
     ]
    }
   ],
   "source": [
    "# Fit the actual tree\n",
    "# Fit the actual decision tree\n",
    "# firstly we wil lfit the tree with the gini criterion\n",
    "tree_clf = tree.DecisionTreeClassifier(criterion='gini', max_depth = 4)\n",
    "tree_clf = tree_clf.fit(pca_train, patient_train)\n",
    "accuracy = metrics.accuracy_score(patient_test, tree_clf.predict(pca_test))\n",
    "print(\"The standard decision tree has an accuracy of {} and an error rate of {}.\".format(accuracy, 1-accuracy))"
   ]
  },
  {
   "cell_type": "code",
   "execution_count": 14,
   "metadata": {},
   "outputs": [],
   "source": [
    "from graphviz import Source\n",
    "def plot_tree_graph(inp, start, stop):\n",
    "    dot_data = export_graphviz(inp, out_file=None, \n",
    "                               feature_names=range(1,34),  \n",
    "                               class_names=patient_labels,\n",
    "                               rounded=True,\n",
    "                               filled=True)\n",
    "    # Draw graph\n",
    "    graph = Source(dot_data, format=\"png\") \n",
    "    return graph"
   ]
  },
  {
   "cell_type": "code",
   "execution_count": 15,
   "metadata": {},
   "outputs": [
    {
     "data": {
      "image/svg+xml": [
       "<?xml version=\"1.0\" encoding=\"UTF-8\" standalone=\"no\"?>\r\n",
       "<!DOCTYPE svg PUBLIC \"-//W3C//DTD SVG 1.1//EN\"\r\n",
       " \"http://www.w3.org/Graphics/SVG/1.1/DTD/svg11.dtd\">\r\n",
       "<!-- Generated by graphviz version 2.38.0 (20140413.2041)\r\n",
       " -->\r\n",
       "<!-- Title: Tree Pages: 1 -->\r\n",
       "<svg width=\"304pt\" height=\"314pt\"\r\n",
       " viewBox=\"0.00 0.00 304.00 314.00\" xmlns=\"http://www.w3.org/2000/svg\" xmlns:xlink=\"http://www.w3.org/1999/xlink\">\r\n",
       "<g id=\"graph0\" class=\"graph\" transform=\"scale(1 1) rotate(0) translate(4 310)\">\r\n",
       "<title>Tree</title>\r\n",
       "<polygon fill=\"white\" stroke=\"none\" points=\"-4,4 -4,-310 300,-310 300,4 -4,4\"/>\r\n",
       "<!-- 0 -->\r\n",
       "<g id=\"node1\" class=\"node\"><title>0</title>\r\n",
       "<path fill=\"#f0b48a\" stroke=\"black\" d=\"M220,-306C220,-306 131,-306 131,-306 125,-306 119,-300 119,-294 119,-294 119,-235 119,-235 119,-229 125,-223 131,-223 131,-223 220,-223 220,-223 226,-223 232,-229 232,-235 232,-235 232,-294 232,-294 232,-300 226,-306 220,-306\"/>\r\n",
       "<text text-anchor=\"middle\" x=\"175.5\" y=\"-290.8\" font-family=\"Helvetica,sans-Serif\" font-size=\"14.00\">2 &lt;= 2217.881</text>\r\n",
       "<text text-anchor=\"middle\" x=\"175.5\" y=\"-275.8\" font-family=\"Helvetica,sans-Serif\" font-size=\"14.00\">gini = 0.411</text>\r\n",
       "<text text-anchor=\"middle\" x=\"175.5\" y=\"-260.8\" font-family=\"Helvetica,sans-Serif\" font-size=\"14.00\">samples = 38</text>\r\n",
       "<text text-anchor=\"middle\" x=\"175.5\" y=\"-245.8\" font-family=\"Helvetica,sans-Serif\" font-size=\"14.00\">value = [27, 11]</text>\r\n",
       "<text text-anchor=\"middle\" x=\"175.5\" y=\"-230.8\" font-family=\"Helvetica,sans-Serif\" font-size=\"14.00\">class = ALL</text>\r\n",
       "</g>\r\n",
       "<!-- 1 -->\r\n",
       "<g id=\"node2\" class=\"node\"><title>1</title>\r\n",
       "<path fill=\"#e68640\" stroke=\"black\" d=\"M161,-187C161,-187 54,-187 54,-187 48,-187 42,-181 42,-175 42,-175 42,-116 42,-116 42,-110 48,-104 54,-104 54,-104 161,-104 161,-104 167,-104 173,-110 173,-116 173,-116 173,-175 173,-175 173,-181 167,-187 161,-187\"/>\r\n",
       "<text text-anchor=\"middle\" x=\"107.5\" y=\"-171.8\" font-family=\"Helvetica,sans-Serif\" font-size=\"14.00\">29 &lt;= &#45;10281.188</text>\r\n",
       "<text text-anchor=\"middle\" x=\"107.5\" y=\"-156.8\" font-family=\"Helvetica,sans-Serif\" font-size=\"14.00\">gini = 0.069</text>\r\n",
       "<text text-anchor=\"middle\" x=\"107.5\" y=\"-141.8\" font-family=\"Helvetica,sans-Serif\" font-size=\"14.00\">samples = 28</text>\r\n",
       "<text text-anchor=\"middle\" x=\"107.5\" y=\"-126.8\" font-family=\"Helvetica,sans-Serif\" font-size=\"14.00\">value = [27, 1]</text>\r\n",
       "<text text-anchor=\"middle\" x=\"107.5\" y=\"-111.8\" font-family=\"Helvetica,sans-Serif\" font-size=\"14.00\">class = ALL</text>\r\n",
       "</g>\r\n",
       "<!-- 0&#45;&gt;1 -->\r\n",
       "<g id=\"edge1\" class=\"edge\"><title>0&#45;&gt;1</title>\r\n",
       "<path fill=\"none\" stroke=\"black\" d=\"M151.908,-222.907C146.844,-214.195 141.44,-204.897 136.207,-195.893\"/>\r\n",
       "<polygon fill=\"black\" stroke=\"black\" points=\"139.102,-193.908 131.051,-187.021 133.049,-197.425 139.102,-193.908\"/>\r\n",
       "<text text-anchor=\"middle\" x=\"124.65\" y=\"-207.487\" font-family=\"Helvetica,sans-Serif\" font-size=\"14.00\">True</text>\r\n",
       "</g>\r\n",
       "<!-- 4 -->\r\n",
       "<g id=\"node5\" class=\"node\"><title>4</title>\r\n",
       "<path fill=\"#399de5\" stroke=\"black\" d=\"M284,-179.5C284,-179.5 203,-179.5 203,-179.5 197,-179.5 191,-173.5 191,-167.5 191,-167.5 191,-123.5 191,-123.5 191,-117.5 197,-111.5 203,-111.5 203,-111.5 284,-111.5 284,-111.5 290,-111.5 296,-117.5 296,-123.5 296,-123.5 296,-167.5 296,-167.5 296,-173.5 290,-179.5 284,-179.5\"/>\r\n",
       "<text text-anchor=\"middle\" x=\"243.5\" y=\"-164.3\" font-family=\"Helvetica,sans-Serif\" font-size=\"14.00\">gini = 0.0</text>\r\n",
       "<text text-anchor=\"middle\" x=\"243.5\" y=\"-149.3\" font-family=\"Helvetica,sans-Serif\" font-size=\"14.00\">samples = 10</text>\r\n",
       "<text text-anchor=\"middle\" x=\"243.5\" y=\"-134.3\" font-family=\"Helvetica,sans-Serif\" font-size=\"14.00\">value = [0, 10]</text>\r\n",
       "<text text-anchor=\"middle\" x=\"243.5\" y=\"-119.3\" font-family=\"Helvetica,sans-Serif\" font-size=\"14.00\">class = AML</text>\r\n",
       "</g>\r\n",
       "<!-- 0&#45;&gt;4 -->\r\n",
       "<g id=\"edge4\" class=\"edge\"><title>0&#45;&gt;4</title>\r\n",
       "<path fill=\"none\" stroke=\"black\" d=\"M199.092,-222.907C205.57,-211.763 212.605,-199.658 219.125,-188.439\"/>\r\n",
       "<polygon fill=\"black\" stroke=\"black\" points=\"222.225,-190.072 224.223,-179.667 216.172,-186.554 222.225,-190.072\"/>\r\n",
       "<text text-anchor=\"middle\" x=\"230.624\" y=\"-200.134\" font-family=\"Helvetica,sans-Serif\" font-size=\"14.00\">False</text>\r\n",
       "</g>\r\n",
       "<!-- 2 -->\r\n",
       "<g id=\"node3\" class=\"node\"><title>2</title>\r\n",
       "<path fill=\"#399de5\" stroke=\"black\" d=\"M85,-68C85,-68 12,-68 12,-68 6,-68 0,-62 0,-56 0,-56 0,-12 0,-12 0,-6 6,-0 12,-0 12,-0 85,-0 85,-0 91,-0 97,-6 97,-12 97,-12 97,-56 97,-56 97,-62 91,-68 85,-68\"/>\r\n",
       "<text text-anchor=\"middle\" x=\"48.5\" y=\"-52.8\" font-family=\"Helvetica,sans-Serif\" font-size=\"14.00\">gini = 0.0</text>\r\n",
       "<text text-anchor=\"middle\" x=\"48.5\" y=\"-37.8\" font-family=\"Helvetica,sans-Serif\" font-size=\"14.00\">samples = 1</text>\r\n",
       "<text text-anchor=\"middle\" x=\"48.5\" y=\"-22.8\" font-family=\"Helvetica,sans-Serif\" font-size=\"14.00\">value = [0, 1]</text>\r\n",
       "<text text-anchor=\"middle\" x=\"48.5\" y=\"-7.8\" font-family=\"Helvetica,sans-Serif\" font-size=\"14.00\">class = AML</text>\r\n",
       "</g>\r\n",
       "<!-- 1&#45;&gt;2 -->\r\n",
       "<g id=\"edge2\" class=\"edge\"><title>1&#45;&gt;2</title>\r\n",
       "<path fill=\"none\" stroke=\"black\" d=\"M85.5306,-103.726C80.8619,-95.0615 75.9235,-85.8962 71.2272,-77.1802\"/>\r\n",
       "<polygon fill=\"black\" stroke=\"black\" points=\"74.2669,-75.4428 66.4422,-68.2996 68.1045,-78.7632 74.2669,-75.4428\"/>\r\n",
       "</g>\r\n",
       "<!-- 3 -->\r\n",
       "<g id=\"node4\" class=\"node\"><title>3</title>\r\n",
       "<path fill=\"#e58139\" stroke=\"black\" d=\"M208,-68C208,-68 127,-68 127,-68 121,-68 115,-62 115,-56 115,-56 115,-12 115,-12 115,-6 121,-0 127,-0 127,-0 208,-0 208,-0 214,-0 220,-6 220,-12 220,-12 220,-56 220,-56 220,-62 214,-68 208,-68\"/>\r\n",
       "<text text-anchor=\"middle\" x=\"167.5\" y=\"-52.8\" font-family=\"Helvetica,sans-Serif\" font-size=\"14.00\">gini = 0.0</text>\r\n",
       "<text text-anchor=\"middle\" x=\"167.5\" y=\"-37.8\" font-family=\"Helvetica,sans-Serif\" font-size=\"14.00\">samples = 27</text>\r\n",
       "<text text-anchor=\"middle\" x=\"167.5\" y=\"-22.8\" font-family=\"Helvetica,sans-Serif\" font-size=\"14.00\">value = [27, 0]</text>\r\n",
       "<text text-anchor=\"middle\" x=\"167.5\" y=\"-7.8\" font-family=\"Helvetica,sans-Serif\" font-size=\"14.00\">class = ALL</text>\r\n",
       "</g>\r\n",
       "<!-- 1&#45;&gt;3 -->\r\n",
       "<g id=\"edge3\" class=\"edge\"><title>1&#45;&gt;3</title>\r\n",
       "<path fill=\"none\" stroke=\"black\" d=\"M129.842,-103.726C134.59,-95.0615 139.612,-85.8962 144.388,-77.1802\"/>\r\n",
       "<polygon fill=\"black\" stroke=\"black\" points=\"147.518,-78.7513 149.254,-68.2996 141.379,-75.3875 147.518,-78.7513\"/>\r\n",
       "</g>\r\n",
       "</g>\r\n",
       "</svg>\r\n"
      ],
      "text/plain": [
       "<graphviz.files.Source at 0x1a5d3f13c40>"
      ]
     },
     "execution_count": 15,
     "metadata": {},
     "output_type": "execute_result"
    }
   ],
   "source": [
    "# Now we will show the decision tree with gini criterion \n",
    "graph = plot_tree_graph(tree_clf, 1, 34)\n",
    "graph"
   ]
  },
  {
   "cell_type": "code",
   "execution_count": 16,
   "metadata": {},
   "outputs": [
    {
     "name": "stdout",
     "output_type": "stream",
     "text": [
      "The standard decision tree with gini has an accuracy of 0.5588235294117647 and an error rate of 0.4411764705882353.\n"
     ]
    }
   ],
   "source": [
    "accuracy = metrics.accuracy_score(patient_test, tree_clf.predict(pca_test))\n",
    "print(\"The standard decision tree with gini has an accuracy of {} and an error rate of {}.\".format(accuracy, 1-accuracy))"
   ]
  },
  {
   "cell_type": "code",
   "execution_count": 17,
   "metadata": {},
   "outputs": [
    {
     "data": {
      "image/png": "[encoded data removed]",
      "text/plain": [
       "<Figure size 432x288 with 1 Axes>"
      ]
     },
     "metadata": {
      "needs_background": "light"
     },
     "output_type": "display_data"
    }
   ],
   "source": [
    "# Classification Random Forrest\n",
    "patient_train_np = patient_train_np.ravel()\n",
    "\n",
    "rf = RandomForestClassifier(n_estimators = 10, criterion='gini', max_depth = 10)\n",
    "rf.fit(pca_train, patient_train_np)\n",
    "\n",
    "accuracy = metrics.accuracy_score(patient_test, rf.predict(pca_test))\n",
    "error = 1-accuracy\n",
    "\n",
    "accuracy_mean_train = np.array([])\n",
    "accuracy_mean_test = np.array([])\n",
    "\n",
    "patient_data_np = patient_data_np.ravel()\n",
    "\n",
    "# Plot accuracy test and train\n",
    "accuracy_mean_train_rf, accuracy_mean_test_rf = k_fold(10, 1, 41, 1, 'rf')\n",
    "plot_classification_error(1, 41, 1, accuracy_mean_train_rf, accuracy_mean_test_rf, 'tree depth')"
   ]
  },
  {
   "cell_type": "code",
   "execution_count": 26,
   "metadata": {},
   "outputs": [
    {
     "data": {
      "image/png": "[encoded data removed]",
      "text/plain": [
       "<Figure size 432x288 with 1 Axes>"
      ]
     },
     "metadata": {
      "needs_background": "light"
     },
     "output_type": "display_data"
    }
   ],
   "source": [
    "#Plot accuracy test and train for number of estimators\n",
    "accuracy_mean_train_estimator, accuracy_mean_test_estimator = k_fold(10, 1, 501, 50, 'rf_estimators')\n",
    "plot_classification_error(1, 501, 50, accuracy_mean_train_estimator, accuracy_mean_test_estimator, 'number of estimators')"
   ]
  },
  {
   "cell_type": "code",
   "execution_count": 18,
   "metadata": {},
   "outputs": [
    {
     "data": {
      "image/svg+xml": [
       "<?xml version=\"1.0\" encoding=\"UTF-8\" standalone=\"no\"?>\r\n",
       "<!DOCTYPE svg PUBLIC \"-//W3C//DTD SVG 1.1//EN\"\r\n",
       " \"http://www.w3.org/Graphics/SVG/1.1/DTD/svg11.dtd\">\r\n",
       "<!-- Generated by graphviz version 2.38.0 (20140413.2041)\r\n",
       " -->\r\n",
       "<!-- Title: Tree Pages: 1 -->\r\n",
       "<svg width=\"300pt\" height=\"314pt\"\r\n",
       " viewBox=\"0.00 0.00 300.00 314.00\" xmlns=\"http://www.w3.org/2000/svg\" xmlns:xlink=\"http://www.w3.org/1999/xlink\">\r\n",
       "<g id=\"graph0\" class=\"graph\" transform=\"scale(1 1) rotate(0) translate(4 310)\">\r\n",
       "<title>Tree</title>\r\n",
       "<polygon fill=\"white\" stroke=\"none\" points=\"-4,4 -4,-310 296,-310 296,4 -4,4\"/>\r\n",
       "<!-- 0 -->\r\n",
       "<g id=\"node1\" class=\"node\"><title>0</title>\r\n",
       "<path fill=\"#f0b48a\" stroke=\"black\" d=\"M160,-306C160,-306 69,-306 69,-306 63,-306 57,-300 57,-294 57,-294 57,-235 57,-235 57,-229 63,-223 69,-223 69,-223 160,-223 160,-223 166,-223 172,-229 172,-235 172,-235 172,-294 172,-294 172,-300 166,-306 160,-306\"/>\r\n",
       "<text text-anchor=\"middle\" x=\"114.5\" y=\"-290.8\" font-family=\"Helvetica,sans-Serif\" font-size=\"14.00\">5 &lt;= &#45;14524.15</text>\r\n",
       "<text text-anchor=\"middle\" x=\"114.5\" y=\"-275.8\" font-family=\"Helvetica,sans-Serif\" font-size=\"14.00\">gini = 0.411</text>\r\n",
       "<text text-anchor=\"middle\" x=\"114.5\" y=\"-260.8\" font-family=\"Helvetica,sans-Serif\" font-size=\"14.00\">samples = 25</text>\r\n",
       "<text text-anchor=\"middle\" x=\"114.5\" y=\"-245.8\" font-family=\"Helvetica,sans-Serif\" font-size=\"14.00\">value = [27, 11]</text>\r\n",
       "<text text-anchor=\"middle\" x=\"114.5\" y=\"-230.8\" font-family=\"Helvetica,sans-Serif\" font-size=\"14.00\">class = ALL</text>\r\n",
       "</g>\r\n",
       "<!-- 1 -->\r\n",
       "<g id=\"node2\" class=\"node\"><title>1</title>\r\n",
       "<path fill=\"#399de5\" stroke=\"black\" d=\"M85,-179.5C85,-179.5 12,-179.5 12,-179.5 6,-179.5 0,-173.5 0,-167.5 0,-167.5 0,-123.5 0,-123.5 0,-117.5 6,-111.5 12,-111.5 12,-111.5 85,-111.5 85,-111.5 91,-111.5 97,-117.5 97,-123.5 97,-123.5 97,-167.5 97,-167.5 97,-173.5 91,-179.5 85,-179.5\"/>\r\n",
       "<text text-anchor=\"middle\" x=\"48.5\" y=\"-164.3\" font-family=\"Helvetica,sans-Serif\" font-size=\"14.00\">gini = 0.0</text>\r\n",
       "<text text-anchor=\"middle\" x=\"48.5\" y=\"-149.3\" font-family=\"Helvetica,sans-Serif\" font-size=\"14.00\">samples = 5</text>\r\n",
       "<text text-anchor=\"middle\" x=\"48.5\" y=\"-134.3\" font-family=\"Helvetica,sans-Serif\" font-size=\"14.00\">value = [0, 8]</text>\r\n",
       "<text text-anchor=\"middle\" x=\"48.5\" y=\"-119.3\" font-family=\"Helvetica,sans-Serif\" font-size=\"14.00\">class = AML</text>\r\n",
       "</g>\r\n",
       "<!-- 0&#45;&gt;1 -->\r\n",
       "<g id=\"edge1\" class=\"edge\"><title>0&#45;&gt;1</title>\r\n",
       "<path fill=\"none\" stroke=\"black\" d=\"M91.6016,-222.907C85.3148,-211.763 78.4866,-199.658 72.158,-188.439\"/>\r\n",
       "<polygon fill=\"black\" stroke=\"black\" points=\"75.1712,-186.657 67.2096,-179.667 69.0744,-190.096 75.1712,-186.657\"/>\r\n",
       "<text text-anchor=\"middle\" x=\"60.4981\" y=\"-200.049\" font-family=\"Helvetica,sans-Serif\" font-size=\"14.00\">True</text>\r\n",
       "</g>\r\n",
       "<!-- 2 -->\r\n",
       "<g id=\"node3\" class=\"node\"><title>2</title>\r\n",
       "<path fill=\"#e88f4f\" stroke=\"black\" d=\"M234,-187C234,-187 127,-187 127,-187 121,-187 115,-181 115,-175 115,-175 115,-116 115,-116 115,-110 121,-104 127,-104 127,-104 234,-104 234,-104 240,-104 246,-110 246,-116 246,-116 246,-175 246,-175 246,-181 240,-187 234,-187\"/>\r\n",
       "<text text-anchor=\"middle\" x=\"180.5\" y=\"-171.8\" font-family=\"Helvetica,sans-Serif\" font-size=\"14.00\">17 &lt;= &#45;15357.069</text>\r\n",
       "<text text-anchor=\"middle\" x=\"180.5\" y=\"-156.8\" font-family=\"Helvetica,sans-Serif\" font-size=\"14.00\">gini = 0.18</text>\r\n",
       "<text text-anchor=\"middle\" x=\"180.5\" y=\"-141.8\" font-family=\"Helvetica,sans-Serif\" font-size=\"14.00\">samples = 20</text>\r\n",
       "<text text-anchor=\"middle\" x=\"180.5\" y=\"-126.8\" font-family=\"Helvetica,sans-Serif\" font-size=\"14.00\">value = [27, 3]</text>\r\n",
       "<text text-anchor=\"middle\" x=\"180.5\" y=\"-111.8\" font-family=\"Helvetica,sans-Serif\" font-size=\"14.00\">class = ALL</text>\r\n",
       "</g>\r\n",
       "<!-- 0&#45;&gt;2 -->\r\n",
       "<g id=\"edge2\" class=\"edge\"><title>0&#45;&gt;2</title>\r\n",
       "<path fill=\"none\" stroke=\"black\" d=\"M137.398,-222.907C142.313,-214.195 147.558,-204.897 152.637,-195.893\"/>\r\n",
       "<polygon fill=\"black\" stroke=\"black\" points=\"155.777,-197.45 157.642,-187.021 149.68,-194.011 155.777,-197.45\"/>\r\n",
       "<text text-anchor=\"middle\" x=\"164.354\" y=\"-207.403\" font-family=\"Helvetica,sans-Serif\" font-size=\"14.00\">False</text>\r\n",
       "</g>\r\n",
       "<!-- 3 -->\r\n",
       "<g id=\"node4\" class=\"node\"><title>3</title>\r\n",
       "<path fill=\"#399de5\" stroke=\"black\" d=\"M157,-68C157,-68 84,-68 84,-68 78,-68 72,-62 72,-56 72,-56 72,-12 72,-12 72,-6 78,-0 84,-0 84,-0 157,-0 157,-0 163,-0 169,-6 169,-12 169,-12 169,-56 169,-56 169,-62 163,-68 157,-68\"/>\r\n",
       "<text text-anchor=\"middle\" x=\"120.5\" y=\"-52.8\" font-family=\"Helvetica,sans-Serif\" font-size=\"14.00\">gini = 0.0</text>\r\n",
       "<text text-anchor=\"middle\" x=\"120.5\" y=\"-37.8\" font-family=\"Helvetica,sans-Serif\" font-size=\"14.00\">samples = 2</text>\r\n",
       "<text text-anchor=\"middle\" x=\"120.5\" y=\"-22.8\" font-family=\"Helvetica,sans-Serif\" font-size=\"14.00\">value = [0, 3]</text>\r\n",
       "<text text-anchor=\"middle\" x=\"120.5\" y=\"-7.8\" font-family=\"Helvetica,sans-Serif\" font-size=\"14.00\">class = AML</text>\r\n",
       "</g>\r\n",
       "<!-- 2&#45;&gt;3 -->\r\n",
       "<g id=\"edge3\" class=\"edge\"><title>2&#45;&gt;3</title>\r\n",
       "<path fill=\"none\" stroke=\"black\" d=\"M158.158,-103.726C153.41,-95.0615 148.388,-85.8962 143.612,-77.1802\"/>\r\n",
       "<polygon fill=\"black\" stroke=\"black\" points=\"146.621,-75.3875 138.746,-68.2996 140.482,-78.7513 146.621,-75.3875\"/>\r\n",
       "</g>\r\n",
       "<!-- 4 -->\r\n",
       "<g id=\"node5\" class=\"node\"><title>4</title>\r\n",
       "<path fill=\"#e58139\" stroke=\"black\" d=\"M280,-68C280,-68 199,-68 199,-68 193,-68 187,-62 187,-56 187,-56 187,-12 187,-12 187,-6 193,-0 199,-0 199,-0 280,-0 280,-0 286,-0 292,-6 292,-12 292,-12 292,-56 292,-56 292,-62 286,-68 280,-68\"/>\r\n",
       "<text text-anchor=\"middle\" x=\"239.5\" y=\"-52.8\" font-family=\"Helvetica,sans-Serif\" font-size=\"14.00\">gini = 0.0</text>\r\n",
       "<text text-anchor=\"middle\" x=\"239.5\" y=\"-37.8\" font-family=\"Helvetica,sans-Serif\" font-size=\"14.00\">samples = 18</text>\r\n",
       "<text text-anchor=\"middle\" x=\"239.5\" y=\"-22.8\" font-family=\"Helvetica,sans-Serif\" font-size=\"14.00\">value = [27, 0]</text>\r\n",
       "<text text-anchor=\"middle\" x=\"239.5\" y=\"-7.8\" font-family=\"Helvetica,sans-Serif\" font-size=\"14.00\">class = ALL</text>\r\n",
       "</g>\r\n",
       "<!-- 2&#45;&gt;4 -->\r\n",
       "<g id=\"edge4\" class=\"edge\"><title>2&#45;&gt;4</title>\r\n",
       "<path fill=\"none\" stroke=\"black\" d=\"M202.469,-103.726C207.138,-95.0615 212.076,-85.8962 216.773,-77.1802\"/>\r\n",
       "<polygon fill=\"black\" stroke=\"black\" points=\"219.896,-78.7632 221.558,-68.2996 213.733,-75.4428 219.896,-78.7632\"/>\r\n",
       "</g>\r\n",
       "</g>\r\n",
       "</svg>\r\n"
      ],
      "text/plain": [
       "<graphviz.files.Source at 0x1a5d46898e0>"
      ]
     },
     "execution_count": 18,
     "metadata": {},
     "output_type": "execute_result"
    }
   ],
   "source": [
    "#visualisation random forest classifier\n",
    "rf = RandomForestClassifier(n_estimators = 1000, criterion='gini', max_depth = 4)\n",
    "rf = rf.fit(pca_train, patient_train_np)\n",
    "\n",
    "estimator = rf.estimators_[100]\n",
    "\n",
    "graph_rf = plot_tree_graph(estimator,1, 34)\n",
    "\n",
    "graph_rf\n"
   ]
  },
  {
   "cell_type": "code",
   "execution_count": 19,
   "metadata": {},
   "outputs": [
    {
     "name": "stdout",
     "output_type": "stream",
     "text": [
      "The Random forrest has an accuracy of 0.6764705882352942 and an error rate of 0.32352941176470584.\n"
     ]
    }
   ],
   "source": [
    "# Use the forest's predict method on the test data\n",
    "accuracy = metrics.accuracy_score(patient_test, rf.predict(pca_test))\n",
    "print(\"The Random forrest has an accuracy of {} and an error rate of {}.\".format(accuracy, 1-accuracy))"
   ]
  },
  {
   "cell_type": "code",
   "execution_count": 20,
   "metadata": {},
   "outputs": [],
   "source": [
    "# Classification Gradient Boost"
   ]
  }
 ],
 "metadata": {
  "kernelspec": {
   "display_name": "Python 3",
   "language": "python",
   "name": "python3"
  },
  "language_info": {
   "codemirror_mode": {
    "name": "ipython",
    "version": 3
   },
   "file_extension": ".py",
   "mimetype": "text/x-python",
   "name": "python",
   "nbconvert_exporter": "python",
   "pygments_lexer": "ipython3",
   "version": "3.8.3"
  }
 },
 "nbformat": 4,
 "nbformat_minor": 4
}
