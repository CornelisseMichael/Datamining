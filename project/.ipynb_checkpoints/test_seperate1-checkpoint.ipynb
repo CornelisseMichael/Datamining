{
 "cells": [
  {
   "cell_type": "code",
   "execution_count": 139,
   "metadata": {},
   "outputs": [],
   "source": [
    "import numpy as np # linear algebra\n",
    "import pandas as pd # data processing, CSV file I/O (e.g. pd.read_csv)"
   ]
  },
  {
   "cell_type": "code",
   "execution_count": 140,
   "metadata": {},
   "outputs": [],
   "source": [
    "import numpy as np \n",
    "import pandas as pd  \n",
    "import matplotlib.pyplot as plt  \n",
    "from sklearn.preprocessing import StandardScaler \n",
    "from sklearn.decomposition  import PCA \n",
    "from sklearn.linear_model import LogisticRegression \n",
    "from sklearn.ensemble import RandomForestClassifier \n",
    "from sklearn.metrics import confusion_matrix  \n",
    "from sklearn.metrics import accuracy_score \n",
    "from sklearn.svm import SVC\n",
    "from sklearn.model_selection import GridSearchCV\n",
    "import matplotlib.colors as mcolors\n",
    "from sklearn import tree\n",
    "from sklearn.tree import DecisionTreeClassifier"
   ]
  },
  {
   "cell_type": "code",
   "execution_count": 141,
   "metadata": {},
   "outputs": [
    {
     "data": {
      "text/html": [
       "<div>\n",
       "<style scoped>\n",
       "    .dataframe tbody tr th:only-of-type {\n",
       "        vertical-align: middle;\n",
       "    }\n",
       "\n",
       "    .dataframe tbody tr th {\n",
       "        vertical-align: top;\n",
       "    }\n",
       "\n",
       "    .dataframe thead th {\n",
       "        text-align: right;\n",
       "    }\n",
       "</style>\n",
       "<table border=\"1\" class=\"dataframe\">\n",
       "  <thead>\n",
       "    <tr style=\"text-align: right;\">\n",
       "      <th></th>\n",
       "      <th>patient</th>\n",
       "      <th>cancer</th>\n",
       "    </tr>\n",
       "  </thead>\n",
       "  <tbody>\n",
       "    <tr>\n",
       "      <th>0</th>\n",
       "      <td>1</td>\n",
       "      <td>ALL</td>\n",
       "    </tr>\n",
       "    <tr>\n",
       "      <th>1</th>\n",
       "      <td>2</td>\n",
       "      <td>ALL</td>\n",
       "    </tr>\n",
       "    <tr>\n",
       "      <th>2</th>\n",
       "      <td>3</td>\n",
       "      <td>ALL</td>\n",
       "    </tr>\n",
       "    <tr>\n",
       "      <th>3</th>\n",
       "      <td>4</td>\n",
       "      <td>ALL</td>\n",
       "    </tr>\n",
       "    <tr>\n",
       "      <th>4</th>\n",
       "      <td>5</td>\n",
       "      <td>ALL</td>\n",
       "    </tr>\n",
       "  </tbody>\n",
       "</table>\n",
       "</div>"
      ],
      "text/plain": [
       "   patient cancer\n",
       "0        1    ALL\n",
       "1        2    ALL\n",
       "2        3    ALL\n",
       "3        4    ALL\n",
       "4        5    ALL"
      ]
     },
     "execution_count": 141,
     "metadata": {},
     "output_type": "execute_result"
    }
   ],
   "source": [
    "y = pd.read_csv('data/archive/actual.csv')\n",
    "train = pd.read_csv('data/archive/data_set_ALL_AML_train.csv')\n",
    "test = pd.read_csv('data/archive/data_set_ALL_AML_independent.csv')\n",
    "y.head()"
   ]
  },
  {
   "cell_type": "code",
   "execution_count": 142,
   "metadata": {},
   "outputs": [
    {
     "name": "stdout",
     "output_type": "stream",
     "text": [
      "[[ 1.85447987e+01  5.82694304e+00 -1.94423127e+01 ... -3.14979582e+00\n",
      "  -5.19942835e-01  1.45162143e-14]\n",
      " [-7.34138894e+00  1.00086631e+01  1.17956977e+01 ...  3.91741309e+00\n",
      "  -2.34562750e-01  1.45162143e-14]\n",
      " [ 5.28521459e+01  1.13906298e+01 -2.95485659e+01 ... -3.08792878e+00\n",
      "   3.61420168e+00  1.45162143e-14]\n",
      " ...\n",
      " [ 2.56288778e+01 -1.41492878e+01  4.91587591e+01 ... -1.60980973e+00\n",
      "   2.26349398e+00  1.45162143e-14]\n",
      " [ 1.74548408e+01 -2.48101706e+01  4.42623079e+01 ...  2.42801525e+00\n",
      "  -1.38771508e+00  1.45162143e-14]\n",
      " [ 1.64671757e+01 -1.57897140e+01  2.75284937e+01 ... -7.43621068e-01\n",
      "   5.34006092e+00  1.45162143e-14]]\n"
     ]
    }
   ],
   "source": [
    "train1 = [col for col in train.columns if \"call\" not in col] \n",
    "train  = train[train1] \n",
    "test1 = [col for col in test.columns if \"call\" not in col] \n",
    "test  = test[test1] \n",
    " \n",
    "train = train.T \n",
    "test = test.T \n",
    " \n",
    "test2  = test.drop(['Gene Description','Gene Accession Number'],axis=0) \n",
    "train2 = train.drop(['Gene Description','Gene Accession Number'],axis=0) \n",
    " \n",
    "train2.index = pd.to_numeric(train2.index) \n",
    "test2.index = pd.to_numeric(test2.index) \n",
    "train2.sort_index(inplace=True) \n",
    "test2.sort_index(inplace=True) \n",
    " \n",
    "y['cancer'].value_counts() \n",
    "y = y.replace({'ALL':0,'AML':1}) \n",
    "X_train = train2.reset_index(drop=True) \n",
    "Y_train = y[y.patient <= 38].reset_index(drop=True) \n",
    "X_test = test2.reset_index(drop=True) \n",
    "Y_test = y[y.patient > 38].reset_index(drop=True) \n",
    "Y_test = Y_test.iloc[:,1].values\n",
    "Y_train = Y_train.iloc[:,1].values \n",
    "sc= StandardScaler() \n",
    "X_test = sc.fit_transform(X_test) \n",
    "X_train = sc.fit_transform(X_train) \n",
    " \n",
    "pca = PCA(n_components = None) \n",
    "X_train_pca = pca.fit_transform(X_train) \n",
    "pca_test = X_train_pca\n",
    "#print(pca.explained_variance_)  \n",
    "#print(pca.explained_variance_ratio_) \n",
    "print(pca_test)"
   ]
  },
  {
   "cell_type": "code",
   "execution_count": 143,
   "metadata": {},
   "outputs": [
    {
     "data": {
      "text/plain": [
       "array([0, 0, 0, 0, 0, 0, 0, 0, 0, 0, 0, 0, 0, 0, 0, 0, 0, 0, 0, 0, 0, 0,\n",
       "       0, 0, 0, 0, 0, 1, 1, 1, 1, 1, 1, 1, 1, 1, 1, 1], dtype=int64)"
      ]
     },
     "execution_count": 143,
     "metadata": {},
     "output_type": "execute_result"
    }
   ],
   "source": [
    "Y_train"
   ]
  },
  {
   "cell_type": "code",
   "execution_count": 144,
   "metadata": {},
   "outputs": [
    {
     "name": "stdout",
     "output_type": "stream",
     "text": [
      "[14.99 26.97 33.57 38.45 43.08 46.8  50.29 53.58 56.57 59.22 61.73 64.09\n",
      " 66.3  68.39 70.33 72.22 74.07 75.78 77.49 79.13 80.67 82.2  83.66 85.09\n",
      " 86.51 87.89 89.24 90.55]\n"
     ]
    },
    {
     "data": {
      "text/plain": [
       "[<matplotlib.lines.Line2D at 0x1a88b2bc850>]"
      ]
     },
     "execution_count": 144,
     "metadata": {},
     "output_type": "execute_result"
    },
    {
     "data": {
      "image/png": "[encoded data removed]",
      "text/plain": [
       "<Figure size 432x288 with 1 Axes>"
      ]
     },
     "metadata": {
      "needs_background": "light"
     },
     "output_type": "display_data"
    }
   ],
   "source": [
    "total = sum(pca.explained_variance_) \n",
    "k = 0 \n",
    "current_variance = 0 \n",
    "while current_variance/total < 0.90: \n",
    "      current_variance += pca.explained_variance_[k] \n",
    "      k = k + 1 \n",
    " \n",
    "pca = PCA(n_components = k ) \n",
    "X_train_pca = pca.fit_transform(X_train) \n",
    "X_test_pca  = pca.transform(X_test)   \n",
    " \n",
    "var_exp = pca.explained_variance_ratio_.cumsum() \n",
    "var_exp = var_exp*100 \n",
    "plt.bar(range(k), var_exp) \n",
    " \n",
    "var1 = np.cumsum(np.round(pca.explained_variance_ratio_, decimals=4) * 100) \n",
    "print(var1) \n",
    "plt.plot(var1)"
   ]
  },
  {
   "cell_type": "code",
   "execution_count": 145,
   "metadata": {},
   "outputs": [
    {
     "data": {
      "image/png": "[encoded data removed]",
      "text/plain": [
       "<Figure size 432x288 with 1 Axes>"
      ]
     },
     "metadata": {
      "needs_background": "light"
     },
     "output_type": "display_data"
    }
   ],
   "source": [
    "plt.figure() \n",
    "plt.plot(np.cumsum(pca.explained_variance_ratio_)) \n",
    "plt.xlabel('Components') \n",
    "plt.ylabel('Variance Percent')  \n",
    "plt.show() "
   ]
  },
  {
   "cell_type": "code",
   "execution_count": 146,
   "metadata": {},
   "outputs": [
    {
     "name": "stdout",
     "output_type": "stream",
     "text": [
      "[[20  0]\n",
      " [11  3]]\n",
      "0.6764705882352942\n",
      "The standard decision tree has an accuracy of 0.6764705882352942 and an error rate of 0.32352941176470584.\n"
     ]
    }
   ],
   "source": [
    "tree = DecisionTreeClassifier(max_depth=3, max_leaf_nodes=3, random_state=42)  \n",
    "tree.fit(X_train_pca, Y_train) \n",
    "pred = tree.predict(X_test_pca)   \n",
    " \n",
    "tr_cm = confusion_matrix(Y_test, pred)   \n",
    "print(tr_cm)  \n",
    "tr_ac=accuracy_score(Y_test, pred) \n",
    "print(tr_ac)\n",
    "\n",
    "accuracy = accuracy_score(Y_test, pred)\n",
    "print(\"The standard decision tree has an accuracy of {} and an error rate of {}.\".format(accuracy, 1-accuracy))"
   ]
  },
  {
   "cell_type": "code",
   "execution_count": 147,
   "metadata": {},
   "outputs": [
    {
     "name": "stdout",
     "output_type": "stream",
     "text": [
      "[[20  0]\n",
      " [11  3]]\n",
      "0.6764705882352942\n",
      "The standard decision tree has an accuracy of 0.6764705882352942 and an error rate of 0.32352941176470584.\n"
     ]
    }
   ],
   "source": [
    "ds_model = DecisionTreeClassifier(max_depth=3, max_leaf_nodes=3, random_state=42)\n",
    "\n",
    "ds_model.fit(X_train_pca, Y_train)\n",
    "             \n",
    "prediction=ds_model.predict(X_test_pca)\n",
    "\n",
    "acc_decision_tree = accuracy_score(prediction,Y_test)\n",
    "\n",
    "rf_cm = confusion_matrix(Y_test, prediction)   \n",
    "print(rf_cm)  \n",
    "rf_ac=accuracy_score(Y_test, prediction) \n",
    "print(rf_ac)\n",
    "\n",
    "\n",
    "accuracy = accuracy_score(Y_test, prediction)\n",
    "print(\"The standard decision tree has an accuracy of {} and an error rate of {}.\".format(accuracy, 1-accuracy))"
   ]
  },
  {
   "cell_type": "code",
   "execution_count": 148,
   "metadata": {},
   "outputs": [
    {
     "name": "stdout",
     "output_type": "stream",
     "text": [
      "0.7368421052631579\n",
      "[[20  0]\n",
      " [14  0]]\n",
      "0.5882352941176471\n",
      "The standard decision tree has an accuracy of 0.5882352941176471 and an error rate of 0.4117647058823529.\n"
     ]
    }
   ],
   "source": [
    "classifier = RandomForestClassifier(max_depth=2, random_state=0,oob_score=True)   \n",
    "classifier.fit(X_train_pca, Y_train) \n",
    "print(classifier.oob_score_) \n",
    "Y_pred = classifier.predict(X_test_pca)   \n",
    " \n",
    "rf_cm = confusion_matrix(Y_test, Y_pred)   \n",
    "print(rf_cm)  \n",
    "rf_ac=accuracy_score(Y_test, Y_pred) \n",
    "print(rf_ac)\n",
    "\n",
    "accuracy = accuracy_score(Y_test, Y_pred)\n",
    "print(\"The standard decision tree has an accuracy of {} and an error rate of {}.\".format(accuracy, 1-accuracy))"
   ]
  },
  {
   "cell_type": "code",
   "execution_count": null,
   "metadata": {},
   "outputs": [],
   "source": []
  },
  {
   "cell_type": "code",
   "execution_count": null,
   "metadata": {},
   "outputs": [],
   "source": []
  }
 ],
 "metadata": {
  "kernelspec": {
   "display_name": "Python 3",
   "language": "python",
   "name": "python3"
  },
  "language_info": {
   "codemirror_mode": {
    "name": "ipython",
    "version": 3
   },
   "file_extension": ".py",
   "mimetype": "text/x-python",
   "name": "python",
   "nbconvert_exporter": "python",
   "pygments_lexer": "ipython3",
   "version": "3.8.3"
  }
 },
 "nbformat": 4,
 "nbformat_minor": 4
}
