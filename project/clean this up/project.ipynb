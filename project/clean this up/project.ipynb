{
 "cells": [
  {
   "cell_type": "code",
   "execution_count": 84,
   "metadata": {},
   "outputs": [],
   "source": [
    "NAME = \"Michael Cornelisse\"\n",
    "STUDENT_NUMBER = \"s1059020\"\n",
    "COLLABORATOR_NAME = \"Nienke Helmers\"\n",
    "COLLABORATOR_STUDENT_NUMBER = \"s1016904\""
   ]
  },
  {
   "cell_type": "code",
   "execution_count": 85,
   "metadata": {},
   "outputs": [],
   "source": [
    "# import libraries\n",
    "import os\n",
    "import numpy as np\n",
    "import pandas as pd\n",
    "import matplotlib.pyplot as plt\n",
    "from sklearn import preprocessing\n",
    "from sklearn.preprocessing import normalize\n",
    "from sklearn.model_selection import KFold\n",
    "from sklearn.decomposition import PCA\n",
    "from sklearn import metrics\n",
    "from sklearn import tree\n",
    "from sklearn.tree import export_graphviz\n",
    "from sklearn.ensemble import RandomForestClassifier, GradientBoostingClassifier\n",
    "from graphviz import Source\n",
    "import xgboost as xgb\n",
    "from xgboost import plot_tree\n",
    "import seaborn as sns"
   ]
  },
  {
   "cell_type": "code",
   "execution_count": 86,
   "metadata": {},
   "outputs": [],
   "source": [
    "PROJECT_ROOT_DIR = \".\"\n",
    "\n",
    "def image_path(fig_id):\n",
    "    return os.path.join(PROJECT_ROOT_DIR, \"images\", fig_id)\n",
    "\n",
    "def save_fig(fig_id, tight_layout=True):\n",
    "    print(\"Saving figure\", fig_id)\n",
    "    if tight_layout:\n",
    "        plt.tight_layout()\n",
    "    plt.savefig(image_path(fig_id) + \".png\", format='png', dpi=300)"
   ]
  },
  {
   "cell_type": "code",
   "execution_count": 87,
   "metadata": {},
   "outputs": [],
   "source": [
    "# Load data\n",
    "#actual_data = pd.read_csv('data/archive/actual.csv')\n",
    "patient_data = pd.read_csv('data/archive/actual.csv', index_col = 'patient')\n",
    "train_data = pd.read_csv('data/archive/data_set_ALL_AML_train.csv')\n",
    "test_data = pd.read_csv('data/archive/data_set_ALL_AML_independent.csv')"
   ]
  },
  {
   "cell_type": "code",
   "execution_count": 88,
   "metadata": {},
   "outputs": [],
   "source": [
    "# Clean all the data\n",
    "# Drop the call collumns from both data sets\n",
    "call_cols_train = [col for col in train_data.columns if 'call' in col]\n",
    "train_data = train_data.drop(call_cols_train, axis = 1)\n",
    "\n",
    "call_cols_test = [col for col in test_data.columns if 'call' in col]\n",
    "test_data = test_data.drop(call_cols_test, axis = 1)\n",
    "\n",
    "# Drop \"Gene Description\" and \"Gene Accession Number\"\n",
    "cols_to_drop = ['Gene Description', 'Gene Accession Number']\n",
    "train_data = train_data.drop(cols_to_drop, axis = 1)\n",
    "test_data = test_data.drop(cols_to_drop, axis = 1)\n",
    "\n",
    "# Transpose both data_sets\n",
    "train_data = train_data.T\n",
    "test_data = test_data.T\n",
    "\n",
    "# now clean the patient_data\n",
    "patient_data = patient_data.replace({'ALL': 0, 'AML': 1})\n",
    "patient_train = patient_data[patient_data.index <= 38]\n",
    "patient_test = patient_data[patient_data.index > 38]\n",
    "# Define labels to use in our decission tree later.\n",
    "patient_labels = ['ALL', 'AML']\n",
    "# Make a seperate numpy array with our patient data, patient train data and patient test data\n",
    "patient_data_np = patient_data.to_numpy()"
   ]
  },
  {
   "cell_type": "code",
   "execution_count": 89,
   "metadata": {},
   "outputs": [
    {
     "data": {
      "text/html": [
       "<div>\n",
       "<style scoped>\n",
       "    .dataframe tbody tr th:only-of-type {\n",
       "        vertical-align: middle;\n",
       "    }\n",
       "\n",
       "    .dataframe tbody tr th {\n",
       "        vertical-align: top;\n",
       "    }\n",
       "\n",
       "    .dataframe thead th {\n",
       "        text-align: right;\n",
       "    }\n",
       "</style>\n",
       "<table border=\"1\" class=\"dataframe\">\n",
       "  <thead>\n",
       "    <tr style=\"text-align: right;\">\n",
       "      <th></th>\n",
       "      <th>patient</th>\n",
       "      <th>cancer</th>\n",
       "    </tr>\n",
       "  </thead>\n",
       "  <tbody>\n",
       "    <tr>\n",
       "      <th>0</th>\n",
       "      <td>1</td>\n",
       "      <td>0</td>\n",
       "    </tr>\n",
       "    <tr>\n",
       "      <th>1</th>\n",
       "      <td>2</td>\n",
       "      <td>0</td>\n",
       "    </tr>\n",
       "    <tr>\n",
       "      <th>2</th>\n",
       "      <td>3</td>\n",
       "      <td>0</td>\n",
       "    </tr>\n",
       "    <tr>\n",
       "      <th>3</th>\n",
       "      <td>4</td>\n",
       "      <td>0</td>\n",
       "    </tr>\n",
       "    <tr>\n",
       "      <th>4</th>\n",
       "      <td>5</td>\n",
       "      <td>0</td>\n",
       "    </tr>\n",
       "  </tbody>\n",
       "</table>\n",
       "</div>"
      ],
      "text/plain": [
       "   patient  cancer\n",
       "0        1       0\n",
       "1        2       0\n",
       "2        3       0\n",
       "3        4       0\n",
       "4        5       0"
      ]
     },
     "execution_count": 89,
     "metadata": {},
     "output_type": "execute_result"
    }
   ],
   "source": [
    "# Show head patient data 0 = ALL, 1 = AML\n",
    "patient_data.head()\n"
   ]
  },
  {
   "cell_type": "code",
   "execution_count": 90,
   "metadata": {},
   "outputs": [
    {
     "name": "stdout",
     "output_type": "stream",
     "text": [
      "[ 1  0  2  0  3  0  4  0  5  0  6  0  7  0  8  0  9  0 10  0 11  0 12  0\n",
      " 13  0 14  0 15  0 16  0 17  0 18  0 19  0 20  0 21  0 22  0 23  0 24  0\n",
      " 25  0 26  0 27  0 28  1 29  1 30  1 31  1 32  1 33  1 34  1 35  1 36  1\n",
      " 37  1 38  1 39  0 40  0 41  0 42  0 43  0 44  0 45  0 46  0 47  0 48  0\n",
      " 49  0 50  1 51  1 52  1 53  1 54  1 55  0 56  0 57  1 58  1 59  0 60  1\n",
      " 61  1 62  1 63  1 64  1 65  1 66  1 67  0 68  0 69  0 70  0 71  0 72  0]\n"
     ]
    }
   ],
   "source": [
    "print(patient_data.values.flatten())"
   ]
  },
  {
   "cell_type": "code",
   "execution_count": 91,
   "metadata": {},
   "outputs": [
    {
     "name": "stdout",
     "output_type": "stream",
     "text": [
      "(72, 7129)\n"
     ]
    },
    {
     "data": {
      "text/html": [
       "<div>\n",
       "<style scoped>\n",
       "    .dataframe tbody tr th:only-of-type {\n",
       "        vertical-align: middle;\n",
       "    }\n",
       "\n",
       "    .dataframe tbody tr th {\n",
       "        vertical-align: top;\n",
       "    }\n",
       "\n",
       "    .dataframe thead th {\n",
       "        text-align: right;\n",
       "    }\n",
       "</style>\n",
       "<table border=\"1\" class=\"dataframe\">\n",
       "  <thead>\n",
       "    <tr style=\"text-align: right;\">\n",
       "      <th></th>\n",
       "      <th>0</th>\n",
       "      <th>1</th>\n",
       "      <th>2</th>\n",
       "      <th>3</th>\n",
       "      <th>4</th>\n",
       "      <th>5</th>\n",
       "      <th>6</th>\n",
       "      <th>7</th>\n",
       "      <th>8</th>\n",
       "      <th>9</th>\n",
       "      <th>...</th>\n",
       "      <th>7119</th>\n",
       "      <th>7120</th>\n",
       "      <th>7121</th>\n",
       "      <th>7122</th>\n",
       "      <th>7123</th>\n",
       "      <th>7124</th>\n",
       "      <th>7125</th>\n",
       "      <th>7126</th>\n",
       "      <th>7127</th>\n",
       "      <th>7128</th>\n",
       "    </tr>\n",
       "  </thead>\n",
       "  <tbody>\n",
       "    <tr>\n",
       "      <th>1</th>\n",
       "      <td>-214</td>\n",
       "      <td>-153</td>\n",
       "      <td>-58</td>\n",
       "      <td>88</td>\n",
       "      <td>-295</td>\n",
       "      <td>-558</td>\n",
       "      <td>199</td>\n",
       "      <td>-176</td>\n",
       "      <td>252</td>\n",
       "      <td>206</td>\n",
       "      <td>...</td>\n",
       "      <td>185</td>\n",
       "      <td>511</td>\n",
       "      <td>-125</td>\n",
       "      <td>389</td>\n",
       "      <td>-37</td>\n",
       "      <td>793</td>\n",
       "      <td>329</td>\n",
       "      <td>36</td>\n",
       "      <td>191</td>\n",
       "      <td>-37</td>\n",
       "    </tr>\n",
       "    <tr>\n",
       "      <th>2</th>\n",
       "      <td>-139</td>\n",
       "      <td>-73</td>\n",
       "      <td>-1</td>\n",
       "      <td>283</td>\n",
       "      <td>-264</td>\n",
       "      <td>-400</td>\n",
       "      <td>-330</td>\n",
       "      <td>-168</td>\n",
       "      <td>101</td>\n",
       "      <td>74</td>\n",
       "      <td>...</td>\n",
       "      <td>169</td>\n",
       "      <td>837</td>\n",
       "      <td>-36</td>\n",
       "      <td>442</td>\n",
       "      <td>-17</td>\n",
       "      <td>782</td>\n",
       "      <td>295</td>\n",
       "      <td>11</td>\n",
       "      <td>76</td>\n",
       "      <td>-14</td>\n",
       "    </tr>\n",
       "    <tr>\n",
       "      <th>3</th>\n",
       "      <td>-76</td>\n",
       "      <td>-49</td>\n",
       "      <td>-307</td>\n",
       "      <td>309</td>\n",
       "      <td>-376</td>\n",
       "      <td>-650</td>\n",
       "      <td>33</td>\n",
       "      <td>-367</td>\n",
       "      <td>206</td>\n",
       "      <td>-215</td>\n",
       "      <td>...</td>\n",
       "      <td>315</td>\n",
       "      <td>1199</td>\n",
       "      <td>33</td>\n",
       "      <td>168</td>\n",
       "      <td>52</td>\n",
       "      <td>1138</td>\n",
       "      <td>777</td>\n",
       "      <td>41</td>\n",
       "      <td>228</td>\n",
       "      <td>-41</td>\n",
       "    </tr>\n",
       "    <tr>\n",
       "      <th>4</th>\n",
       "      <td>-135</td>\n",
       "      <td>-114</td>\n",
       "      <td>265</td>\n",
       "      <td>12</td>\n",
       "      <td>-419</td>\n",
       "      <td>-585</td>\n",
       "      <td>158</td>\n",
       "      <td>-253</td>\n",
       "      <td>49</td>\n",
       "      <td>31</td>\n",
       "      <td>...</td>\n",
       "      <td>240</td>\n",
       "      <td>835</td>\n",
       "      <td>218</td>\n",
       "      <td>174</td>\n",
       "      <td>-110</td>\n",
       "      <td>627</td>\n",
       "      <td>170</td>\n",
       "      <td>-50</td>\n",
       "      <td>126</td>\n",
       "      <td>-91</td>\n",
       "    </tr>\n",
       "    <tr>\n",
       "      <th>5</th>\n",
       "      <td>-106</td>\n",
       "      <td>-125</td>\n",
       "      <td>-76</td>\n",
       "      <td>168</td>\n",
       "      <td>-230</td>\n",
       "      <td>-284</td>\n",
       "      <td>4</td>\n",
       "      <td>-122</td>\n",
       "      <td>70</td>\n",
       "      <td>252</td>\n",
       "      <td>...</td>\n",
       "      <td>156</td>\n",
       "      <td>649</td>\n",
       "      <td>57</td>\n",
       "      <td>504</td>\n",
       "      <td>-26</td>\n",
       "      <td>250</td>\n",
       "      <td>314</td>\n",
       "      <td>14</td>\n",
       "      <td>56</td>\n",
       "      <td>-25</td>\n",
       "    </tr>\n",
       "    <tr>\n",
       "      <th>...</th>\n",
       "      <td>...</td>\n",
       "      <td>...</td>\n",
       "      <td>...</td>\n",
       "      <td>...</td>\n",
       "      <td>...</td>\n",
       "      <td>...</td>\n",
       "      <td>...</td>\n",
       "      <td>...</td>\n",
       "      <td>...</td>\n",
       "      <td>...</td>\n",
       "      <td>...</td>\n",
       "      <td>...</td>\n",
       "      <td>...</td>\n",
       "      <td>...</td>\n",
       "      <td>...</td>\n",
       "      <td>...</td>\n",
       "      <td>...</td>\n",
       "      <td>...</td>\n",
       "      <td>...</td>\n",
       "      <td>...</td>\n",
       "      <td>...</td>\n",
       "    </tr>\n",
       "    <tr>\n",
       "      <th>65</th>\n",
       "      <td>-62</td>\n",
       "      <td>-198</td>\n",
       "      <td>-5</td>\n",
       "      <td>141</td>\n",
       "      <td>-256</td>\n",
       "      <td>-206</td>\n",
       "      <td>-298</td>\n",
       "      <td>-218</td>\n",
       "      <td>-14</td>\n",
       "      <td>100</td>\n",
       "      <td>...</td>\n",
       "      <td>92</td>\n",
       "      <td>532</td>\n",
       "      <td>-34</td>\n",
       "      <td>239</td>\n",
       "      <td>-78</td>\n",
       "      <td>707</td>\n",
       "      <td>354</td>\n",
       "      <td>-22</td>\n",
       "      <td>260</td>\n",
       "      <td>5</td>\n",
       "    </tr>\n",
       "    <tr>\n",
       "      <th>66</th>\n",
       "      <td>-58</td>\n",
       "      <td>-217</td>\n",
       "      <td>63</td>\n",
       "      <td>95</td>\n",
       "      <td>-191</td>\n",
       "      <td>-230</td>\n",
       "      <td>-86</td>\n",
       "      <td>-152</td>\n",
       "      <td>-6</td>\n",
       "      <td>-249</td>\n",
       "      <td>...</td>\n",
       "      <td>63</td>\n",
       "      <td>297</td>\n",
       "      <td>36</td>\n",
       "      <td>358</td>\n",
       "      <td>2</td>\n",
       "      <td>423</td>\n",
       "      <td>41</td>\n",
       "      <td>0</td>\n",
       "      <td>1777</td>\n",
       "      <td>-49</td>\n",
       "    </tr>\n",
       "    <tr>\n",
       "      <th>63</th>\n",
       "      <td>-161</td>\n",
       "      <td>-215</td>\n",
       "      <td>-46</td>\n",
       "      <td>146</td>\n",
       "      <td>-172</td>\n",
       "      <td>-596</td>\n",
       "      <td>-122</td>\n",
       "      <td>-341</td>\n",
       "      <td>171</td>\n",
       "      <td>-147</td>\n",
       "      <td>...</td>\n",
       "      <td>130</td>\n",
       "      <td>639</td>\n",
       "      <td>-27</td>\n",
       "      <td>548</td>\n",
       "      <td>-39</td>\n",
       "      <td>809</td>\n",
       "      <td>445</td>\n",
       "      <td>-2</td>\n",
       "      <td>210</td>\n",
       "      <td>16</td>\n",
       "    </tr>\n",
       "    <tr>\n",
       "      <th>64</th>\n",
       "      <td>-48</td>\n",
       "      <td>-531</td>\n",
       "      <td>-124</td>\n",
       "      <td>431</td>\n",
       "      <td>-496</td>\n",
       "      <td>-696</td>\n",
       "      <td>-1038</td>\n",
       "      <td>-441</td>\n",
       "      <td>235</td>\n",
       "      <td>157</td>\n",
       "      <td>...</td>\n",
       "      <td>84</td>\n",
       "      <td>1141</td>\n",
       "      <td>-121</td>\n",
       "      <td>197</td>\n",
       "      <td>-108</td>\n",
       "      <td>466</td>\n",
       "      <td>349</td>\n",
       "      <td>0</td>\n",
       "      <td>284</td>\n",
       "      <td>-73</td>\n",
       "    </tr>\n",
       "    <tr>\n",
       "      <th>62</th>\n",
       "      <td>-176</td>\n",
       "      <td>-284</td>\n",
       "      <td>-81</td>\n",
       "      <td>9</td>\n",
       "      <td>-294</td>\n",
       "      <td>-493</td>\n",
       "      <td>-393</td>\n",
       "      <td>-141</td>\n",
       "      <td>166</td>\n",
       "      <td>-37</td>\n",
       "      <td>...</td>\n",
       "      <td>81</td>\n",
       "      <td>574</td>\n",
       "      <td>132</td>\n",
       "      <td>618</td>\n",
       "      <td>-9</td>\n",
       "      <td>551</td>\n",
       "      <td>194</td>\n",
       "      <td>20</td>\n",
       "      <td>379</td>\n",
       "      <td>-60</td>\n",
       "    </tr>\n",
       "  </tbody>\n",
       "</table>\n",
       "<p>72 rows × 7129 columns</p>\n",
       "</div>"
      ],
      "text/plain": [
       "    0     1     2     3     4     5     6     7     8     9     ...  7119  \\\n",
       "1   -214  -153   -58    88  -295  -558   199  -176   252   206  ...   185   \n",
       "2   -139   -73    -1   283  -264  -400  -330  -168   101    74  ...   169   \n",
       "3    -76   -49  -307   309  -376  -650    33  -367   206  -215  ...   315   \n",
       "4   -135  -114   265    12  -419  -585   158  -253    49    31  ...   240   \n",
       "5   -106  -125   -76   168  -230  -284     4  -122    70   252  ...   156   \n",
       "..   ...   ...   ...   ...   ...   ...   ...   ...   ...   ...  ...   ...   \n",
       "65   -62  -198    -5   141  -256  -206  -298  -218   -14   100  ...    92   \n",
       "66   -58  -217    63    95  -191  -230   -86  -152    -6  -249  ...    63   \n",
       "63  -161  -215   -46   146  -172  -596  -122  -341   171  -147  ...   130   \n",
       "64   -48  -531  -124   431  -496  -696 -1038  -441   235   157  ...    84   \n",
       "62  -176  -284   -81     9  -294  -493  -393  -141   166   -37  ...    81   \n",
       "\n",
       "    7120  7121  7122  7123  7124  7125  7126  7127  7128  \n",
       "1    511  -125   389   -37   793   329    36   191   -37  \n",
       "2    837   -36   442   -17   782   295    11    76   -14  \n",
       "3   1199    33   168    52  1138   777    41   228   -41  \n",
       "4    835   218   174  -110   627   170   -50   126   -91  \n",
       "5    649    57   504   -26   250   314    14    56   -25  \n",
       "..   ...   ...   ...   ...   ...   ...   ...   ...   ...  \n",
       "65   532   -34   239   -78   707   354   -22   260     5  \n",
       "66   297    36   358     2   423    41     0  1777   -49  \n",
       "63   639   -27   548   -39   809   445    -2   210    16  \n",
       "64  1141  -121   197  -108   466   349     0   284   -73  \n",
       "62   574   132   618    -9   551   194    20   379   -60  \n",
       "\n",
       "[72 rows x 7129 columns]"
      ]
     },
     "execution_count": 91,
     "metadata": {},
     "output_type": "execute_result"
    }
   ],
   "source": [
    "# Merge the test and training data set together\n",
    "train_data = train_data.replace(np.inf, np.nan)\n",
    "train_data = train_data.fillna(value = train_data.values.mean())\n",
    "\n",
    "test_data = test_data.replace(np.inf, np.nan)\n",
    "test_data = test_data.fillna(value = train_data.values.mean())\n",
    "\n",
    "complete_data = train_data.append(test_data) # or train_data.append(test_data, ignore_index = True)\n",
    "print(complete_data.shape)\n",
    "complete_data"
   ]
  },
  {
   "cell_type": "code",
   "execution_count": 66,
   "metadata": {},
   "outputs": [],
   "source": [
    "# Dimensionality reduction PCA\n",
    "pca = PCA()\n",
    "pca_data = pca.fit_transform(complete_data)\n",
    "\n",
    "#print(print(pca.explained_variance_ratio_))\n",
    "pca_variance_ratio = pca.explained_variance_ratio_.cumsum()\n",
    "pca_variance_percentage = pca_variance_ratio*100"
   ]
  },
  {
   "cell_type": "code",
   "execution_count": 69,
   "metadata": {},
   "outputs": [
    {
     "name": "stdout",
     "output_type": "stream",
     "text": [
      "There are 33 attributes that together explain 90% of the variance.\n"
     ]
    },
    {
     "data": {
      "image/png": "[encoded data removed]",
      "text/plain": [
       "<Figure size 432x288 with 1 Axes>"
      ]
     },
     "metadata": {
      "needs_background": "light"
     },
     "output_type": "display_data"
    },
    {
     "name": "stdout",
     "output_type": "stream",
     "text": [
      "Figure: A plot of the explained variance. The variance is summed for all attributes up to and including\n",
      "the current attribute number,for examplethe tenth attribute shows the sum of attributes 1 to 10.\n"
     ]
    }
   ],
   "source": [
    "#Calculate and plot explained variance PCA\n",
    "pca_variance_ratio = pca.explained_variance_ratio_.cumsum()\n",
    "pca_variance_percentage = pca_variance_ratio * 100\n",
    "plt.bar(range(1,pca_variance_percentage.size+1), pca_variance_percentage)\n",
    "plt.title(\"Explained variance summed per attribute\")\n",
    "plt.xlabel(\"Attribute number\")\n",
    "plt.ylabel(\"Explained variance percentage\")\n",
    "plt.show()\n",
    "print('''Figure: A plot of the explained variance. The variance is summed for all attributes up to and including\n",
    "the current attribute number,for examplethe tenth attribute shows the sum of attributes 1 to 10.''')\n",
    "\n",
    "#Determine number of attributes needed for an explained variance of 90%\n",
    "pca_variance_cropped = [i for i in pca_variance_percentage if i < 90]\n",
    "no_attributes = len(pca_variance_cropped)\n",
    "print(\"There are {} attributes that together explain 90% of the variance.\" .format(no_attributes))"
   ]
  },
  {
   "cell_type": "code",
   "execution_count": 33,
   "metadata": {},
   "outputs": [
    {
     "data": {
      "text/plain": [
       "72"
      ]
     },
     "execution_count": 33,
     "metadata": {},
     "output_type": "execute_result"
    }
   ],
   "source": [
    "pca.n_components_ "
   ]
  },
  {
   "cell_type": "code",
   "execution_count": 72,
   "metadata": {},
   "outputs": [
    {
     "name": "stdout",
     "output_type": "stream",
     "text": [
      "[[ 23228.24839305 -10207.1420217  -24864.18347267 ...  -9319.00780465\n",
      "     710.72707006   3173.19072395]\n",
      " [  7327.1074105   -8114.5435845   -9592.57862468 ...  -2761.94674844\n",
      "     807.26760658   2135.51830256]\n",
      " [ -5088.3671856   -2548.71711692 -21366.13238222 ...  -1459.48009382\n",
      "  -12716.26586577   2585.69213968]\n",
      " ...\n",
      " [-32735.95962863  49989.95602441 -14717.92574639 ...  -3286.94179133\n",
      "     965.4907633  -15286.94317236]\n",
      " [ 13203.04043613  22955.40134478  12673.4899502  ...   6706.94312697\n",
      "     622.4353914    -110.32838347]\n",
      " [ 23688.92717743  59098.56222497  -9244.34665965 ...   1193.62829955\n",
      "     614.03557026  -4298.09975531]]\n"
     ]
    }
   ],
   "source": [
    "#Crop pca_data\n",
    "pca_data = np.delete(pca_data, slice(no_attributes, len(pca_data)) , 1)\n",
    "\n",
    "#Split data back to original train and test split\n",
    "pca_train = pca_data[:38]\n",
    "pca_test = pca_data[38:]\n",
    "\n",
    "print(pca_test)"
   ]
  },
  {
   "cell_type": "code",
   "execution_count": 35,
   "metadata": {},
   "outputs": [],
   "source": [
    "\n",
    "def plot_classification_error(start, stop, step, accuracy_mean_train, accuracy_mean_test, function):\n",
    "    plt.plot(range(start,stop, step), (1-accuracy_mean_train), label='accuracy train set')\n",
    "    plt.plot(range(start,stop, step), (1-accuracy_mean_test), label='accuracy test set')\n",
    "    plt.legend()\n",
    "    plt.xlabel('Maximum {}'.format(function))\n",
    "    plt.ylabel('Classification error')\n",
    "    plt.title('Classification error of a decision tree as function of {}'.format(function))\n",
    "    plt.show()\n",
    "\n",
    "def k_fold(folds, start, stop, step, method):\n",
    "    kf = KFold(n_splits=folds)\n",
    "    accuracy_mean_train = np.array([])\n",
    "    accuracy_mean_test = np.array([])           \n",
    "    for i in range(start, stop, step):\n",
    "        accuracy_train = np.array([])\n",
    "        accuracy_test = np.array([])\n",
    "        for train, test in kf.split(pca_data, patient_data):\n",
    "            \n",
    "            if(method == 'tree'):\n",
    "                split_clf = tree.DecisionTreeClassifier(criterion='gini', max_depth = i)\n",
    "                split_clf = split_clf.fit(pca_data[train], patient_data_np[train])\n",
    "                accuracy_train = np.append(\n",
    "                    accuracy_train, metrics.accuracy_score(patient_data_np[train], split_clf.predict(pca_data[train])))\n",
    "                accuracy_test = np.append(\n",
    "                    accuracy_test, metrics.accuracy_score(patient_data_np[test], split_clf.predict(pca_data[test]))) \n",
    "            \n",
    "            elif(method == 'rf'):\n",
    "                rf = RandomForestClassifier(n_estimators = 100, criterion='gini', max_depth = i)\n",
    "                rf = rf.fit(pca_data[train], patient_data_np[train])\n",
    "                accuracy_train = np.append(\n",
    "                    accuracy_train, metrics.accuracy_score(patient_data_np[train], rf.predict(pca_data[train])))\n",
    "                accuracy_test = np.append(\n",
    "                    accuracy_test, metrics.accuracy_score(patient_data_np[test], rf.predict(pca_data[test]))) \n",
    "                \n",
    "            elif(method == 'rf_estimators'):\n",
    "                    rf = RandomForestClassifier(n_estimators = i, criterion='gini', max_depth = 4)\n",
    "                    rf = rf.fit(pca_data[train], patient_data_np[train])\n",
    "                    accuracy_train = np.append(\n",
    "                        accuracy_train, metrics.accuracy_score(patient_data_np[train], rf.predict(pca_data[train])))\n",
    "                    accuracy_test = np.append(\n",
    "                        accuracy_test, metrics.accuracy_score(patient_data_np[test], rf.predict(pca_data[test]))) \n",
    "                \n",
    "        accuracy_mean_train = np.append(accuracy_mean_train, np.mean(accuracy_train))\n",
    "        accuracy_mean_test = np.append(accuracy_mean_test, np.mean(accuracy_test))\n",
    "    return accuracy_mean_train, accuracy_mean_test"
   ]
  },
  {
   "cell_type": "code",
   "execution_count": 36,
   "metadata": {},
   "outputs": [
    {
     "data": {
      "image/png": "[encoded data removed]",
      "text/plain": [
       "<Figure size 432x288 with 1 Axes>"
      ]
     },
     "metadata": {
      "needs_background": "light"
     },
     "output_type": "display_data"
    }
   ],
   "source": [
    "accuracy_mean_train_tree, accuracy_mean_test_tree = k_fold(10, 1, 21, 1, 'tree')\n",
    "plot_classification_error(1, 21, 1, accuracy_mean_train_tree, accuracy_mean_test_tree, 'tree depth')"
   ]
  },
  {
   "cell_type": "code",
   "execution_count": 73,
   "metadata": {},
   "outputs": [
    {
     "name": "stdout",
     "output_type": "stream",
     "text": [
      "The standard decision tree has an accuracy of 0.5588235294117647 and an error rate of 0.4411764705882353.\n"
     ]
    }
   ],
   "source": [
    "# Fit the actual decision tree\n",
    "# firstly we will fit the tree with the gini criterion\n",
    "tree_clf = tree.DecisionTreeClassifier(criterion='gini', max_depth = 4)\n",
    "tree_clf = tree_clf.fit(pca_train, patient_train)\n",
    "prediction=tree_clf.predict(pca_test)\n",
    "accuracy = metrics.accuracy_score(patient_test, prediction)\n",
    "print(\"The standard decision tree has an accuracy of {} and an error rate of {}.\".format(accuracy, 1-accuracy))"
   ]
  },
  {
   "cell_type": "code",
   "execution_count": 18,
   "metadata": {},
   "outputs": [],
   "source": [
    "from graphviz import Source\n",
    "def plot_tree_graph(inp, start, stop):\n",
    "    dot_data = export_graphviz(inp, out_file=None, \n",
    "                               feature_names=range(1,34),  \n",
    "                               class_names=patient_labels,\n",
    "                               rounded=True,\n",
    "                               filled=True)\n",
    "    # Draw graph\n",
    "    graph = Source(dot_data, format=\"png\") \n",
    "    return graph"
   ]
  },
  {
   "cell_type": "code",
   "execution_count": 43,
   "metadata": {},
   "outputs": [
    {
     "data": {
      "image/svg+xml": [
       "<?xml version=\"1.0\" encoding=\"UTF-8\" standalone=\"no\"?>\r\n",
       "<!DOCTYPE svg PUBLIC \"-//W3C//DTD SVG 1.1//EN\"\r\n",
       " \"http://www.w3.org/Graphics/SVG/1.1/DTD/svg11.dtd\">\r\n",
       "<!-- Generated by graphviz version 2.38.0 (20140413.2041)\r\n",
       " -->\r\n",
       "<!-- Title: Tree Pages: 1 -->\r\n",
       "<svg width=\"302pt\" height=\"314pt\"\r\n",
       " viewBox=\"0.00 0.00 302.00 314.00\" xmlns=\"http://www.w3.org/2000/svg\" xmlns:xlink=\"http://www.w3.org/1999/xlink\">\r\n",
       "<g id=\"graph0\" class=\"graph\" transform=\"scale(1 1) rotate(0) translate(4 310)\">\r\n",
       "<title>Tree</title>\r\n",
       "<polygon fill=\"white\" stroke=\"none\" points=\"-4,4 -4,-310 298,-310 298,4 -4,4\"/>\r\n",
       "<!-- 0 -->\r\n",
       "<g id=\"node1\" class=\"node\"><title>0</title>\r\n",
       "<path fill=\"#f0b48a\" stroke=\"black\" d=\"M221,-306C221,-306 132,-306 132,-306 126,-306 120,-300 120,-294 120,-294 120,-235 120,-235 120,-229 126,-223 132,-223 132,-223 221,-223 221,-223 227,-223 233,-229 233,-235 233,-235 233,-294 233,-294 233,-300 227,-306 221,-306\"/>\r\n",
       "<text text-anchor=\"middle\" x=\"176.5\" y=\"-290.8\" font-family=\"Helvetica,sans-Serif\" font-size=\"14.00\">2 &lt;= 2217.881</text>\r\n",
       "<text text-anchor=\"middle\" x=\"176.5\" y=\"-275.8\" font-family=\"Helvetica,sans-Serif\" font-size=\"14.00\">gini = 0.411</text>\r\n",
       "<text text-anchor=\"middle\" x=\"176.5\" y=\"-260.8\" font-family=\"Helvetica,sans-Serif\" font-size=\"14.00\">samples = 38</text>\r\n",
       "<text text-anchor=\"middle\" x=\"176.5\" y=\"-245.8\" font-family=\"Helvetica,sans-Serif\" font-size=\"14.00\">value = [27, 11]</text>\r\n",
       "<text text-anchor=\"middle\" x=\"176.5\" y=\"-230.8\" font-family=\"Helvetica,sans-Serif\" font-size=\"14.00\">class = ALL</text>\r\n",
       "</g>\r\n",
       "<!-- 1 -->\r\n",
       "<g id=\"node2\" class=\"node\"><title>1</title>\r\n",
       "<path fill=\"#e68640\" stroke=\"black\" d=\"M159,-187C159,-187 64,-187 64,-187 58,-187 52,-181 52,-175 52,-175 52,-116 52,-116 52,-110 58,-104 64,-104 64,-104 159,-104 159,-104 165,-104 171,-110 171,-116 171,-116 171,-175 171,-175 171,-181 165,-187 159,-187\"/>\r\n",
       "<text text-anchor=\"middle\" x=\"111.5\" y=\"-171.8\" font-family=\"Helvetica,sans-Serif\" font-size=\"14.00\">1 &lt;= 41554.072</text>\r\n",
       "<text text-anchor=\"middle\" x=\"111.5\" y=\"-156.8\" font-family=\"Helvetica,sans-Serif\" font-size=\"14.00\">gini = 0.069</text>\r\n",
       "<text text-anchor=\"middle\" x=\"111.5\" y=\"-141.8\" font-family=\"Helvetica,sans-Serif\" font-size=\"14.00\">samples = 28</text>\r\n",
       "<text text-anchor=\"middle\" x=\"111.5\" y=\"-126.8\" font-family=\"Helvetica,sans-Serif\" font-size=\"14.00\">value = [27, 1]</text>\r\n",
       "<text text-anchor=\"middle\" x=\"111.5\" y=\"-111.8\" font-family=\"Helvetica,sans-Serif\" font-size=\"14.00\">class = ALL</text>\r\n",
       "</g>\r\n",
       "<!-- 0&#45;&gt;1 -->\r\n",
       "<g id=\"edge1\" class=\"edge\"><title>0&#45;&gt;1</title>\r\n",
       "<path fill=\"none\" stroke=\"black\" d=\"M153.949,-222.907C149.109,-214.195 143.943,-204.897 138.941,-195.893\"/>\r\n",
       "<polygon fill=\"black\" stroke=\"black\" points=\"141.928,-194.063 134.012,-187.021 135.808,-197.462 141.928,-194.063\"/>\r\n",
       "<text text-anchor=\"middle\" x=\"127.144\" y=\"-207.359\" font-family=\"Helvetica,sans-Serif\" font-size=\"14.00\">True</text>\r\n",
       "</g>\r\n",
       "<!-- 4 -->\r\n",
       "<g id=\"node5\" class=\"node\"><title>4</title>\r\n",
       "<path fill=\"#399de5\" stroke=\"black\" d=\"M282,-179.5C282,-179.5 201,-179.5 201,-179.5 195,-179.5 189,-173.5 189,-167.5 189,-167.5 189,-123.5 189,-123.5 189,-117.5 195,-111.5 201,-111.5 201,-111.5 282,-111.5 282,-111.5 288,-111.5 294,-117.5 294,-123.5 294,-123.5 294,-167.5 294,-167.5 294,-173.5 288,-179.5 282,-179.5\"/>\r\n",
       "<text text-anchor=\"middle\" x=\"241.5\" y=\"-164.3\" font-family=\"Helvetica,sans-Serif\" font-size=\"14.00\">gini = 0.0</text>\r\n",
       "<text text-anchor=\"middle\" x=\"241.5\" y=\"-149.3\" font-family=\"Helvetica,sans-Serif\" font-size=\"14.00\">samples = 10</text>\r\n",
       "<text text-anchor=\"middle\" x=\"241.5\" y=\"-134.3\" font-family=\"Helvetica,sans-Serif\" font-size=\"14.00\">value = [0, 10]</text>\r\n",
       "<text text-anchor=\"middle\" x=\"241.5\" y=\"-119.3\" font-family=\"Helvetica,sans-Serif\" font-size=\"14.00\">class = AML</text>\r\n",
       "</g>\r\n",
       "<!-- 0&#45;&gt;4 -->\r\n",
       "<g id=\"edge4\" class=\"edge\"><title>0&#45;&gt;4</title>\r\n",
       "<path fill=\"none\" stroke=\"black\" d=\"M199.051,-222.907C205.243,-211.763 211.968,-199.658 218.2,-188.439\"/>\r\n",
       "<polygon fill=\"black\" stroke=\"black\" points=\"221.277,-190.108 223.074,-179.667 215.158,-186.709 221.277,-190.108\"/>\r\n",
       "<text text-anchor=\"middle\" x=\"229.942\" y=\"-200.005\" font-family=\"Helvetica,sans-Serif\" font-size=\"14.00\">False</text>\r\n",
       "</g>\r\n",
       "<!-- 2 -->\r\n",
       "<g id=\"node3\" class=\"node\"><title>2</title>\r\n",
       "<path fill=\"#e58139\" stroke=\"black\" d=\"M93,-68C93,-68 12,-68 12,-68 6,-68 0,-62 0,-56 0,-56 0,-12 0,-12 0,-6 6,-0 12,-0 12,-0 93,-0 93,-0 99,-0 105,-6 105,-12 105,-12 105,-56 105,-56 105,-62 99,-68 93,-68\"/>\r\n",
       "<text text-anchor=\"middle\" x=\"52.5\" y=\"-52.8\" font-family=\"Helvetica,sans-Serif\" font-size=\"14.00\">gini = 0.0</text>\r\n",
       "<text text-anchor=\"middle\" x=\"52.5\" y=\"-37.8\" font-family=\"Helvetica,sans-Serif\" font-size=\"14.00\">samples = 27</text>\r\n",
       "<text text-anchor=\"middle\" x=\"52.5\" y=\"-22.8\" font-family=\"Helvetica,sans-Serif\" font-size=\"14.00\">value = [27, 0]</text>\r\n",
       "<text text-anchor=\"middle\" x=\"52.5\" y=\"-7.8\" font-family=\"Helvetica,sans-Serif\" font-size=\"14.00\">class = ALL</text>\r\n",
       "</g>\r\n",
       "<!-- 1&#45;&gt;2 -->\r\n",
       "<g id=\"edge2\" class=\"edge\"><title>1&#45;&gt;2</title>\r\n",
       "<path fill=\"none\" stroke=\"black\" d=\"M89.5306,-103.726C84.8619,-95.0615 79.9235,-85.8962 75.2272,-77.1802\"/>\r\n",
       "<polygon fill=\"black\" stroke=\"black\" points=\"78.2669,-75.4428 70.4422,-68.2996 72.1045,-78.7632 78.2669,-75.4428\"/>\r\n",
       "</g>\r\n",
       "<!-- 3 -->\r\n",
       "<g id=\"node4\" class=\"node\"><title>3</title>\r\n",
       "<path fill=\"#399de5\" stroke=\"black\" d=\"M208,-68C208,-68 135,-68 135,-68 129,-68 123,-62 123,-56 123,-56 123,-12 123,-12 123,-6 129,-0 135,-0 135,-0 208,-0 208,-0 214,-0 220,-6 220,-12 220,-12 220,-56 220,-56 220,-62 214,-68 208,-68\"/>\r\n",
       "<text text-anchor=\"middle\" x=\"171.5\" y=\"-52.8\" font-family=\"Helvetica,sans-Serif\" font-size=\"14.00\">gini = 0.0</text>\r\n",
       "<text text-anchor=\"middle\" x=\"171.5\" y=\"-37.8\" font-family=\"Helvetica,sans-Serif\" font-size=\"14.00\">samples = 1</text>\r\n",
       "<text text-anchor=\"middle\" x=\"171.5\" y=\"-22.8\" font-family=\"Helvetica,sans-Serif\" font-size=\"14.00\">value = [0, 1]</text>\r\n",
       "<text text-anchor=\"middle\" x=\"171.5\" y=\"-7.8\" font-family=\"Helvetica,sans-Serif\" font-size=\"14.00\">class = AML</text>\r\n",
       "</g>\r\n",
       "<!-- 1&#45;&gt;3 -->\r\n",
       "<g id=\"edge3\" class=\"edge\"><title>1&#45;&gt;3</title>\r\n",
       "<path fill=\"none\" stroke=\"black\" d=\"M133.842,-103.726C138.59,-95.0615 143.612,-85.8962 148.388,-77.1802\"/>\r\n",
       "<polygon fill=\"black\" stroke=\"black\" points=\"151.518,-78.7513 153.254,-68.2996 145.379,-75.3875 151.518,-78.7513\"/>\r\n",
       "</g>\r\n",
       "</g>\r\n",
       "</svg>\r\n"
      ],
      "text/plain": [
       "<graphviz.files.Source at 0x20bd0b62fa0>"
      ]
     },
     "execution_count": 43,
     "metadata": {},
     "output_type": "execute_result"
    }
   ],
   "source": [
    "# Now we will show the decision tree with gini criterion \n",
    "graph = plot_tree_graph(tree_clf, 1, 34)\n",
    "graph"
   ]
  },
  {
   "cell_type": "code",
   "execution_count": 71,
   "metadata": {},
   "outputs": [
    {
     "name": "stdout",
     "output_type": "stream",
     "text": [
      "1.0\n",
      "The standard decision tree with gini has an accuracy of 0.5294117647058824 and an error rate of 0.47058823529411764.\n"
     ]
    }
   ],
   "source": [
    "test_score1 = tree_clf.score(pca_train, patient_train.values.flatten())\n",
    "print(test_score1)\n",
    "accuracy = metrics.accuracy_score(patient_test, tree_clf.predict(pca_test))\n",
    "print(\"The standard decision tree with gini has an accuracy of {} and an error rate of {}.\".format(accuracy, 1-accuracy))"
   ]
  },
  {
   "cell_type": "code",
   "execution_count": 45,
   "metadata": {},
   "outputs": [
    {
     "data": {
      "image/png": "[encoded data removed]",
      "text/plain": [
       "<Figure size 432x288 with 1 Axes>"
      ]
     },
     "metadata": {
      "needs_background": "light"
     },
     "output_type": "display_data"
    }
   ],
   "source": [
    "# Classification Random Forrest\n",
    "rf = RandomForestClassifier(n_estimators = 10, criterion='gini', max_depth = 10)\n",
    "rf.fit(pca_train, patient_train.values.flatten())\n",
    "\n",
    "accuracy = metrics.accuracy_score(patient_test, rf.predict(pca_test))\n",
    "error = 1-accuracy\n",
    "\n",
    "accuracy_mean_train = np.array([])\n",
    "accuracy_mean_test = np.array([])\n",
    "\n",
    "patient_data_np = patient_data_np.ravel()\n",
    "\n",
    "# Plot accuracy test and train\n",
    "accuracy_mean_train_rf, accuracy_mean_test_rf = k_fold(10, 1, 41, 1, 'rf')\n",
    "plot_classification_error(1, 41, 1, accuracy_mean_train_rf, accuracy_mean_test_rf, 'tree depth')"
   ]
  },
  {
   "cell_type": "code",
   "execution_count": 46,
   "metadata": {},
   "outputs": [
    {
     "data": {
      "image/png": "[encoded data removed]",
      "text/plain": [
       "<Figure size 432x288 with 1 Axes>"
      ]
     },
     "metadata": {
      "needs_background": "light"
     },
     "output_type": "display_data"
    }
   ],
   "source": [
    "#Plot accuracy test and train for number of estimators\n",
    "accuracy_mean_train_estimator, accuracy_mean_test_estimator = k_fold(10, 1, 501, 50, 'rf_estimators')\n",
    "plot_classification_error(1, 501, 50, accuracy_mean_train_estimator, accuracy_mean_test_estimator, 'number of estimators')"
   ]
  },
  {
   "cell_type": "code",
   "execution_count": 47,
   "metadata": {},
   "outputs": [
    {
     "data": {
      "image/svg+xml": [
       "<?xml version=\"1.0\" encoding=\"UTF-8\" standalone=\"no\"?>\r\n",
       "<!DOCTYPE svg PUBLIC \"-//W3C//DTD SVG 1.1//EN\"\r\n",
       " \"http://www.w3.org/Graphics/SVG/1.1/DTD/svg11.dtd\">\r\n",
       "<!-- Generated by graphviz version 2.38.0 (20140413.2041)\r\n",
       " -->\r\n",
       "<!-- Title: Tree Pages: 1 -->\r\n",
       "<svg width=\"304pt\" height=\"314pt\"\r\n",
       " viewBox=\"0.00 0.00 304.00 314.00\" xmlns=\"http://www.w3.org/2000/svg\" xmlns:xlink=\"http://www.w3.org/1999/xlink\">\r\n",
       "<g id=\"graph0\" class=\"graph\" transform=\"scale(1 1) rotate(0) translate(4 310)\">\r\n",
       "<title>Tree</title>\r\n",
       "<polygon fill=\"white\" stroke=\"none\" points=\"-4,4 -4,-310 300,-310 300,4 -4,4\"/>\r\n",
       "<!-- 0 -->\r\n",
       "<g id=\"node1\" class=\"node\"><title>0</title>\r\n",
       "<path fill=\"#eeae80\" stroke=\"black\" d=\"M164,-306C164,-306 73,-306 73,-306 67,-306 61,-300 61,-294 61,-294 61,-235 61,-235 61,-229 67,-223 73,-223 73,-223 164,-223 164,-223 170,-223 176,-229 176,-235 176,-235 176,-294 176,-294 176,-300 170,-306 164,-306\"/>\r\n",
       "<text text-anchor=\"middle\" x=\"118.5\" y=\"-290.8\" font-family=\"Helvetica,sans-Serif\" font-size=\"14.00\">4 &lt;= &#45;4275.033</text>\r\n",
       "<text text-anchor=\"middle\" x=\"118.5\" y=\"-275.8\" font-family=\"Helvetica,sans-Serif\" font-size=\"14.00\">gini = 0.388</text>\r\n",
       "<text text-anchor=\"middle\" x=\"118.5\" y=\"-260.8\" font-family=\"Helvetica,sans-Serif\" font-size=\"14.00\">samples = 27</text>\r\n",
       "<text text-anchor=\"middle\" x=\"118.5\" y=\"-245.8\" font-family=\"Helvetica,sans-Serif\" font-size=\"14.00\">value = [28, 10]</text>\r\n",
       "<text text-anchor=\"middle\" x=\"118.5\" y=\"-230.8\" font-family=\"Helvetica,sans-Serif\" font-size=\"14.00\">class = ALL</text>\r\n",
       "</g>\r\n",
       "<!-- 1 -->\r\n",
       "<g id=\"node2\" class=\"node\"><title>1</title>\r\n",
       "<path fill=\"#e58139\" stroke=\"black\" d=\"M93,-179.5C93,-179.5 12,-179.5 12,-179.5 6,-179.5 0,-173.5 0,-167.5 0,-167.5 0,-123.5 0,-123.5 0,-117.5 6,-111.5 12,-111.5 12,-111.5 93,-111.5 93,-111.5 99,-111.5 105,-117.5 105,-123.5 105,-123.5 105,-167.5 105,-167.5 105,-173.5 99,-179.5 93,-179.5\"/>\r\n",
       "<text text-anchor=\"middle\" x=\"52.5\" y=\"-164.3\" font-family=\"Helvetica,sans-Serif\" font-size=\"14.00\">gini = 0.0</text>\r\n",
       "<text text-anchor=\"middle\" x=\"52.5\" y=\"-149.3\" font-family=\"Helvetica,sans-Serif\" font-size=\"14.00\">samples = 9</text>\r\n",
       "<text text-anchor=\"middle\" x=\"52.5\" y=\"-134.3\" font-family=\"Helvetica,sans-Serif\" font-size=\"14.00\">value = [16, 0]</text>\r\n",
       "<text text-anchor=\"middle\" x=\"52.5\" y=\"-119.3\" font-family=\"Helvetica,sans-Serif\" font-size=\"14.00\">class = ALL</text>\r\n",
       "</g>\r\n",
       "<!-- 0&#45;&gt;1 -->\r\n",
       "<g id=\"edge1\" class=\"edge\"><title>0&#45;&gt;1</title>\r\n",
       "<path fill=\"none\" stroke=\"black\" d=\"M95.6016,-222.907C89.3148,-211.763 82.4866,-199.658 76.158,-188.439\"/>\r\n",
       "<polygon fill=\"black\" stroke=\"black\" points=\"79.1712,-186.657 71.2096,-179.667 73.0744,-190.096 79.1712,-186.657\"/>\r\n",
       "<text text-anchor=\"middle\" x=\"64.4981\" y=\"-200.049\" font-family=\"Helvetica,sans-Serif\" font-size=\"14.00\">True</text>\r\n",
       "</g>\r\n",
       "<!-- 2 -->\r\n",
       "<g id=\"node3\" class=\"node\"><title>2</title>\r\n",
       "<path fill=\"#fbeade\" stroke=\"black\" d=\"M234,-187C234,-187 135,-187 135,-187 129,-187 123,-181 123,-175 123,-175 123,-116 123,-116 123,-110 129,-104 135,-104 135,-104 234,-104 234,-104 240,-104 246,-110 246,-116 246,-116 246,-175 246,-175 246,-181 240,-187 234,-187\"/>\r\n",
       "<text text-anchor=\"middle\" x=\"184.5\" y=\"-171.8\" font-family=\"Helvetica,sans-Serif\" font-size=\"14.00\">5 &lt;= &#45;11986.064</text>\r\n",
       "<text text-anchor=\"middle\" x=\"184.5\" y=\"-156.8\" font-family=\"Helvetica,sans-Serif\" font-size=\"14.00\">gini = 0.496</text>\r\n",
       "<text text-anchor=\"middle\" x=\"184.5\" y=\"-141.8\" font-family=\"Helvetica,sans-Serif\" font-size=\"14.00\">samples = 18</text>\r\n",
       "<text text-anchor=\"middle\" x=\"184.5\" y=\"-126.8\" font-family=\"Helvetica,sans-Serif\" font-size=\"14.00\">value = [12, 10]</text>\r\n",
       "<text text-anchor=\"middle\" x=\"184.5\" y=\"-111.8\" font-family=\"Helvetica,sans-Serif\" font-size=\"14.00\">class = ALL</text>\r\n",
       "</g>\r\n",
       "<!-- 0&#45;&gt;2 -->\r\n",
       "<g id=\"edge2\" class=\"edge\"><title>0&#45;&gt;2</title>\r\n",
       "<path fill=\"none\" stroke=\"black\" d=\"M141.398,-222.907C146.313,-214.195 151.558,-204.897 156.637,-195.893\"/>\r\n",
       "<polygon fill=\"black\" stroke=\"black\" points=\"159.777,-197.45 161.642,-187.021 153.68,-194.011 159.777,-197.45\"/>\r\n",
       "<text text-anchor=\"middle\" x=\"168.354\" y=\"-207.403\" font-family=\"Helvetica,sans-Serif\" font-size=\"14.00\">False</text>\r\n",
       "</g>\r\n",
       "<!-- 3 -->\r\n",
       "<g id=\"node4\" class=\"node\"><title>3</title>\r\n",
       "<path fill=\"#399de5\" stroke=\"black\" d=\"M161,-68C161,-68 88,-68 88,-68 82,-68 76,-62 76,-56 76,-56 76,-12 76,-12 76,-6 82,-0 88,-0 88,-0 161,-0 161,-0 167,-0 173,-6 173,-12 173,-12 173,-56 173,-56 173,-62 167,-68 161,-68\"/>\r\n",
       "<text text-anchor=\"middle\" x=\"124.5\" y=\"-52.8\" font-family=\"Helvetica,sans-Serif\" font-size=\"14.00\">gini = 0.0</text>\r\n",
       "<text text-anchor=\"middle\" x=\"124.5\" y=\"-37.8\" font-family=\"Helvetica,sans-Serif\" font-size=\"14.00\">samples = 5</text>\r\n",
       "<text text-anchor=\"middle\" x=\"124.5\" y=\"-22.8\" font-family=\"Helvetica,sans-Serif\" font-size=\"14.00\">value = [0, 6]</text>\r\n",
       "<text text-anchor=\"middle\" x=\"124.5\" y=\"-7.8\" font-family=\"Helvetica,sans-Serif\" font-size=\"14.00\">class = AML</text>\r\n",
       "</g>\r\n",
       "<!-- 2&#45;&gt;3 -->\r\n",
       "<g id=\"edge3\" class=\"edge\"><title>2&#45;&gt;3</title>\r\n",
       "<path fill=\"none\" stroke=\"black\" d=\"M162.158,-103.726C157.41,-95.0615 152.388,-85.8962 147.612,-77.1802\"/>\r\n",
       "<polygon fill=\"black\" stroke=\"black\" points=\"150.621,-75.3875 142.746,-68.2996 144.482,-78.7513 150.621,-75.3875\"/>\r\n",
       "</g>\r\n",
       "<!-- 4 -->\r\n",
       "<g id=\"node5\" class=\"node\"><title>4</title>\r\n",
       "<path fill=\"#eeab7b\" stroke=\"black\" d=\"M284,-68C284,-68 203,-68 203,-68 197,-68 191,-62 191,-56 191,-56 191,-12 191,-12 191,-6 197,-0 203,-0 203,-0 284,-0 284,-0 290,-0 296,-6 296,-12 296,-12 296,-56 296,-56 296,-62 290,-68 284,-68\"/>\r\n",
       "<text text-anchor=\"middle\" x=\"243.5\" y=\"-52.8\" font-family=\"Helvetica,sans-Serif\" font-size=\"14.00\">gini = 0.375</text>\r\n",
       "<text text-anchor=\"middle\" x=\"243.5\" y=\"-37.8\" font-family=\"Helvetica,sans-Serif\" font-size=\"14.00\">samples = 13</text>\r\n",
       "<text text-anchor=\"middle\" x=\"243.5\" y=\"-22.8\" font-family=\"Helvetica,sans-Serif\" font-size=\"14.00\">value = [12, 4]</text>\r\n",
       "<text text-anchor=\"middle\" x=\"243.5\" y=\"-7.8\" font-family=\"Helvetica,sans-Serif\" font-size=\"14.00\">class = ALL</text>\r\n",
       "</g>\r\n",
       "<!-- 2&#45;&gt;4 -->\r\n",
       "<g id=\"edge4\" class=\"edge\"><title>2&#45;&gt;4</title>\r\n",
       "<path fill=\"none\" stroke=\"black\" d=\"M206.469,-103.726C211.138,-95.0615 216.076,-85.8962 220.773,-77.1802\"/>\r\n",
       "<polygon fill=\"black\" stroke=\"black\" points=\"223.896,-78.7632 225.558,-68.2996 217.733,-75.4428 223.896,-78.7632\"/>\r\n",
       "</g>\r\n",
       "</g>\r\n",
       "</svg>\r\n"
      ],
      "text/plain": [
       "<graphviz.files.Source at 0x20bd0adaf70>"
      ]
     },
     "execution_count": 47,
     "metadata": {},
     "output_type": "execute_result"
    }
   ],
   "source": [
    "#visualisation random forest classifier\n",
    "rf = RandomForestClassifier(n_estimators = 100,max_features = 'sqrt', criterion='gini', max_depth = 2)\n",
    "rf = rf.fit(pca_train, patient_train.values.flatten())\n",
    "\n",
    "estimator = rf.estimators_[99]\n",
    "\n",
    "graph_rf = plot_tree_graph(estimator,1, 34)\n",
    "\n",
    "graph_rf\n"
   ]
  },
  {
   "cell_type": "code",
   "execution_count": 48,
   "metadata": {},
   "outputs": [
    {
     "name": "stdout",
     "output_type": "stream",
     "text": [
      "0.9736842105263158\n",
      "The Random forrest has an accuracy of 0.6176470588235294 and an error rate of 0.38235294117647056.\n"
     ]
    }
   ],
   "source": [
    "# Use the forest's predict method on the test data\n",
    "test_score = rf.score(pca_train, patient_train.values.flatten())\n",
    "print(test_score)\n",
    "accuracy = metrics.accuracy_score(patient_test, rf.predict(pca_test))\n",
    "print(\"The Random forrest has an accuracy of {} and an error rate of {}.\".format(accuracy, 1-accuracy))"
   ]
  },
  {
   "cell_type": "code",
   "execution_count": 22,
   "metadata": {
    "scrolled": false
   },
   "outputs": [
    {
     "name": "stdout",
     "output_type": "stream",
     "text": [
      "(38, 33)\n"
     ]
    },
    {
     "data": {
      "image/svg+xml": [
       "<?xml version=\"1.0\" encoding=\"UTF-8\" standalone=\"no\"?>\r\n",
       "<!DOCTYPE svg PUBLIC \"-//W3C//DTD SVG 1.1//EN\"\r\n",
       " \"http://www.w3.org/Graphics/SVG/1.1/DTD/svg11.dtd\">\r\n",
       "<!-- Generated by graphviz version 2.38.0 (20140413.2041)\r\n",
       " -->\r\n",
       "<!-- Title: %3 Pages: 1 -->\r\n",
       "<svg width=\"326pt\" height=\"218pt\"\r\n",
       " viewBox=\"0.00 0.00 325.50 218.00\" xmlns=\"http://www.w3.org/2000/svg\" xmlns:xlink=\"http://www.w3.org/1999/xlink\">\r\n",
       "<g id=\"graph0\" class=\"graph\" transform=\"scale(1 1) rotate(0) translate(4 214)\">\r\n",
       "<title>%3</title>\r\n",
       "<polygon fill=\"white\" stroke=\"none\" points=\"-4,4 -4,-214 321.5,-214 321.5,4 -4,4\"/>\r\n",
       "<!-- 0 -->\r\n",
       "<g id=\"node1\" class=\"node\"><title>0</title>\r\n",
       "<path fill=\"#78bceb\" stroke=\"black\" d=\"M247.5,-210C247.5,-210 177.5,-210 177.5,-210 171.5,-210 165.5,-204 165.5,-198 165.5,-198 165.5,-186 165.5,-186 165.5,-180 171.5,-174 177.5,-174 177.5,-174 247.5,-174 247.5,-174 253.5,-174 259.5,-180 259.5,-186 259.5,-186 259.5,-198 259.5,-198 259.5,-204 253.5,-210 247.5,-210\"/>\r\n",
       "<text text-anchor=\"middle\" x=\"212.5\" y=\"-188.3\" font-family=\"Times New Roman,serif\" font-size=\"14.00\">f1&lt;2217.8811</text>\r\n",
       "</g>\r\n",
       "<!-- 1 -->\r\n",
       "<g id=\"node2\" class=\"node\"><title>1</title>\r\n",
       "<path fill=\"#78bceb\" stroke=\"black\" d=\"M171.5,-123C171.5,-123 97.5,-123 97.5,-123 91.5,-123 85.5,-117 85.5,-111 85.5,-111 85.5,-99 85.5,-99 85.5,-93 91.5,-87 97.5,-87 97.5,-87 171.5,-87 171.5,-87 177.5,-87 183.5,-93 183.5,-99 183.5,-99 183.5,-111 183.5,-111 183.5,-117 177.5,-123 171.5,-123\"/>\r\n",
       "<text text-anchor=\"middle\" x=\"134.5\" y=\"-101.3\" font-family=\"Times New Roman,serif\" font-size=\"14.00\">f6&lt;&#45;14857.334</text>\r\n",
       "</g>\r\n",
       "<!-- 0&#45;&gt;1 -->\r\n",
       "<g id=\"edge1\" class=\"edge\"><title>0&#45;&gt;1</title>\r\n",
       "<path fill=\"none\" stroke=\"#0000ff\" d=\"M181.596,-173.882C174.097,-168.785 166.516,-162.737 160.5,-156 154.317,-149.076 149.146,-140.417 145.086,-132.26\"/>\r\n",
       "<polygon fill=\"#0000ff\" stroke=\"#0000ff\" points=\"148.203,-130.662 140.836,-123.048 141.847,-133.595 148.203,-130.662\"/>\r\n",
       "<text text-anchor=\"middle\" x=\"195\" y=\"-144.8\" font-family=\"Times New Roman,serif\" font-size=\"14.00\">yes, missing</text>\r\n",
       "</g>\r\n",
       "<!-- 2 -->\r\n",
       "<g id=\"node3\" class=\"node\"><title>2</title>\r\n",
       "<path fill=\"#e48038\" stroke=\"black\" d=\"M305.5,-123C305.5,-123 213.5,-123 213.5,-123 207.5,-123 201.5,-117 201.5,-111 201.5,-111 201.5,-99 201.5,-99 201.5,-93 207.5,-87 213.5,-87 213.5,-87 305.5,-87 305.5,-87 311.5,-87 317.5,-93 317.5,-99 317.5,-99 317.5,-111 317.5,-111 317.5,-117 311.5,-123 305.5,-123\"/>\r\n",
       "<text text-anchor=\"middle\" x=\"259.5\" y=\"-101.3\" font-family=\"Times New Roman,serif\" font-size=\"14.00\">leaf=0.299140513</text>\r\n",
       "</g>\r\n",
       "<!-- 0&#45;&gt;2 -->\r\n",
       "<g id=\"edge2\" class=\"edge\"><title>0&#45;&gt;2</title>\r\n",
       "<path fill=\"none\" stroke=\"#ff0000\" d=\"M222.011,-173.799C228.637,-161.817 237.594,-145.617 245.092,-132.057\"/>\r\n",
       "<polygon fill=\"#ff0000\" stroke=\"#ff0000\" points=\"248.227,-133.62 250.003,-123.175 242.101,-130.233 248.227,-133.62\"/>\r\n",
       "<text text-anchor=\"middle\" x=\"247\" y=\"-144.8\" font-family=\"Times New Roman,serif\" font-size=\"14.00\">no</text>\r\n",
       "</g>\r\n",
       "<!-- 3 -->\r\n",
       "<g id=\"node4\" class=\"node\"><title>3</title>\r\n",
       "<path fill=\"#e48038\" stroke=\"black\" d=\"M115,-36C115,-36 12,-36 12,-36 6,-36 -7.10543e-015,-30 -7.10543e-015,-24 -7.10543e-015,-24 -7.10543e-015,-12 -7.10543e-015,-12 -7.10543e-015,-6 6,-0 12,-0 12,-0 115,-0 115,-0 121,-0 127,-6 127,-12 127,-12 127,-24 127,-24 127,-30 121,-36 115,-36\"/>\r\n",
       "<text text-anchor=\"middle\" x=\"63.5\" y=\"-14.3\" font-family=\"Times New Roman,serif\" font-size=\"14.00\">leaf=&#45;0.0747156143</text>\r\n",
       "</g>\r\n",
       "<!-- 1&#45;&gt;3 -->\r\n",
       "<g id=\"edge3\" class=\"edge\"><title>1&#45;&gt;3</title>\r\n",
       "<path fill=\"none\" stroke=\"#0000ff\" d=\"M120.132,-86.799C109.835,-74.4713 95.8081,-57.6787 84.2907,-43.8902\"/>\r\n",
       "<polygon fill=\"#0000ff\" stroke=\"#0000ff\" points=\"86.9435,-41.6065 77.8465,-36.1754 81.5711,-46.094 86.9435,-41.6065\"/>\r\n",
       "<text text-anchor=\"middle\" x=\"138\" y=\"-57.8\" font-family=\"Times New Roman,serif\" font-size=\"14.00\">yes, missing</text>\r\n",
       "</g>\r\n",
       "<!-- 4 -->\r\n",
       "<g id=\"node5\" class=\"node\"><title>4</title>\r\n",
       "<path fill=\"#e48038\" stroke=\"black\" d=\"M253.5,-36C253.5,-36 157.5,-36 157.5,-36 151.5,-36 145.5,-30 145.5,-24 145.5,-24 145.5,-12 145.5,-12 145.5,-6 151.5,-0 157.5,-0 157.5,-0 253.5,-0 253.5,-0 259.5,-0 265.5,-6 265.5,-12 265.5,-12 265.5,-24 265.5,-24 265.5,-30 259.5,-36 253.5,-36\"/>\r\n",
       "<text text-anchor=\"middle\" x=\"205.5\" y=\"-14.3\" font-family=\"Times New Roman,serif\" font-size=\"14.00\">leaf=&#45;0.356181324</text>\r\n",
       "</g>\r\n",
       "<!-- 1&#45;&gt;4 -->\r\n",
       "<g id=\"edge4\" class=\"edge\"><title>1&#45;&gt;4</title>\r\n",
       "<path fill=\"none\" stroke=\"#ff0000\" d=\"M158.064,-86.812C164.468,-81.5148 171.114,-75.384 176.5,-69 182.546,-61.8335 188.042,-53.2375 192.584,-45.2102\"/>\r\n",
       "<polygon fill=\"#ff0000\" stroke=\"#ff0000\" points=\"195.794,-46.6319 197.453,-36.1679 189.631,-43.313 195.794,-46.6319\"/>\r\n",
       "<text text-anchor=\"middle\" x=\"195\" y=\"-57.8\" font-family=\"Times New Roman,serif\" font-size=\"14.00\">no</text>\r\n",
       "</g>\r\n",
       "</g>\r\n",
       "</svg>\r\n"
      ],
      "text/plain": [
       "<graphviz.files.Source at 0x19bcc9fb2b0>"
      ]
     },
     "execution_count": 22,
     "metadata": {},
     "output_type": "execute_result"
    }
   ],
   "source": [
    "# Classification Gradient Boost\n",
    "print(pca_train.shape)\n",
    "#print(patient_train_np)\n",
    "#df = pd.DataFrame(pca_train, index=pca_train[:,0])\n",
    "#p = pd.DataFrame(patient_train_np)\n",
    "#print(df)\n",
    "#pd.DataFrame(d['data'],columns=d['feature_names']),d['target']\n",
    "xb = xgb.XGBClassifier(n_estimators = 1000, max_depth = 4, eval_metric='error', use_label_encoder=False)\n",
    "xb = xb.fit(pca_train, patient_train.values.flatten())\n",
    "\n",
    "#print(xb.get_booster().get_dump())\n",
    "\n",
    "#fig, ax = plt.subplots(figsize=(10, 10))\n",
    "#xgb.plot_tree(xb.get_booster(), num_trees=4, ax=ax)\n",
    "#plt.show()\n",
    "\n",
    "cd = {'shape': 'box',\n",
    " 'style': 'filled,rounded',\n",
    " 'fillcolor': '#78bceb'}\n",
    "\n",
    "lf = {'shape': 'box',\n",
    " 'style': 'filled, rounded',\n",
    " 'fillcolor': '#e48038'}\n",
    "\n",
    "xgb.to_graphviz(xb,condition_node_params = cd, leaf_node_params = lf, num_trees=2, feature_names= \"test\")\n",
    "\n",
    "#estimator = rf.get_booster().get_dump()\n",
    "\n",
    "#graph_rf = plot_tree_graph(xb, 1, 34)\n",
    "\n",
    "#graph_rf\n",
    "#print (estimator)\n"
   ]
  },
  {
   "cell_type": "code",
   "execution_count": 49,
   "metadata": {},
   "outputs": [
    {
     "name": "stdout",
     "output_type": "stream",
     "text": [
      "The XGBoost has an accuracy of 0.5882352941176471 and an error rate of 0.4117647058823529.\n"
     ]
    }
   ],
   "source": [
    "accuracy = metrics.accuracy_score(patient_test, xb.predict(pca_test))\n",
    "\n",
    "print(\"The XGBoost has an accuracy of {} and an error rate of {}.\".format(accuracy, 1-accuracy))"
   ]
  },
  {
   "cell_type": "code",
   "execution_count": null,
   "metadata": {},
   "outputs": [],
   "source": []
  }
 ],
 "metadata": {
  "kernelspec": {
   "display_name": "Python 3",
   "language": "python",
   "name": "python3"
  },
  "language_info": {
   "codemirror_mode": {
    "name": "ipython",
    "version": 3
   },
   "file_extension": ".py",
   "mimetype": "text/x-python",
   "name": "python",
   "nbconvert_exporter": "python",
   "pygments_lexer": "ipython3",
   "version": "3.8.3"
  }
 },
 "nbformat": 4,
 "nbformat_minor": 4
}
