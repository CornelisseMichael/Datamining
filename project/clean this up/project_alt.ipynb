{
 "cells": [
  {
   "cell_type": "code",
   "execution_count": null,
   "metadata": {},
   "outputs": [],
   "source": [
    "NAME = \"Michael Cornelisse\"\n",
    "STUDENT_NUMBER = \"s1059020\"\n",
    "COLLABORATOR_NAME = \"Nienke Helmers\"\n",
    "COLLABORATOR_STUDENT_NUMBER = \"s1016904\""
   ]
  },
  {
   "cell_type": "code",
   "execution_count": null,
   "metadata": {},
   "outputs": [],
   "source": [
    "import os\n",
    "import numpy as np\n",
    "import pandas as pd\n",
    "import matplotlib.pyplot as plt\n",
    "from sklearn import preprocessing\n",
    "from sklearn.preprocessing import normalize\n",
    "from sklearn.model_selection import KFold\n",
    "from sklearn.decomposition import PCA\n",
    "from sklearn import metrics\n",
    "from sklearn import tree\n",
    "from sklearn.tree import export_graphviz\n",
    "from sklearn.ensemble import RandomForestClassifier, GradientBoostingClassifier\n",
    "from graphviz import Source\n",
    "import xgboost as xgb\n",
    "from xgboost import plot_tree\n",
    "import seaborn as sns"
   ]
  },
  {
   "cell_type": "code",
   "execution_count": null,
   "metadata": {},
   "outputs": [],
   "source": [
    "y = pd.read_csv('data/archive/actual.csv')\n",
    "train = pd.read_csv('data/archive/data_set_ALL_AML_train.csv')\n",
    "test = pd.read_csv('data/archive/data_set_ALL_AML_independent.csv')\n",
    "y.head()"
   ]
  },
  {
   "cell_type": "code",
   "execution_count": null,
   "metadata": {},
   "outputs": [],
   "source": [
    "train.head()"
   ]
  },
  {
   "cell_type": "code",
   "execution_count": null,
   "metadata": {},
   "outputs": [],
   "source": [
    "test.head()"
   ]
  },
  {
   "cell_type": "code",
   "execution_count": null,
   "metadata": {},
   "outputs": [],
   "source": [
    "# Clean test and training data\n",
    "train_cols = [col for col in train.columns if \"call\" not in col] \n",
    "train  = train[train_cols] \n",
    "test_cols = [col for col in test.columns if \"call\" not in col] \n",
    "test  = test[test_cols]\n",
    "\n",
    "cols_to_drop = ['Gene Description', 'Gene Accession Number']\n",
    "train = train.drop(cols_to_drop, axis=1)\n",
    "test = test.drop(cols_to_drop, axis=1)\n",
    "\n",
    "train = train.T\n",
    "test = test.T\n",
    "\n",
    "train.index=pd.to_numeric(train.index)\n",
    "test.index=pd.to_numeric(test.index)\n",
    "\n"
   ]
  },
  {
   "cell_type": "code",
   "execution_count": null,
   "metadata": {},
   "outputs": [],
   "source": [
    "print(train.index)\n",
    "print(test.index)"
   ]
  },
  {
   "cell_type": "code",
   "execution_count": null,
   "metadata": {},
   "outputs": [],
   "source": [
    "train.sort_index(inplace=True)\n",
    "print(train.index)\n",
    "\n",
    "test.sort_index(inplace=True)\n",
    "print(test.index)"
   ]
  },
  {
   "cell_type": "code",
   "execution_count": null,
   "metadata": {},
   "outputs": [],
   "source": [
    "# clean patient data\n",
    "y['cancer'].value_counts()\n",
    "y = y.replace({'ALL': 0, 'AML': 1})\n",
    "plt.figure(figsize=(4,8))\n",
    "colors = [\"AML\", \"ALL\"]\n",
    "sns.countplot('cancer', data=y, palette = \"Set1\")\n",
    "plt.title('Class Distributions \\n (0: AML || 1: ALL)', fontsize=14)"
   ]
  },
  {
   "cell_type": "code",
   "execution_count": null,
   "metadata": {},
   "outputs": [],
   "source": [
    "X_train = train.reset_index(drop=True) \n",
    "y_train = y[y.patient <= 38].reset_index(drop=True) \n",
    "X_test = test.reset_index(drop=True) \n",
    "y_test = y[y.patient > 38].reset_index(drop=True) \n"
   ]
  },
  {
   "cell_type": "code",
   "execution_count": null,
   "metadata": {},
   "outputs": [],
   "source": [
    "X_test.head()"
   ]
  },
  {
   "cell_type": "code",
   "execution_count": null,
   "metadata": {},
   "outputs": [],
   "source": [
    "test.head()"
   ]
  },
  {
   "cell_type": "code",
   "execution_count": null,
   "metadata": {},
   "outputs": [],
   "source": []
  },
  {
   "cell_type": "code",
   "execution_count": null,
   "metadata": {},
   "outputs": [],
   "source": []
  }
 ],
 "metadata": {
  "kernelspec": {
   "display_name": "Python 3",
   "language": "python",
   "name": "python3"
  },
  "language_info": {
   "codemirror_mode": {
    "name": "ipython",
    "version": 3
   },
   "file_extension": ".py",
   "mimetype": "text/x-python",
   "name": "python",
   "nbconvert_exporter": "python",
   "pygments_lexer": "ipython3",
   "version": "3.8.3"
  }
 },
 "nbformat": 4,
 "nbformat_minor": 4
}
