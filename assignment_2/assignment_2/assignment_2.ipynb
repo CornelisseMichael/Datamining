{
 "cells": [
  {
   "cell_type": "markdown",
   "metadata": {},
   "source": [
    "Before you turn this problem in, make sure everything runs as expected. First, **restart the kernel** (in the menubar, select Kernel$\\rightarrow$Restart) and then **run all cells** (in the menubar, select Cell$\\rightarrow$Run All).\n",
    "\n",
    "Make sure you fill in any place that says `YOUR CODE HERE` or \"YOUR ANSWER HERE\", as well as your name and collaborators below:"
   ]
  },
  {
   "cell_type": "code",
   "execution_count": 3,
   "metadata": {},
   "outputs": [],
   "source": [
    "NAME = \"Michael Cornelisse\"\n",
    "STUDENT_NUMBER = \"s1059020\"\n",
    "COLLABORATOR_NAME = \"Nienke Helmers\"\n",
    "COLLABORATOR_STUDENT_NUMBER = \"s1016904\""
   ]
  },
  {
   "cell_type": "markdown",
   "metadata": {},
   "source": [
    "---"
   ]
  },
  {
   "cell_type": "markdown",
   "metadata": {
    "deletable": false,
    "editable": false,
    "nbgrader": {
     "cell_type": "markdown",
     "checksum": "48162b78042be666764d0bddd678e34a",
     "grade": false,
     "grade_id": "cell-38205290cd395f44",
     "locked": true,
     "schema_version": 3,
     "solution": false,
     "task": false
    }
   },
   "source": [
    "# Assignment 2\n",
    "\n",
    "## Objective of this assignment\n",
    "The objective of this assignment is to get an understanding of the many ways data can be visualized. Upon completing this exercise you should be familiar with histograms, boxplots and scatter plots.\n",
    "\n",
    "\n",
    "## ** Important: ** When handing in your homework:\n",
    "+ Hand in the notebook **(and nothing else)** named as follows: StudentName1_snumber_StudentName2_snumber.ipynb\n",
    "+ Provide clear and complete answers to the questions below under a separate header (not hidden somewhere in your source code), and make sure to explain your answers / motivate your choices. Add Markdown cells where necessary.\n",
    "+ Source code, output graphs, derivations, etc., should be included in the notebook.\n",
    "+ Hand-in: upload to Brightspace.\n",
    "+ Include name, student number, assignment (especially in filenames)!\n",
    "+ When working in pairs only one of you should upload the assignment, and report the name of your partner in your filename.\n",
    "+ Use the Brightspace discussion board or email the student assistants for questions on how to complete the exercises.\n",
    "+ If you find mistakes/have suggestions/would like to complain about the assigment material itself, please email [Roel] at `Roel.Bouman@ru.nl`\n",
    "\n",
    "\n",
    "## Advised Reading and Exercise Material\n",
    "**The following reading material is recommended:**\n",
    "\n",
    "- Pang-Ning Tan, Michael Steinbach, and Vipin Kumar, *Introduction to Data Mining*, section 3.3\n",
    "- Jonathon Shlens, *A tutorial on Principal Component Analysis* , https://arxiv.org/abs/1404.1100\n",
    "\n",
    "\n",
    "## 2.1 Visualizing and preprocessing wine data (4.5 points)\n",
    "\n",
    "In this part of the exercise we will consider two data sets related to red and white variants of the Portuguese \"Vinho Verde\" wine[1]. The data has been downloaded from http://archive.ics.uci.edu/ml/datasets/Wine+Quality. Only physicochemical and sensory attributes are available, i.e., there is no data about grape types, wine brand, wine selling price, etc. The data has the following attributes:\n",
    "\n",
    "| #   |  Attribute      | Unit |\n",
    "| --- |:--------------- |:---- |\n",
    "| 1   | Fixed acidity (tartaric) | g/dm3 |\n",
    "| 2   | Volatile acidity (acetic) | g/dm3 |\n",
    "| 3   | Citric acid | g/dm3 |\n",
    "| 4   | Residual sugar | g/dm3 |\n",
    "| 5   | Chlorides | g/dm3 |\n",
    "| 6   | Free sulfur dioxide | mg/dm3 |\n",
    "| 7   | Total sulfur dioxide | mg/dm3 |\n",
    "| 8   | Density | g/cm3 |\n",
    "| 9   | pH | pH |\n",
    "| 10  | Sulphates | g/dm3 |\n",
    "| 11  | Alcohol | % vol. |\n",
    "| 12  | Quality score | 0-10 |\n",
    "\n",
    "Attributes 1-11 are based on physicochemical tests and attribute 12 on human judging. The data set has many observations that can be considered outliers and in order to carry out analyses it is important to remove the corrupt observations.\n",
    "\n",
    "The aim of this exercise is to use visualization to identify outliers and remove these outliers from the data. It might be necessary to remove some outliers before other outlying observations become visible. Thus, the process of finding and removing outliers is often iterative. The wine data is stored in a MATLAB file, `../data/wine.mat`\n",
    "\n",
    "*This exercise is based upon material kindly provided by the Cognitive System Section, DTU Compute,\n",
    "http://cogsys.compute.dtu.dk. Any sale or commercial distribution is strictly forbidden.*\n",
    "\n",
    "> 2.1.1) (1.5pts)\n",
    "1. Load the data into Python using the `scipy.io.loadmat()` function. Save the numerical data to a variable called `wine_data`.\n",
    "2. This data set contains many observations that can be considered outliers. Plot a box plot and a histogram for each attribute to visualize the outliers in the data set. Use subplotting to nicely visualize these plots. Add titles to each subplot so it's easy to see which attribute is depicted where. Make sure that each attribute is visualized on an applicable scale.\n",
    "\n",
    "> Helpful tips:\n",
    " + *The object in wine.mat is a dictionary, see: https://www.w3schools.com/python/python_dictionaries.asp. The attributes are stored in matrix `X`. Attribute names and class names are stored in the `attributeNames` object, which contain arrays, of which the first element contains the names*\n",
    " + *You can use the function `matplotlib.pyplot.subplots()` to plot several plots in one figure. A simple example an be found at: https://matplotlib.org/2.0.2/examples/pylab_examples/subplots_demo.html, take a look at the 2D subplot specifically. There is also an example of a subplot in the first assignment. If you're handy, you can devise a for loop which fills up the subplot area!* \n",
    "\n",
    "\n",
    "**Make sure to take a look at the documentation of functions before you try and use them!**\n"
   ]
  },
  {
   "cell_type": "code",
   "execution_count": 19,
   "metadata": {
    "deletable": false,
    "nbgrader": {
     "cell_type": "code",
     "checksum": "82775bbd6cc3496f3ea5ce0ab9b9e422",
     "grade": false,
     "grade_id": "cell-63b79c3ac1d56f98",
     "locked": false,
     "schema_version": 3,
     "solution": true,
     "task": false
    }
   },
   "outputs": [
    {
     "data": {
      "text/html": [
       "<div>\n",
       "<style scoped>\n",
       "    .dataframe tbody tr th:only-of-type {\n",
       "        vertical-align: middle;\n",
       "    }\n",
       "\n",
       "    .dataframe tbody tr th {\n",
       "        vertical-align: top;\n",
       "    }\n",
       "\n",
       "    .dataframe thead th {\n",
       "        text-align: right;\n",
       "    }\n",
       "</style>\n",
       "<table border=\"1\" class=\"dataframe\">\n",
       "  <thead>\n",
       "    <tr style=\"text-align: right;\">\n",
       "      <th></th>\n",
       "      <th>Fixed acidity</th>\n",
       "      <th>Volatile acidity</th>\n",
       "      <th>Citric acid</th>\n",
       "      <th>Residual sugar</th>\n",
       "      <th>Chlorides</th>\n",
       "      <th>Free sulfur dioxide</th>\n",
       "      <th>Total sulfur dioxide</th>\n",
       "      <th>Density</th>\n",
       "      <th>pH</th>\n",
       "      <th>Sulphates</th>\n",
       "      <th>Alcohol</th>\n",
       "      <th>Quality score (0--10)</th>\n",
       "    </tr>\n",
       "  </thead>\n",
       "  <tbody>\n",
       "    <tr>\n",
       "      <th>0</th>\n",
       "      <td>7.4</td>\n",
       "      <td>0.70</td>\n",
       "      <td>0.00</td>\n",
       "      <td>1.9</td>\n",
       "      <td>0.076</td>\n",
       "      <td>11.0</td>\n",
       "      <td>34.0</td>\n",
       "      <td>0.9978</td>\n",
       "      <td>3.51</td>\n",
       "      <td>0.56</td>\n",
       "      <td>9.4</td>\n",
       "      <td>5.0</td>\n",
       "    </tr>\n",
       "    <tr>\n",
       "      <th>1</th>\n",
       "      <td>7.8</td>\n",
       "      <td>0.88</td>\n",
       "      <td>0.00</td>\n",
       "      <td>2.6</td>\n",
       "      <td>0.098</td>\n",
       "      <td>25.0</td>\n",
       "      <td>67.0</td>\n",
       "      <td>0.9968</td>\n",
       "      <td>3.20</td>\n",
       "      <td>0.68</td>\n",
       "      <td>9.8</td>\n",
       "      <td>5.0</td>\n",
       "    </tr>\n",
       "    <tr>\n",
       "      <th>2</th>\n",
       "      <td>7.8</td>\n",
       "      <td>0.76</td>\n",
       "      <td>0.04</td>\n",
       "      <td>2.3</td>\n",
       "      <td>0.092</td>\n",
       "      <td>15.0</td>\n",
       "      <td>54.0</td>\n",
       "      <td>0.9970</td>\n",
       "      <td>3.26</td>\n",
       "      <td>0.65</td>\n",
       "      <td>9.8</td>\n",
       "      <td>5.0</td>\n",
       "    </tr>\n",
       "    <tr>\n",
       "      <th>3</th>\n",
       "      <td>11.2</td>\n",
       "      <td>0.28</td>\n",
       "      <td>0.56</td>\n",
       "      <td>1.9</td>\n",
       "      <td>0.075</td>\n",
       "      <td>17.0</td>\n",
       "      <td>60.0</td>\n",
       "      <td>0.9980</td>\n",
       "      <td>3.16</td>\n",
       "      <td>0.58</td>\n",
       "      <td>9.8</td>\n",
       "      <td>6.0</td>\n",
       "    </tr>\n",
       "    <tr>\n",
       "      <th>4</th>\n",
       "      <td>7.4</td>\n",
       "      <td>0.70</td>\n",
       "      <td>0.00</td>\n",
       "      <td>1.9</td>\n",
       "      <td>0.076</td>\n",
       "      <td>11.0</td>\n",
       "      <td>34.0</td>\n",
       "      <td>0.9978</td>\n",
       "      <td>3.51</td>\n",
       "      <td>0.56</td>\n",
       "      <td>9.4</td>\n",
       "      <td>5.0</td>\n",
       "    </tr>\n",
       "  </tbody>\n",
       "</table>\n",
       "</div>"
      ],
      "text/plain": [
       "   Fixed acidity  Volatile acidity  Citric acid  Residual sugar  Chlorides  \\\n",
       "0            7.4              0.70         0.00             1.9      0.076   \n",
       "1            7.8              0.88         0.00             2.6      0.098   \n",
       "2            7.8              0.76         0.04             2.3      0.092   \n",
       "3           11.2              0.28         0.56             1.9      0.075   \n",
       "4            7.4              0.70         0.00             1.9      0.076   \n",
       "\n",
       "   Free sulfur dioxide  Total sulfur dioxide  Density    pH  Sulphates  \\\n",
       "0                 11.0                  34.0   0.9978  3.51       0.56   \n",
       "1                 25.0                  67.0   0.9968  3.20       0.68   \n",
       "2                 15.0                  54.0   0.9970  3.26       0.65   \n",
       "3                 17.0                  60.0   0.9980  3.16       0.58   \n",
       "4                 11.0                  34.0   0.9978  3.51       0.56   \n",
       "\n",
       "   Alcohol  Quality score (0--10)  \n",
       "0      9.4                    5.0  \n",
       "1      9.8                    5.0  \n",
       "2      9.8                    5.0  \n",
       "3      9.8                    6.0  \n",
       "4      9.4                    5.0  "
      ]
     },
     "execution_count": 19,
     "metadata": {},
     "output_type": "execute_result"
    }
   ],
   "source": [
    "##Answer to question 2.1.1\n",
    "#Import the data here\n",
    "# YOUR CODE HERE\n",
    "import numpy as np\n",
    "import pandas as pd\n",
    "import matplotlib.pyplot as plt\n",
    "from scipy.io import loadmat\n",
    "\n",
    "wine_data = loadmat('../data/wine.mat')\n",
    "X = wine_data['X']\n",
    "\n",
    "column_names = []\n",
    "\n",
    "for i in wine_data['attributeNames'][0]:\n",
    "    column_names.append(i.flat[0])\n",
    "\n",
    "data = pd.DataFrame(X, columns=column_names)\n",
    "\n",
    "data.head()"
   ]
  },
  {
   "cell_type": "code",
   "execution_count": 84,
   "metadata": {
    "deletable": false,
    "nbgrader": {
     "cell_type": "code",
     "checksum": "322d4d0ebf9f4d0b242e838720c3df2a",
     "grade": true,
     "grade_id": "cell-c816016e58d4c51d",
     "locked": false,
     "points": 100,
     "schema_version": 3,
     "solution": true,
     "task": false
    }
   },
   "outputs": [
    {
     "data": {
      "image/png": "[encoded data removed]",
      "text/plain": [
       "<Figure size 1800x1440 with 12 Axes>"
      ]
     },
     "metadata": {
      "needs_background": "light"
     },
     "output_type": "display_data"
    },
    {
     "data": {
      "image/png": "[encoded data removed]",
      "text/plain": [
       "<Figure size 1800x1440 with 12 Axes>"
      ]
     },
     "metadata": {
      "needs_background": "light"
     },
     "output_type": "display_data"
    }
   ],
   "source": [
    "#Answer to question 2.1.1\n",
    "#Construct the plots here\n",
    "# YOUR CODE HERE\n",
    "#def box_plot(m, n, t):\n",
    "#    plt.figure(figsize=(t))\n",
    "#    for i, k in enumerate(data.columns):\n",
    "#        plt.subplot(m, n, i + 1)\n",
    "#        data[k].plot.box()\n",
    "        \n",
    "def box_plot(m,n, t):\n",
    "    fig, axis = plt.subplots(m,n,figsize=t)\n",
    "    print(axis)\n",
    "    axis = axis.ravel()\n",
    "    print(axis)\n",
    "    for i in range(len(column_names)):\n",
    "        axis[i].boxplot(data.iloc[:,i])\n",
    "        axis[i].set_title(column_names[i])   \n",
    "        \n",
    "def histogram(m,n, t):\n",
    "    fig, axis = plt.subplots(m,n,figsize=t)\n",
    "    axis = axis.ravel()\n",
    "    for i in range(len(column_names)):\n",
    "        axis[i].hist(data.iloc[:,i], bins = 20)\n",
    "        axis[i].set_title(column_names[i])\n",
    "\n",
    "#box_plot(6, 2, (25, 20))\n",
    "\n",
    "box_plot(4,3, (10,30))\n",
    "histogram(4,3, (20,30))\n",
    "\n",
    "#figsize= (2,4)\n",
    "#for i in range (len(column_names)):\n",
    "#    f, axes = plt.subplots(nrows=2, ncols=2)\n",
    "#    data.boxplot(ax=axes[0,0], column=column_names[i])\n",
    "#    data.hist(ax = axes[0,1], column = column_names[i])\n",
    "#\n",
    "#plt.show()"
   ]
  },
  {
   "cell_type": "code",
   "execution_count": 50,
   "metadata": {
    "deletable": false,
    "editable": false,
    "nbgrader": {
     "cell_type": "code",
     "checksum": "9b17fc7e7a32b222aa0d5b384f2658c1",
     "grade": true,
     "grade_id": "cell-a4958a81e35d109b",
     "locked": true,
     "points": 50,
     "schema_version": 3,
     "solution": false,
     "task": false
    }
   },
   "outputs": [
    {
     "data": {
      "text/plain": [
       "'DO NOT MODIFY THIS CELL'"
      ]
     },
     "execution_count": 50,
     "metadata": {},
     "output_type": "execute_result"
    }
   ],
   "source": [
    "\"\"\"Checks whether 2.1.1 output is correct\"\"\"\n",
    "\"\"\"DO NOT MODIFY THIS CELL\"\"\""
   ]
  },
  {
   "cell_type": "markdown",
   "metadata": {
    "deletable": false,
    "editable": false,
    "nbgrader": {
     "cell_type": "markdown",
     "checksum": "9a56a26d5d82e001e3beaa449225cfa3",
     "grade": false,
     "grade_id": "cell-44b298933a96e141",
     "locked": true,
     "schema_version": 3,
     "solution": false,
     "task": false
    }
   },
   "source": [
    "From prior knowledge we expect volatile acidity to be around 0-2 g/dm3, density to be close to 1 g/cm3, and alcohol percentage to be somewhere between 5-20% vol. We can safely identify the outliers for these attributes, searching for the values, which are a factor of 10 greater than the largest we expect. In the case of alcohol, we will **set the limit not to a factor 10, but to what is physically possible.** \n",
    "\n",
    "> 2.1.2) (1.5pts)\n",
    "1. Identify outliers for volatile acidity, density, and alcohol percentage, all based on the criteria above, and remove them from the data set. This means that you should remove the entire sample from the dataset, not just for that attribute!. Save the filtered data to `wine_data_filtered`. After filtering your data, standardize the data. Save your standardized and filtered data to `wine_data_filtered_standardized`.\n",
    "2. Plot new box plots and histograms for these three attributes with the outliers removed and compare them (side to side in a plot) with attributed in the original, unfiltered, data.\n",
    "\n",
    "> \n",
    " + *You can use logical indexing to easily make a new dataset, where the outliers are removed. This is much easier, and faster than methods like dropping, or selecting using a for loop or list comprehension. For more information, see: https://docs.scipy.org/doc/numpy-1.13.0/user/basics.indexing.html Take a look at the -Boolean or \"mask\" index arrays- section.*\n",
    " + *It is advisable to perform some sanity checks when removing parts of the data. Check for yourself how many samples are removed in each filtering step!*\n",
    " + *For standardization, use the StandardScaler included in the scikit-learn package, see: https://scikit-learn.org/stable/modules/generated/sklearn.preprocessing.StandardScaler.html. This is initially not the easiest way to standardize data, but it will save a lot of time in future experiments and your own project if you master the scikit-learn API!*"
   ]
  },
  {
   "cell_type": "code",
   "execution_count": 164,
   "metadata": {
    "deletable": false,
    "nbgrader": {
     "cell_type": "code",
     "checksum": "aa4536fd70a4e8cef13cdcf8e7a1e197",
     "grade": false,
     "grade_id": "cell-94f8603d1938ea58",
     "locked": false,
     "schema_version": 3,
     "solution": true,
     "task": false
    },
    "scrolled": true
   },
   "outputs": [
    {
     "name": "stdout",
     "output_type": "stream",
     "text": [
      "Original shape: (6497, 12)\n",
      "After filtering for volatile acidity:\n",
      "(6491, 12)\n",
      "After filtering for density:\n",
      "(6344, 12)\n",
      "After filtering for alcohol percentage:\n",
      "(6304, 12)\n"
     ]
    },
    {
     "data": {
      "text/html": [
       "<div>\n",
       "<style scoped>\n",
       "    .dataframe tbody tr th:only-of-type {\n",
       "        vertical-align: middle;\n",
       "    }\n",
       "\n",
       "    .dataframe tbody tr th {\n",
       "        vertical-align: top;\n",
       "    }\n",
       "\n",
       "    .dataframe thead th {\n",
       "        text-align: right;\n",
       "    }\n",
       "</style>\n",
       "<table border=\"1\" class=\"dataframe\">\n",
       "  <thead>\n",
       "    <tr style=\"text-align: right;\">\n",
       "      <th></th>\n",
       "      <th>Volatile acidity</th>\n",
       "      <th>Density</th>\n",
       "      <th>Alcohol</th>\n",
       "    </tr>\n",
       "  </thead>\n",
       "  <tbody>\n",
       "    <tr>\n",
       "      <th>0</th>\n",
       "      <td>0.70</td>\n",
       "      <td>0.9978</td>\n",
       "      <td>9.4</td>\n",
       "    </tr>\n",
       "    <tr>\n",
       "      <th>1</th>\n",
       "      <td>0.88</td>\n",
       "      <td>0.9968</td>\n",
       "      <td>9.8</td>\n",
       "    </tr>\n",
       "    <tr>\n",
       "      <th>2</th>\n",
       "      <td>0.76</td>\n",
       "      <td>0.9970</td>\n",
       "      <td>9.8</td>\n",
       "    </tr>\n",
       "    <tr>\n",
       "      <th>3</th>\n",
       "      <td>0.28</td>\n",
       "      <td>0.9980</td>\n",
       "      <td>9.8</td>\n",
       "    </tr>\n",
       "    <tr>\n",
       "      <th>4</th>\n",
       "      <td>0.70</td>\n",
       "      <td>0.9978</td>\n",
       "      <td>9.4</td>\n",
       "    </tr>\n",
       "  </tbody>\n",
       "</table>\n",
       "</div>"
      ],
      "text/plain": [
       "   Fixed acidity  Volatile acidity  Citric acid  Residual sugar  Chlorides  \\\n",
       "0       0.198919          2.224606    -2.195829       -0.751205   0.580402   \n",
       "1       0.533170          3.330464    -2.195829       -0.596652   1.207651   \n",
       "2       0.533170          2.593225    -1.917947       -0.662889   1.036583   \n",
       "3       3.374305         -0.355731     1.694526       -0.751205   0.551891   \n",
       "4       0.198919          2.224606    -2.195829       -0.751205   0.580402   \n",
       "\n",
       "   Free sulfur dioxide  Total sulfur dioxide   Density        pH  Sulphates  \\\n",
       "0            -1.101403             -1.457918  1.154045  1.805331   0.211162   \n",
       "1            -0.310408             -0.868392  0.798650 -0.123366   1.023632   \n",
       "2            -0.875405             -1.100630  0.869729  0.249930   0.820514   \n",
       "3            -0.762405             -0.993443  1.225124 -0.372230   0.346574   \n",
       "4            -1.101403             -1.457918  1.154045  1.805331   0.211162   \n",
       "\n",
       "    Alcohol  Quality score (0--10)  \n",
       "0 -0.933557              -0.943282  \n",
       "1 -0.597110              -0.943282  \n",
       "2 -0.597110              -0.943282  \n",
       "3 -0.597110               0.201146  \n",
       "4 -0.933557              -0.943282  "
      ]
     },
     "execution_count": 164,
     "metadata": {},
     "output_type": "execute_result"
    }
   ],
   "source": [
    "#Answer to question 2.1.2\n",
    "#Process your data here\n",
    "# YOUR CODE HERE\n",
    "from sklearn.preprocessing import StandardScaler\n",
    "\n",
    "wine_data_filtered = data\n",
    "print(\"Original shape: {}\" .format(wine_data_filtered.shape))\n",
    "\n",
    "#filtered for volatile acidity:\n",
    "wine_data_filtered = wine_data_filtered[(wine_data_filtered['Volatile acidity'] < 20)]\n",
    "print(\"After filtering for volatile acidity:\")\n",
    "print(wine_data_filtered.shape)\n",
    "\n",
    "#filtered for density:\n",
    "wine_data_filtered = wine_data_filtered[(wine_data_filtered['Density'] < 10) &\n",
    "                                        (wine_data_filtered['Density'] > 0.1)]\n",
    "print(\"After filtering for density:\")\n",
    "print(wine_data_filtered.shape)\n",
    "\n",
    "#filtered for alcohol percentage:\n",
    "wine_data_filtered = wine_data_filtered[(wine_data_filtered['Alcohol'] < 200) & \n",
    "                                        (wine_data_filtered['Alcohol'] > 5)]\n",
    "print(\"After filtering for alcohol percentage:\")\n",
    "print(wine_data_filtered.shape)\n",
    "\n",
    "#standardized wine data after filtering\n",
    "scaler = StandardScaler()\n",
    "wine_data_filtered_standardized = scaler.fit_transform(wine_data_filtered)\n",
    "\n",
    "wine_data_filtered_standardized =pd.DataFrame(wine_data_filtered_standardized, columns=column_names)\n",
    "wine_data_filtered_standardized.head()"
   ]
  },
  {
   "cell_type": "code",
   "execution_count": 151,
   "metadata": {
    "deletable": false,
    "nbgrader": {
     "cell_type": "code",
     "checksum": "842acf7065c1f0ebe0490b2e4a83d1be",
     "grade": true,
     "grade_id": "cell-5e75790e0ae7e5a0",
     "locked": false,
     "points": 100,
     "schema_version": 3,
     "solution": true,
     "task": false
    }
   },
   "outputs": [
    {
     "data": {
      "text/plain": [
       "Text(0.5, 1.0, 'Alcohol filtered')"
      ]
     },
     "execution_count": 151,
     "metadata": {},
     "output_type": "execute_result"
    },
    {
     "data": {
      "image/png": "[encoded data removed]",
      "text/plain": [
       "<Figure size 576x720 with 6 Axes>"
      ]
     },
     "metadata": {
      "needs_background": "light"
     },
     "output_type": "display_data"
    },
    {
     "data": {
      "image/png": "[encoded data removed]",
      "text/plain": [
       "<Figure size 576x720 with 6 Axes>"
      ]
     },
     "metadata": {
      "needs_background": "light"
     },
     "output_type": "display_data"
    }
   ],
   "source": [
    "#Answer to question 2.1.2\n",
    "#Make your plots here:\n",
    "\n",
    "# YOUR CODE HERE\n",
    "fig,ax = plt.subplots(3,2,figsize=(8,10))\n",
    "ax[0, 0].boxplot(data.iloc[:,1]) \n",
    "ax[0, 0].set_title(column_names[1])\n",
    "ax[0, 1].boxplot(wine_data_filtered.iloc[:,1])\n",
    "ax[0, 1].set_title('Volatile acidity filtered')\n",
    "\n",
    "ax[1, 0].boxplot(data.iloc[:,7]) \n",
    "ax[1, 0].set_title(column_names[7])\n",
    "ax[1, 1].boxplot(wine_data_filtered.iloc[:,7])\n",
    "ax[1, 1].set_title('Density filtered')\n",
    "\n",
    "ax[2, 0].boxplot(data.iloc[:,10]) \n",
    "ax[2, 0].set_title(column_names[10])\n",
    "ax[2, 1].boxplot(wine_data_filtered.iloc[:,10])\n",
    "ax[2, 1].set_title('Alcohol filtered')\n",
    "\n",
    "fig,ax = plt.subplots(3,2,figsize=(8,10))\n",
    "plt.title('Histograms filtered vs non-filtered data')\n",
    "ax[0, 0].hist(data.iloc[:,1],bins=30) \n",
    "ax[0, 0].set_title(column_names[1])\n",
    "ax[0, 1].hist(wine_data_filtered.iloc[:,1], bins=30)\n",
    "ax[0, 1].set_title('Volatile acidity filtered')\n",
    "\n",
    "ax[1, 0].hist(data.iloc[:,7], bins=30) \n",
    "ax[1, 0].set_title(column_names[7])\n",
    "ax[1, 1].hist(wine_data_filtered.iloc[:,7], bins=30)\n",
    "ax[1, 1].set_title('Density filtered')\n",
    "\n",
    "ax[2, 0].hist(data.iloc[:,10], bins=30) \n",
    "ax[2, 0].set_title(column_names[10])\n",
    "ax[2, 1].hist(wine_data_filtered.iloc[:,10], bins=30)\n",
    "ax[2, 1].set_title('Alcohol filtered')"
   ]
  },
  {
   "cell_type": "code",
   "execution_count": null,
   "metadata": {
    "deletable": false,
    "editable": false,
    "nbgrader": {
     "cell_type": "code",
     "checksum": "11ebbd12557bf801489f578427b95ef2",
     "grade": true,
     "grade_id": "cell-294b5268ea1d4e01",
     "locked": true,
     "points": 50,
     "schema_version": 3,
     "solution": false,
     "task": false
    }
   },
   "outputs": [],
   "source": [
    "\"\"\"Checks whether 2.1.2 output is correct\"\"\"\n",
    "\"\"\"DO NOT MODIFY THIS CELL\"\"\""
   ]
  },
  {
   "cell_type": "markdown",
   "metadata": {
    "deletable": false,
    "editable": false,
    "nbgrader": {
     "cell_type": "markdown",
     "checksum": "a905fb9d322b0214e782917576dab48d",
     "grade": false,
     "grade_id": "cell-040ffdaf6b310acd",
     "locked": true,
     "schema_version": 3,
     "solution": false,
     "task": false
    }
   },
   "source": [
    "> 2.1.3 (0.5pts)\n",
    "Why do we need to standardize the data after removing the outliers? Give the -statistical- reason, not just the practical reason. "
   ]
  },
  {
   "cell_type": "markdown",
   "metadata": {
    "deletable": false,
    "nbgrader": {
     "cell_type": "markdown",
     "checksum": "be24aa4efe39ed076964f4f81f7d31aa",
     "grade": true,
     "grade_id": "cell-bd39c06cf0773330",
     "locked": false,
     "points": 50,
     "schema_version": 3,
     "solution": true,
     "task": false
    }
   },
   "source": [
    "YOUR ANSWER HERE"
   ]
  },
  {
   "cell_type": "markdown",
   "metadata": {
    "deletable": false,
    "editable": false,
    "nbgrader": {
     "cell_type": "markdown",
     "checksum": "0eb7879b023bfde75563a69164d65249",
     "grade": false,
     "grade_id": "cell-07801704868f2b1b",
     "locked": true,
     "schema_version": 3,
     "solution": false,
     "task": false
    }
   },
   "source": [
    "> 2.1.4 (1pt) Make 11 scatter plots between all attributes and the wine quality as rated by human judges. Can you manually identify any clear relationship between the attributes of the wine and wine quality? Which values of these attributes are associated with high quality wine? Use the correlation coefficients to substantiate your answers. Make sure to use the data where the outliers are removed. Substantiate your answer with text.\n",
    "+ *You can calculate the correlation coefficient using the `scipy.stats.pearsonr()` function to measure the strength of association.*"
   ]
  },
  {
   "cell_type": "code",
   "execution_count": null,
   "metadata": {
    "deletable": false,
    "nbgrader": {
     "cell_type": "code",
     "checksum": "52953b41e9de3647006de5585f6d02a2",
     "grade": true,
     "grade_id": "cell-80599d74c8acc9c6",
     "locked": false,
     "points": 50,
     "schema_version": 3,
     "solution": true,
     "task": false
    }
   },
   "outputs": [],
   "source": [
    "##Answer to question 2.1.4\n",
    "\n",
    "# YOUR CODE HERE\n",
    "raise NotImplementedError()"
   ]
  },
  {
   "cell_type": "markdown",
   "metadata": {
    "collapsed": true,
    "deletable": false,
    "nbgrader": {
     "cell_type": "markdown",
     "checksum": "536e6563a3980556d9a033065379116d",
     "grade": true,
     "grade_id": "cell-651e1b920b0f835d",
     "locked": false,
     "points": 50,
     "schema_version": 3,
     "solution": true,
     "task": false
    }
   },
   "source": [
    "YOUR ANSWER HERE"
   ]
  },
  {
   "cell_type": "markdown",
   "metadata": {
    "collapsed": true,
    "deletable": false,
    "editable": false,
    "nbgrader": {
     "cell_type": "markdown",
     "checksum": "6cd0a9c6e3f4bae143e5dc9ecbc928b1",
     "grade": false,
     "grade_id": "cell-c58999d10036a30d",
     "locked": true,
     "schema_version": 3,
     "solution": false,
     "task": false
    }
   },
   "source": [
    "## 2.2 Visualizing the handwritten digits (4 points)\n",
    "\n",
    "In this part of the exercise we will analyse the famous *mnist* handwritten digit dataset from: http://yann.lecun.com/exdb/mnist/.\n",
    "\n",
    "> 2.2.1 (0.5pts)\n",
    "1. Load zipdata.mat by using the `loadmat` function. There are two data sets containing handwritten digits: *testdata* and *traindata*. Here, we will only use *traindata*. The first column in the matrix *traindata* contains the digit (class) and the last 256 columns contain the pixel values.\n",
    "2. Create the data matrix *X* and the class index vector *y* from the data. Remove the digits with the class index 2-9 from the data, so only digits belonging to the class 0 and 1 are analyzed. (remember logical indexing!) Save the data, with the other digits removed, to `X_01` and `y_01` respectively."
   ]
  },
  {
   "cell_type": "code",
   "execution_count": null,
   "metadata": {
    "deletable": false,
    "nbgrader": {
     "cell_type": "code",
     "checksum": "d68ab71ee0e6337e998158149b522fb6",
     "grade": false,
     "grade_id": "cell-54c1fe9206c38675",
     "locked": false,
     "schema_version": 3,
     "solution": true,
     "task": false
    }
   },
   "outputs": [],
   "source": [
    "#Answer to question 2.2.1\n",
    "\n",
    "# YOUR CODE HERE\n",
    "raise NotImplementedError()"
   ]
  },
  {
   "cell_type": "code",
   "execution_count": null,
   "metadata": {
    "deletable": false,
    "editable": false,
    "nbgrader": {
     "cell_type": "code",
     "checksum": "1ebc75903e0ecb77797eaabe04ec374f",
     "grade": true,
     "grade_id": "cell-d7bae0235e34232a",
     "locked": true,
     "points": 50,
     "schema_version": 3,
     "solution": false,
     "task": false
    }
   },
   "outputs": [],
   "source": [
    "\"\"\"Checks whether 2.2.1 output is correct\"\"\"\n",
    "\"\"\"DO NOT MODIFY THIS CELL\"\"\""
   ]
  },
  {
   "cell_type": "markdown",
   "metadata": {
    "deletable": false,
    "editable": false,
    "nbgrader": {
     "cell_type": "markdown",
     "checksum": "26dc4c201611c9f9c388bef12caebc67",
     "grade": false,
     "grade_id": "cell-67d40cca7282f901",
     "locked": true,
     "schema_version": 3,
     "solution": false,
     "task": false
    }
   },
   "source": [
    "PCA can be used for various things, one of which is compression. To show that we can reasonably reconstruct the digits from only fraction of the numerical information, we will compress the data to only the projection onto the first 4 Principal Components (instead of the 256 original variables).\n",
    "\n",
    "> 2.2.2 (0.5pts)\n",
    "1. Compute the principal components (PCA) of the data matrix. Now, using the PCA model, create a new data matrix $Z$ by projecting $X$ onto the space spanned by the loadings $V$. The new data matrix should have 4 attributes corresponding to PC1-PC4. Save the matrix $Z$ with only 4 PCs to a variable called `Z`.\n",
    "2. Reconstruct the initial data using PC1-PC4 into a new matrix called $W$ and save it to a variable called `W`.\n",
    "\n",
    "\n",
    "> **Hints:**\n",
    "+ *See Assignment 1 if you can not recall how to compute a PCA.*\n",
    "+ *Keep in mind that numpy.linalg.svd() returns the transposed **V<sup>T</sup>** matrix as output.*\n",
    "+ *You can use **Z** = **Y** $*$ **V**[:,:4] to project the data onto the first four PCs. Don't forget that the $*$ operator does not perform matrix multiplication for numpy arrays!*\n",
    "+ *To reconstruct the data from projection you can use the following formula: **W** = **Z** $*$ **V**[:,:4]<sup>T</sup> + **μ**. Remember that **μ** is the mean we subtracted when mean-centering."
   ]
  },
  {
   "cell_type": "code",
   "execution_count": null,
   "metadata": {
    "deletable": false,
    "nbgrader": {
     "cell_type": "code",
     "checksum": "5c7fd6125e9050121ecb83f35a60a93b",
     "grade": false,
     "grade_id": "cell-6f79d0c9fabbf9cd",
     "locked": false,
     "schema_version": 3,
     "solution": true,
     "task": false
    }
   },
   "outputs": [],
   "source": [
    "#Answer to question 2.2.1\n",
    "\n",
    "# YOUR CODE HERE\n",
    "raise NotImplementedError()"
   ]
  },
  {
   "cell_type": "code",
   "execution_count": null,
   "metadata": {
    "deletable": false,
    "editable": false,
    "nbgrader": {
     "cell_type": "code",
     "checksum": "04e8dbc9c1a69120a584fa6844ff3807",
     "grade": true,
     "grade_id": "cell-5208e93f60b0b647",
     "locked": true,
     "points": 50,
     "schema_version": 3,
     "solution": false,
     "task": false
    }
   },
   "outputs": [],
   "source": [
    "\"\"\"Checks whether 2.2.2 output is correct\"\"\"\n",
    "\"\"\"DO NOT MODIFY THIS CELL\"\"\""
   ]
  },
  {
   "cell_type": "markdown",
   "metadata": {
    "deletable": false,
    "editable": false,
    "nbgrader": {
     "cell_type": "markdown",
     "checksum": "7b1ef0eb8cae6d61d9adf63cce9d7d0b",
     "grade": false,
     "grade_id": "cell-82341bbb6abb2b7d",
     "locked": true,
     "schema_version": 3,
     "solution": false,
     "task": false
    }
   },
   "source": [
    "> 2.2.3 (1pts)\n",
    "1. Visualize the first 10 digits as images for the reconstructed data and compare them with images for the original data. Use subplotting to show the digits and their reconstructed counterparts in an orderly manner. You can take a look at the example code to see how you can visualize a certain digit.\n",
    "\n",
    "> **Hints:**\n",
    "+ *The below example code can help you visualize digits as images.*"
   ]
  },
  {
   "cell_type": "code",
   "execution_count": null,
   "metadata": {
    "deletable": false,
    "nbgrader": {
     "cell_type": "code",
     "checksum": "3068504eea148d817f5d2fe736872b4e",
     "grade": true,
     "grade_id": "cell-c05f118c90008ec1",
     "locked": false,
     "points": 100,
     "schema_version": 3,
     "solution": true,
     "task": false
    }
   },
   "outputs": [],
   "source": [
    "import matplotlib.pyplot as plt\n",
    "import matplotlib.cm as cm\n",
    "from scipy.io import loadmat\n",
    "from numpy import reshape\n",
    "\n",
    "# Index of the digit to display\n",
    "i = 0\n",
    "\n",
    "# Load Matlab data file to python dict structure\n",
    "mat_data = loadmat('../data/zipdata.mat')\n",
    "\n",
    "# Extract variables of interest\n",
    "testdata = mat_data['testdata']\n",
    "X_test = testdata[:,1:]\n",
    "y_test = testdata[:,0]\n",
    "\n",
    "# Visualize the i'th digit as an image\n",
    "plt.subplot(1,1,1);\n",
    "I = reshape(X_test[i,:],(16,16))\n",
    "plt.imshow(I, extent=(0,16,0,16), cmap=cm.gray_r);\n",
    "plt.title('Digit as an image');\n",
    "plt.show()\n",
    "\n",
    "#------------------------------------------------\n",
    "\n",
    "\n",
    "#Answer to question 2.2.3\n",
    "#You can remove the example code for visualization if you want.\n",
    "\n",
    "# YOUR CODE HERE\n",
    "raise NotImplementedError()"
   ]
  },
  {
   "cell_type": "markdown",
   "metadata": {
    "deletable": false,
    "editable": false,
    "nbgrader": {
     "cell_type": "markdown",
     "checksum": "bdcb7df6a7eeece756625bdc1c2f4211",
     "grade": false,
     "grade_id": "cell-43720ad09cbcb298",
     "locked": true,
     "schema_version": 3,
     "solution": false,
     "task": false
    }
   },
   "source": [
    "> 2.2.4 (1.5pts)\n",
    "1. Make a 4-by-4 subplot of scatter plots of each possible combination projection onto PC1 to PC4 (contained in $Z$) against each other. You can leave the diagonal blank.  Plot elements belonging to different classes in different colors. Add a legend to clarify which digit is shown in which color.\n",
    "2. Make a 3-dimensional scatter plot of the projections onto the first three principal components PC1-PC3 (contained in $Z$). Plot elements belonging to different classes in different colors. Add a legend to clarify which digit is shown in which color.\n",
    "\n",
    "\n",
    "> **Hints:**\n",
    "\n",
    "+ *You can take a look at the example_figure.ipynb notebook to see how you can easily plot multiple classes and color them correspondingly.* \n",
    "+ *It is advisable to make a for-loop to generate the 2D scatter plots, this saves a lot of time. It is an important skill to master if you want to easily modify your work later on, for example when correcting mistakes, or when you want to modify each plot in the same manner.* \n",
    "+ *Use Axes3D from Matplotlib to make 3D scatter plots. Make sure to read the documentation!*\n"
   ]
  },
  {
   "cell_type": "code",
   "execution_count": null,
   "metadata": {
    "deletable": false,
    "nbgrader": {
     "cell_type": "code",
     "checksum": "f169b5c992e7b569823bb921fad4ce12",
     "grade": true,
     "grade_id": "cell-1030141a0858d865",
     "locked": false,
     "points": 100,
     "schema_version": 3,
     "solution": true,
     "task": false
    }
   },
   "outputs": [],
   "source": [
    "#Answer to question 2.2.4\n",
    "# YOUR CODE HERE\n",
    "raise NotImplementedError()"
   ]
  },
  {
   "cell_type": "markdown",
   "metadata": {
    "deletable": false,
    "editable": false,
    "nbgrader": {
     "cell_type": "markdown",
     "checksum": "40af8a6b173f3b780e2375d2f4286d94",
     "grade": false,
     "grade_id": "cell-5344127d47d8ac99",
     "locked": true,
     "schema_version": 3,
     "solution": false,
     "task": false
    }
   },
   "source": [
    "> 2.2.5 (0.5pts)\n",
    "1. What can you conclude from the various scatterplots about the PCs and the way they separate the two digits?"
   ]
  },
  {
   "cell_type": "markdown",
   "metadata": {
    "deletable": false,
    "nbgrader": {
     "cell_type": "markdown",
     "checksum": "770438652d4a0a7ba59df8ce91fb995c",
     "grade": true,
     "grade_id": "cell-7301dc8ba330095c",
     "locked": false,
     "points": 100,
     "schema_version": 3,
     "solution": true,
     "task": false
    }
   },
   "source": [
    "YOUR ANSWER HERE"
   ]
  },
  {
   "cell_type": "markdown",
   "metadata": {
    "deletable": false,
    "editable": false,
    "nbgrader": {
     "cell_type": "markdown",
     "checksum": "2a7dc613db767cbc1eb11c104463a068",
     "grade": false,
     "grade_id": "cell-1d7e1a5cb55c577f",
     "locked": true,
     "schema_version": 3,
     "solution": false,
     "task": false
    }
   },
   "source": [
    "## 2.3 Probability and Statistics (1.5 points)\n",
    "The aim of this exercise is to learn how to calculate basic statistics in python.\n",
    "> 2.3.1 (0.3pts) A study of a very limited population of Aliens reveals the following number of body appendages (limbs):\n",
    "<center>2,3,6,8,11,18</center>\n",
    "\n",
    "> Find the mean $m$ and the standard deviation $\\sigma$ of this population. Assign them to the variables `m` and `sigma` respectively. Finally, print them.\n",
    "+ *You can use the methods numpy.ndarray.mean() and numpy.ndarray.std() to calculate the mean and standard deviation.*"
   ]
  },
  {
   "cell_type": "code",
   "execution_count": null,
   "metadata": {
    "deletable": false,
    "nbgrader": {
     "cell_type": "code",
     "checksum": "9166db07358d76816cb803718fff1569",
     "grade": false,
     "grade_id": "cell-7037a2be999d4545",
     "locked": false,
     "schema_version": 3,
     "solution": true,
     "task": false
    }
   },
   "outputs": [],
   "source": [
    "##Answer to question 2.3.1 (0.3 points)\n",
    "# YOUR CODE HERE\n",
    "raise NotImplementedError()"
   ]
  },
  {
   "cell_type": "code",
   "execution_count": null,
   "metadata": {
    "deletable": false,
    "editable": false,
    "nbgrader": {
     "cell_type": "code",
     "checksum": "ca28ac33e094c4bd6233a0267fee25c9",
     "grade": true,
     "grade_id": "cell-cc4f488844f62f96",
     "locked": true,
     "points": 30,
     "schema_version": 3,
     "solution": false,
     "task": false
    }
   },
   "outputs": [],
   "source": [
    "\"\"\"Checks whether 2.3.1. output is correct\"\"\"\n",
    "\"\"\"DO NOT MODIFY THIS CELL\"\"\""
   ]
  },
  {
   "cell_type": "markdown",
   "metadata": {
    "deletable": false,
    "editable": false,
    "nbgrader": {
     "cell_type": "markdown",
     "checksum": "1c8d2d055afeb1a7a41985ceced0ecd2",
     "grade": false,
     "grade_id": "cell-198d9607fa7959aa",
     "locked": true,
     "schema_version": 3,
     "solution": false,
     "task": false
    }
   },
   "source": [
    "> 2.3.2 (0.3pts) List (by printing) all possible samples of two aliens without replacement, and find the mean of each sample. Do the same with samples of four aliens. Assign the means to the variables `c2_means and` `c4_means` respectively. Make sure you save the result to a numpy array.\n",
    "+ *You can use the method itertools.combinations(v,n) to find all possible samples of a vector v taking n elements at a time.*"
   ]
  },
  {
   "cell_type": "code",
   "execution_count": null,
   "metadata": {
    "deletable": false,
    "nbgrader": {
     "cell_type": "code",
     "checksum": "166e4160f23049530fef340e735970c8",
     "grade": false,
     "grade_id": "cell-77600f1472829b4b",
     "locked": false,
     "schema_version": 3,
     "solution": true,
     "task": false
    }
   },
   "outputs": [],
   "source": [
    "##Answer to question 2.3.2 (0.3 points)\n",
    "# YOUR CODE HERE\n",
    "raise NotImplementedError()"
   ]
  },
  {
   "cell_type": "code",
   "execution_count": null,
   "metadata": {
    "deletable": false,
    "editable": false,
    "nbgrader": {
     "cell_type": "code",
     "checksum": "5d0d1ca2b2a700ca09405e691814f8d7",
     "grade": true,
     "grade_id": "cell-d097dd48d8a2aea0",
     "locked": true,
     "points": 30,
     "schema_version": 3,
     "solution": false,
     "task": false
    }
   },
   "outputs": [],
   "source": [
    "\"\"\"Checks whether 2.3.2. output is correct\"\"\"\n",
    "\"\"\"DO NOT MODIFY THIS CELL\"\"\""
   ]
  },
  {
   "cell_type": "markdown",
   "metadata": {
    "deletable": false,
    "editable": false,
    "nbgrader": {
     "cell_type": "markdown",
     "checksum": "fab9c176965efb90e5e2b397cbabf8e1",
     "grade": false,
     "grade_id": "cell-bbd3cce21365a924",
     "locked": true,
     "schema_version": 3,
     "solution": false,
     "task": false
    }
   },
   "source": [
    "> 2.3.3 (0.3pts) Each of the means above is called a sample mean. Find the mean of all the sample means (denoted by $m_x$) and the standard deviation of all the sample means (denoted by $\\sigma_x$) for both the *N=2* and *N=4* samples. Assign them to variables called `m2`, `sigma2`, `m4`, and `sigma4`.\n"
   ]
  },
  {
   "cell_type": "code",
   "execution_count": null,
   "metadata": {
    "deletable": false,
    "nbgrader": {
     "cell_type": "code",
     "checksum": "1f5c7f28f997bb586a6e412b71152d38",
     "grade": false,
     "grade_id": "cell-27db2fe4ece43827",
     "locked": false,
     "schema_version": 3,
     "solution": true,
     "task": false
    }
   },
   "outputs": [],
   "source": [
    "##Answer to question 2.3.3 (0.3 points)\n",
    "# YOUR CODE HERE\n",
    "raise NotImplementedError()"
   ]
  },
  {
   "cell_type": "code",
   "execution_count": null,
   "metadata": {
    "deletable": false,
    "editable": false,
    "nbgrader": {
     "cell_type": "code",
     "checksum": "34f9945f4df1557f41914d38bba75508",
     "grade": true,
     "grade_id": "cell-99f8acc8c32126fa",
     "locked": true,
     "points": 30,
     "schema_version": 3,
     "solution": false,
     "task": false
    }
   },
   "outputs": [],
   "source": [
    "\"\"\"Checks whether 2.3.3. output is correct\"\"\"\n",
    "\"\"\"DO NOT MODIFY THIS CELL\"\"\""
   ]
  },
  {
   "cell_type": "markdown",
   "metadata": {
    "deletable": false,
    "editable": false,
    "nbgrader": {
     "cell_type": "markdown",
     "checksum": "94f897168fbf590f58a554db6d24a93d",
     "grade": false,
     "grade_id": "cell-4e9618dbe0e54662",
     "locked": true,
     "schema_version": 3,
     "solution": false,
     "task": false
    }
   },
   "source": [
    "> 2.3.4 Verify the Central Limit Theorem: (i) (0.1pts) compare the population\n",
    "mean with the mean of both sample means; (ii) (0.2pts) compare the population\n",
    "standard deviation divided by the square root of the sample size\n",
    "with the standard deviation of both sample means (i.e., does\n",
    "$\\sigma_x \\approx \\sigma/\\sqrt{N}$). BTW, a better approximation for\n",
    "small population sizes is $\\sigma_x = \\sigma / \\sqrt{N} \\times\n",
    "\\sqrt{(M-N)/(M-1)}$ with *M = 6* the size of the original"
   ]
  },
  {
   "cell_type": "markdown",
   "metadata": {
    "deletable": false,
    "nbgrader": {
     "cell_type": "markdown",
     "checksum": "18bc8e03a45c3f43aae64ecd67942a96",
     "grade": true,
     "grade_id": "cell-67cc29239f0200cd",
     "locked": false,
     "points": 30,
     "schema_version": 3,
     "solution": true,
     "task": false
    }
   },
   "source": [
    "YOUR ANSWER HERE"
   ]
  },
  {
   "cell_type": "markdown",
   "metadata": {
    "deletable": false,
    "editable": false,
    "nbgrader": {
     "cell_type": "markdown",
     "checksum": "17daf7d8bca84842850bab3f4bbcb4d8",
     "grade": false,
     "grade_id": "cell-2349e4d995965843",
     "locked": true,
     "schema_version": 3,
     "solution": false,
     "task": false
    }
   },
   "source": [
    "> 2.3.5 (0.3pts) Plot the distribution of the population and the distributions of both sample means using histograms. What happens to the shape of the sample means distribution as the sample size (N*) increases?"
   ]
  },
  {
   "cell_type": "code",
   "execution_count": null,
   "metadata": {
    "deletable": false,
    "nbgrader": {
     "cell_type": "code",
     "checksum": "4f0f19cba74a13d963ee50861804e79a",
     "grade": true,
     "grade_id": "cell-7ee15d15fce0ed05",
     "locked": false,
     "points": 20,
     "schema_version": 3,
     "solution": true,
     "task": false
    }
   },
   "outputs": [],
   "source": [
    "##Answer to question 2.3.5 \n",
    "\n",
    "# YOUR CODE HERE\n",
    "raise NotImplementedError()"
   ]
  },
  {
   "cell_type": "markdown",
   "metadata": {
    "deletable": false,
    "nbgrader": {
     "cell_type": "markdown",
     "checksum": "222fcc2a4212693a19ffe8a1f578cb8c",
     "grade": true,
     "grade_id": "cell-ff669c48a29a9451",
     "locked": false,
     "points": 10,
     "schema_version": 3,
     "solution": true,
     "task": false
    }
   },
   "source": [
    "YOUR ANSWER HERE"
   ]
  }
 ],
 "metadata": {
  "kernelspec": {
   "display_name": "Python 3",
   "language": "python",
   "name": "python3"
  },
  "language_info": {
   "codemirror_mode": {
    "name": "ipython",
    "version": 3
   },
   "file_extension": ".py",
   "mimetype": "text/x-python",
   "name": "python",
   "nbconvert_exporter": "python",
   "pygments_lexer": "ipython3",
   "version": "3.8.3"
  },
  "varInspector": {
   "cols": {
    "lenName": 16,
    "lenType": 16,
    "lenVar": 40
   },
   "kernels_config": {
    "python": {
     "delete_cmd_postfix": "",
     "delete_cmd_prefix": "del ",
     "library": "var_list.py",
     "varRefreshCmd": "print(var_dic_list())"
    },
    "r": {
     "delete_cmd_postfix": ") ",
     "delete_cmd_prefix": "rm(",
     "library": "var_list.r",
     "varRefreshCmd": "cat(var_dic_list()) "
    }
   },
   "types_to_exclude": [
    "module",
    "function",
    "builtin_function_or_method",
    "instance",
    "_Feature"
   ],
   "window_display": false
  }
 },
 "nbformat": 4,
 "nbformat_minor": 2
}
