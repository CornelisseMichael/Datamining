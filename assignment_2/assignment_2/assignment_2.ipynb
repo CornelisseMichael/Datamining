{
 "cells": [
  {
   "cell_type": "markdown",
   "metadata": {},
   "source": [
    "Before you turn this problem in, make sure everything runs as expected. First, **restart the kernel** (in the menubar, select Kernel$\\rightarrow$Restart) and then **run all cells** (in the menubar, select Cell$\\rightarrow$Run All).\n",
    "\n",
    "Make sure you fill in any place that says `YOUR CODE HERE` or \"YOUR ANSWER HERE\", as well as your name and collaborators below:"
   ]
  },
  {
   "cell_type": "code",
   "execution_count": 3,
   "metadata": {},
   "outputs": [],
   "source": [
    "NAME = \"Michael Cornelisse\"\n",
    "STUDENT_NUMBER = \"s1059020\"\n",
    "COLLABORATOR_NAME = \"Nienke Helmers\"\n",
    "COLLABORATOR_STUDENT_NUMBER = \"s1016904\""
   ]
  },
  {
   "cell_type": "markdown",
   "metadata": {},
   "source": [
    "---"
   ]
  },
  {
   "cell_type": "markdown",
   "metadata": {
    "deletable": false,
    "editable": false,
    "nbgrader": {
     "cell_type": "markdown",
     "checksum": "48162b78042be666764d0bddd678e34a",
     "grade": false,
     "grade_id": "cell-38205290cd395f44",
     "locked": true,
     "schema_version": 3,
     "solution": false,
     "task": false
    }
   },
   "source": [
    "# Assignment 2\n",
    "\n",
    "## Objective of this assignment\n",
    "The objective of this assignment is to get an understanding of the many ways data can be visualized. Upon completing this exercise you should be familiar with histograms, boxplots and scatter plots.\n",
    "\n",
    "\n",
    "## ** Important: ** When handing in your homework:\n",
    "+ Hand in the notebook **(and nothing else)** named as follows: StudentName1_snumber_StudentName2_snumber.ipynb\n",
    "+ Provide clear and complete answers to the questions below under a separate header (not hidden somewhere in your source code), and make sure to explain your answers / motivate your choices. Add Markdown cells where necessary.\n",
    "+ Source code, output graphs, derivations, etc., should be included in the notebook.\n",
    "+ Hand-in: upload to Brightspace.\n",
    "+ Include name, student number, assignment (especially in filenames)!\n",
    "+ When working in pairs only one of you should upload the assignment, and report the name of your partner in your filename.\n",
    "+ Use the Brightspace discussion board or email the student assistants for questions on how to complete the exercises.\n",
    "+ If you find mistakes/have suggestions/would like to complain about the assigment material itself, please email [Roel] at `Roel.Bouman@ru.nl`\n",
    "\n",
    "\n",
    "## Advised Reading and Exercise Material\n",
    "**The following reading material is recommended:**\n",
    "\n",
    "- Pang-Ning Tan, Michael Steinbach, and Vipin Kumar, *Introduction to Data Mining*, section 3.3\n",
    "- Jonathon Shlens, *A tutorial on Principal Component Analysis* , https://arxiv.org/abs/1404.1100\n",
    "\n",
    "\n",
    "## 2.1 Visualizing and preprocessing wine data (4.5 points)\n",
    "\n",
    "In this part of the exercise we will consider two data sets related to red and white variants of the Portuguese \"Vinho Verde\" wine[1]. The data has been downloaded from http://archive.ics.uci.edu/ml/datasets/Wine+Quality. Only physicochemical and sensory attributes are available, i.e., there is no data about grape types, wine brand, wine selling price, etc. The data has the following attributes:\n",
    "\n",
    "| #   |  Attribute      | Unit |\n",
    "| --- |:--------------- |:---- |\n",
    "| 1   | Fixed acidity (tartaric) | g/dm3 |\n",
    "| 2   | Volatile acidity (acetic) | g/dm3 |\n",
    "| 3   | Citric acid | g/dm3 |\n",
    "| 4   | Residual sugar | g/dm3 |\n",
    "| 5   | Chlorides | g/dm3 |\n",
    "| 6   | Free sulfur dioxide | mg/dm3 |\n",
    "| 7   | Total sulfur dioxide | mg/dm3 |\n",
    "| 8   | Density | g/cm3 |\n",
    "| 9   | pH | pH |\n",
    "| 10  | Sulphates | g/dm3 |\n",
    "| 11  | Alcohol | % vol. |\n",
    "| 12  | Quality score | 0-10 |\n",
    "\n",
    "Attributes 1-11 are based on physicochemical tests and attribute 12 on human judging. The data set has many observations that can be considered outliers and in order to carry out analyses it is important to remove the corrupt observations.\n",
    "\n",
    "The aim of this exercise is to use visualization to identify outliers and remove these outliers from the data. It might be necessary to remove some outliers before other outlying observations become visible. Thus, the process of finding and removing outliers is often iterative. The wine data is stored in a MATLAB file, `../data/wine.mat`\n",
    "\n",
    "*This exercise is based upon material kindly provided by the Cognitive System Section, DTU Compute,\n",
    "http://cogsys.compute.dtu.dk. Any sale or commercial distribution is strictly forbidden.*\n",
    "\n",
    "> 2.1.1) (1.5pts)\n",
    "1. Load the data into Python using the `scipy.io.loadmat()` function. Save the numerical data to a variable called `wine_data`.\n",
    "2. This data set contains many observations that can be considered outliers. Plot a box plot and a histogram for each attribute to visualize the outliers in the data set. Use subplotting to nicely visualize these plots. Add titles to each subplot so it's easy to see which attribute is depicted where. Make sure that each attribute is visualized on an applicable scale.\n",
    "\n",
    "> Helpful tips:\n",
    " + *The object in wine.mat is a dictionary, see: https://www.w3schools.com/python/python_dictionaries.asp. The attributes are stored in matrix `X`. Attribute names and class names are stored in the `attributeNames` object, which contain arrays, of which the first element contains the names*\n",
    " + *You can use the function `matplotlib.pyplot.subplots()` to plot several plots in one figure. A simple example an be found at: https://matplotlib.org/2.0.2/examples/pylab_examples/subplots_demo.html, take a look at the 2D subplot specifically. There is also an example of a subplot in the first assignment. If you're handy, you can devise a for loop which fills up the subplot area!* \n",
    "\n",
    "\n",
    "**Make sure to take a look at the documentation of functions before you try and use them!**\n"
   ]
  },
  {
   "cell_type": "code",
<<<<<<< Updated upstream
   "execution_count": null,
=======
   "execution_count": 4,
>>>>>>> Stashed changes
   "metadata": {
    "deletable": false,
    "nbgrader": {
     "cell_type": "code",
     "checksum": "82775bbd6cc3496f3ea5ce0ab9b9e422",
     "grade": false,
     "grade_id": "cell-63b79c3ac1d56f98",
     "locked": false,
     "schema_version": 3,
     "solution": true,
     "task": false
    }
   },
<<<<<<< Updated upstream
   "outputs": [],
=======
   "outputs": [
    {
     "data": {
      "text/html": [
       "<div>\n",
       "<style scoped>\n",
       "    .dataframe tbody tr th:only-of-type {\n",
       "        vertical-align: middle;\n",
       "    }\n",
       "\n",
       "    .dataframe tbody tr th {\n",
       "        vertical-align: top;\n",
       "    }\n",
       "\n",
       "    .dataframe thead th {\n",
       "        text-align: right;\n",
       "    }\n",
       "</style>\n",
       "<table border=\"1\" class=\"dataframe\">\n",
       "  <thead>\n",
       "    <tr style=\"text-align: right;\">\n",
       "      <th></th>\n",
       "      <th>Fixed acidity</th>\n",
       "      <th>Volatile acidity</th>\n",
       "      <th>Citric acid</th>\n",
       "      <th>Residual sugar</th>\n",
       "      <th>Chlorides</th>\n",
       "      <th>Free sulfur dioxide</th>\n",
       "      <th>Total sulfur dioxide</th>\n",
       "      <th>Density</th>\n",
       "      <th>pH</th>\n",
       "      <th>Sulphates</th>\n",
       "      <th>Alcohol</th>\n",
       "      <th>Quality score (0--10)</th>\n",
       "    </tr>\n",
       "  </thead>\n",
       "  <tbody>\n",
       "    <tr>\n",
       "      <th>0</th>\n",
       "      <td>7.4</td>\n",
       "      <td>0.70</td>\n",
       "      <td>0.00</td>\n",
       "      <td>1.9</td>\n",
       "      <td>0.076</td>\n",
       "      <td>11.0</td>\n",
       "      <td>34.0</td>\n",
       "      <td>0.9978</td>\n",
       "      <td>3.51</td>\n",
       "      <td>0.56</td>\n",
       "      <td>9.4</td>\n",
       "      <td>5.0</td>\n",
       "    </tr>\n",
       "    <tr>\n",
       "      <th>1</th>\n",
       "      <td>7.8</td>\n",
       "      <td>0.88</td>\n",
       "      <td>0.00</td>\n",
       "      <td>2.6</td>\n",
       "      <td>0.098</td>\n",
       "      <td>25.0</td>\n",
       "      <td>67.0</td>\n",
       "      <td>0.9968</td>\n",
       "      <td>3.20</td>\n",
       "      <td>0.68</td>\n",
       "      <td>9.8</td>\n",
       "      <td>5.0</td>\n",
       "    </tr>\n",
       "    <tr>\n",
       "      <th>2</th>\n",
       "      <td>7.8</td>\n",
       "      <td>0.76</td>\n",
       "      <td>0.04</td>\n",
       "      <td>2.3</td>\n",
       "      <td>0.092</td>\n",
       "      <td>15.0</td>\n",
       "      <td>54.0</td>\n",
       "      <td>0.9970</td>\n",
       "      <td>3.26</td>\n",
       "      <td>0.65</td>\n",
       "      <td>9.8</td>\n",
       "      <td>5.0</td>\n",
       "    </tr>\n",
       "    <tr>\n",
       "      <th>3</th>\n",
       "      <td>11.2</td>\n",
       "      <td>0.28</td>\n",
       "      <td>0.56</td>\n",
       "      <td>1.9</td>\n",
       "      <td>0.075</td>\n",
       "      <td>17.0</td>\n",
       "      <td>60.0</td>\n",
       "      <td>0.9980</td>\n",
       "      <td>3.16</td>\n",
       "      <td>0.58</td>\n",
       "      <td>9.8</td>\n",
       "      <td>6.0</td>\n",
       "    </tr>\n",
       "    <tr>\n",
       "      <th>4</th>\n",
       "      <td>7.4</td>\n",
       "      <td>0.70</td>\n",
       "      <td>0.00</td>\n",
       "      <td>1.9</td>\n",
       "      <td>0.076</td>\n",
       "      <td>11.0</td>\n",
       "      <td>34.0</td>\n",
       "      <td>0.9978</td>\n",
       "      <td>3.51</td>\n",
       "      <td>0.56</td>\n",
       "      <td>9.4</td>\n",
       "      <td>5.0</td>\n",
       "    </tr>\n",
       "  </tbody>\n",
       "</table>\n",
       "</div>"
      ],
      "text/plain": [
       "   Fixed acidity  Volatile acidity  Citric acid  Residual sugar  Chlorides  \\\n",
       "0            7.4              0.70         0.00             1.9      0.076   \n",
       "1            7.8              0.88         0.00             2.6      0.098   \n",
       "2            7.8              0.76         0.04             2.3      0.092   \n",
       "3           11.2              0.28         0.56             1.9      0.075   \n",
       "4            7.4              0.70         0.00             1.9      0.076   \n",
       "\n",
       "   Free sulfur dioxide  Total sulfur dioxide  Density    pH  Sulphates  \\\n",
       "0                 11.0                  34.0   0.9978  3.51       0.56   \n",
       "1                 25.0                  67.0   0.9968  3.20       0.68   \n",
       "2                 15.0                  54.0   0.9970  3.26       0.65   \n",
       "3                 17.0                  60.0   0.9980  3.16       0.58   \n",
       "4                 11.0                  34.0   0.9978  3.51       0.56   \n",
       "\n",
       "   Alcohol  Quality score (0--10)  \n",
       "0      9.4                    5.0  \n",
       "1      9.8                    5.0  \n",
       "2      9.8                    5.0  \n",
       "3      9.8                    6.0  \n",
       "4      9.4                    5.0  "
      ]
     },
     "execution_count": 4,
     "metadata": {},
     "output_type": "execute_result"
    }
   ],
>>>>>>> Stashed changes
   "source": [
    "##Answer to question 2.1.1\n",
    "#Import the data here\n",
    "# YOUR CODE HERE\n",
    "raise NotImplementedError()"
   ]
  },
  {
   "cell_type": "code",
   "execution_count": 84,
   "metadata": {
    "deletable": false,
    "nbgrader": {
     "cell_type": "code",
     "checksum": "322d4d0ebf9f4d0b242e838720c3df2a",
     "grade": true,
     "grade_id": "cell-c816016e58d4c51d",
     "locked": false,
     "points": 100,
     "schema_version": 3,
     "solution": true,
     "task": false
    }
   },
   "outputs": [
    {
     "data": {
      "image/png": "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\n",
      "text/plain": [
       "<Figure size 1440x2160 with 12 Axes>"
      ]
     },
     "metadata": {
      "needs_background": "light"
     },
     "output_type": "display_data"
    }
   ],
   "source": [
    "#Answer to question 2.1.1\n",
    "#Construct the plots here\n",
    "# YOUR CODE HERE\n",
    "#def box_plot(m, n, t):\n",
    "#    plt.figure(figsize=(t))\n",
    "#    for i, k in enumerate(data.columns):\n",
    "#        plt.subplot(m, n, i + 1)\n",
    "#        data[k].plot.box()\n",
    "        \n",
    "def box_plot(m,n, t):\n",
    "    fig, axis = plt.subplots(m,n,figsize=t)\n",
    "    print(axis)\n",
    "    axis = axis.ravel()\n",
    "    print(axis)\n",
    "    for i in range(len(column_names)):\n",
    "        axis[i].boxplot(data.iloc[:,i])\n",
    "        axis[i].set_title(column_names[i])   \n",
    "        \n",
    "def histogram(m,n, t):\n",
    "    fig, axis = plt.subplots(m,n,figsize=t)\n",
    "    axis = axis.ravel()\n",
    "    for i in range(len(column_names)):\n",
    "        axis[i].hist(data.iloc[:,i], bins = 20)\n",
    "        axis[i].set_title(column_names[i])\n",
    "\n",
    "#box_plot(6, 2, (25, 20))\n",
    "\n",
    "box_plot(4,3, (10,30))\n",
    "histogram(4,3, (20,30))\n",
    "\n",
    "#figsize= (2,4)\n",
    "#for i in range (len(column_names)):\n",
    "#    f, axes = plt.subplots(nrows=2, ncols=2)\n",
    "#    data.boxplot(ax=axes[0,0], column=column_names[i])\n",
    "#    data.hist(ax = axes[0,1], column = column_names[i])\n",
    "#\n",
    "#plt.show()"
   ]
  },
  {
   "cell_type": "code",
   "execution_count": 50,
   "metadata": {
    "deletable": false,
    "editable": false,
    "nbgrader": {
     "cell_type": "code",
     "checksum": "9b17fc7e7a32b222aa0d5b384f2658c1",
     "grade": true,
     "grade_id": "cell-a4958a81e35d109b",
     "locked": true,
     "points": 50,
     "schema_version": 3,
     "solution": false,
     "task": false
    }
   },
   "outputs": [
    {
     "data": {
      "text/plain": [
       "'DO NOT MODIFY THIS CELL'"
      ]
     },
     "execution_count": 50,
     "metadata": {},
     "output_type": "execute_result"
    }
   ],
   "source": [
    "\"\"\"Checks whether 2.1.1 output is correct\"\"\"\n",
    "\"\"\"DO NOT MODIFY THIS CELL\"\"\""
   ]
  },
  {
   "cell_type": "markdown",
   "metadata": {
    "deletable": false,
    "editable": false,
    "nbgrader": {
     "cell_type": "markdown",
     "checksum": "9a56a26d5d82e001e3beaa449225cfa3",
     "grade": false,
     "grade_id": "cell-44b298933a96e141",
     "locked": true,
     "schema_version": 3,
     "solution": false,
     "task": false
    }
   },
   "source": [
    "From prior knowledge we expect volatile acidity to be around 0-2 g/dm3, density to be close to 1 g/cm3, and alcohol percentage to be somewhere between 5-20% vol. We can safely identify the outliers for these attributes, searching for the values, which are a factor of 10 greater than the largest we expect. In the case of alcohol, we will **set the limit not to a factor 10, but to what is physically possible.** \n",
    "\n",
    "> 2.1.2) (1.5pts)\n",
    "1. Identify outliers for volatile acidity, density, and alcohol percentage, all based on the criteria above, and remove them from the data set. This means that you should remove the entire sample from the dataset, not just for that attribute!. Save the filtered data to `wine_data_filtered`. After filtering your data, standardize the data. Save your standardized and filtered data to `wine_data_filtered_standardized`.\n",
    "2. Plot new box plots and histograms for these three attributes with the outliers removed and compare them (side to side in a plot) with attributed in the original, unfiltered, data.\n",
    "\n",
    "> \n",
    " + *You can use logical indexing to easily make a new dataset, where the outliers are removed. This is much easier, and faster than methods like dropping, or selecting using a for loop or list comprehension. For more information, see: https://docs.scipy.org/doc/numpy-1.13.0/user/basics.indexing.html Take a look at the -Boolean or \"mask\" index arrays- section.*\n",
    " + *It is advisable to perform some sanity checks when removing parts of the data. Check for yourself how many samples are removed in each filtering step!*\n",
    " + *For standardization, use the StandardScaler included in the scikit-learn package, see: https://scikit-learn.org/stable/modules/generated/sklearn.preprocessing.StandardScaler.html. This is initially not the easiest way to standardize data, but it will save a lot of time in future experiments and your own project if you master the scikit-learn API!*"
   ]
  },
  {
   "cell_type": "code",
   "execution_count": 90,
   "metadata": {
    "deletable": false,
    "nbgrader": {
     "cell_type": "code",
     "checksum": "aa4536fd70a4e8cef13cdcf8e7a1e197",
     "grade": false,
     "grade_id": "cell-94f8603d1938ea58",
     "locked": false,
     "schema_version": 3,
     "solution": true,
     "task": false
    }
   },
   "outputs": [
    {
     "data": {
      "text/html": [
       "<div>\n",
       "<style scoped>\n",
       "    .dataframe tbody tr th:only-of-type {\n",
       "        vertical-align: middle;\n",
       "    }\n",
       "\n",
       "    .dataframe tbody tr th {\n",
       "        vertical-align: top;\n",
       "    }\n",
       "\n",
       "    .dataframe thead th {\n",
       "        text-align: right;\n",
       "    }\n",
       "</style>\n",
       "<table border=\"1\" class=\"dataframe\">\n",
       "  <thead>\n",
       "    <tr style=\"text-align: right;\">\n",
       "      <th></th>\n",
       "      <th>Volatile acidity</th>\n",
       "      <th>Density</th>\n",
       "      <th>Alcohol</th>\n",
       "    </tr>\n",
       "  </thead>\n",
       "  <tbody>\n",
       "    <tr>\n",
       "      <th>0</th>\n",
       "      <td>0.70</td>\n",
       "      <td>0.9978</td>\n",
       "      <td>9.4</td>\n",
       "    </tr>\n",
       "    <tr>\n",
       "      <th>1</th>\n",
       "      <td>0.88</td>\n",
       "      <td>0.9968</td>\n",
       "      <td>9.8</td>\n",
       "    </tr>\n",
       "    <tr>\n",
       "      <th>2</th>\n",
       "      <td>0.76</td>\n",
       "      <td>0.9970</td>\n",
       "      <td>9.8</td>\n",
       "    </tr>\n",
       "    <tr>\n",
       "      <th>3</th>\n",
       "      <td>0.28</td>\n",
       "      <td>0.9980</td>\n",
       "      <td>9.8</td>\n",
       "    </tr>\n",
       "    <tr>\n",
       "      <th>4</th>\n",
       "      <td>0.70</td>\n",
       "      <td>0.9978</td>\n",
       "      <td>9.4</td>\n",
       "    </tr>\n",
       "  </tbody>\n",
       "</table>\n",
       "</div>"
      ],
      "text/plain": [
       "   Volatile acidity  Density  Alcohol\n",
       "0              0.70   0.9978      9.4\n",
       "1              0.88   0.9968      9.8\n",
       "2              0.76   0.9970      9.8\n",
       "3              0.28   0.9980      9.8\n",
       "4              0.70   0.9978      9.4"
      ]
     },
     "execution_count": 90,
     "metadata": {},
     "output_type": "execute_result"
    }
   ],
   "source": [
    "#Answer to question 2.1.2\n",
    "#Process your data here\n",
    "# YOUR CODE HERE\n",
    "wine_data_filtered = data[['Volatile acidity', 'Density', 'Alcohol']]\n",
    "wine_data_filtered.head()"
   ]
  },
  {
   "cell_type": "code",
   "execution_count": null,
   "metadata": {
    "deletable": false,
    "nbgrader": {
     "cell_type": "code",
     "checksum": "842acf7065c1f0ebe0490b2e4a83d1be",
     "grade": true,
     "grade_id": "cell-5e75790e0ae7e5a0",
     "locked": false,
     "points": 100,
     "schema_version": 3,
     "solution": true,
     "task": false
    }
   },
   "outputs": [],
   "source": [
    "#Answer to question 2.1.2\n",
    "#Make your plots here:\n",
    "\n",
    "# YOUR CODE HERE\n",
    "raise NotImplementedError()"
   ]
  },
  {
   "cell_type": "code",
   "execution_count": null,
   "metadata": {
    "deletable": false,
    "editable": false,
    "nbgrader": {
     "cell_type": "code",
     "checksum": "11ebbd12557bf801489f578427b95ef2",
     "grade": true,
     "grade_id": "cell-294b5268ea1d4e01",
     "locked": true,
     "points": 50,
     "schema_version": 3,
     "solution": false,
     "task": false
    }
   },
   "outputs": [],
   "source": [
    "\"\"\"Checks whether 2.1.2 output is correct\"\"\"\n",
    "\"\"\"DO NOT MODIFY THIS CELL\"\"\""
   ]
  },
  {
   "cell_type": "markdown",
   "metadata": {
    "deletable": false,
    "editable": false,
    "nbgrader": {
     "cell_type": "markdown",
     "checksum": "a905fb9d322b0214e782917576dab48d",
     "grade": false,
     "grade_id": "cell-040ffdaf6b310acd",
     "locked": true,
     "schema_version": 3,
     "solution": false,
     "task": false
    }
   },
   "source": [
    "> 2.1.3 (0.5pts)\n",
    "Why do we need to standardize the data after removing the outliers? Give the -statistical- reason, not just the practical reason. "
   ]
  },
  {
   "cell_type": "markdown",
   "metadata": {
    "deletable": false,
    "nbgrader": {
     "cell_type": "markdown",
     "checksum": "be24aa4efe39ed076964f4f81f7d31aa",
     "grade": true,
     "grade_id": "cell-bd39c06cf0773330",
     "locked": false,
     "points": 50,
     "schema_version": 3,
     "solution": true,
     "task": false
    }
   },
   "source": [
    "YOUR ANSWER HERE"
   ]
  },
  {
   "cell_type": "markdown",
   "metadata": {
    "deletable": false,
    "editable": false,
    "nbgrader": {
     "cell_type": "markdown",
     "checksum": "0eb7879b023bfde75563a69164d65249",
     "grade": false,
     "grade_id": "cell-07801704868f2b1b",
     "locked": true,
     "schema_version": 3,
     "solution": false,
     "task": false
    }
   },
   "source": [
    "> 2.1.4 (1pt) Make 11 scatter plots between all attributes and the wine quality as rated by human judges. Can you manually identify any clear relationship between the attributes of the wine and wine quality? Which values of these attributes are associated with high quality wine? Use the correlation coefficients to substantiate your answers. Make sure to use the data where the outliers are removed. Substantiate your answer with text.\n",
    "+ *You can calculate the correlation coefficient using the `scipy.stats.pearsonr()` function to measure the strength of association.*"
   ]
  },
  {
   "cell_type": "code",
   "execution_count": null,
   "metadata": {
    "deletable": false,
    "nbgrader": {
     "cell_type": "code",
     "checksum": "52953b41e9de3647006de5585f6d02a2",
     "grade": true,
     "grade_id": "cell-80599d74c8acc9c6",
     "locked": false,
     "points": 50,
     "schema_version": 3,
     "solution": true,
     "task": false
    }
   },
   "outputs": [],
   "source": [
    "##Answer to question 2.1.4\n",
    "\n",
    "# YOUR CODE HERE\n",
    "raise NotImplementedError()"
   ]
  },
  {
   "cell_type": "markdown",
   "metadata": {
    "collapsed": true,
    "deletable": false,
    "nbgrader": {
     "cell_type": "markdown",
     "checksum": "536e6563a3980556d9a033065379116d",
     "grade": true,
     "grade_id": "cell-651e1b920b0f835d",
     "locked": false,
     "points": 50,
     "schema_version": 3,
     "solution": true,
     "task": false
    }
   },
   "source": [
    "YOUR ANSWER HERE"
   ]
  },
  {
   "cell_type": "markdown",
   "metadata": {
    "collapsed": true,
    "deletable": false,
    "editable": false,
    "nbgrader": {
     "cell_type": "markdown",
     "checksum": "6cd0a9c6e3f4bae143e5dc9ecbc928b1",
     "grade": false,
     "grade_id": "cell-c58999d10036a30d",
     "locked": true,
     "schema_version": 3,
     "solution": false,
     "task": false
    }
   },
   "source": [
    "## 2.2 Visualizing the handwritten digits (4 points)\n",
    "\n",
    "In this part of the exercise we will analyse the famous *mnist* handwritten digit dataset from: http://yann.lecun.com/exdb/mnist/.\n",
    "\n",
    "> 2.2.1 (0.5pts)\n",
    "1. Load zipdata.mat by using the `loadmat` function. There are two data sets containing handwritten digits: *testdata* and *traindata*. Here, we will only use *traindata*. The first column in the matrix *traindata* contains the digit (class) and the last 256 columns contain the pixel values.\n",
    "2. Create the data matrix *X* and the class index vector *y* from the data. Remove the digits with the class index 2-9 from the data, so only digits belonging to the class 0 and 1 are analyzed. (remember logical indexing!) Save the data, with the other digits removed, to `X_01` and `y_01` respectively."
   ]
  },
  {
   "cell_type": "code",
   "execution_count": null,
   "metadata": {
    "deletable": false,
    "nbgrader": {
     "cell_type": "code",
     "checksum": "d68ab71ee0e6337e998158149b522fb6",
     "grade": false,
     "grade_id": "cell-54c1fe9206c38675",
     "locked": false,
     "schema_version": 3,
     "solution": true,
     "task": false
    }
   },
   "outputs": [],
   "source": [
    "#Answer to question 2.2.1\n",
    "\n",
    "# YOUR CODE HERE\n",
    "raise NotImplementedError()"
   ]
  },
  {
   "cell_type": "code",
   "execution_count": null,
   "metadata": {
    "deletable": false,
    "editable": false,
    "nbgrader": {
     "cell_type": "code",
     "checksum": "1ebc75903e0ecb77797eaabe04ec374f",
     "grade": true,
     "grade_id": "cell-d7bae0235e34232a",
     "locked": true,
     "points": 50,
     "schema_version": 3,
     "solution": false,
     "task": false
    }
   },
   "outputs": [],
   "source": [
    "\"\"\"Checks whether 2.2.1 output is correct\"\"\"\n",
    "\"\"\"DO NOT MODIFY THIS CELL\"\"\""
   ]
  },
  {
   "cell_type": "markdown",
   "metadata": {
    "deletable": false,
    "editable": false,
    "nbgrader": {
     "cell_type": "markdown",
     "checksum": "26dc4c201611c9f9c388bef12caebc67",
     "grade": false,
     "grade_id": "cell-67d40cca7282f901",
     "locked": true,
     "schema_version": 3,
     "solution": false,
     "task": false
    }
   },
   "source": [
    "PCA can be used for various things, one of which is compression. To show that we can reasonably reconstruct the digits from only fraction of the numerical information, we will compress the data to only the projection onto the first 4 Principal Components (instead of the 256 original variables).\n",
    "\n",
    "> 2.2.2 (0.5pts)\n",
    "1. Compute the principal components (PCA) of the data matrix. Now, using the PCA model, create a new data matrix $Z$ by projecting $X$ onto the space spanned by the loadings $V$. The new data matrix should have 4 attributes corresponding to PC1-PC4. Save the matrix $Z$ with only 4 PCs to a variable called `Z`.\n",
    "2. Reconstruct the initial data using PC1-PC4 into a new matrix called $W$ and save it to a variable called `W`.\n",
    "\n",
    "\n",
    "> **Hints:**\n",
    "+ *See Assignment 1 if you can not recall how to compute a PCA.*\n",
    "+ *Keep in mind that numpy.linalg.svd() returns the transposed **V<sup>T</sup>** matrix as output.*\n",
    "+ *You can use **Z** = **Y** $*$ **V**[:,:4] to project the data onto the first four PCs. Don't forget that the $*$ operator does not perform matrix multiplication for numpy arrays!*\n",
    "+ *To reconstruct the data from projection you can use the following formula: **W** = **Z** $*$ **V**[:,:4]<sup>T</sup> + **μ**. Remember that **μ** is the mean we subtracted when mean-centering."
   ]
  },
  {
   "cell_type": "code",
   "execution_count": null,
   "metadata": {
    "deletable": false,
    "nbgrader": {
     "cell_type": "code",
     "checksum": "5c7fd6125e9050121ecb83f35a60a93b",
     "grade": false,
     "grade_id": "cell-6f79d0c9fabbf9cd",
     "locked": false,
     "schema_version": 3,
     "solution": true,
     "task": false
    }
   },
   "outputs": [],
   "source": [
    "#Answer to question 2.2.1\n",
    "\n",
    "# YOUR CODE HERE\n",
    "raise NotImplementedError()"
   ]
  },
  {
   "cell_type": "code",
   "execution_count": null,
   "metadata": {
    "deletable": false,
    "editable": false,
    "nbgrader": {
     "cell_type": "code",
     "checksum": "04e8dbc9c1a69120a584fa6844ff3807",
     "grade": true,
     "grade_id": "cell-5208e93f60b0b647",
     "locked": true,
     "points": 50,
     "schema_version": 3,
     "solution": false,
     "task": false
    }
   },
   "outputs": [],
   "source": [
    "\"\"\"Checks whether 2.2.2 output is correct\"\"\"\n",
    "\"\"\"DO NOT MODIFY THIS CELL\"\"\""
   ]
  },
  {
   "cell_type": "markdown",
   "metadata": {
    "deletable": false,
    "editable": false,
    "nbgrader": {
     "cell_type": "markdown",
     "checksum": "7b1ef0eb8cae6d61d9adf63cce9d7d0b",
     "grade": false,
     "grade_id": "cell-82341bbb6abb2b7d",
     "locked": true,
     "schema_version": 3,
     "solution": false,
     "task": false
    }
   },
   "source": [
    "> 2.2.3 (1pts)\n",
    "1. Visualize the first 10 digits as images for the reconstructed data and compare them with images for the original data. Use subplotting to show the digits and their reconstructed counterparts in an orderly manner. You can take a look at the example code to see how you can visualize a certain digit.\n",
    "\n",
    "> **Hints:**\n",
    "+ *The below example code can help you visualize digits as images.*"
   ]
  },
  {
   "cell_type": "code",
   "execution_count": null,
   "metadata": {
    "deletable": false,
    "nbgrader": {
     "cell_type": "code",
     "checksum": "3068504eea148d817f5d2fe736872b4e",
     "grade": true,
     "grade_id": "cell-c05f118c90008ec1",
     "locked": false,
     "points": 100,
     "schema_version": 3,
     "solution": true,
     "task": false
    }
   },
   "outputs": [],
   "source": [
    "import matplotlib.pyplot as plt\n",
    "import matplotlib.cm as cm\n",
    "from scipy.io import loadmat\n",
    "from numpy import reshape\n",
    "\n",
    "# Index of the digit to display\n",
    "i = 0\n",
    "\n",
    "# Load Matlab data file to python dict structure\n",
    "mat_data = loadmat('../data/zipdata.mat')\n",
    "\n",
    "# Extract variables of interest\n",
    "testdata = mat_data['testdata']\n",
    "X_test = testdata[:,1:]\n",
    "y_test = testdata[:,0]\n",
    "\n",
    "# Visualize the i'th digit as an image\n",
    "plt.subplot(1,1,1);\n",
    "I = reshape(X_test[i,:],(16,16))\n",
    "plt.imshow(I, extent=(0,16,0,16), cmap=cm.gray_r);\n",
    "plt.title('Digit as an image');\n",
    "plt.show()\n",
    "\n",
    "#------------------------------------------------\n",
    "\n",
    "\n",
    "#Answer to question 2.2.3\n",
    "#You can remove the example code for visualization if you want.\n",
    "\n",
    "# YOUR CODE HERE\n",
    "raise NotImplementedError()"
   ]
  },
  {
   "cell_type": "markdown",
   "metadata": {
    "deletable": false,
    "editable": false,
    "nbgrader": {
     "cell_type": "markdown",
     "checksum": "bdcb7df6a7eeece756625bdc1c2f4211",
     "grade": false,
     "grade_id": "cell-43720ad09cbcb298",
     "locked": true,
     "schema_version": 3,
     "solution": false,
     "task": false
    }
   },
   "source": [
    "> 2.2.4 (1.5pts)\n",
    "1. Make a 4-by-4 subplot of scatter plots of each possible combination projection onto PC1 to PC4 (contained in $Z$) against each other. You can leave the diagonal blank.  Plot elements belonging to different classes in different colors. Add a legend to clarify which digit is shown in which color.\n",
    "2. Make a 3-dimensional scatter plot of the projections onto the first three principal components PC1-PC3 (contained in $Z$). Plot elements belonging to different classes in different colors. Add a legend to clarify which digit is shown in which color.\n",
    "\n",
    "\n",
    "> **Hints:**\n",
    "\n",
    "+ *You can take a look at the example_figure.ipynb notebook to see how you can easily plot multiple classes and color them correspondingly.* \n",
    "+ *It is advisable to make a for-loop to generate the 2D scatter plots, this saves a lot of time. It is an important skill to master if you want to easily modify your work later on, for example when correcting mistakes, or when you want to modify each plot in the same manner.* \n",
    "+ *Use Axes3D from Matplotlib to make 3D scatter plots. Make sure to read the documentation!*\n"
   ]
  },
  {
   "cell_type": "code",
   "execution_count": null,
   "metadata": {
    "deletable": false,
    "nbgrader": {
     "cell_type": "code",
     "checksum": "f169b5c992e7b569823bb921fad4ce12",
     "grade": true,
     "grade_id": "cell-1030141a0858d865",
     "locked": false,
     "points": 100,
     "schema_version": 3,
     "solution": true,
     "task": false
    }
   },
   "outputs": [],
   "source": [
    "#Answer to question 2.2.4\n",
    "# YOUR CODE HERE\n",
    "raise NotImplementedError()"
   ]
  },
  {
   "cell_type": "markdown",
   "metadata": {
    "deletable": false,
    "editable": false,
    "nbgrader": {
     "cell_type": "markdown",
     "checksum": "40af8a6b173f3b780e2375d2f4286d94",
     "grade": false,
     "grade_id": "cell-5344127d47d8ac99",
     "locked": true,
     "schema_version": 3,
     "solution": false,
     "task": false
    }
   },
   "source": [
    "> 2.2.5 (0.5pts)\n",
    "1. What can you conclude from the various scatterplots about the PCs and the way they separate the two digits?"
   ]
  },
  {
   "cell_type": "markdown",
   "metadata": {
    "deletable": false,
    "nbgrader": {
     "cell_type": "markdown",
     "checksum": "770438652d4a0a7ba59df8ce91fb995c",
     "grade": true,
     "grade_id": "cell-7301dc8ba330095c",
     "locked": false,
     "points": 100,
     "schema_version": 3,
     "solution": true,
     "task": false
    }
   },
   "source": [
    "YOUR ANSWER HERE"
   ]
  },
  {
   "cell_type": "markdown",
   "metadata": {
    "deletable": false,
    "editable": false,
    "nbgrader": {
     "cell_type": "markdown",
     "checksum": "2a7dc613db767cbc1eb11c104463a068",
     "grade": false,
     "grade_id": "cell-1d7e1a5cb55c577f",
     "locked": true,
     "schema_version": 3,
     "solution": false,
     "task": false
    }
   },
   "source": [
    "## 2.3 Probability and Statistics (1.5 points)\n",
    "The aim of this exercise is to learn how to calculate basic statistics in python.\n",
    "> 2.3.1 (0.3pts) A study of a very limited population of Aliens reveals the following number of body appendages (limbs):\n",
    "<center>2,3,6,8,11,18</center>\n",
    "\n",
    "> Find the mean $m$ and the standard deviation $\\sigma$ of this population. Assign them to the variables `m` and `sigma` respectively. Finally, print them.\n",
    "+ *You can use the methods numpy.ndarray.mean() and numpy.ndarray.std() to calculate the mean and standard deviation.*"
   ]
  },
  {
   "cell_type": "code",
   "execution_count": null,
   "metadata": {
    "deletable": false,
    "nbgrader": {
     "cell_type": "code",
     "checksum": "9166db07358d76816cb803718fff1569",
     "grade": false,
     "grade_id": "cell-7037a2be999d4545",
     "locked": false,
     "schema_version": 3,
     "solution": true,
     "task": false
    }
   },
   "outputs": [],
   "source": [
    "##Answer to question 2.3.1 (0.3 points)\n",
    "# YOUR CODE HERE\n",
    "raise NotImplementedError()"
   ]
  },
  {
   "cell_type": "code",
   "execution_count": null,
   "metadata": {
    "deletable": false,
    "editable": false,
    "nbgrader": {
     "cell_type": "code",
     "checksum": "ca28ac33e094c4bd6233a0267fee25c9",
     "grade": true,
     "grade_id": "cell-cc4f488844f62f96",
     "locked": true,
     "points": 30,
     "schema_version": 3,
     "solution": false,
     "task": false
    }
   },
   "outputs": [],
   "source": [
    "\"\"\"Checks whether 2.3.1. output is correct\"\"\"\n",
    "\"\"\"DO NOT MODIFY THIS CELL\"\"\""
   ]
  },
  {
   "cell_type": "markdown",
   "metadata": {
    "deletable": false,
    "editable": false,
    "nbgrader": {
     "cell_type": "markdown",
     "checksum": "1c8d2d055afeb1a7a41985ceced0ecd2",
     "grade": false,
     "grade_id": "cell-198d9607fa7959aa",
     "locked": true,
     "schema_version": 3,
     "solution": false,
     "task": false
    }
   },
   "source": [
    "> 2.3.2 (0.3pts) List (by printing) all possible samples of two aliens without replacement, and find the mean of each sample. Do the same with samples of four aliens. Assign the means to the variables `c2_means and` `c4_means` respectively. Make sure you save the result to a numpy array.\n",
    "+ *You can use the method itertools.combinations(v,n) to find all possible samples of a vector v taking n elements at a time.*"
   ]
  },
  {
   "cell_type": "code",
   "execution_count": null,
   "metadata": {
    "deletable": false,
    "nbgrader": {
     "cell_type": "code",
     "checksum": "166e4160f23049530fef340e735970c8",
     "grade": false,
     "grade_id": "cell-77600f1472829b4b",
     "locked": false,
     "schema_version": 3,
     "solution": true,
     "task": false
    }
   },
   "outputs": [],
   "source": [
    "##Answer to question 2.3.2 (0.3 points)\n",
    "# YOUR CODE HERE\n",
    "raise NotImplementedError()"
   ]
  },
  {
   "cell_type": "code",
   "execution_count": null,
   "metadata": {
    "deletable": false,
    "editable": false,
    "nbgrader": {
     "cell_type": "code",
     "checksum": "5d0d1ca2b2a700ca09405e691814f8d7",
     "grade": true,
     "grade_id": "cell-d097dd48d8a2aea0",
     "locked": true,
     "points": 30,
     "schema_version": 3,
     "solution": false,
     "task": false
    }
   },
   "outputs": [],
   "source": [
    "\"\"\"Checks whether 2.3.2. output is correct\"\"\"\n",
    "\"\"\"DO NOT MODIFY THIS CELL\"\"\""
   ]
  },
  {
   "cell_type": "markdown",
   "metadata": {
    "deletable": false,
    "editable": false,
    "nbgrader": {
     "cell_type": "markdown",
     "checksum": "fab9c176965efb90e5e2b397cbabf8e1",
     "grade": false,
     "grade_id": "cell-bbd3cce21365a924",
     "locked": true,
     "schema_version": 3,
     "solution": false,
     "task": false
    }
   },
   "source": [
    "> 2.3.3 (0.3pts) Each of the means above is called a sample mean. Find the mean of all the sample means (denoted by $m_x$) and the standard deviation of all the sample means (denoted by $\\sigma_x$) for both the *N=2* and *N=4* samples. Assign them to variables called `m2`, `sigma2`, `m4`, and `sigma4`.\n"
   ]
  },
  {
   "cell_type": "code",
   "execution_count": null,
   "metadata": {
    "deletable": false,
    "nbgrader": {
     "cell_type": "code",
     "checksum": "1f5c7f28f997bb586a6e412b71152d38",
     "grade": false,
     "grade_id": "cell-27db2fe4ece43827",
     "locked": false,
     "schema_version": 3,
     "solution": true,
     "task": false
    }
   },
   "outputs": [],
   "source": [
    "##Answer to question 2.3.3 (0.3 points)\n",
    "# YOUR CODE HERE\n",
    "raise NotImplementedError()"
   ]
  },
  {
   "cell_type": "code",
   "execution_count": null,
   "metadata": {
    "deletable": false,
    "editable": false,
    "nbgrader": {
     "cell_type": "code",
     "checksum": "34f9945f4df1557f41914d38bba75508",
     "grade": true,
     "grade_id": "cell-99f8acc8c32126fa",
     "locked": true,
     "points": 30,
     "schema_version": 3,
     "solution": false,
     "task": false
    }
   },
   "outputs": [],
   "source": [
    "\"\"\"Checks whether 2.3.3. output is correct\"\"\"\n",
    "\"\"\"DO NOT MODIFY THIS CELL\"\"\""
   ]
  },
  {
   "cell_type": "markdown",
   "metadata": {
    "deletable": false,
    "editable": false,
    "nbgrader": {
     "cell_type": "markdown",
     "checksum": "94f897168fbf590f58a554db6d24a93d",
     "grade": false,
     "grade_id": "cell-4e9618dbe0e54662",
     "locked": true,
     "schema_version": 3,
     "solution": false,
     "task": false
    }
   },
   "source": [
    "> 2.3.4 Verify the Central Limit Theorem: (i) (0.1pts) compare the population\n",
    "mean with the mean of both sample means; (ii) (0.2pts) compare the population\n",
    "standard deviation divided by the square root of the sample size\n",
    "with the standard deviation of both sample means (i.e., does\n",
    "$\\sigma_x \\approx \\sigma/\\sqrt{N}$). BTW, a better approximation for\n",
    "small population sizes is $\\sigma_x = \\sigma / \\sqrt{N} \\times\n",
    "\\sqrt{(M-N)/(M-1)}$ with *M = 6* the size of the original"
   ]
  },
  {
   "cell_type": "markdown",
   "metadata": {
    "deletable": false,
    "nbgrader": {
     "cell_type": "markdown",
     "checksum": "18bc8e03a45c3f43aae64ecd67942a96",
     "grade": true,
     "grade_id": "cell-67cc29239f0200cd",
     "locked": false,
     "points": 30,
     "schema_version": 3,
     "solution": true,
     "task": false
    }
   },
   "source": [
    "YOUR ANSWER HERE"
   ]
  },
  {
   "cell_type": "markdown",
   "metadata": {
    "deletable": false,
    "editable": false,
    "nbgrader": {
     "cell_type": "markdown",
     "checksum": "17daf7d8bca84842850bab3f4bbcb4d8",
     "grade": false,
     "grade_id": "cell-2349e4d995965843",
     "locked": true,
     "schema_version": 3,
     "solution": false,
     "task": false
    }
   },
   "source": [
    "> 2.3.5 (0.3pts) Plot the distribution of the population and the distributions of both sample means using histograms. What happens to the shape of the sample means distribution as the sample size (N*) increases?"
   ]
  },
  {
   "cell_type": "code",
   "execution_count": null,
   "metadata": {
    "deletable": false,
    "nbgrader": {
     "cell_type": "code",
     "checksum": "4f0f19cba74a13d963ee50861804e79a",
     "grade": true,
     "grade_id": "cell-7ee15d15fce0ed05",
     "locked": false,
     "points": 20,
     "schema_version": 3,
     "solution": true,
     "task": false
    }
   },
   "outputs": [],
   "source": [
    "##Answer to question 2.3.5 \n",
    "\n",
    "# YOUR CODE HERE\n",
    "raise NotImplementedError()"
   ]
  },
  {
   "cell_type": "markdown",
   "metadata": {
    "deletable": false,
    "nbgrader": {
     "cell_type": "markdown",
     "checksum": "222fcc2a4212693a19ffe8a1f578cb8c",
     "grade": true,
     "grade_id": "cell-ff669c48a29a9451",
     "locked": false,
     "points": 10,
     "schema_version": 3,
     "solution": true,
     "task": false
    }
   },
   "source": [
    "YOUR ANSWER HERE"
   ]
  }
 ],
 "metadata": {
  "kernelspec": {
   "display_name": "Python 3",
   "language": "python",
   "name": "python3"
  },
  "language_info": {
   "codemirror_mode": {
    "name": "ipython",
    "version": 3
   },
   "file_extension": ".py",
   "mimetype": "text/x-python",
   "name": "python",
   "nbconvert_exporter": "python",
   "pygments_lexer": "ipython3",
   "version": "3.8.3"
  },
  "varInspector": {
   "cols": {
    "lenName": 16,
    "lenType": 16,
    "lenVar": 40
   },
   "kernels_config": {
    "python": {
     "delete_cmd_postfix": "",
     "delete_cmd_prefix": "del ",
     "library": "var_list.py",
     "varRefreshCmd": "print(var_dic_list())"
    },
    "r": {
     "delete_cmd_postfix": ") ",
     "delete_cmd_prefix": "rm(",
     "library": "var_list.r",
     "varRefreshCmd": "cat(var_dic_list()) "
    }
   },
   "types_to_exclude": [
    "module",
    "function",
    "builtin_function_or_method",
    "instance",
    "_Feature"
   ],
   "window_display": false
  }
 },
 "nbformat": 4,
 "nbformat_minor": 2
}
