{
 "cells": [
  {
   "cell_type": "markdown",
   "metadata": {},
   "source": [
    "Before you turn this problem in, make sure everything runs as expected. First, **restart the kernel** (in the menubar, select Kernel$\\rightarrow$Restart) and then **run all cells** (in the menubar, select Cell$\\rightarrow$Run All).\n",
    "\n",
    "Make sure you fill in any place that says `YOUR CODE HERE` or \"YOUR ANSWER HERE\", as well as your name and collaborators below:"
   ]
  },
  {
   "cell_type": "code",
   "execution_count": null,
   "metadata": {},
   "outputs": [],
   "source": [
    "NAME = \"Michael Cornelisse\"\n",
    "STUDENT_NUMBER = \"s1059020\"\n",
    "COLLABORATOR_NAME = \"Nienke Helmers\"\n",
    "COLLABORATOR_STUDENT_NUMBER = \"s1016904\""
   ]
  },
  {
   "cell_type": "markdown",
   "metadata": {},
   "source": [
    "---"
   ]
  },
  {
   "cell_type": "markdown",
   "metadata": {
    "deletable": false,
    "editable": false,
    "nbgrader": {
     "cell_type": "markdown",
     "checksum": "a531b239c4400830d0b0b437834e0a0f",
     "grade": false,
     "grade_id": "cell-4543b21b34b8c4a5",
     "locked": true,
     "schema_version": 3,
     "solution": false,
     "task": false
    }
   },
   "source": [
    "# Assignment 6: Nearest Neighbour and Artificial Neural Networks\n",
    "\n",
    "## Objective of this assignment\n",
    "The objective of this exercise is to understand how k-nearest neighbor and neural networks can be used to solve classification problems.\n",
    "\n",
    "## ** Important: ** When handing in your homework:\n",
    "+ Hand in the notebook (and nothing else) named as follows: StudentName1_snumber_StudentName2_snumber.ipynb\n",
    "+ Provide clear and complete answers to the questions below under a separate header (not hidden somewhere in your source code), and make sure to explain your answers / motivate your choices. Add Markdown cells where necessary.\n",
    "+ Source code, output graphs, derivations, etc., should be included in the notebook.\n",
    "+ Hand-in: upload to Brightspace.\n",
    "+ Include name, student number, assignment (especially in filenames)!\n",
    "+ When working in pairs only one of you should upload the assignment, and report the name of your partner in your filename.\n",
    "+ For problems or questions: come to the practical sessions or email the student assistants.\n",
    "\n",
    "\n",
    "## Advised Reading and Exercise Material\n",
    "**The following reading material is recommended:**\n",
    "\n",
    "- Pang-Ning Tan, Michael Steinbach, and Vipin Kumar, *Introduction to Data Mining*, section 5.2-5.4.\n",
    "\n",
    "\n",
    "## Additional Tools\n",
    "This exercise is based upon material kindly provided by the Cognitive System Section, DTU Compute, http://cogsys.compute.dtu.dk. Any sale or commercial distribution is strictly forbidden.\n",
    "\n",
    "\n",
    "##  6.1 K-nearest neighbor classification\n",
    "In this exercise we will use the k-nearest neighbors (KNN) method for classification.\n",
    "First, we will consider the four synthetic data sets synth1, synth2, synth3 and\n",
    "synth4 we used in earlier assignments.\n",
    "\n",
    "#### 6.1.1 (2 points)\n",
    "For each of the four synthetic data sets, do the following.:\n",
    "\n",
    "* Load the training part of the dataset `X_train` and `y_train` as well as `X_test` and `y_test`.\n",
    "\n",
    "* Fit a  k-nearest neighbor classifier model (`KNeighborsClassifier` from `sklearn.neighbors` (http://scikit-learn.org/stable/modules/generated/sklearn.neighbors.KNeighborsClassifier.html)) on the train data. \n",
    "  * Choose a suitable distance measure (you should consider the distance measures `euclidean`,`cityblock`, `cosine`, and `seuclidean`). \n",
    "\n",
    "  * Choose a suitable number of neighbors. \n",
    "  \n",
    "* Predict the class of the test data using the trained model.\n",
    "\n",
    "* Make a scatterplot of the train and test data with the classification of the test data obtained with the best k-value and distance measures you found -- just one plot per data set is fine. You can use the `classification_plot` function from the toolbox. \n",
    "  * Use the obtained prediction of the test data in your plot.\n",
    "  * Try to study the plot (use all 5 arguments) to see how test data is classified using the train data.\n",
    "\n",
    "* Create the confusion matrix, plot it using the `plot_confusion_matrix` function given below, and calculate the accuracy and error rate. Print or show the accuracy and error rate for each dataset.\n",
    "\n",
    "Answers the following questions for each dataset:\n",
    "\n",
    "* Which distance measures worked best for each of the four problems? Can you explain why?\n",
    "\n",
    "* How many neighbors were needed for the four problems? \n",
    "\n",
    "* Can you give an example of when it would be good to use a large/small number of neighbors? Consider e.g. when clusters are  well separated versus when they are overlapping.\n",
    "\n",
    "Hints:\n",
    "\n",
    "* To generate a confusion matrix, you can use the function confusion_matrix() from the module sklearn.metrics. You can use the function below to plot the confusion matrix. Don't remember how to read a confusion matrix? Check the wiki page: https://en.wikipedia.org/wiki/Confusion_matrix\n",
    "\n"
   ]
  },
  {
   "cell_type": "code",
   "execution_count": 36,
   "metadata": {
    "deletable": false,
    "editable": false,
    "nbgrader": {
     "cell_type": "code",
     "checksum": "cedae35cd068fa593fe2e56341aa9a48",
     "grade": false,
     "grade_id": "cell-881a8d7329bd61d8",
     "locked": true,
     "schema_version": 3,
     "solution": false,
     "task": false
    }
   },
   "outputs": [],
   "source": [
    "import seaborn as sn\n",
    "import pandas as pd\n",
    "import numpy as np\n",
    "import matplotlib.pyplot as plt\n",
    "\n",
    "def plot_confusion_matrix(cm,y):\n",
    "    df_cm = pd.DataFrame(cm, index = [i+1 for i in np.unique(y)],\n",
    "                  columns = [i+1 for i in np.unique(y)])\n",
    "    plt.figure()\n",
    "    sn.heatmap(df_cm, annot=True)\n",
    "    plt.title('Confusion matrix')\n",
    "    plt.xlabel('Predicted class')\n",
    "    plt.ylabel('Actual class')\n",
    "    plt.show()"
   ]
  },
  {
   "cell_type": "code",
   "execution_count": 1,
   "metadata": {
    "deletable": false,
    "nbgrader": {
     "cell_type": "code",
     "checksum": "26f2ff9aaa7e1840deeb38980d13ff47",
     "grade": true,
     "grade_id": "cell-c914718fc664cbf0",
     "locked": false,
     "points": 100,
     "schema_version": 3,
     "solution": true,
     "task": false
    },
    "scrolled": true
   },
   "outputs": [
    {
     "ename": "TypeError",
     "evalue": "__init__() takes exactly 1 positional argument (0 given)",
     "output_type": "error",
     "traceback": [
      "\u001b[1;31m---------------------------------------------------------------------------\u001b[0m",
      "\u001b[1;31mTypeError\u001b[0m                                 Traceback (most recent call last)",
      "\u001b[1;32m<ipython-input-1-0000c522f8dc>\u001b[0m in \u001b[0;36m<module>\u001b[1;34m\u001b[0m\n\u001b[0;32m     14\u001b[0m \u001b[1;33m\u001b[0m\u001b[0m\n\u001b[0;32m     15\u001b[0m     \u001b[0mneighbors\u001b[0m \u001b[1;33m=\u001b[0m \u001b[0mKNeighborsClassifier\u001b[0m\u001b[1;33m(\u001b[0m\u001b[0mn_neighbors\u001b[0m \u001b[1;33m=\u001b[0m \u001b[1;36m10\u001b[0m\u001b[1;33m,\u001b[0m \u001b[0mmetric\u001b[0m \u001b[1;33m=\u001b[0m \u001b[1;34m'seuclidean'\u001b[0m\u001b[1;33m)\u001b[0m\u001b[1;33m\u001b[0m\u001b[1;33m\u001b[0m\u001b[0m\n\u001b[1;32m---> 16\u001b[1;33m     \u001b[0mneighbors\u001b[0m\u001b[1;33m.\u001b[0m\u001b[0mfit\u001b[0m\u001b[1;33m(\u001b[0m\u001b[0mX_train\u001b[0m\u001b[1;33m,\u001b[0m \u001b[0my_train\u001b[0m\u001b[1;33m)\u001b[0m\u001b[1;33m\u001b[0m\u001b[1;33m\u001b[0m\u001b[0m\n\u001b[0m\u001b[0;32m     17\u001b[0m     \u001b[0my_predict\u001b[0m \u001b[1;33m=\u001b[0m \u001b[0mneighbors\u001b[0m\u001b[1;33m.\u001b[0m\u001b[0mpredict\u001b[0m\u001b[1;33m(\u001b[0m\u001b[0mX_test\u001b[0m\u001b[1;33m)\u001b[0m\u001b[1;33m\u001b[0m\u001b[1;33m\u001b[0m\u001b[0m\n\u001b[0;32m     18\u001b[0m     \u001b[0mplt\u001b[0m\u001b[1;33m.\u001b[0m\u001b[0mfigure\u001b[0m\u001b[1;33m(\u001b[0m\u001b[0mfigsize\u001b[0m\u001b[1;33m=\u001b[0m\u001b[1;33m(\u001b[0m\u001b[1;36m10\u001b[0m\u001b[1;33m,\u001b[0m \u001b[1;36m10\u001b[0m\u001b[1;33m)\u001b[0m\u001b[1;33m)\u001b[0m\u001b[1;33m\u001b[0m\u001b[1;33m\u001b[0m\u001b[0m\n",
      "\u001b[1;32mD:\\Programmes\\Anaconda\\lib\\site-packages\\sklearn\\neighbors\\_base.py\u001b[0m in \u001b[0;36mfit\u001b[1;34m(self, X, y)\u001b[0m\n\u001b[0;32m   1155\u001b[0m             \u001b[0mself\u001b[0m\u001b[1;33m.\u001b[0m\u001b[0m_y\u001b[0m \u001b[1;33m=\u001b[0m \u001b[0mself\u001b[0m\u001b[1;33m.\u001b[0m\u001b[0m_y\u001b[0m\u001b[1;33m.\u001b[0m\u001b[0mravel\u001b[0m\u001b[1;33m(\u001b[0m\u001b[1;33m)\u001b[0m\u001b[1;33m\u001b[0m\u001b[1;33m\u001b[0m\u001b[0m\n\u001b[0;32m   1156\u001b[0m \u001b[1;33m\u001b[0m\u001b[0m\n\u001b[1;32m-> 1157\u001b[1;33m         \u001b[1;32mreturn\u001b[0m \u001b[0mself\u001b[0m\u001b[1;33m.\u001b[0m\u001b[0m_fit\u001b[0m\u001b[1;33m(\u001b[0m\u001b[0mX\u001b[0m\u001b[1;33m)\u001b[0m\u001b[1;33m\u001b[0m\u001b[1;33m\u001b[0m\u001b[0m\n\u001b[0m\u001b[0;32m   1158\u001b[0m \u001b[1;33m\u001b[0m\u001b[0m\n\u001b[0;32m   1159\u001b[0m     \u001b[1;32mdef\u001b[0m \u001b[0m_more_tags\u001b[0m\u001b[1;33m(\u001b[0m\u001b[0mself\u001b[0m\u001b[1;33m)\u001b[0m\u001b[1;33m:\u001b[0m\u001b[1;33m\u001b[0m\u001b[1;33m\u001b[0m\u001b[0m\n",
      "\u001b[1;32mD:\\Programmes\\Anaconda\\lib\\site-packages\\sklearn\\neighbors\\_base.py\u001b[0m in \u001b[0;36m_fit\u001b[1;34m(self, X)\u001b[0m\n\u001b[0;32m    450\u001b[0m \u001b[1;33m\u001b[0m\u001b[0m\n\u001b[0;32m    451\u001b[0m         \u001b[1;32mif\u001b[0m \u001b[0mself\u001b[0m\u001b[1;33m.\u001b[0m\u001b[0m_fit_method\u001b[0m \u001b[1;33m==\u001b[0m \u001b[1;34m'ball_tree'\u001b[0m\u001b[1;33m:\u001b[0m\u001b[1;33m\u001b[0m\u001b[1;33m\u001b[0m\u001b[0m\n\u001b[1;32m--> 452\u001b[1;33m             self._tree = BallTree(X, self.leaf_size,\n\u001b[0m\u001b[0;32m    453\u001b[0m                                   \u001b[0mmetric\u001b[0m\u001b[1;33m=\u001b[0m\u001b[0mself\u001b[0m\u001b[1;33m.\u001b[0m\u001b[0meffective_metric_\u001b[0m\u001b[1;33m,\u001b[0m\u001b[1;33m\u001b[0m\u001b[1;33m\u001b[0m\u001b[0m\n\u001b[0;32m    454\u001b[0m                                   **self.effective_metric_params_)\n",
      "\u001b[1;32msklearn\\neighbors\\_binary_tree.pxi\u001b[0m in \u001b[0;36msklearn.neighbors._ball_tree.BinaryTree.__init__\u001b[1;34m()\u001b[0m\n",
      "\u001b[1;32msklearn\\neighbors\\_dist_metrics.pyx\u001b[0m in \u001b[0;36msklearn.neighbors._dist_metrics.DistanceMetric.get_metric\u001b[1;34m()\u001b[0m\n",
      "\u001b[1;32msklearn\\neighbors\\_dist_metrics.pyx\u001b[0m in \u001b[0;36msklearn.neighbors._dist_metrics.SEuclideanDistance.__init__\u001b[1;34m()\u001b[0m\n",
      "\u001b[1;31mTypeError\u001b[0m: __init__() takes exactly 1 positional argument (0 given)"
     ]
    }
   ],
   "source": [
    "##Answer to question 6.1.1\n",
    "import numpy as np\n",
    "from scipy.io import loadmat\n",
    "from sklearn.neighbors import KNeighborsClassifier\n",
    "from toolbox.classification_plot import classification_plot\n",
    "from sklearn.metrics import confusion_matrix, accuracy_score\n",
    "\n",
    "for i in range(4):\n",
    "    synth = loadmat('./data/synth'+ str(i+1) + '.mat')\n",
    "    X_train = synth['X_train']\n",
    "    X_test = synth['X_test']\n",
    "    y_train = np.ravel(synth['y_train'])\n",
    "    y_test = synth['y_test']\n",
    "    \n",
    "    neighbors = KNeighborsClassifier(n_neighbors = 10, metric = 'seuclidean') # make as dictionary, variance along axis = 0\n",
    "    neighbors.fit(X_train, y_train)\n",
    "    y_predict = neighbors.predict(X_test)  \n",
    "    plt.figure(figsize=(10, 10))\n",
    "    classification_plot(X_test, y_test, y_predict, X_train, y_train)\n",
    "    plt.title('Classification plot of synth{}'.format(i+1))\n",
    "    \n",
    "    cm = confusion_matrix(y_test, y_predict)\n",
    "    plot_confusion_matrix(cm, y_test)\n",
    "    \n",
    "    accuracy = accuracy_score(y_test, y_predict)\n",
    "    error = 1 - accuracy\n",
    "    print('The accuracy of the classifier is {} and the error is {}.' .format(accuracy,error))\n",
    "    "
   ]
  },
  {
   "cell_type": "markdown",
   "metadata": {
    "deletable": false,
    "nbgrader": {
     "cell_type": "markdown",
     "checksum": "9f119a5a62deb0a9bf9d45636a42bcb7",
     "grade": true,
     "grade_id": "cell-c365d26e6855010f",
     "locked": false,
     "points": 100,
     "schema_version": 3,
     "solution": true,
     "task": false
    }
   },
   "source": [
    "Synth1\n",
    "Because the date in synth1 is very well separated, the type of distance measure did not influence the classification: all were correctly classified. The same goes mostly for the amount of neigbhbors as well.\n",
    "\n",
    "Synth2\n",
    "\n",
    "Synth3\n",
    "\n",
    "Synth4\n",
    "\n",
    "\n",
    "A large amount of neighbors is more useful when the classes aren't well separated, because then it can base its class on more points, having more chance of being accurate. When the classes are well-separated, a small amount of neighbors is fine, because it will be easily classified correctly; increasing the amount of neighbors only increasese the chances of misclassifying in this case."
   ]
  },
  {
   "cell_type": "markdown",
   "metadata": {
    "deletable": false,
    "editable": false,
    "nbgrader": {
     "cell_type": "markdown",
     "checksum": "59ac7546b659465ab4fa46efeca1a50f",
     "grade": false,
     "grade_id": "cell-8ecc7df13886d8fb",
     "locked": true,
     "schema_version": 3,
     "solution": false,
     "task": false
    }
   },
   "source": [
    "#### 6.1.2 (1 points)\n",
    "In general we can use cross-validation to select the optimal distance metric and number of nearest neighbors, k.This can however be computationally expensive. \n",
    "\n",
    "We now return to the Iris data that we have considered in previous exercises, and will attempt to classify the Iris flowers using KNN. \n",
    "\n",
    "* Load the Iris data into Python with the `pandas` function `read_excel()` and save it to a variable called `iris_data`. Inspect the data by printing the `head()` of the dataframe. \n",
    "\n",
    "* Use the values of the 4 variables `Sepal Length,  Sepal Width,  Petal Length,  Petal Width` to create a data set `X`. Use the `Type` column to create the labels `labels`. Both `X` should be a numpy array! You can use the `to_numpy()` method for this. `labels` will be a Pandas series.\n",
    "\n",
    "* Convert the Pandas series `labels` to an integer encoding by using the `LabelEncoder` in scikit-learn. Save the integer encoding, which should be a numpy array to a variable called `y`.\n",
    "\n",
    "* Use leave-one-out cross-validation to estimate the optimal number of neighbors, k, for the k-nearest neighbor classifier. Save the vector of averaged errors to a variable called `mean_errors`. This should be a numpy array.\n",
    "\n",
    "* Plot the cross-validation average classification error as a function of k for $k = 1,..,40$.\n",
    "\n",
    "You can use the function `LeaveOneOut` from `sklearn.model_selection`: http://scikit-learn.org/stable/modules/generated/sklearn.model_selection.LeaveOneOut.html\n",
    "\n",
    "What is the optimal number of neighbors to use for this data?"
   ]
  },
  {
   "cell_type": "code",
   "execution_count": 144,
   "metadata": {
    "deletable": false,
    "nbgrader": {
     "cell_type": "code",
     "checksum": "3bce13c66bbd7e3011f794f5ec64f5b4",
     "grade": false,
     "grade_id": "cell-d4a09338afe0c7e2",
     "locked": false,
     "schema_version": 3,
     "solution": true,
     "task": false
    },
    "scrolled": false
   },
   "outputs": [
    {
     "data": {
      "text/plain": [
       "Text(0, 0.5, 'Mean error')"
      ]
     },
     "execution_count": 144,
     "metadata": {},
     "output_type": "execute_result"
    },
    {
     "data": {
      "image/png": "[encoded data removed]",
      "text/plain": [
       "<Figure size 432x288 with 1 Axes>"
      ]
     },
     "metadata": {
      "needs_background": "light"
     },
     "output_type": "display_data"
    }
   ],
   "source": [
    "##Answer to question 6.1.2\n",
    "# YOUR CODE HERE\n",
    "from sklearn.preprocessing import LabelEncoder\n",
    "from sklearn.model_selection import LeaveOneOut\n",
    "\n",
    "\n",
    "iris_data = pd.read_excel('./data/iris.xls')\n",
    "iris_data.head()\n",
    "\n",
    "X = iris_data[['Sepal Length', 'Sepal Width', 'Petal Length', 'Petal Width']].to_numpy()\n",
    "label = iris_data['Type']\n",
    "le = LabelEncoder()\n",
    "y = le.fit_transform(label)\n",
    "\n",
    "loo = LeaveOneOut()\n",
    "mean_errors = []\n",
    "for i in range(1, 41):\n",
    "    errors = []\n",
    "    for train_index, test_index in loo.split(X,y):\n",
    "        X_train, X_test = X[train_index], X[test_index]\n",
    "        y_train, y_test = y[train_index], y[test_index]\n",
    "        \n",
    "        neighbors = KNeighborsClassifier(n_neighbors = i)\n",
    "        neighbors.fit(X_train, y_train)\n",
    "        y_predict = neighbors.predict(X_test)\n",
    "        \n",
    "        accuracy = accuracy_score(y_test, y_predict)\n",
    "        error = 1 - accuracy\n",
    "        errors.append(error)\n",
    "    mean_errors.append(np.mean([errors]))\n",
    "\n",
    "plt.plot(range(1,41), mean_errors)\n",
    "plt.title('Mean errors for k nearest neighbors classification')\n",
    "plt.xlabel('K nearest neighbors')\n",
    "plt.ylabel('Mean error')"
   ]
  },
  {
   "cell_type": "code",
   "execution_count": 77,
   "metadata": {
    "deletable": false,
    "editable": false,
    "nbgrader": {
     "cell_type": "code",
     "checksum": "9f88c28dac836b1e35ed742f320329f1",
     "grade": true,
     "grade_id": "cell-5228b8b55ea59d61",
     "locked": true,
     "points": 80,
     "schema_version": 3,
     "solution": false,
     "task": false
    },
    "scrolled": true
   },
   "outputs": [
    {
     "data": {
      "text/plain": [
       "'DO NOT MODIFY THIS CELL'"
      ]
     },
     "execution_count": 77,
     "metadata": {},
     "output_type": "execute_result"
    }
   ],
   "source": [
    "\"\"\"Checks whether 6.1.2 output is correct\"\"\"\n",
    "\"\"\"DO NOT MODIFY THIS CELL\"\"\""
   ]
  },
  {
   "cell_type": "markdown",
   "metadata": {
    "deletable": false,
    "nbgrader": {
     "cell_type": "markdown",
     "checksum": "8281ec59a17b23d98db14a22fe213760",
     "grade": true,
     "grade_id": "cell-28bebc3e081a2ae6",
     "locked": false,
     "points": 20,
     "schema_version": 3,
     "solution": true,
     "task": false
    }
   },
   "source": [
    "The optimal number of neighbors lies between 19 and 21."
   ]
  },
  {
   "cell_type": "markdown",
   "metadata": {
    "deletable": false,
    "editable": false,
    "nbgrader": {
     "cell_type": "markdown",
     "checksum": "82a242682254f8612636192a23e60623",
     "grade": false,
     "grade_id": "cell-58214337905e988d",
     "locked": true,
     "schema_version": 3,
     "solution": false,
     "task": false
    }
   },
   "source": [
    "#### 6.1.3 (2 points)\n",
    "\n",
    "KNN can also be used for regression by predicting the output of an observation as the average of the output values of its nearest neighbors. \n",
    "\n",
    "KNN regression in Python is most easily performed using the `KNeighborsRegressor` in `sklearn.neighbors`. \n",
    "\n",
    "We'll predict the alcohol content of wine in the wine data with KNN, using the other 10 attributes as predictors. \n",
    "\n",
    "* Load the Wine data into Python and save it to a variable called `wine_data`.\n",
    "\n",
    "* Construct the `X` and `y` numpy arrays by slicing the `wine_data`. `y` should be a vector containing only the alcohol percentage, the other variables should be contained in `X`.\n",
    "\n",
    "* We will use the mean squared error as a performance metric. This can be calculated using `mean_squared_error` in `sklearn.metrics`.\n",
    "\n",
    "* Use k-fold cross-validation with k=5 to estimate the optimal number of neighbors, k, for the k-nearest neighbor classifier. Save the vector of averaged errors to a variable called `mean_errors`. This should be a numpy array. **N.B.** This means you will have a mean of mean squared errors for each value of k.\n",
    "\n",
    "* The cross-validation procedure should be performed using `KFold` in `sklearn.model_selection`. The variable `random_state` **must** be set to a value of `42`. The variable `shuffle` must be set to `True`.\n",
    "\n",
    "* Plot the calculated cross-validation averaged mean square error as a function of k for $k = 1,..,40$.\n",
    "\n",
    "* Repeat all these steps, but perform standardization during the procedure. Make sure the mean and standard deviation are calculated over **only** the train data, and applied on both train and the test data. You can use the `StandardScaler` in `sklearn.preprocessing` for this. Save the errors to `mean_errors_std` using the same methodology as for `mean_errors`.\n",
    "\n",
    "Then answer the following questions:\n",
    "* What is the optimal value for the number of nearest neighbors? Answer for both the preprocessing procedures (no preprocessing and standardization).\n",
    "\n",
    "* Does the algorithm perform better with or without standardization? Explain your observations.\n",
    "\n",
    "* Why do we need to calculate the mean and standard deviation on the training data rather than over the entire data?"
   ]
  },
  {
   "cell_type": "code",
   "execution_count": 162,
   "metadata": {
    "deletable": false,
    "nbgrader": {
     "cell_type": "code",
     "checksum": "c1a4b383943d5c7a41600b4a3b517eb8",
     "grade": false,
     "grade_id": "cell-504d617605676706",
     "locked": false,
     "schema_version": 3,
     "solution": true,
     "task": false
    }
   },
   "outputs": [
    {
     "data": {
      "text/plain": [
       "Text(0, 0.5, 'Mean error')"
      ]
     },
     "execution_count": 162,
     "metadata": {},
     "output_type": "execute_result"
    },
    {
     "data": {
      "image/png": "[encoded data removed]",
      "text/plain": [
       "<Figure size 432x288 with 1 Axes>"
      ]
     },
     "metadata": {
      "needs_background": "light"
     },
     "output_type": "display_data"
    },
    {
     "data": {
      "image/png": "[encoded data removed]",
      "text/plain": [
       "<Figure size 432x288 with 1 Axes>"
      ]
     },
     "metadata": {
      "needs_background": "light"
     },
     "output_type": "display_data"
    }
   ],
   "source": [
    "##Answer to question 6.1.3\n",
    "from sklearn.neighbors import KNeighborsRegressor\n",
    "from sklearn.metrics import mean_squared_error\n",
    "from sklearn.model_selection import KFold\n",
    "from sklearn.preprocessing import StandardScaler\n",
    "\n",
    "wine_data = loadmat('./data/wine.mat')\n",
    "wine = wine_data['X']\n",
    "X = wine[:,[0,1,2,3,4,5,6,7,8,9]]\n",
    "y = wine[:,[10]]\n",
    "\n",
    "#Without standardization\n",
    "kf = KFold(5, shuffle = True, random_state = 42)\n",
    "mean_errors = []\n",
    "for i in range(1,41):\n",
    "    errors = []\n",
    "    for train_index, test_index in kf.split(X,y):\n",
    "        X_train, X_test = X[train_index], X[test_index]\n",
    "        y_train, y_test = y[train_index], y[test_index]\n",
    "        \n",
    "        neighbors = KNeighborsRegressor(n_neighbors = i)\n",
    "        neighbors.fit(X_train, y_train)\n",
    "        y_predict = neighbors.predict(X_test)\n",
    "        \n",
    "        error = mean_squared_error(y_test, y_predict)\n",
    "        errors.append(error)\n",
    "    mean_errors.append(np.mean([errors]))\n",
    "    \n",
    "plt.plot(range(1,41), mean_errors)\n",
    "plt.title('Mean errors for k nearest neighbors regression')\n",
    "plt.xlabel('K nearest neighbors')\n",
    "plt.ylabel('Mean error')\n",
    "\n",
    "#With standardization\n",
    "scaler = StandardScaler()\n",
    "mean_errors_std = []\n",
    "for i in range(1,41):\n",
    "    errors = []\n",
    "    for train_index, test_index in kf.split(X,y):\n",
    "        X_train, X_test = X[train_index], X[test_index]\n",
    "        y_train, y_test = y[train_index], y[test_index]\n",
    "        \n",
    "        scaler.fit(X_train, y_train)\n",
    "        X_train = scaler.transform(X_train)\n",
    "        X_test = scaler.transform(X_test)\n",
    "        \n",
    "        neighbors = KNeighborsRegressor(n_neighbors = i)\n",
    "        neighbors.fit(X_train, y_train)\n",
    "        y_predict = neighbors.predict(X_test)\n",
    "        \n",
    "        error = mean_squared_error(y_test, y_predict)\n",
    "        errors.append(error)\n",
    "    mean_errors_std.append(np.mean([errors]))\n",
    "\n",
    "plt.figure(figsize = (6,4))\n",
    "plt.plot(range(1,41), mean_errors_std)\n",
    "plt.title('Mean errors for k nearest neighbors regression with classification')\n",
    "plt.xlabel('K nearest neighbors')\n",
    "plt.ylabel('Mean error')"
   ]
  },
  {
   "cell_type": "code",
   "execution_count": null,
   "metadata": {
    "deletable": false,
    "editable": false,
    "nbgrader": {
     "cell_type": "code",
     "checksum": "822e7292a5a51db93c5e9665488c136e",
     "grade": true,
     "grade_id": "cell-4b08ebfcacac67d5",
     "locked": true,
     "points": 150,
     "schema_version": 3,
     "solution": false,
     "task": false
    }
   },
   "outputs": [],
   "source": [
    "\"\"\"Checks whether 6.1.2 output is correct\"\"\"\n",
    "\"\"\"DO NOT MODIFY THIS CELL\"\"\""
   ]
  },
  {
   "cell_type": "markdown",
   "metadata": {
    "deletable": false,
    "nbgrader": {
     "cell_type": "markdown",
     "checksum": "5e7ed8399a8da8c0b78516cf4f71e3aa",
     "grade": true,
     "grade_id": "cell-4100da3d38a4de04",
     "locked": false,
     "points": 50,
     "schema_version": 3,
     "solution": true,
     "task": false
    }
   },
   "source": [
    "YOUR ANSWER HERE"
   ]
  },
  {
   "cell_type": "markdown",
   "metadata": {
    "deletable": false,
    "editable": false,
    "nbgrader": {
     "cell_type": "markdown",
     "checksum": "6ace40b8ed6b0fae9f27a48ad47c0677",
     "grade": false,
     "grade_id": "cell-d5c684910893698d",
     "locked": true,
     "schema_version": 3,
     "solution": false,
     "task": false
    }
   },
   "source": [
    "## 6.2 Artificial Neural Networks\n",
    "\n",
    "In this part of the exercise we will use neural networks to classify the xor data. We will consider a network with an input layer, one layer of hidden units and an output layer. The class `sklearn.neural_network.MLPClassifier` can be used to create a Multilayer Perceptron that can minimizes the Cross-Entropy loss function for any dataset X with corresponding labels y. See https://scikit-learn.org/stable/modules/neural_networks_supervised.html \n",
    "\n",
    "We use the data contained in `xor.mat` in the Data folder. \n",
    "\n",
    "#### 6.2.1 (0.5 points)\n",
    "Check out the documentation for `MLPClassifier` and read the documentation well. Make sure you understand at least in general terms how the learning process works. Answer the following questions before you continue:\n",
    "\n",
    "1. For a single perceptron, the activation function can be linear, e.g. $f(x) = x$. However, the activation function used in the MLP class is a non-linear function. Why does it not make sense for a MLP to use such a linear activation function? Hint: what does the following computation simplify to if $f(x)$ is such a simple linear function: $f(Wo*f(Wh*X_i))$?\n",
    "2. The MLPClassifier has a few optional parameters. For each of the following parameters, explain how changing the parameter might affect the learning process or the resulting solution:\n",
    "\n",
    "> `hidden_layer_sizes`:\n",
    "\n",
    "> `max_iter`:\n",
    "\n",
    "> `learning_rate`:\n",
    "\n",
    "> `learning_rate_init`:\n",
    "\n",
    "   3\\. Use the following commands to create a small test set:\n",
    "\n",
    "> `Xtest = np.array([[0,0],[0,1],[1,0],[1,1]]).`\n",
    "\n",
    "> `ytest = np.array([0,0,0,1])`\n",
    "     \n",
    "\n",
    "Create a MLPClassifier with 1 hidden layer using the `lbfgs`solver and fit the data. You can leave the other parameters unchanged. Use the score method to compute the mean accuracy. How well does the MLP perform on this problem? Use the function `MLPPlot.plot_boundaries` function to plot the data and the decision boundaries. Why does(n't) it work well with one hidden unit? Could you improve by using more?\n",
    "\n",
    "#### NB: the weights are initialised randomly, so you should run the code a few times untill you get a decent result."
   ]
  },
  {
   "cell_type": "code",
   "execution_count": 9,
   "metadata": {
    "deletable": false,
    "nbgrader": {
     "cell_type": "code",
     "checksum": "73bfe7e2649db80247ed098f87b38a1e",
     "grade": true,
     "grade_id": "cell-735ec50c840768e5",
     "locked": false,
     "points": 25,
     "schema_version": 3,
     "solution": true,
     "task": false
    }
   },
   "outputs": [
    {
     "name": "stdout",
     "output_type": "stream",
     "text": [
      "[[0 0]\n",
      " [0 1]\n",
      " [1 0]\n",
      " [1 1]]\n"
     ]
    },
    {
     "data": {
      "image/png": "[encoded data removed]",
      "text/plain": [
       "<Figure size 432x288 with 1 Axes>"
      ]
     },
     "metadata": {
      "needs_background": "light"
     },
     "output_type": "display_data"
    }
   ],
   "source": [
    "##Answer to question 6.2.1\n",
    "from sklearn.neural_network import MLPClassifier\n",
    "from  toolbox.MLPPlot import MLPPlot\n",
    "\n",
    "Xtest = np.array([0,0, 0,1,1,0, 1,1]).reshape(4,2)\n",
    "print(Xtest)\n",
    "ytest = np.array([0,0,0,1])\n",
    "\n",
    "clf = MLPClassifier(solver = 'lbfgs')\n",
    "clf.fit(Xtest, ytest)\n",
    "plotter  =  MLPPlot(Xtest, ytest, clf)\n",
    "plotter.plot_boundaries()"
   ]
  },
  {
   "cell_type": "markdown",
   "metadata": {
    "deletable": false,
    "nbgrader": {
     "cell_type": "markdown",
     "checksum": "5d2db60b6ac94b26be0ce4f22c3792ef",
     "grade": true,
     "grade_id": "cell-9d41b67efb609fc1",
     "locked": false,
     "points": 25,
     "schema_version": 3,
     "solution": true,
     "task": false
    }
   },
   "source": [
    "1 Activation functions determine the output of a neural network. If that function is linear, there can only be one hidden layer, because adding extra layers adds additional x variables into it.\n",
    "\n",
    "2 \n",
    "1. hidden_layer_sizes: The size of the hidden layer indicates the number of neurons per layer ?????????\n",
    "2. max_iter: This parameter gives the max number of times the neural network's weights are adjusted to fit the data  (or less if convergence is reached). When this number is low, the function might not fit the data correctly and the predictions that the network will make will be insufficient. Increasing the number makes the neural network more accurate for classification, but it can take a long time for the network to finish convergence.\n",
    "3. learning_rate: The learning rate indicates how much the weights are adjusted each iteration. When the value is small, the network is not trained very well, but a large value results in very varying weights that can throw off the accuracy of the neural network.\n",
    "4. learning_rate_init: This value indicates the initial learning rate of the neural network, which can be adjusted during the learning process in an invscaling or adaptive way. Similar to the learning rate, making the initial value very small can lead to a non-trained network and a large value to a network with  bad accuracy,. The effect is somewhat diminished if the learning rate itself is not constant and is altered to a more acceptable size.\n",
    "\n",
    "3\n"
   ]
  },
  {
   "cell_type": "markdown",
   "metadata": {
    "collapsed": true,
    "deletable": false,
    "editable": false,
    "nbgrader": {
     "cell_type": "markdown",
     "checksum": "504a4551a7e5b45b243e8b8176a03326",
     "grade": false,
     "grade_id": "cell-c65eb2c09f090f0c",
     "locked": true,
     "schema_version": 3,
     "solution": false,
     "task": false
    }
   },
   "source": [
    "#### 6.2.2 (0.5 points)\n",
    "Load the data from `xor.mat` into Python using `scipio.io.loadmat(...)` and make `y` a 1d vector. Make a scatter plot of the two attributes in `X`, coloring the points according to the class labels `y` and add a legend. Use matplotlib functions, and no toolbox functions for this. How are `X` and `y` related?"
   ]
  },
  {
   "cell_type": "code",
   "execution_count": null,
   "metadata": {
    "deletable": false,
    "nbgrader": {
     "cell_type": "code",
     "checksum": "14c2c43389f769b8e06271ea4e60cce4",
     "grade": true,
     "grade_id": "cell-29ae1f3886162c7e",
     "locked": false,
     "points": 25,
     "schema_version": 3,
     "solution": true,
     "task": false
    }
   },
   "outputs": [],
   "source": [
    "##Answer to question 6.2.2\n",
    "# YOUR CODE HERE\n",
    "raise NotImplementedError()"
   ]
  },
  {
   "cell_type": "markdown",
   "metadata": {
    "deletable": false,
    "nbgrader": {
     "cell_type": "markdown",
     "checksum": "dd494932ccb21ee27e9cd329566ae560",
     "grade": true,
     "grade_id": "cell-32ed8b71c9f4daa2",
     "locked": false,
     "points": 25,
     "schema_version": 3,
     "solution": true,
     "task": false
    }
   },
   "source": [
    "YOUR ANSWER HERE"
   ]
  },
  {
   "cell_type": "markdown",
   "metadata": {
    "deletable": false,
    "editable": false,
    "nbgrader": {
     "cell_type": "markdown",
     "checksum": "e524801fc35bb94de10b197f23e0ced5",
     "grade": false,
     "grade_id": "cell-651d2f68691aeb95",
     "locked": true,
     "schema_version": 3,
     "solution": false,
     "task": false
    }
   },
   "source": [
    "#### 6.2.3 (2 points)\n",
    "Create a MLPClassifier with 1 hidden unit. Fit X and y. Use 10-fold cross-validation `KFold` from `sklearn.model_selection` to create training and test sets and estimate the classification error for both. In each fold, run the learning process 5 times and take the best classification error.  \n",
    "\n",
    "Plot the decision boundaries of one network trained on the entire data set, again with 1 hidden unit, and explain why the network performs so well/poorly."
   ]
  },
  {
   "cell_type": "code",
   "execution_count": null,
   "metadata": {
    "deletable": false,
    "nbgrader": {
     "cell_type": "code",
     "checksum": "e1600309d01b54329c3addff47903301",
     "grade": true,
     "grade_id": "cell-43a21e78b44b6141",
     "locked": false,
     "points": 100,
     "schema_version": 3,
     "solution": true,
     "task": false
    }
   },
   "outputs": [],
   "source": [
    "##Answer to question 6.2.3\n",
    "# YOUR CODE HERE\n",
    "raise NotImplementedError()"
   ]
  },
  {
   "cell_type": "markdown",
   "metadata": {
    "deletable": false,
    "nbgrader": {
     "cell_type": "markdown",
     "checksum": "b7289e611666fcc24ee8c59072a061f8",
     "grade": true,
     "grade_id": "cell-adb15a9e87187331",
     "locked": false,
     "points": 100,
     "schema_version": 3,
     "solution": true,
     "task": false
    }
   },
   "source": [
    "YOUR ANSWER HERE"
   ]
  },
  {
   "cell_type": "markdown",
   "metadata": {
    "deletable": false,
    "editable": false,
    "nbgrader": {
     "cell_type": "markdown",
     "checksum": "343626467d3adc9bcb1f9e9c3da2927d",
     "grade": false,
     "grade_id": "cell-1936656c8e08a612",
     "locked": true,
     "schema_version": 3,
     "solution": false,
     "task": false
    }
   },
   "source": [
    "#### 6.2.4 (1 point)\n",
    "Repeat 6.2.3, but use two hidden units instead of one. Does the classification performance improve? Can you explain why?"
   ]
  },
  {
   "cell_type": "code",
   "execution_count": null,
   "metadata": {
    "deletable": false,
    "nbgrader": {
     "cell_type": "code",
     "checksum": "e82241fbd0bc6a0965b36a79d5264fda",
     "grade": true,
     "grade_id": "cell-a39abd58bfcca041",
     "locked": false,
     "points": 0,
     "schema_version": 3,
     "solution": true,
     "task": false
    }
   },
   "outputs": [],
   "source": [
    "##Answer to question 6.2.4\n",
    "# YOUR CODE HERE\n",
    "raise NotImplementedError()"
   ]
  },
  {
   "cell_type": "markdown",
   "metadata": {
    "deletable": false,
    "nbgrader": {
     "cell_type": "markdown",
     "checksum": "17e052b110aefbd9b76363a6ca86f274",
     "grade": true,
     "grade_id": "cell-dd67a9822341f970",
     "locked": false,
     "points": 100,
     "schema_version": 3,
     "solution": true,
     "task": false
    }
   },
   "source": [
    "YOUR ANSWER HERE"
   ]
  },
  {
   "cell_type": "markdown",
   "metadata": {
    "deletable": false,
    "editable": false,
    "nbgrader": {
     "cell_type": "markdown",
     "checksum": "8d1a3f961df0f6044eb3e77f6e388dfb",
     "grade": false,
     "grade_id": "cell-981cc4f0a8d12be4",
     "locked": true,
     "schema_version": 3,
     "solution": false,
     "task": false
    }
   },
   "source": [
    "#### 6.2.5 (1 point)\n",
    "Repeat 6.2.3 with 10 hidden units. What happens to the decision boundaries of the learned neural networks? What are the benefits and drawbacks of including\n",
    "many hidden units in the network?"
   ]
  },
  {
   "cell_type": "code",
   "execution_count": null,
   "metadata": {
    "deletable": false,
    "nbgrader": {
     "cell_type": "code",
     "checksum": "1b61ecd4dd4fddce66357c1af9618b19",
     "grade": true,
     "grade_id": "cell-7f016c36f90eef22",
     "locked": false,
     "points": 0,
     "schema_version": 3,
     "solution": true,
     "task": false
    }
   },
   "outputs": [],
   "source": [
    "##Answer to question 6.2.5\n",
    "# YOUR CODE HERE\n",
    "raise NotImplementedError()"
   ]
  },
  {
   "cell_type": "markdown",
   "metadata": {
    "deletable": false,
    "nbgrader": {
     "cell_type": "markdown",
     "checksum": "5cef002189b504ffe1bdec1d08086cf6",
     "grade": true,
     "grade_id": "cell-30e1c8dd5d124df0",
     "locked": false,
     "points": 100,
     "schema_version": 3,
     "solution": true,
     "task": false
    }
   },
   "source": [
    "YOUR ANSWER HERE"
   ]
  }
 ],
 "metadata": {
  "kernelspec": {
   "display_name": "Python 3",
   "language": "python",
   "name": "python3"
  },
  "language_info": {
   "codemirror_mode": {
    "name": "ipython",
    "version": 3
   },
   "file_extension": ".py",
   "mimetype": "text/x-python",
   "name": "python",
   "nbconvert_exporter": "python",
   "pygments_lexer": "ipython3",
   "version": "3.8.3"
  }
 },
 "nbformat": 4,
 "nbformat_minor": 2
}
