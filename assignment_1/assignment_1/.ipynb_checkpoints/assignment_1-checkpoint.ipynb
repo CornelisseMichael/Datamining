{
 "cells": [
  {
   "cell_type": "markdown",
   "metadata": {
    "colab_type": "text",
    "id": "0TZMIsXcgTW7"
   },
   "source": [
    "Before you turn this problem in, make sure everything runs as expected. First, **restart the kernel** (in the menubar, select Kernel$\\rightarrow$Restart) and then **run all cells** (in the menubar, select Cell$\\rightarrow$Run All).\n",
    "\n",
    "Make sure you fill in any place that says `YOUR CODE HERE` or \"YOUR ANSWER HERE\", as well as your name and collaborators below:"
   ]
  },
  {
   "cell_type": "code",
   "execution_count": 32,
   "metadata": {
    "colab": {},
    "colab_type": "code",
    "id": "37gS9fjmgTW9"
   },
   "outputs": [],
   "source": [
    "NAME = \"Michael Cornelisse\"\n",
    "STUDENT_NUMBER = \"s1059020\"\n",
    "COLLABORATOR_NAME = \"\"\n",
    "COLLABORATOR_STUDENT_NUMER = \"\""
   ]
  },
  {
   "cell_type": "markdown",
   "metadata": {
    "colab_type": "text",
    "id": "fymKLFUmgTXB"
   },
   "source": [
    "---"
   ]
  },
  {
   "cell_type": "markdown",
   "metadata": {
    "colab_type": "text",
    "deletable": false,
    "editable": false,
    "id": "1Md-yCJdgTXB",
    "nbgrader": {
     "cell_type": "markdown",
     "checksum": "7aab62576a1d3191fc6858bd8756dfc9",
     "grade": false,
     "grade_id": "cell-776460a4164921ee",
     "locked": true,
     "schema_version": 3,
     "solution": false,
     "task": false
    }
   },
   "source": [
    "# Assignment 1\n",
    "\n",
    "## Objective of this assignment\n",
    "The objective is to get acquainted with the Python language, with emphasis on its scientific and numerical extensions, how data can be imported from other data sources, the linear algebra basics that are needed for this course, visualization using principal component analysis (PCA) and the concept of similarity. Upon completing this exercise it is expected that you:\n",
    "\n",
    "- Understand how data can be represented as vectors and matrices in numerical Python (NumPy).\n",
    "- Can apply and interpret principal component analysis (PCA) for data visualization.\n",
    "- Understand the various measures of similarity such as Jaccard and Cosine similarity and apply similarity measures to query for similar observations.\n",
    "\n",
    "## ** Important: ** When handing in your homework:\n",
    "+ Hand in the notebook (and nothing else) **named as follows**: StudentName1_snumber_StudentName2_snumber.ipynb\n",
    "+ Provide clear and complete answers to the questions below under a separate header (not hidden somewhere in your source code), and make sure to explain your answers / motivate your choices. Add Markdown cells where necessary.\n",
    "+ Source code, output graphs, derivations, etc., should be included in the notebook.\n",
    "+ Hand-in: upload to Brightspace.\n",
    "+ Include name, student number, assignment (especially in filenames)!\n",
    "+ When working in pairs only one of you should upload the assignment, and report the name of your partner in your filename.\n",
    "+ Use the Brightspace discussion board or email the student assistants for questions on how to complete the exercises.\n",
    "+ If you find mistakes/have suggestions/would like to complain about the assigment material itself, please email me [Roel] at `Roel.Bouman@ru.nl`\n",
    "+ Do not add/remove any cells in the notebook, else this might break the auto-grading system. An invalid notebook will mean a severe reduction in your grade!\n",
    "+ Only type your answers in those places where they are asked.\n",
    "+ Remove any \"raise NotImplementedError()\" statements in the cells you answered.\n",
    "\n",
    "\n",
    "## Advised Reading and Exercise Material\n",
    "**The following on-line materials are recommended:**\n",
    "\n",
    "- <http://docs.python.org/tutorial> - Introduction into Python environment, syntax and data structures. Recommended reading - sections 1, 2, 3, 4 and 5.\n",
    "- <https://docs.scipy.org/doc/numpy/user/quickstart.html> - Tutorial introducing the scientific computing in Python, array and matrix operations, indexing and slicing matrices.\n",
    "- <https://docs.scipy.org/doc/numpy/user/numpy-for-matlab-users.html> - Useful reference to scientific computing in Python if you have previous experience with MATLAB programming.\n",
    "- <https://www.datacamp.com/courses/intro-to-python-for-data-science> - Simple introduction to Data Science using Python.\n",
    "- <https://matplotlib.org/> - Documentation and examples related to matplotlib module, which we shall use extensively through the course to visualize data and results.\n",
    "- Pang-Ning Tan, Michael Steinbach, and Vipin Kumar, **Introduction to Data Mining**, sections 2.1-2.3 + (A) + B.1\n",
    "- Pang-Ning Tan, Michael Steinbach, and Vipin Kumar, **Introduction to Data Mining**, sections 2.4 + 3.1-3.2 + C.1-C.2\n",
    "\n",
    "\n",
    "## 1.1 Python and Linear Algebra basics\n",
    "\n",
    "**For this course we advise(and require you!) to only use NumPy ndarrays ndarrays to represent vectors and matrices. The numpy.matrix data type, although intuitive, is mostly deprecated and uses operators for multiplication differently. This means that you can't perform matrix multiplications symbollically, and instead will have to use functions from the NumPy library!** \n",
    "\n",
    "**1.1.1**a) (0.3 points) Generate (and print) the following vectors using functions from the *NumPy* package in Python: \n",
    "*Note: You do not have to print column vectors as columns!*\n",
    "\n",
    "\\begin{equation}\n",
    "     \\textbf{x} = \\begin{pmatrix} \n",
    "         6 \\\\\n",
    "         7 \\\\\n",
    "         8 \\\\\n",
    "         9 \\\\\n",
    "         10 \\\\\n",
    "         11 \\\\\n",
    "         12\n",
    "       \\end{pmatrix}\n",
    "     \\textbf{y} = \\begin{pmatrix} \n",
    "         3 \\\\\n",
    "         7 \\\\\n",
    "         11 \\\\\n",
    "         15 \\\\\n",
    "         19 \\\\\n",
    "         23 \\\\\n",
    "         27\n",
    "       \\end{pmatrix}\n",
    "     \\textbf{w} = \\begin{pmatrix} \n",
    "         1 \\\\\n",
    "         1 \\\\\n",
    "         0 \\\\\n",
    "         0.5 \\\\\n",
    "         1 \\\\\n",
    "         1.5 \\\\\n",
    "         2 \\\\\n",
    "         0 \\\\\n",
    "         0 \n",
    "       \\end{pmatrix}\n",
    "     \\textbf{s} = \\begin{pmatrix}\n",
    "         100 \\\\\n",
    "         98.8 \\\\\n",
    "         97.6 \\\\\n",
    "         96.4 \\\\\n",
    "         95.2\n",
    "       \\end{pmatrix} \n",
    "     \\textbf{z} = \\begin{pmatrix}\n",
    "         0.7 \\\\\n",
    "         1.0 \\\\\n",
    "         1.3 \\\\\n",
    "         1.6 \\\\\n",
    "         1.9 \\\\\n",
    "         2.2 \\\\\n",
    "         2.5 \\\\\n",
    "         2.8\n",
    "       \\end{pmatrix}\n",
    "  \\end{equation}\n",
    "\n"
   ]
  },
  {
   "cell_type": "code",
   "execution_count": 33,
   "metadata": {
    "colab": {},
    "colab_type": "code",
    "deletable": false,
    "editable": false,
    "id": "R3sSmAcLgTXC",
    "nbgrader": {
     "cell_type": "code",
     "checksum": "53da47fbb0465bee0188a3d1d6013213",
     "grade": false,
     "grade_id": "cell-43e50836d2c76c96",
     "locked": true,
     "schema_version": 3,
     "solution": false,
     "task": false
    }
   },
   "outputs": [],
   "source": [
    "#Import NumPy\n",
    "import numpy as np\n",
    "#You'll have to manually import libraries in the future!"
   ]
  },
  {
   "cell_type": "code",
   "execution_count": 34,
   "metadata": {
    "colab": {
     "base_uri": "https://localhost:8080/",
     "height": 104
    },
    "colab_type": "code",
    "deletable": false,
    "id": "oZ9cQDOtgTXF",
    "nbgrader": {
     "cell_type": "code",
     "checksum": "859f1962239823cb2fcebef685094e20",
     "grade": false,
     "grade_id": "cell-78c907215aa8b085",
     "locked": false,
     "schema_version": 3,
     "solution": true,
     "task": false
    },
    "outputId": "ad0bbbd1-da6a-429d-a967-1ed7b4c8fbc5"
   },
   "outputs": [
    {
     "name": "stdout",
     "output_type": "stream",
     "text": [
      "[ 6  7  8  9 10 11 12]\n",
      "[ 3  7 11 15 19 23 27]\n",
      "[1.  1.  0.  0.5 1.  1.5 2.  0.  0. ]\n",
      "[100.   98.8  97.6  96.4  95.2]\n",
      "[0.7 1.  1.3 1.6 1.9 2.2 2.5 2.8]\n"
     ]
    }
   ],
   "source": [
    "#\n",
    "##Generate the vectors in  using Python and NumPy \n",
    "x = np.arange(6,13)\n",
    "# to represent vector vertically example on x: x = np.reshape(7,1)\n",
    "y = np.arange(3,28,4)\n",
    "w = np.array([1, 1, 0, 0.5, 1, 1.5, 2, 0, 0])\n",
    "s = np.arange(100, 95,-1.2)\n",
    "z = np.arange(0.7, 3, 0.3)\n",
    "\n",
    "print(x)\n",
    "print(y)\n",
    "print(w)\n",
    "print(s)\n",
    "print(z)"
   ]
  },
  {
   "cell_type": "code",
   "execution_count": 35,
   "metadata": {
    "colab": {
     "base_uri": "https://localhost:8080/",
     "height": 35
    },
    "colab_type": "code",
    "deletable": false,
    "editable": false,
    "id": "tXxZ5zCJgTXI",
    "nbgrader": {
     "cell_type": "code",
     "checksum": "1f3a638a84dcc00ff20b397e43c1f000",
     "grade": true,
     "grade_id": "cell-6ec72c394fc2b2d1",
     "locked": true,
     "points": 30,
     "schema_version": 3,
     "solution": false,
     "task": false
    },
    "outputId": "9fd96611-7bb2-484a-cf7a-60f2b10b7aaa"
   },
   "outputs": [
    {
     "data": {
      "text/plain": [
       "'DO NOT MODIFY THIS CELL'"
      ]
     },
     "execution_count": 35,
     "metadata": {},
     "output_type": "execute_result"
    }
   ],
   "source": [
    "\"\"\"Checks whether 1.1.1.a output is correct\"\"\"\n",
    "\"\"\"DO NOT MODIFY THIS CELL\"\"\""
   ]
  },
  {
   "cell_type": "markdown",
   "metadata": {
    "colab_type": "text",
    "deletable": false,
    "editable": false,
    "id": "RIwJLjmpgTXK",
    "nbgrader": {
     "cell_type": "markdown",
     "checksum": "887e72e2f80cdde22b8a6ee035ada269",
     "grade": false,
     "grade_id": "cell-756f8744aee6bc9a",
     "locked": true,
     "schema_version": 3,
     "solution": false,
     "task": false
    }
   },
   "source": [
    "Then compute the following operations:\n",
    "> b) (0.2 points) **v** = 3**x** + **y**"
   ]
  },
  {
   "cell_type": "code",
   "execution_count": 36,
   "metadata": {
    "colab": {
     "base_uri": "https://localhost:8080/",
     "height": 35
    },
    "colab_type": "code",
    "deletable": false,
    "id": "enQXa0_ygTXL",
    "nbgrader": {
     "cell_type": "code",
     "checksum": "b5bb89b06a9ec565bda172510394b180",
     "grade": false,
     "grade_id": "cell-f20bb3a03a0446a0",
     "locked": false,
     "schema_version": 3,
     "solution": true,
     "task": false
    },
    "outputId": "e6a4e28c-bbad-40b8-8f7e-412c77d963b0"
   },
   "outputs": [
    {
     "name": "stdout",
     "output_type": "stream",
     "text": [
      "The result of 3x + y is: [21 28 35 42 49 56 63]\n"
     ]
    }
   ],
   "source": [
    "##Answer to question 1.1.1a\n",
    "v = np.multiply(3, x) + y\n",
    "#raise NotImplementedError()\n",
    "\n",
    "print('The result of 3x + y is: {}' .format(v))\n"
   ]
  },
  {
   "cell_type": "code",
   "execution_count": 37,
   "metadata": {
    "colab": {
     "base_uri": "https://localhost:8080/",
     "height": 35
    },
    "colab_type": "code",
    "deletable": false,
    "editable": false,
    "id": "uxmT68GjgTXO",
    "nbgrader": {
     "cell_type": "code",
     "checksum": "ea44a40d3f20857066e6817dcb2994d6",
     "grade": true,
     "grade_id": "cell-d5ee2ea59ea185aa",
     "locked": true,
     "points": 20,
     "schema_version": 3,
     "solution": false,
     "task": false
    },
    "outputId": "6ffe76e5-bbe8-47a3-e92b-45a87464d44f"
   },
   "outputs": [
    {
     "data": {
      "text/plain": [
       "'DO NOT MODIFY THIS CELL'"
      ]
     },
     "execution_count": 37,
     "metadata": {},
     "output_type": "execute_result"
    }
   ],
   "source": [
    "\"\"\"Checks whether 1.1.1.b output is correct\"\"\"\n",
    "\"\"\"DO NOT MODIFY THIS CELL\"\"\""
   ]
  },
  {
   "cell_type": "markdown",
   "metadata": {
    "colab_type": "text",
    "deletable": false,
    "editable": false,
    "id": "ru0T4LdEgTXX",
    "nbgrader": {
     "cell_type": "markdown",
     "checksum": "5cab0c6850e1c4568e35f821f6238030",
     "grade": false,
     "grade_id": "cell-63f5121257148bd9",
     "locked": true,
     "schema_version": 3,
     "solution": false,
     "task": false
    }
   },
   "source": [
    "> c) (0.2 points) Compute the dot product between **x** and **y** and name it **q**\n"
   ]
  },
  {
   "cell_type": "code",
   "execution_count": 38,
   "metadata": {
    "colab": {
     "base_uri": "https://localhost:8080/",
     "height": 35
    },
    "colab_type": "code",
    "deletable": false,
    "id": "RewKC8EPgTXX",
    "nbgrader": {
     "cell_type": "code",
     "checksum": "2fc48df81428f6b48e1d4516bfef4d71",
     "grade": false,
     "grade_id": "cell-202cb8761976ad23",
     "locked": false,
     "schema_version": 3,
     "solution": true,
     "task": false
    },
    "outputId": "e8fd848a-36f2-4036-bfb6-f4cf3f56f606"
   },
   "outputs": [
    {
     "name": "stdout",
     "output_type": "stream",
     "text": [
      "The result of the dot product between x and y is 1057\n"
     ]
    }
   ],
   "source": [
    "##Answer to question 1.1.1c\n",
    "q = np.dot(x,y)\n",
    "\n",
    "print('The result of the dot product between x and y is {}' .format(q))"
   ]
  },
  {
   "cell_type": "code",
   "execution_count": 39,
   "metadata": {
    "colab": {
     "base_uri": "https://localhost:8080/",
     "height": 35
    },
    "colab_type": "code",
    "deletable": false,
    "editable": false,
    "id": "iwLhHKQggTXb",
    "nbgrader": {
     "cell_type": "code",
     "checksum": "add8c5605a25da6af2b5aa956133b246",
     "grade": true,
     "grade_id": "cell-20f77d2a55010304",
     "locked": true,
     "points": 20,
     "schema_version": 3,
     "solution": false,
     "task": false
    },
    "outputId": "61cb1f93-4a7c-41c4-d33d-a5f33c87bc58"
   },
   "outputs": [
    {
     "data": {
      "text/plain": [
       "'DO NOT MODIFY THIS CELL'"
      ]
     },
     "execution_count": 39,
     "metadata": {},
     "output_type": "execute_result"
    }
   ],
   "source": [
    "\"\"\"Checks whether 1.1.1.c output is correct\"\"\"\n",
    "\"\"\"DO NOT MODIFY THIS CELL\"\"\""
   ]
  },
  {
   "cell_type": "markdown",
   "metadata": {
    "colab_type": "text",
    "deletable": false,
    "editable": false,
    "id": "2cyNB2RBgTXe",
    "nbgrader": {
     "cell_type": "markdown",
     "checksum": "a17da507be58e7f7a0a9bb85f186335b",
     "grade": false,
     "grade_id": "cell-0521de24ccf84774",
     "locked": true,
     "schema_version": 3,
     "solution": false,
     "task": false
    }
   },
   "source": [
    "> d) (0.2 points) **t** = pi(**s** + 4) (element wise multiplication)"
   ]
  },
  {
   "cell_type": "code",
   "execution_count": 40,
   "metadata": {
    "colab": {
     "base_uri": "https://localhost:8080/",
     "height": 35
    },
    "colab_type": "code",
    "deletable": false,
    "id": "ozv1ptQVgTXe",
    "nbgrader": {
     "cell_type": "code",
     "checksum": "d50bd033237c8a43b40ad0e37466c396",
     "grade": false,
     "grade_id": "cell-a315df9498c0c934",
     "locked": false,
     "schema_version": 3,
     "solution": true,
     "task": false
    },
    "outputId": "8f78af8a-2e42-4f3a-ce04-0c792dd8a917"
   },
   "outputs": [
    {
     "name": "stdout",
     "output_type": "stream",
     "text": [
      "T is: [326.72563597 322.95572479 319.1858136  315.41590242 311.64599124]\n"
     ]
    }
   ],
   "source": [
    "##Answer to question 1.1.1d\n",
    "t = np.pi * (s + 4)\n",
    "#raise NotImplementedError()\n",
    "\n",
    "print ('T is: {}' .format(t))"
   ]
  },
  {
   "cell_type": "code",
   "execution_count": 41,
   "metadata": {
    "colab": {
     "base_uri": "https://localhost:8080/",
     "height": 35
    },
    "colab_type": "code",
    "deletable": false,
    "editable": false,
    "id": "f_0E-yQNgTXg",
    "nbgrader": {
     "cell_type": "code",
     "checksum": "07917a62bb67d22b8e688ff23ba042fa",
     "grade": true,
     "grade_id": "cell-56542f85c765f075",
     "locked": true,
     "points": 20,
     "schema_version": 3,
     "solution": false,
     "task": false
    },
    "outputId": "421c4cff-da9d-4bc6-b8a0-80e000be9249"
   },
   "outputs": [
    {
     "data": {
      "text/plain": [
       "'DO NOT MODIFY THIS CELL'"
      ]
     },
     "execution_count": 41,
     "metadata": {},
     "output_type": "execute_result"
    }
   ],
   "source": [
    "\"\"\"Checks whether 1.1.1.d output is correct\"\"\"\n",
    "\"\"\"DO NOT MODIFY THIS CELL\"\"\""
   ]
  },
  {
   "cell_type": "markdown",
   "metadata": {
    "colab_type": "text",
    "deletable": false,
    "editable": false,
    "id": "gvpqnspugTXj",
    "nbgrader": {
     "cell_type": "markdown",
     "checksum": "babe0f26fd57353bf85e8b60212a5923",
     "grade": false,
     "grade_id": "cell-5d699e4c877563d1",
     "locked": true,
     "schema_version": 3,
     "solution": false,
     "task": false
    }
   },
   "source": [
    "> e) (0.2 points) **f** = **z** - **1**"
   ]
  },
  {
   "cell_type": "code",
   "execution_count": 42,
   "metadata": {
    "colab": {
     "base_uri": "https://localhost:8080/",
     "height": 35
    },
    "colab_type": "code",
    "deletable": false,
    "id": "awjtqcnEgTXk",
    "nbgrader": {
     "cell_type": "code",
     "checksum": "57bc220d5678f95b54e4b4f121c341a3",
     "grade": false,
     "grade_id": "cell-a227d11e3e0d7f9b",
     "locked": false,
     "schema_version": 3,
     "solution": true,
     "task": false
    },
    "outputId": "ed260541-9bf2-48b2-e16e-2bf104065996"
   },
   "outputs": [
    {
     "name": "stdout",
     "output_type": "stream",
     "text": [
      "F is: [0.7 1.  1.3 1.6 1.9 2.2 2.5 2.8]\n"
     ]
    }
   ],
   "source": [
    "##Answer to question 1.1.1e\n",
    "f = z - 1\n",
    "#raise NotImplementedError()\n",
    "\n",
    "print('F is: {}' .format(z))"
   ]
  },
  {
   "cell_type": "code",
   "execution_count": 43,
   "metadata": {
    "colab": {
     "base_uri": "https://localhost:8080/",
     "height": 35
    },
    "colab_type": "code",
    "deletable": false,
    "editable": false,
    "id": "1gG8cK9mgTXm",
    "nbgrader": {
     "cell_type": "code",
     "checksum": "0f2b56e2e68201f87f46872fc3a184ed",
     "grade": true,
     "grade_id": "cell-2410f24eebc43c95",
     "locked": true,
     "points": 20,
     "schema_version": 3,
     "solution": false,
     "task": false
    },
    "outputId": "cedd26a8-e1a3-471c-da5e-4f367b766d63"
   },
   "outputs": [
    {
     "data": {
      "text/plain": [
       "'DO NOT MODIFY THIS CELL'"
      ]
     },
     "execution_count": 43,
     "metadata": {},
     "output_type": "execute_result"
    }
   ],
   "source": [
    "\"\"\"Checks whether 1.1.1.e output is correct\"\"\"\n",
    "\"\"\"DO NOT MODIFY THIS CELL\"\"\""
   ]
  },
  {
   "cell_type": "markdown",
   "metadata": {
    "colab_type": "text",
    "deletable": false,
    "editable": false,
    "id": "aydFdJQGgTXq",
    "nbgrader": {
     "cell_type": "markdown",
     "checksum": "d910d9cd66ef1416e2717773d6af8a14",
     "grade": false,
     "grade_id": "cell-6ad6cf0b9eb1b509",
     "locked": true,
     "schema_version": 3,
     "solution": false,
     "task": false
    }
   },
   "source": [
    "> f) (0.2 points) replace some values of x, such that the last three values in the vector are 4, assign the result to a new variable called **h**"
   ]
  },
  {
   "cell_type": "code",
   "execution_count": 44,
   "metadata": {
    "colab": {
     "base_uri": "https://localhost:8080/",
     "height": 35
    },
    "colab_type": "code",
    "deletable": false,
    "id": "OfNcBaZLgTXr",
    "nbgrader": {
     "cell_type": "code",
     "checksum": "ea7d038481481e3ae549dfd949d93b73",
     "grade": false,
     "grade_id": "cell-4953e949d6d08a1b",
     "locked": false,
     "schema_version": 3,
     "solution": true,
     "task": false
    },
    "outputId": "b3b66b85-e1ed-4f98-975d-53824027a7b5"
   },
   "outputs": [
    {
     "name": "stdout",
     "output_type": "stream",
     "text": [
      "H is: [6 7 8 9 4 4 4]\n"
     ]
    }
   ],
   "source": [
    "##Answer to question 1.1.1f\n",
    "h = x\n",
    "h[-3:] = 4\n",
    "#raise NotImplementedError()\n",
    "\n",
    "print('H is: {}' .format(x))"
   ]
  },
  {
   "cell_type": "code",
   "execution_count": 45,
   "metadata": {
    "colab": {
     "base_uri": "https://localhost:8080/",
     "height": 35
    },
    "colab_type": "code",
    "deletable": false,
    "editable": false,
    "id": "C037EljfgTXv",
    "nbgrader": {
     "cell_type": "code",
     "checksum": "6afc9c82094c7dc3bc9a4e7fbf14e173",
     "grade": true,
     "grade_id": "cell-9b64fe22d508ee45",
     "locked": true,
     "points": 20,
     "schema_version": 3,
     "solution": false,
     "task": false
    },
    "outputId": "7a89f506-5abd-4869-c838-4069ff80f4e7"
   },
   "outputs": [
    {
     "data": {
      "text/plain": [
       "'DO NOT MODIFY THIS CELL'"
      ]
     },
     "execution_count": 45,
     "metadata": {},
     "output_type": "execute_result"
    }
   ],
   "source": [
    "\"\"\"Checks whether 1.1.1.f output is correct\"\"\"\n",
    "\"\"\"DO NOT MODIFY THIS CELL\"\"\""
   ]
  },
  {
   "cell_type": "markdown",
   "metadata": {
    "colab_type": "text",
    "deletable": false,
    "editable": false,
    "id": "2-f7uFLbgTXz",
    "nbgrader": {
     "cell_type": "markdown",
     "checksum": "7b8101c1e719ec54047efbb91f0c9934",
     "grade": false,
     "grade_id": "cell-965404ad05408d9c",
     "locked": true,
     "schema_version": 3,
     "solution": false,
     "task": false
    }
   },
   "source": [
    "> g) (0.2 points) **r** = 2**w** - 5"
   ]
  },
  {
   "cell_type": "code",
   "execution_count": 46,
   "metadata": {
    "colab": {
     "base_uri": "https://localhost:8080/",
     "height": 35
    },
    "colab_type": "code",
    "deletable": false,
    "id": "vq4VlOHVgTX0",
    "nbgrader": {
     "cell_type": "code",
     "checksum": "ca311436e7d0179a7640a45909fef4e8",
     "grade": false,
     "grade_id": "cell-c82d1f00a5c4ab00",
     "locked": false,
     "schema_version": 3,
     "solution": true,
     "task": false
    },
    "outputId": "f5905b0c-723c-4424-f3f8-0b00ffc44bb5"
   },
   "outputs": [
    {
     "name": "stdout",
     "output_type": "stream",
     "text": [
      "R is: [-3. -3. -5. -4. -3. -2. -1. -5. -5.]\n"
     ]
    }
   ],
   "source": [
    "##Answer to question 1.1.1g\n",
    "r = np.multiply(2, w) - 5\n",
    "#raise NotImplementedError()\n",
    "\n",
    "print('R is: {}' .format(r))"
   ]
  },
  {
   "cell_type": "code",
   "execution_count": 47,
   "metadata": {
    "colab": {
     "base_uri": "https://localhost:8080/",
     "height": 35
    },
    "colab_type": "code",
    "deletable": false,
    "editable": false,
    "id": "7RdnuMgDgTX3",
    "nbgrader": {
     "cell_type": "code",
     "checksum": "0467ce915534a580dc93391a5f234615",
     "grade": true,
     "grade_id": "cell-703678d18acc998c",
     "locked": true,
     "points": 20,
     "schema_version": 3,
     "solution": false,
     "task": false
    },
    "outputId": "308f9f4d-b92f-46ec-a927-5d45a91c611d"
   },
   "outputs": [
    {
     "data": {
      "text/plain": [
       "'DO NOT MODIFY THIS CELL'"
      ]
     },
     "execution_count": 47,
     "metadata": {},
     "output_type": "execute_result"
    }
   ],
   "source": [
    "\"\"\"Checks whether 1.1.1.g output is correct\"\"\"\n",
    "\"\"\"DO NOT MODIFY THIS CELL\"\"\""
   ]
  },
  {
   "cell_type": "markdown",
   "metadata": {
    "colab_type": "text",
    "deletable": false,
    "editable": false,
    "id": "U5Cfg66FgTX7",
    "nbgrader": {
     "cell_type": "markdown",
     "checksum": "d25d5533417dcdd8aa0d42c54ae5ef07",
     "grade": false,
     "grade_id": "cell-0bc68d22e8c46a13",
     "locked": true,
     "schema_version": 3,
     "solution": false,
     "task": false
    }
   },
   "source": [
    "**1.1.2.a** (0.25 points) Generate these matrices: (As numpy ndarrays, not as np.matrix!)\n",
    "\n",
    "\\begin{equation}\n",
    "     \\textbf{M} = \\begin{pmatrix} \n",
    "         1 & 2 & 3 \\\\\n",
    "         6 & 8 & 4 \\\\\n",
    "         6 & 7 & 5          \n",
    "         \\end{pmatrix}\n",
    "     \\textbf{N} = \\begin{pmatrix} \n",
    "         4 & 6 \\\\\n",
    "         7 & 2 \\\\\n",
    "         5 & 1\n",
    "         \\end{pmatrix}\n",
    "     \\textbf{P} = \\begin{pmatrix} \n",
    "         2 & 5 \\\\\n",
    "         5 & 5 \n",
    "         \\end{pmatrix}   \n",
    "\\end{equation}\n",
    "\n",
    "Afterwards try and compute the operations for subquestions *a* up to and including *e* and print the resulting matrix. If some operations yield errors, give the reason as to why that happens and comment out the code that yields the error. (As an exception, you can answer the question about the reason in a comment)\n",
    "\n",
    "*A hint: NumPy has functions for matrix operations you can, and should, use! For instance, **M &ast; N** should be calculated with NumPy's `dot` product. Different operations, such as the &ast; operator or np.matmul may not work as you might think!*"
   ]
  },
  {
   "cell_type": "code",
   "execution_count": 48,
   "metadata": {
    "colab": {
     "base_uri": "https://localhost:8080/",
     "height": 156
    },
    "colab_type": "code",
    "deletable": false,
    "id": "VN2PjU0NgTX8",
    "nbgrader": {
     "cell_type": "code",
     "checksum": "d1aebddb9a9171503235c4da7c088b84",
     "grade": false,
     "grade_id": "cell-4afb0f2e05f34ef4",
     "locked": false,
     "schema_version": 3,
     "solution": true,
     "task": false
    },
    "outputId": "f92bd8ca-bccf-43ad-d37b-39b86c8aae7a"
   },
   "outputs": [
    {
     "name": "stdout",
     "output_type": "stream",
     "text": [
      "[[1 2 3]\n",
      " [6 8 4]\n",
      " [6 7 5]]\n",
      "[[4 6]\n",
      " [7 2]\n",
      " [5 1]]\n",
      "[[2 5]\n",
      " [5 5]]\n"
     ]
    }
   ],
   "source": [
    "##Generate the matrices using Python and NumPy\n",
    "M = np.matrix('1 2 3; 6 8 4; 6 7 5')\n",
    "N = np.matrix('4 6; 7 2; 5 1')\n",
    "P = np.matrix('2 5; 5 5')\n",
    "#raise NotImplementedError()\n",
    "\n",
    "print(M)\n",
    "print(N)\n",
    "print(P)"
   ]
  },
  {
   "cell_type": "code",
   "execution_count": 49,
   "metadata": {
    "colab": {
     "base_uri": "https://localhost:8080/",
     "height": 35
    },
    "colab_type": "code",
    "deletable": false,
    "editable": false,
    "id": "iYhg73zdgTYB",
    "nbgrader": {
     "cell_type": "code",
     "checksum": "7231f67dadb8354c42e5cc8fb4dca179",
     "grade": true,
     "grade_id": "cell-fc482e67f77bf335",
     "locked": true,
     "points": 25,
     "schema_version": 3,
     "solution": false,
     "task": false
    },
    "outputId": "9814a7b0-203e-4377-8dcf-f18ffe83f597"
   },
   "outputs": [
    {
     "data": {
      "text/plain": [
       "'DO NOT MODIFY THIS CELL'"
      ]
     },
     "execution_count": 49,
     "metadata": {},
     "output_type": "execute_result"
    }
   ],
   "source": [
    "\"\"\"Checks whether 1.1.2.a output is correct\"\"\"\n",
    "\"\"\"DO NOT MODIFY THIS CELL\"\"\""
   ]
  },
  {
   "cell_type": "markdown",
   "metadata": {
    "colab_type": "text",
    "deletable": false,
    "editable": false,
    "id": "rldstc3lgTYH",
    "nbgrader": {
     "cell_type": "markdown",
     "checksum": "f81170808644aad8b8cceafd8493a6b1",
     "grade": false,
     "grade_id": "cell-fdf2c57c6c7a7fac",
     "locked": true,
     "schema_version": 3,
     "solution": false,
     "task": false
    }
   },
   "source": [
    "> b. (0.2 points) **A** = **MN** + **N**"
   ]
  },
  {
   "cell_type": "code",
   "execution_count": 50,
   "metadata": {
    "colab": {
     "base_uri": "https://localhost:8080/",
     "height": 69
    },
    "colab_type": "code",
    "deletable": false,
    "id": "tZWXz0fLgTYH",
    "nbgrader": {
     "cell_type": "code",
     "checksum": "2f38723e86cf28e41b80c694650f9c35",
     "grade": false,
     "grade_id": "cell-2bdcb76c7798d91a",
     "locked": false,
     "schema_version": 3,
     "solution": true,
     "task": false
    },
    "outputId": "81892ec1-fd01-4de8-b371-348c0bf9b15f"
   },
   "outputs": [
    {
     "name": "stdout",
     "output_type": "stream",
     "text": [
      "A is: [[ 37  19]\n",
      " [107  58]\n",
      " [103  56]]\n"
     ]
    }
   ],
   "source": [
    "##Answer to question 1.1.b.a\n",
    "A = M*N + N\n",
    "#raise NotImplementedError()\n",
    "\n",
    "print('A is: {}' .format(A))"
   ]
  },
  {
   "cell_type": "code",
   "execution_count": 51,
   "metadata": {
    "colab": {
     "base_uri": "https://localhost:8080/",
     "height": 35
    },
    "colab_type": "code",
    "deletable": false,
    "editable": false,
    "id": "t1nmZrMDgTYL",
    "nbgrader": {
     "cell_type": "code",
     "checksum": "935d1fa42ba3cb85a7df256b9bf745e2",
     "grade": true,
     "grade_id": "cell-08c469fe2867215d",
     "locked": true,
     "points": 20,
     "schema_version": 3,
     "solution": false,
     "task": false
    },
    "outputId": "824fd58c-93ac-4ba7-9f8d-dbc07e105e39"
   },
   "outputs": [
    {
     "data": {
      "text/plain": [
       "'DO NOT MODIFY THIS CELL'"
      ]
     },
     "execution_count": 51,
     "metadata": {},
     "output_type": "execute_result"
    }
   ],
   "source": [
    "\"\"\"Checks whether 1.1.2.b output is correct\"\"\"\n",
    "\"\"\"DO NOT MODIFY THIS CELL\"\"\""
   ]
  },
  {
   "cell_type": "markdown",
   "metadata": {
    "colab_type": "text",
    "deletable": false,
    "editable": false,
    "id": "zaLMeASugTYO",
    "nbgrader": {
     "cell_type": "markdown",
     "checksum": "b335003f13625aa266feb408110f42cb",
     "grade": false,
     "grade_id": "cell-d1e06444b847cf2a",
     "locked": true,
     "schema_version": 3,
     "solution": false,
     "task": false
    }
   },
   "source": [
    "> c. (0.2 points) **B** = **N**<sup>T</sup>**M**"
   ]
  },
  {
   "cell_type": "code",
   "execution_count": 52,
   "metadata": {
    "colab": {
     "base_uri": "https://localhost:8080/",
     "height": 52
    },
    "colab_type": "code",
    "deletable": false,
    "id": "DJfibWfNgTYP",
    "nbgrader": {
     "cell_type": "code",
     "checksum": "a0bebdd28b0a9e0f433bfc81717d88bd",
     "grade": false,
     "grade_id": "cell-62e143e0c9de5eee",
     "locked": false,
     "schema_version": 3,
     "solution": true,
     "task": false
    },
    "outputId": "b73d78ad-2278-4fdf-f911-e5fd07be62cc"
   },
   "outputs": [
    {
     "name": "stdout",
     "output_type": "stream",
     "text": [
      "B is: [[76 99 65]\n",
      " [24 35 31]]\n"
     ]
    }
   ],
   "source": [
    "##Answer to question 1.1.2c\n",
    "B = N.transpose() * M\n",
    "#raise NotImplementedError()\n",
    "\n",
    "print('B is: {}' .format(B))"
   ]
  },
  {
   "cell_type": "code",
   "execution_count": 53,
   "metadata": {
    "colab": {
     "base_uri": "https://localhost:8080/",
     "height": 35
    },
    "colab_type": "code",
    "deletable": false,
    "editable": false,
    "id": "bX5Izyd6gTYR",
    "nbgrader": {
     "cell_type": "code",
     "checksum": "616acf783ce53ae12411f5a85c5aa490",
     "grade": true,
     "grade_id": "cell-816d844646405dc2",
     "locked": true,
     "points": 20,
     "schema_version": 3,
     "solution": false,
     "task": false
    },
    "outputId": "bacc4cf2-5099-4e29-9506-b9470d882c31"
   },
   "outputs": [
    {
     "data": {
      "text/plain": [
       "'DO NOT MODIFY THIS CELL'"
      ]
     },
     "execution_count": 53,
     "metadata": {},
     "output_type": "execute_result"
    }
   ],
   "source": [
    "\"\"\"Checks whether 1.1.2.c output is correct\"\"\"\n",
    "\"\"\"DO NOT MODIFY THIS CELL\"\"\""
   ]
  },
  {
   "cell_type": "markdown",
   "metadata": {
    "colab_type": "text",
    "deletable": false,
    "editable": false,
    "id": "6gyFpVNfgTYV",
    "nbgrader": {
     "cell_type": "markdown",
     "checksum": "8c99bd3232f71c0d6ee5d4ecb98bbb9b",
     "grade": false,
     "grade_id": "cell-2d4ad77568c179d1",
     "locked": true,
     "schema_version": 3,
     "solution": false,
     "task": false
    }
   },
   "source": [
    "> d. (0.2 points) **C** = **P**<sup>-1</sup> + **P**"
   ]
  },
  {
   "cell_type": "code",
   "execution_count": 54,
   "metadata": {
    "colab": {
     "base_uri": "https://localhost:8080/",
     "height": 52
    },
    "colab_type": "code",
    "deletable": false,
    "id": "dKlrqLeIgTYW",
    "nbgrader": {
     "cell_type": "code",
     "checksum": "ce0ebe2d992df1710480e12c052e71f9",
     "grade": false,
     "grade_id": "cell-619687add5c7de79",
     "locked": false,
     "schema_version": 3,
     "solution": true,
     "task": false
    },
    "outputId": "a797275e-6238-4ba6-95b6-78b0aff0f7c3"
   },
   "outputs": [
    {
     "name": "stdout",
     "output_type": "stream",
     "text": [
      "C is: [[1.66666667 5.33333333]\n",
      " [5.33333333 4.86666667]]\n"
     ]
    }
   ],
   "source": [
    "##Answer to question 1.1.2d\n",
    "#C = P.I + P\n",
    "C = np.linalg.inv(P)+P\n",
    "#raise NotImplementedError()\n",
    "\n",
    "print('C is: {}' .format(C))"
   ]
  },
  {
   "cell_type": "code",
   "execution_count": 55,
   "metadata": {
    "colab": {
     "base_uri": "https://localhost:8080/",
     "height": 35
    },
    "colab_type": "code",
    "deletable": false,
    "editable": false,
    "id": "vEAaZIBogTYa",
    "nbgrader": {
     "cell_type": "code",
     "checksum": "3a0477a22d643b728c12c192dfea2519",
     "grade": true,
     "grade_id": "cell-c53cb14ae84755d0",
     "locked": true,
     "points": 20,
     "schema_version": 3,
     "solution": false,
     "task": false
    },
    "outputId": "c962eca0-99a2-496c-a3a3-ffb00d084afa"
   },
   "outputs": [
    {
     "data": {
      "text/plain": [
       "'DO NOT MODIFY THIS CELL'"
      ]
     },
     "execution_count": 55,
     "metadata": {},
     "output_type": "execute_result"
    }
   ],
   "source": [
    "\"\"\"Checks whether 1.1.2.d output is correct\"\"\"\n",
    "\"\"\"DO NOT MODIFY THIS CELL\"\"\""
   ]
  },
  {
   "cell_type": "markdown",
   "metadata": {
    "colab_type": "text",
    "deletable": false,
    "editable": false,
    "id": "wYVG0DU3gTYf",
    "nbgrader": {
     "cell_type": "markdown",
     "checksum": "4ee35b7daca1a789eec77ff17025e14f",
     "grade": false,
     "grade_id": "cell-b83faf27b0c8e04a",
     "locked": true,
     "schema_version": 3,
     "solution": false,
     "task": false
    }
   },
   "source": [
    "> e. (0.2 points) **D** = **AC**(**C** + **B**)"
   ]
  },
  {
   "cell_type": "code",
   "execution_count": 56,
   "metadata": {
    "colab": {
     "base_uri": "https://localhost:8080/",
     "height": 35
    },
    "colab_type": "code",
    "deletable": false,
    "id": "PmcZG7xLgTYf",
    "nbgrader": {
     "cell_type": "code",
     "checksum": "9b149ca693d5d5c46881c75db361e49c",
     "grade": true,
     "grade_id": "cell-dabacc8aa2798662",
     "locked": false,
     "points": 20,
     "schema_version": 3,
     "solution": true,
     "task": false
    },
    "outputId": "f1cfacaf-f904-4b91-a32c-c8ce01828921"
   },
   "outputs": [
    {
     "name": "stdout",
     "output_type": "stream",
     "text": [
      "D cannot be computed due to the shape of the matrices\n"
     ]
    }
   ],
   "source": [
    "##Answer to question 1.1.2e\n",
    "#D = A * C *(C + B)\n",
    "#raise NotImplementedError()\n",
    "#print(D)\n",
    "print('D cannot be computed due to the shape of the matrices')"
   ]
  },
  {
   "cell_type": "code",
   "execution_count": 57,
   "metadata": {
    "colab": {
     "base_uri": "https://localhost:8080/",
     "height": 35
    },
    "colab_type": "code",
    "deletable": false,
    "editable": false,
    "id": "A6UR9giigTYk",
    "nbgrader": {
     "cell_type": "code",
     "checksum": "08f01c78ada1ec3f51a79ee0a77e38f5",
     "grade": true,
     "grade_id": "cell-93d86770667975ed",
     "locked": true,
     "points": 0,
     "schema_version": 3,
     "solution": false,
     "task": false
    },
    "outputId": "ba6ff9b0-b6d5-4d3f-c666-a85da0189178"
   },
   "outputs": [
    {
     "data": {
      "text/plain": [
       "'DO NOT MODIFY THIS CELL'"
      ]
     },
     "execution_count": 57,
     "metadata": {},
     "output_type": "execute_result"
    }
   ],
   "source": [
    "\"\"\"Checks whether 1.1.2.e output is correct\"\"\"\n",
    "\"\"\"DO NOT MODIFY THIS CELL\"\"\""
   ]
  },
  {
   "cell_type": "markdown",
   "metadata": {
    "colab_type": "text",
    "deletable": false,
    "editable": false,
    "id": "q8EmqcRvgTYo",
    "nbgrader": {
     "cell_type": "markdown",
     "checksum": "d3709243d8081027d4e46d99207c21f3",
     "grade": false,
     "grade_id": "cell-934ad6f050761e6c",
     "locked": true,
     "schema_version": 3,
     "solution": false,
     "task": false
    }
   },
   "source": [
    "> f. (0.2 points) Compute the eigenvalues and eigenvectors of **M**, **N**, and **P**, save them as **M_eigvalue**&**M_eigvector**, **N_eigvalue**&**N_eigvector**, and **P_eigvalue**&**P_eigvector** respectively. Then print them."
   ]
  },
  {
   "cell_type": "code",
   "execution_count": 58,
   "metadata": {
    "colab": {
     "base_uri": "https://localhost:8080/",
     "height": 156
    },
    "colab_type": "code",
    "deletable": false,
    "id": "0v4g34CigTYo",
    "nbgrader": {
     "cell_type": "code",
     "checksum": "9222b599c0020da48ec7b25f97e40cc8",
     "grade": true,
     "grade_id": "cell-b3be21eb6760580a",
     "locked": false,
     "points": 10,
     "schema_version": 3,
     "solution": true,
     "task": false
    },
    "outputId": "2e4e2920-ff2d-42f5-b719-4757d2ca0767"
   },
   "outputs": [
    {
     "name": "stdout",
     "output_type": "stream",
     "text": [
      "Eigenvalues and vectors for M are: \n",
      " {} (array([-1.26208735, 14.26208735,  1.        ]), matrix([[-0.84234218,  0.25759308,  0.51507875],\n",
      "        [ 0.38109032,  0.68324439, -0.71318597],\n",
      "        [ 0.38109032,  0.68324439,  0.47545731]]))\n",
      "Eigenvalues and vectors for N give an error because the matrix is not squared\n",
      "Eigenvalues and vectors for P are: \n",
      " {} (array([-1.72015325,  8.72015325]), matrix([[-0.80229293, -0.59693053],\n",
      "        [ 0.59693053, -0.80229293]]))\n"
     ]
    }
   ],
   "source": [
    "##Answer to question 1.1.2f\n",
    "print('Eigenvalues and vectors for M are: \\n {}',np.linalg.eig(M))\n",
    "\n",
    "#print('Eigenvalues and vectors for N are: \\n {}',np.linalg.eig(N))\n",
    "print('Eigenvalues and vectors for N give an error because the matrix is not squared')\n",
    "\n",
    "print('Eigenvalues and vectors for P are: \\n {}',np.linalg.eig(P))\n",
    "#raise NotImplementedError()\n"
   ]
  },
  {
   "cell_type": "code",
   "execution_count": 59,
   "metadata": {
    "colab": {
     "base_uri": "https://localhost:8080/",
     "height": 35
    },
    "colab_type": "code",
    "deletable": false,
    "editable": false,
    "id": "T-5ewzGngTYs",
    "nbgrader": {
     "cell_type": "code",
     "checksum": "b3425b1ba6d083308195ff7ebeea3c97",
     "grade": true,
     "grade_id": "cell-d35b4610877002ea",
     "locked": true,
     "points": 10,
     "schema_version": 3,
     "solution": false,
     "task": false
    },
    "outputId": "4a3e9120-f0e3-4414-baf3-b1168ca1b8f8"
   },
   "outputs": [
    {
     "data": {
      "text/plain": [
       "'DO NOT MODIFY THIS CELL'"
      ]
     },
     "execution_count": 59,
     "metadata": {},
     "output_type": "execute_result"
    }
   ],
   "source": [
    "\"\"\"Checks whether 1.1.2.f output is correct\"\"\"\n",
    "\"\"\"DO NOT MODIFY THIS CELL\"\"\""
   ]
  },
  {
   "cell_type": "markdown",
   "metadata": {
    "colab_type": "text",
    "deletable": false,
    "editable": false,
    "id": "mtFyESAYgTYx",
    "nbgrader": {
     "cell_type": "markdown",
     "checksum": "f58745bd3edfb2fcd3655f4c72b7aded",
     "grade": false,
     "grade_id": "cell-8e8032d94b91d066",
     "locked": true,
     "schema_version": 3,
     "solution": false,
     "task": false
    }
   },
   "source": [
    "# Intermezzo: proper scientific plotting practices \n",
    "\n",
    "**In this course and many others** you will be asked to make a lot of plots. If you've ever read an academic paper, you'll have noticed that besides axis labels, titles and legends, these also contain a figure description *for each plot*. The idea is that you can 'read' a figure without skimming through the text for the explanation. So these figure descriptions should contain\n",
    "\n",
    "1. A short sentence in natural language explaining what we're looking at, (what is on each axis?)\n",
    "2. references to the axis labels and legend if these are not clear immediately, and\n",
    "3. provide a short answer to the question that it belongs to. \n",
    "\n",
    "### Examples:"
   ]
  },
  {
   "cell_type": "code",
   "execution_count": 60,
   "metadata": {
    "colab": {
     "base_uri": "https://localhost:8080/",
     "height": 1000
    },
    "colab_type": "code",
    "deletable": false,
    "editable": false,
    "id": "z69njYOjgTYy",
    "nbgrader": {
     "cell_type": "code",
     "checksum": "8eb7f38de6051e288121be3598de5be3",
     "grade": false,
     "grade_id": "cell-a14e18380558dc80",
     "locked": true,
     "schema_version": 3,
     "solution": false,
     "task": false
    },
    "outputId": "da70acd3-4078-4795-cad0-c42501463aa7"
   },
   "outputs": [
    {
     "data": {
      "image/png": "[encoded data removed]",
      "text/plain": [
       "<Figure size 432x288 with 1 Axes>"
      ]
     },
     "metadata": {
      "needs_background": "light"
     },
     "output_type": "display_data"
    },
    {
     "data": {
      "image/png": "[encoded data removed]",
      "text/plain": [
       "<Figure size 432x288 with 1 Axes>"
      ]
     },
     "metadata": {
      "needs_background": "light"
     },
     "output_type": "display_data"
    },
    {
     "name": "stdout",
     "output_type": "stream",
     "text": [
      "Figure 2: an example of a slightly more complex plot, where we explicitely set the values on the X axis. X axis shows the index of each element, the Y axis shows increasing numbers.\n"
     ]
    },
    {
     "data": {
      "image/png": "[encoded data removed]",
      "text/plain": [
       "<Figure size 576x576 with 6 Axes>"
      ]
     },
     "metadata": {},
     "output_type": "display_data"
    },
    {
     "name": "stdout",
     "output_type": "stream",
     "text": [
      "Figure 3: an example of a complex plot, which showcases some neat pretty stuff that matplotlib can do! Seaborn is a library that you can use to make your plots look nicer. Subplots are used to create multiple plots within the same figure. First I plotted some random black dots, and then I used the bar functions to plot the same information but more complicated. imshow can be used to plot your array as an image for easy inspection. Here, I created an image of blobs using random numbers and a gaussian blur filter. Histograms are nice for checking distributions, for instance, the distribution of gray values in an image containing blobs!\n"
     ]
    }
   ],
   "source": [
    "import matplotlib.pyplot as plt\n",
    "numbers = np.arange(100,1001,100)\n",
    "\n",
    "# Simple plot\n",
    "test_fig_1 = plt.figure()\n",
    "plt.plot(numbers)\n",
    "plt.xlabel('x axis')\n",
    "plt.ylabel('y axis')\n",
    "plt.title('Numbers')\n",
    "plt.figtext(0.5,-0.1,'Figure 1: an example of a simple plot. X axis shows the index of each element, the Y axis shows increasing numbers.', wrap=True, horizontalalignment=\"center\", fontsize=12)\n",
    "plt.show()\n",
    "\n",
    "# a little more complex plot\n",
    "\n",
    "indices = np.arange(5,15)\n",
    "plt.scatter(indices,numbers)\n",
    "plt.xlabel('x axis')\n",
    "plt.ylabel('y axis')\n",
    "plt.title('Numbers')\n",
    "plt.show()\n",
    "print('Figure 2: an example of a slightly more complex plot, where we explicitely set the values on the X axis. X axis shows the index of each element, the Y axis shows increasing numbers.')\n",
    "\n",
    "\n",
    "# an incredibly unnecessary complex plot\n",
    "import seaborn as sns # nicer graphics\n",
    "sns.set_style('darkgrid')\n",
    "\n",
    "fig,ax = plt.subplots(3,2,figsize=(8,8)) # create 3 rows of 2 columns of subplots\n",
    "ax = ax.ravel()\n",
    "\n",
    "x = np.random.normal(0.1, 1,10) #10 numbers with a mean of 0.1 and a sigma of 1\n",
    "y = np.random.normal(1, 0.1,10) #10 numbers with a mean of 1 and a sigma of 0.1\n",
    "\n",
    "ax[0].plot(x,y,'k.') # k means black and . means it should plot dots. Similarly, 'r-' results in a red line and \n",
    "                    # 'b--' would result in a blue checkered line.\n",
    "ax[0].set_title('Random black dots using x and y as coords')\n",
    "ax[0].set_ylabel('Row 0 of subplots')\n",
    "ax[1].bar(range(0,10),x,color='orange') #the first argument tells plt where to place the bars, so range(0,10) just puts them on 0,..,9\n",
    "ax[1].set_title('Vertical bars of x values')\n",
    "\n",
    "ax[2].barh(range(0,10),y,color='darkblue')\n",
    "ax[2].set_title('Horizontal bars of y values')\n",
    "ax[2].set_ylabel('Row 1 of subplots')\n",
    "from scipy import ndimage \n",
    "\n",
    "im = np.zeros((28, 28)) # creates an 28x28 array of zeros\n",
    "points = 28 * np.random.random((2, 3 ** 2)) # creates 28 random (x,y) pairs that we will use as indices\n",
    "im[(points[0]).astype(np.int), (points[1]).astype(np.int)] = 1 # sets the value at those indices to 1\n",
    "im = ndimage.gaussian_filter(im, sigma=28 / (4. * 3)) # puts the array through an image filter that \n",
    "                                                        # blurs the 0's and 1's together\n",
    "blobs = (im > im.mean())*255 # seperates them back into 0's and 1's after blurring \n",
    "\n",
    "ax[3].imshow(blobs,cmap='gray') # plots the array as an image, where each pixel corresponds to a 0 or 1 in our array\n",
    "ax[3].set_title('Blobs in black and white')\n",
    "\n",
    "ax[4].hist(im.ravel(), bins=12,color='green',rwidth=0.9) # plot the gray values from the array in a histogram with 12 bins\n",
    "ax[4].set_title('Distribution of gray values')\n",
    "ax[4].set_ylabel('Row 2 of subplots')\n",
    "ax[4].set_xlabel('Column 0 of subplots')\n",
    "ax[5].hist(im.ravel(),bins=12, cumulative=True, color='orange',rwidth=0.9,alpha=0.8,label='summed') # plot a see through \n",
    "                                                                                # cumulative histogram with alpha\n",
    "ax[5].hist(im.ravel(), bins=12,color='green',rwidth=0.9,alpha=0.7,label='values') # plot the gray values from the array in a histogram with 12 bins\n",
    "ax[5].set_title('(Cumulative) Distribution of gray values')\n",
    "ax[5].legend()\n",
    "ax[5].set_xlabel('Column 1 of subplots')\n",
    "plt.tight_layout() # makes sure everything fits without overlapping -- try running this cell without this to see the effect\n",
    "\n",
    "plt.show()\n",
    "\n",
    "print('Figure 3: an example of a complex plot, which showcases some neat pretty stuff that matplotlib can do! Seaborn is a library that you can use to make your plots look nicer. Subplots are used to create multiple plots within the same figure. First I plotted some random black dots, and then I used the bar functions to plot the same information but more complicated. imshow can be used to plot your array as an image for easy inspection. Here, I created an image of blobs using random numbers and a gaussian blur filter. Histograms are nice for checking distributions, for instance, the distribution of gray values in an image containing blobs!')\n",
    "sns.reset_orig()"
   ]
  },
  {
   "cell_type": "code",
   "execution_count": 61,
   "metadata": {
    "colab": {
     "base_uri": "https://localhost:8080/",
     "height": 69
    },
    "colab_type": "code",
    "id": "6sxMdodVgTY1",
    "outputId": "873d37f3-91c0-46b3-88e3-8f805f46f0c0"
   },
   "outputs": [
    {
     "name": "stdout",
     "output_type": "stream",
     "text": [
      "Text(0.5, 54.0, 'x axis')\n",
      "Text(162.2625, 0.5, 'y axis')\n",
      "[0. 1. 2. 3. 4. 5. 6. 7. 8. 9.]\n"
     ]
    }
   ],
   "source": [
    "print(test_fig_1.axes[0].xaxis.get_label())\n",
    "print(test_fig_1.axes[0].yaxis.get_label())\n",
    "print(test_fig_1.axes[0].lines[0].get_xdata())\n",
    "#bla = test_fig_1.axes[0]\n",
    "\n",
    "#test_fig_1.xaxis.get_label()"
   ]
  },
  {
   "cell_type": "markdown",
   "metadata": {
    "colab_type": "text",
    "deletable": false,
    "editable": false,
    "id": "bjTkNJh9gTY4",
    "nbgrader": {
     "cell_type": "markdown",
     "checksum": "71b063e20ec2ce0d4b64ecc424a3fb29",
     "grade": false,
     "grade_id": "cell-a40f10faf84f38f2",
     "locked": true,
     "schema_version": 3,
     "solution": false,
     "task": false
    }
   },
   "source": [
    "## 1.2 Principal Component Analysis\n",
    "\n",
    "**1.2.1** many experimenters have a habit of using Microsoft Excel as their tool to record measurements from experiments. Fortunately Python can read Excel files. Various methods exist, of which the use of the Python library Pandas is arguably one of the easiest for the purpose of Data Mining.\n",
    "\n",
    "The data used in this exercise is based on data from a chemical sensor obtained from the NanoNose project[1]. The data contains 8 sensors, named by the letters A-H, measuring the concentration of Water, Ethanol, Acetone, Heptane and Pentanol injected into a small gas chamber. The data will be represented in matrix form such that each column contains the 8 sensor measurements (i.e., sensor A-H) of the various compounds injected into the gas chamber.\n",
    "> a. (0.2 points) Inspect the nanonose.xls file in the Data folder and make sure you understand how the data is stored in Excel.\n",
    "\n",
    "> *Load the data in python using the Pandas library (use the `read_excel()` function). Make sure you read some of the Pandas documentation! Especially (column) slicing, (row) indexing and dropping are useful commands to get the correct data here.*\n",
    "\n",
    "> *Make sure to inspect the data first. You should cut out some rows and columns! You can easily inspect the structure of the Pandas dataframe by printing using the `head()` function.*\n",
    "\n",
    "> *You should see the 8 columns named A-H and the first 5 rows by printing `head()`.*\n",
    "\n",
    "> *Finally call the `.values` attribute to cast the Pandas dataframe to a NumPy array called `X`. Make sure that all columns and rows containing numerical data are included in your final answer. It would be a good idea to perform a sanity check by checking whether the Pandas dataframe, and the NumPy array have the same number of rows and columns.* \n",
    "\n",
    "> *We will reproduce your results on our machines, you are therefore required to use correct procedures for specifying the path in which files are located. For all exercises, you are required to use relative paths, in this case: `./data/nanonose.xls`.*"
   ]
  },
  {
   "cell_type": "code",
   "execution_count": 62,
   "metadata": {
    "colab": {
     "base_uri": "https://localhost:8080/",
     "height": 462
    },
    "colab_type": "code",
    "deletable": false,
    "id": "MeLy8H9IgTY4",
    "nbgrader": {
     "cell_type": "code",
     "checksum": "0b9fec897516b87f6228a40d67ba50f2",
     "grade": false,
     "grade_id": "cell-81d79ba2697a6520",
     "locked": false,
     "schema_version": 3,
     "solution": true,
     "task": false
    },
    "outputId": "4804dd45-d7c4-4e68-89a3-798529e8fa1c"
   },
   "outputs": [
    {
     "name": "stdout",
     "output_type": "stream",
     "text": [
      "(91, 11)\n",
      "       Nanonose     Unnamed: 1  Unnamed: 2       A          B         C  \\\n",
      "0   Sample type  Concentration         NaN     NaN        NaN       NaN   \n",
      "1         Water           9200         NaN  95.500  21.000000  6.000000   \n",
      "2         Water           9200         NaN  94.500  17.000000  5.000000   \n",
      "3         Water           9200         NaN  92.000  16.000000  3.000000   \n",
      "4         Water           4600         NaN  53.000   7.500000  2.500000   \n",
      "..          ...            ...         ...     ...        ...       ...   \n",
      "86     Pentanol            192         NaN   0.192   3.072000  9.120000   \n",
      "87     Pentanol            192         NaN   0.192   2.496000  8.736000   \n",
      "88     Pentanol            103         NaN   0.000   1.287500  5.579167   \n",
      "89     Pentanol            103         NaN   0.000   1.072917  4.935417   \n",
      "90     Pentanol            103         NaN   0.000   1.716667  6.437500   \n",
      "\n",
      "            D          E          F          G         H  \n",
      "0         NaN        NaN        NaN        NaN       NaN  \n",
      "1   11.942308  64.134615  21.498560   5.567840  1.174135  \n",
      "2    5.484615  63.205769  19.658560   4.968000  1.883444  \n",
      "3   11.057692  62.586538  19.813120   5.192480  0.564835  \n",
      "4    3.538462  35.163462   6.876207   1.641724  0.144654  \n",
      "..        ...        ...        ...        ...       ...  \n",
      "86  -0.250000   1.300000   4.787200  11.219200  0.000000  \n",
      "87  -0.250000   1.125000   5.068800  12.044800  0.000000  \n",
      "88   0.000000   0.650000   1.845417   6.695000  0.000000  \n",
      "89   0.000000   0.800000   2.288889   7.024028  0.000000  \n",
      "90   0.000000   0.800000   1.945556   7.066944  0.000000  \n",
      "\n",
      "[91 rows x 11 columns]\n"
     ]
    },
    {
     "data": {
      "text/html": [
       "<div>\n",
       "<style scoped>\n",
       "    .dataframe tbody tr th:only-of-type {\n",
       "        vertical-align: middle;\n",
       "    }\n",
       "\n",
       "    .dataframe tbody tr th {\n",
       "        vertical-align: top;\n",
       "    }\n",
       "\n",
       "    .dataframe thead th {\n",
       "        text-align: right;\n",
       "    }\n",
       "</style>\n",
       "<table border=\"1\" class=\"dataframe\">\n",
       "  <thead>\n",
       "    <tr style=\"text-align: right;\">\n",
       "      <th></th>\n",
       "      <th>Sample type</th>\n",
       "      <th>Concentration</th>\n",
       "      <th>A</th>\n",
       "      <th>B</th>\n",
       "      <th>C</th>\n",
       "      <th>D</th>\n",
       "      <th>E</th>\n",
       "      <th>F</th>\n",
       "      <th>G</th>\n",
       "      <th>H</th>\n",
       "    </tr>\n",
       "  </thead>\n",
       "  <tbody>\n",
       "    <tr>\n",
       "      <th>1</th>\n",
       "      <td>Water</td>\n",
       "      <td>9200</td>\n",
       "      <td>95.5</td>\n",
       "      <td>21.0</td>\n",
       "      <td>6.0</td>\n",
       "      <td>11.942308</td>\n",
       "      <td>64.134615</td>\n",
       "      <td>21.498560</td>\n",
       "      <td>5.567840</td>\n",
       "      <td>1.174135</td>\n",
       "    </tr>\n",
       "    <tr>\n",
       "      <th>2</th>\n",
       "      <td>Water</td>\n",
       "      <td>9200</td>\n",
       "      <td>94.5</td>\n",
       "      <td>17.0</td>\n",
       "      <td>5.0</td>\n",
       "      <td>5.484615</td>\n",
       "      <td>63.205769</td>\n",
       "      <td>19.658560</td>\n",
       "      <td>4.968000</td>\n",
       "      <td>1.883444</td>\n",
       "    </tr>\n",
       "    <tr>\n",
       "      <th>3</th>\n",
       "      <td>Water</td>\n",
       "      <td>9200</td>\n",
       "      <td>92.0</td>\n",
       "      <td>16.0</td>\n",
       "      <td>3.0</td>\n",
       "      <td>11.057692</td>\n",
       "      <td>62.586538</td>\n",
       "      <td>19.813120</td>\n",
       "      <td>5.192480</td>\n",
       "      <td>0.564835</td>\n",
       "    </tr>\n",
       "    <tr>\n",
       "      <th>4</th>\n",
       "      <td>Water</td>\n",
       "      <td>4600</td>\n",
       "      <td>53.0</td>\n",
       "      <td>7.5</td>\n",
       "      <td>2.5</td>\n",
       "      <td>3.538462</td>\n",
       "      <td>35.163462</td>\n",
       "      <td>6.876207</td>\n",
       "      <td>1.641724</td>\n",
       "      <td>0.144654</td>\n",
       "    </tr>\n",
       "    <tr>\n",
       "      <th>5</th>\n",
       "      <td>Water</td>\n",
       "      <td>4600</td>\n",
       "      <td>51.0</td>\n",
       "      <td>7.5</td>\n",
       "      <td>2.5</td>\n",
       "      <td>4.865385</td>\n",
       "      <td>34.057692</td>\n",
       "      <td>6.757241</td>\n",
       "      <td>1.613966</td>\n",
       "      <td>0.059663</td>\n",
       "    </tr>\n",
       "  </tbody>\n",
       "</table>\n",
       "</div>"
      ],
      "text/plain": [
       "  Sample type Concentration     A     B    C          D          E          F  \\\n",
       "1       Water          9200  95.5  21.0  6.0  11.942308  64.134615  21.498560   \n",
       "2       Water          9200  94.5  17.0  5.0   5.484615  63.205769  19.658560   \n",
       "3       Water          9200  92.0  16.0  3.0  11.057692  62.586538  19.813120   \n",
       "4       Water          4600  53.0   7.5  2.5   3.538462  35.163462   6.876207   \n",
       "5       Water          4600  51.0   7.5  2.5   4.865385  34.057692   6.757241   \n",
       "\n",
       "          G         H  \n",
       "1  5.567840  1.174135  \n",
       "2  4.968000  1.883444  \n",
       "3  5.192480  0.564835  \n",
       "4  1.641724  0.144654  \n",
       "5  1.613966  0.059663  "
      ]
     },
     "execution_count": 62,
     "metadata": {},
     "output_type": "execute_result"
    }
   ],
   "source": [
    "# YOUR CODE HERE\n",
    "# raise NotImplementedError()\n",
    "# YOUR CODE HERE\n",
    "#raise NotImplementedError()\n",
    "import pandas as pd\n",
    "data = pd.read_excel('../data/nanonose.xls')\n",
    "\n",
    "# Print the number of rows and columns of the data sheet\n",
    "print(data.shape)\n",
    "print(data)\n",
    "\n",
    "# Replace the the values in the top row we use iloc because we don't strictlty provide the row names\n",
    "data.rename(columns={data.columns[i]: data.iloc[0][i] for i in [0, 1]}, inplace=True)\n",
    "\n",
    "#Drop row and column at index 0 so we do not show the NaN values\n",
    "data = data.drop(0, axis=0).drop(data.columns[2], axis=1)\n",
    "X = data.values[:,2:].astype(float)\n",
    "data.head()"
   ]
  },
  {
   "cell_type": "code",
   "execution_count": 63,
   "metadata": {
    "colab": {
     "base_uri": "https://localhost:8080/",
     "height": 35
    },
    "colab_type": "code",
    "deletable": false,
    "editable": false,
    "id": "hV4IzezwgTY7",
    "nbgrader": {
     "cell_type": "code",
     "checksum": "f6fb559562ea314bdf00f9d3be8fad9b",
     "grade": true,
     "grade_id": "cell-a1801991fc2465c3",
     "locked": true,
     "points": 20,
     "schema_version": 3,
     "solution": false,
     "task": false
    },
    "outputId": "ee850a18-e613-44ab-f596-a9d548e4bbf0"
   },
   "outputs": [
    {
     "data": {
      "text/plain": [
       "'DO NOT MODIFY THIS CELL'"
      ]
     },
     "execution_count": 63,
     "metadata": {},
     "output_type": "execute_result"
    }
   ],
   "source": [
    "\"\"\"Checks whether 1.2.1.a output is correct\"\"\"\n",
    "\"\"\"DO NOT MODIFY THIS CELL\"\"\""
   ]
  },
  {
   "cell_type": "markdown",
   "metadata": {
    "colab_type": "text",
    "deletable": false,
    "editable": false,
    "id": "JQ57DwkKgTY-",
    "nbgrader": {
     "cell_type": "markdown",
     "checksum": "d84a5d0dd9cac899a1077ac1356f30d8",
     "grade": false,
     "grade_id": "cell-c119e47975490fb8",
     "locked": true,
     "schema_version": 3,
     "solution": false,
     "task": false
    }
   },
   "source": [
    "> b. (0.3 points) The data resides in what can be seen as an 8-dimensional space. Each dimension (column), corresponds to one of the 8 NanoNose sensors. Multidimensional (>3) data is hard to visualize, as we are unable to plot that many dimensions simultaneously.\n",
    "\n",
    "> Using the `matplotlib.pyplot` library, plot the following 4 attributes combinations against each other on the X-axis vs Y-axis respectively: 1: A vs. B, 2: C vs, D, 3: A vs. E, 4: B vs. H . As you are visualizing separate points with no sequential relationship over the X-axis, you should create a **scatter** plot.\n",
    "\n",
    "> Every figure needs to have assigned a set variable name in order for our automatic grading procedure. Using `plot_name = plt.figure()` before starting the plotting procedure, you can assign a figure a name. (see the first figure in the example) Do not forget to call `plt.show()` when you're done plotting and modifying your figure.\n",
    "\n",
    "> Use the following names for your plots: `scatter_plot_AB`, `scatter_plot_CD`, `scatter_plot_AE`, and `scatter_plot_BH` for the 4 respective plots.\n",
    "\n",
    "> *Do not forget to label your axes and add a figure description!*"
   ]
  },
  {
   "cell_type": "code",
   "execution_count": 64,
   "metadata": {
    "colab": {
     "base_uri": "https://localhost:8080/",
     "height": 1000
    },
    "colab_type": "code",
    "deletable": false,
    "id": "95mIxSE6gTY-",
    "nbgrader": {
     "cell_type": "code",
     "checksum": "2088d6e339efda995f3f3661d0c2e986",
     "grade": false,
     "grade_id": "cell-e91061559263c48f",
     "locked": false,
     "schema_version": 3,
     "solution": true,
     "task": false
    },
    "outputId": "1297f92d-a0dc-4ca9-ff84-d073234ee5a7"
   },
   "outputs": [
    {
     "data": {
      "image/png": "[encoded data removed]",
      "text/plain": [
       "<Figure size 432x288 with 1 Axes>"
      ]
     },
     "metadata": {
      "needs_background": "light"
     },
     "output_type": "display_data"
    },
    {
     "data": {
      "image/png": "[encoded data removed]",
      "text/plain": [
       "<Figure size 432x288 with 1 Axes>"
      ]
     },
     "metadata": {
      "needs_background": "light"
     },
     "output_type": "display_data"
    },
    {
     "data": {
      "image/png": "[encoded data removed]",
      "text/plain": [
       "<Figure size 432x288 with 1 Axes>"
      ]
     },
     "metadata": {
      "needs_background": "light"
     },
     "output_type": "display_data"
    },
    {
     "data": {
      "image/png": "[encoded data removed]",
      "text/plain": [
       "<Figure size 432x288 with 1 Axes>"
      ]
     },
     "metadata": {
      "needs_background": "light"
     },
     "output_type": "display_data"
    }
   ],
   "source": [
    "# YOUR CODE HERE\n",
    "import matplotlib.pyplot as plt\n",
    "def scatter_plot(sensor_1, sensor_2):\n",
    "  plt.scatter(getattr(data, sensor_1), getattr(data, sensor_2), alpha=.5)\n",
    "  plt.xlabel(sensor_1)\n",
    "  plt.ylabel(sensor_2)\n",
    "  plt.title('Co-plot for measurements of {} and {}'.format(sensor_1, sensor_2))\n",
    "  plt.show()\n",
    "\n",
    "scatter_plot('A', 'B')\n",
    "scatter_plot('C', 'D')\n",
    "scatter_plot('A', 'E')\n",
    "scatter_plot('B', 'H')"
   ]
  },
  {
   "cell_type": "code",
   "execution_count": 65,
   "metadata": {
    "colab": {
     "base_uri": "https://localhost:8080/",
     "height": 35
    },
    "colab_type": "code",
    "deletable": false,
    "editable": false,
    "id": "Nl_zydx9gTZC",
    "nbgrader": {
     "cell_type": "code",
     "checksum": "22471b6598cb26418ba6dd0fa24d0a09",
     "grade": true,
     "grade_id": "cell-f1e9518e67c5c19e",
     "locked": true,
     "points": 30,
     "schema_version": 3,
     "solution": false,
     "task": false
    },
    "outputId": "d2c2be6c-60fd-4bc3-ff42-972c90223bfd"
   },
   "outputs": [
    {
     "data": {
      "text/plain": [
       "'DO NOT MODIFY THIS CELL'"
      ]
     },
     "execution_count": 65,
     "metadata": {},
     "output_type": "execute_result"
    }
   ],
   "source": [
    "\"\"\"Checks whether 1.2.1.b. output is correct\"\"\"\n",
    "\"\"\"DO NOT MODIFY THIS CELL\"\"\""
   ]
  },
  {
   "cell_type": "markdown",
   "metadata": {
    "colab_type": "text",
    "deletable": false,
    "editable": false,
    "id": "VsAm3DhsgTZG",
    "nbgrader": {
     "cell_type": "markdown",
     "checksum": "c04bae364cacfbd0e7f50186a9c3269c",
     "grade": false,
     "grade_id": "cell-d697e9e95c9824d3",
     "locked": true,
     "schema_version": 3,
     "solution": false,
     "task": false
    }
   },
   "source": [
    "\n",
    "\n",
    "---\n",
    "\n",
    "\n",
    "1.2.2 Principal Component Analysis, more commonly known as PCA, can be used to visualize high dimensional data. \n",
    "\n",
    "> a. (1 point) Explain what PCA is and when it can be used. Make sure to provide an in-depth explanation and note what the drawbacks and limitations are."
   ]
  },
  {
   "cell_type": "markdown",
   "metadata": {
    "colab_type": "text",
    "deletable": false,
    "id": "cCYYbE12gTZG",
    "nbgrader": {
     "cell_type": "markdown",
     "checksum": "f67e085b5500de6f976ca1ba4be65485",
     "grade": true,
     "grade_id": "cell-05fe2e27477a6327",
     "locked": false,
     "points": 100,
     "schema_version": 3,
     "solution": true,
     "task": false
    }
   },
   "source": [
    "Principal component analysis is a method of dimensionality reduction similar to SVD, but on mean-centered data. It examines the variances within the datasets and the covariances. \n",
    "\n",
    "The covariance matrix is calculated, where the diagonal terms are the variances in the two directions and the off-diagonal terms are the covariances/cross-relations.\n",
    "\n",
    "To decorrelate the matrix, the plot has to be rotated. Then the matrix’s off-diagonals are zero. The largest eigenvalue is the largest variance. By eliminating the smaller eigenvalues, the data is compressed.\n",
    "\n",
    "The main drawback of this method is that lots of information is lost after compression, depending on the amount of components chosen.\n"
   ]
  },
  {
   "cell_type": "markdown",
   "metadata": {
    "colab_type": "text",
    "deletable": false,
    "editable": false,
    "id": "KWRA-WvbgTZH",
    "nbgrader": {
     "cell_type": "markdown",
     "checksum": "35036403f158a68cb9a56fd068028a82",
     "grade": false,
     "grade_id": "cell-3d6da0e02bff65cd",
     "locked": true,
     "schema_version": 3,
     "solution": false,
     "task": false
    }
   },
   "source": [
    "To apply PCA we must first mean center the data. Mean centering means that the mean value for an attribute (i.e. a column) is subtracted from all values for that attribute. \n",
    "\n",
    "> b. (0.5 points) Why do we first need to mean center the data before applying PCA?"
   ]
  },
  {
   "cell_type": "markdown",
   "metadata": {
    "colab_type": "text",
    "deletable": false,
    "id": "A5GDrJqdgTZH",
    "nbgrader": {
     "cell_type": "markdown",
     "checksum": "bf10832f2fe642e19eb536ca4c44b6a4",
     "grade": true,
     "grade_id": "cell-1964fdb898b56c12",
     "locked": false,
     "points": 50,
     "schema_version": 3,
     "solution": true,
     "task": false
    }
   },
   "source": [
    "The data has to be mean centered because it makes sure that the first principal component is corresponding to the maximum variance of the data."
   ]
  },
  {
   "cell_type": "markdown",
   "metadata": {
    "colab_type": "text",
    "deletable": false,
    "editable": false,
    "id": "aBwLjq8hgTZH",
    "nbgrader": {
     "cell_type": "markdown",
     "checksum": "c934cbb08739105acbb5e7edd7088033",
     "grade": false,
     "grade_id": "cell-1b8624cb34f85270",
     "locked": true,
     "schema_version": 3,
     "solution": false,
     "task": false
    }
   },
   "source": [
    "In practice, applying PCA comes down to a series of matrix operations, this is useful, as matrix operations can be applied with little effort and can be computed in relatively little time.\n",
    "\n",
    "The given data **X** must first be mean centered. This can be easily done by calculating a row vector **μ** containing the mean values of each attribute. Then you can subtract **μ** from **X** (**Y** = **X** - **μ**, where **μ** is subtracted from every row.).\n",
    "\n",
    "Then, the Singular Value Decomposition (or SVD) of **Y**, the now mean centered data, can be calculated. **Y** = **USV**<sup>T</sup>. In practice, this is often done using the `numpy.linalg.svd()` function.\n",
    "\n",
    "Using SVD on **Y** yields 3 matrices **U**, **S** and **V**<sup>T</sup>. These are used to project the data onto specific Principal Components (PCs). \n",
    "\n",
    "The entire dataset can be projected onto the Principal Components by multiplying **Z** = **Y\\*V**, where **Z** indicates the projected data, and **Z[:,0]** indicates the data projected onto the first PC. Alternatively, one could project onto just a subset of all the PCs by indexing in the multiplication. For example: **Z** = **Y\\*V[:,0]** would also yield the projection of the data onto the first PC.\n",
    "\n",
    "_Note that for matrices, the mathematical notation **Y\\*V** denotes the `dot` product between **Y** and **V**! This is different from how you would express it in Python!_\n",
    "\n",
    "> c. (1 point)  Apply PCA (using the aforementioned method) on the Nanonose data and visualize a scatterplot of the projection of the data onto the first two PCs. Name your plot (as a result from `plt.figure()`): `scatter_pc1_pc2`"
   ]
  },
  {
   "cell_type": "code",
   "execution_count": 67,
   "metadata": {
    "colab": {
     "base_uri": "https://localhost:8080/",
     "height": 295
    },
    "colab_type": "code",
    "deletable": false,
    "id": "S5W65EwKgTZI",
    "nbgrader": {
     "cell_type": "code",
     "checksum": "0f1df3ddbcc8087cabee0aa59878ebcd",
     "grade": false,
     "grade_id": "cell-527394db5d3ad451",
     "locked": false,
     "schema_version": 3,
     "solution": true,
     "task": false
    },
    "outputId": "372ca181-5213-4165-adee-e3023afeff6c"
   },
   "outputs": [
    {
     "data": {
      "image/png": "[encoded data removed]",
      "text/plain": [
       "<Figure size 432x288 with 1 Axes>"
      ]
     },
     "metadata": {
      "needs_background": "light"
     },
     "output_type": "display_data"
    }
   ],
   "source": [
    "# YOUR CODE HERE\n",
    "#raise NotImplementedError()\n",
    "\n",
    "#Calculate the mean\n",
    "# notice that we can reflect the scatter plot differently depending on whether,\n",
    "# We set the axis uncomment the line with the axis set to 0 to see the difference.\n",
    "m = np.mean(X)\n",
    "#m = np.mean(X, axis=0)\n",
    "#print(m)\n",
    "\n",
    "# Mean center\n",
    "Y = X - m\n",
    "#print(Y)\n",
    "\n",
    "#Singular Value Decomposition\n",
    "U, S, V = np.linalg.svd(Y)\n",
    "\n",
    "#Principle components\n",
    "\n",
    "# Original code not 100% sure if this is correct\n",
    "# See this line above Note that for matrices, the mathematical notation\n",
    "# Y*V denotes the dot product between Y and V! This is different from how you would express it in Python!\n",
    "#PC1 = Y * V[:,0]\n",
    "#PC2 = Y * V[:,1]\n",
    "\n",
    "# Alteration 1 here we transpose first and then take the principal components\n",
    "#PC1 = np.dot(Y, V.T[:,0])\n",
    "#PC2 = np.dot(Y, V.T[:,1])\n",
    "\n",
    "# Alteration 2 here we take the principal components and then transpose2  yields different results!\n",
    "#PC1 = np.dot(Y, V[:,0].T)\n",
    "##PC2 = np.dot(Y, V[:,1].T)\n",
    "\n",
    "# Here I didn't transpose manually since its implied that this already happens,\n",
    "# when np.linalg.svd is applied see text above.\n",
    "# However, something odd happens with this one because it has the same results as alteration 2\n",
    "# There we transpose ourselves explicitly.\n",
    "\n",
    "#Z = np.dot(Y, V)\n",
    "PC1 = Z[:,0]\n",
    "#PC2 = Z[:,1]\n",
    "\n",
    "#Plot PCA\n",
    "plt.scatter(PC1, PC2)\n",
    "plt.xlabel('PC1')\n",
    "plt.ylabel('PC2')\n",
    "plt.title('PCA of Nanonose')\n",
    "plt.show()"
   ]
  },
  {
   "cell_type": "code",
   "execution_count": null,
   "metadata": {
    "colab": {
     "base_uri": "https://localhost:8080/",
     "height": 35
    },
    "colab_type": "code",
    "deletable": false,
    "editable": false,
    "id": "euDIIr03gTZK",
    "nbgrader": {
     "cell_type": "code",
     "checksum": "a941baa1df257438b2b0eb731879af75",
     "grade": true,
     "grade_id": "cell-d5aae39f7a0ebe28",
     "locked": true,
     "points": 100,
     "schema_version": 3,
     "solution": false,
     "task": false
    },
    "outputId": "790c1be7-0531-4ff3-8a12-7da653c80c3b"
   },
   "outputs": [],
   "source": [
    "\"\"\"Checks whether 1.2.2.c. output is correct\"\"\"\n",
    "\"\"\"DO NOT MODIFY THIS CELL\"\"\""
   ]
  },
  {
   "cell_type": "markdown",
   "metadata": {
    "colab_type": "text",
    "deletable": false,
    "editable": false,
    "id": "732pNGu2gTZN",
    "nbgrader": {
     "cell_type": "markdown",
     "checksum": "cba11c344bdc568177800603edf10288",
     "grade": false,
     "grade_id": "cell-08aa7ceb4431d920",
     "locked": true,
     "schema_version": 3,
     "solution": false,
     "task": false
    }
   },
   "source": [
    "> d. (1 point) Alternatively, one could use EigenValue Decomposition, EVD, instead of SVD. What are the similarities and differences between SVD and EVD? Can both be applied in each case?"
   ]
  },
  {
   "cell_type": "markdown",
   "metadata": {
    "colab_type": "text",
    "deletable": false,
    "id": "EXGRmkBYgTZO",
    "nbgrader": {
     "cell_type": "markdown",
     "checksum": "605108383feb6ac8a6cb6ac7b27832a9",
     "grade": true,
     "grade_id": "cell-c1e3de2c79ac20f7",
     "locked": false,
     "points": 100,
     "schema_version": 3,
     "solution": true,
     "task": false
    }
   },
   "source": [
    "YOUR ANSWER HERE"
   ]
  },
  {
   "cell_type": "markdown",
   "metadata": {
    "colab_type": "text",
    "deletable": false,
    "editable": false,
    "id": "r2vZthcfgTZO",
    "nbgrader": {
     "cell_type": "markdown",
     "checksum": "d5c144b1abcf20103426289034b70ca7",
     "grade": false,
     "grade_id": "cell-fb367642987d9863",
     "locked": true,
     "schema_version": 3,
     "solution": false,
     "task": false
    }
   },
   "source": [
    "PCA attempts to explain as much of the variance in data with as few PCs as possible. The variance explained by each of the PCs **m** can be calculated using the following formula: \n",
    "$$\\rho_m = 1 - \\frac{\\|{Y} - {u}_m s_{mm} {v}_m^T\\|^2_F}{\\|{Y}\\|^2_F} = \\frac{s_{mm}^2}{\\displaystyle \\sum_{m'=1}^M s^2_{m'm'}}$$\n",
    "\n",
    "Which indicates that the variation $\\rho$ for a given **m** can be calculated by dividing the squared singular value of component **m** by the sum of all squared singular values. \n",
    "> e. (1 point) Calculate the row vector $\\rho$ containing all values of $\\rho$ for all PCs **m**. Create a bar plot with the variance explained on the Y axis and the number of the PC on the X axis. Name your plot `variance_bar_plot` using `plt.figure()`"
   ]
  },
  {
   "cell_type": "code",
   "execution_count": null,
   "metadata": {
    "colab": {
     "base_uri": "https://localhost:8080/",
     "height": 183
    },
    "colab_type": "code",
    "deletable": false,
    "id": "KoxiRq0UgTZP",
    "nbgrader": {
     "cell_type": "code",
     "checksum": "7c66c03529241dc255f434703174b688",
     "grade": false,
     "grade_id": "cell-1c2732c26cc1f29f",
     "locked": false,
     "schema_version": 3,
     "solution": true,
     "task": false
    },
    "outputId": "28f469b1-551c-416f-f3c9-ad675e4e86e3"
   },
   "outputs": [],
   "source": [
    "# YOUR CODE HERE\n",
    "raise NotImplementedError()\n"
   ]
  },
  {
   "cell_type": "code",
   "execution_count": null,
   "metadata": {
    "colab": {},
    "colab_type": "code",
    "deletable": false,
    "editable": false,
    "id": "nsNsqx54gTZS",
    "nbgrader": {
     "cell_type": "code",
     "checksum": "f57c2d81ce21852860d1670c91aa7918",
     "grade": true,
     "grade_id": "cell-7c637fe375aba981",
     "locked": true,
     "points": 100,
     "schema_version": 3,
     "solution": false,
     "task": false
    }
   },
   "outputs": [],
   "source": [
    "\"\"\"Checks whether 1.2.2.e. output is correct\"\"\"\n",
    "\"\"\"DO NOT MODIFY THIS CELL\"\"\""
   ]
  },
  {
   "cell_type": "markdown",
   "metadata": {
    "colab_type": "text",
    "deletable": false,
    "editable": false,
    "id": "tmt0ln2_gTZW",
    "nbgrader": {
     "cell_type": "markdown",
     "checksum": "72ee469dda10a5ef92782d26004f6d14",
     "grade": false,
     "grade_id": "cell-809a389d65285655",
     "locked": true,
     "schema_version": 3,
     "solution": false,
     "task": false
    }
   },
   "source": [
    "> f. (0.5 points) How much of the variance is explained by the first three PCs? Assign your answer to a variable named `variance_first_3_pcs`. Be sure to calculate this from $\\rho$ directly!"
   ]
  },
  {
   "cell_type": "code",
   "execution_count": null,
   "metadata": {
    "colab": {},
    "colab_type": "code",
    "deletable": false,
    "id": "H0487m4qgTZY",
    "nbgrader": {
     "cell_type": "code",
     "checksum": "ac6bd63a80bafbb531f28b45120f7be8",
     "grade": false,
     "grade_id": "cell-77a5c142f0ae477f",
     "locked": false,
     "schema_version": 3,
     "solution": true,
     "task": false
    }
   },
   "outputs": [],
   "source": [
    "# YOUR CODE HERE\n",
    "raise NotImplementedError()"
   ]
  },
  {
   "cell_type": "code",
   "execution_count": null,
   "metadata": {
    "colab": {},
    "colab_type": "code",
    "deletable": false,
    "editable": false,
    "id": "1rkMxYSNgTZb",
    "nbgrader": {
     "cell_type": "code",
     "checksum": "cdcc1576b9112e19e45471ff652b1d0c",
     "grade": true,
     "grade_id": "cell-0f436420fec4f2b3",
     "locked": true,
     "points": 50,
     "schema_version": 3,
     "solution": false,
     "task": false
    }
   },
   "outputs": [],
   "source": [
    "\"\"\"Checks whether 1.2.2.f. output is correct\"\"\"\n",
    "\"\"\"DO NOT MODIFY THIS CELL\"\"\""
   ]
  },
  {
   "cell_type": "markdown",
   "metadata": {
    "colab_type": "text",
    "deletable": false,
    "editable": false,
    "id": "8oF4u8mbgTZe",
    "nbgrader": {
     "cell_type": "markdown",
     "checksum": "ab968978b2ce4a50d32a1750d563e28d",
     "grade": false,
     "grade_id": "cell-ab8f67d134800ad4",
     "locked": true,
     "schema_version": 3,
     "solution": false,
     "task": false
    }
   },
   "source": [
    "The columns of **V** indicate the exact projection of the data onto the PCs. In a way, a PC is nothing other than a linear combination of the original attributes. \n",
    "> g. (0.5 points) Which attributes are primarily represented by the first PC? What would cause an observation to have a large negative/positive projection onto the second principal component?"
   ]
  },
  {
   "cell_type": "code",
   "execution_count": null,
   "metadata": {
    "colab": {},
    "colab_type": "code",
    "deletable": false,
    "id": "AceXNDLLgTZf",
    "nbgrader": {
     "cell_type": "code",
     "checksum": "d4ecb430d90f0ce163844dea9a156745",
     "grade": false,
     "grade_id": "cell-eb548093279a5430",
     "locked": false,
     "schema_version": 3,
     "solution": true,
     "task": false
    }
   },
   "outputs": [],
   "source": [
    "# YOUR CODE HERE\n",
    "raise NotImplementedError()"
   ]
  },
  {
   "cell_type": "markdown",
   "metadata": {
    "colab_type": "text",
    "deletable": false,
    "id": "4038f6vigTZi",
    "nbgrader": {
     "cell_type": "markdown",
     "checksum": "d9da0414162e7b99af56308b8f287560",
     "grade": true,
     "grade_id": "cell-45c001e1fafdb5f6",
     "locked": false,
     "points": 50,
     "schema_version": 3,
     "solution": true,
     "task": false
    }
   },
   "source": [
    "YOUR ANSWER HERE"
   ]
  },
  {
   "cell_type": "markdown",
   "metadata": {
    "colab_type": "text",
    "deletable": false,
    "editable": false,
    "id": "lAuNDH81gTZj",
    "nbgrader": {
     "cell_type": "markdown",
     "checksum": "d8742059943c09dbd0431075168ea0f7",
     "grade": false,
     "grade_id": "cell-ea5dff1f5315c6f2",
     "locked": true,
     "schema_version": 3,
     "solution": false,
     "task": false
    }
   },
   "source": [
    "## 1.3 Similarity measures\n",
    "\n",
    "We will use a subset of the data on wild faces described by Berg in 2005 transformed to a total\n",
    "of 1000 gray scale images of size 40x40 pixels, we will attempt to find faces in the\n",
    "data base that are the most similar to a given query face. To measure similarity we\n",
    "will consider the following measures: SMC, Jaccard, Cosine, ExtendedJaccard, and\n",
    "Correlation. These measures of similarity are described in *Introduction to Data Mining*, page 73-77 and are given by\n",
    "\n",
    "\\begin{eqnarray*}\n",
    "\\textrm{SMC}({x},{y}) & = & \\frac{\\textrm{Number of matching attribute values}}{\\textrm{Number of attributes}} \\\\\n",
    "\\textrm{Jaccard}({x},{y}) & = & \\frac{\\textrm{Number of matching presences}}{\\textrm{Number of attributes not involved in 00 matches}} \\\\\n",
    "\\textrm{Cosine}({x},{y}) & = & \\frac{{x}^T {y}}{\\|{x}\\| \\|{y}\\|} \\\\\n",
    "\\textrm{ExtendedJaccard}({x},{y}) & = & \\frac{{x}^T {y}}{\\|{x}\\|^2 + \\|{y}\\|^2 - {x}^T {y}} \\\\\n",
    "\\textrm{Correlation}({x},{y}) & = & \\frac{\\textrm{cov}({x},{y})}{\\textrm{std}({x}) \\textrm{std}({y})}\n",
    "\\end{eqnarray*}\n",
    "where $\\textrm{cov}({x},{y})$ denotes the covariance between ${x}$ and ${y}$ and $\\textrm{std}({x})$ denotes the standard deviation of ${x}$.\n",
    "\n",
    "Notice that the SMC and Jaccard similarity measures only are defined for binary data, i.e., data that takes values in $\\{0,1\\}$. As the data we analyze is non-binary, the script will transform the data to be binary when calculating these two measures of similarity by setting\n",
    "$$x_i = \\left\\{ \\begin{array}{ll} 0 & \\textrm{if~} x_i < \\textrm{median}({x}) \\\\\n",
    "                                1 & \\textrm{otherwise.} \\end{array} \\right.$$\n",
    "                                \n",
    "### 1.3.1\n",
    "> (0.5 points) Inspect and run the simfaces function from the Toolbox. The function loads the CBCL face database, computes the similarity between a selected query image and all others, and display the query image, the 5 most similar images, and the 5 least similar images. The value of the used similarity measure is shown below each image. Try changing the query image and the similarity measure and see what happens. Which similarity measures produce similar results? Which one gives the best result? Why?\n",
    "\n",
    "> Remember to make sure we can reproduce and see all results. Do not comment out any code you used to obtain your answer!\n",
    "\n"
   ]
  },
  {
   "cell_type": "code",
   "execution_count": null,
   "metadata": {
    "colab": {},
    "colab_type": "code",
    "deletable": false,
    "id": "msWs3J8ogTZj",
    "nbgrader": {
     "cell_type": "code",
     "checksum": "a82ba81749d47a4b3426e71450600583",
     "grade": false,
     "grade_id": "cell-908351ba7565b72a",
     "locked": false,
     "schema_version": 3,
     "solution": true,
     "task": false
    }
   },
   "outputs": [],
   "source": [
    "# YOUR CODE HERE\n",
    "raise NotImplementedError()"
   ]
  },
  {
   "cell_type": "markdown",
   "metadata": {
    "colab_type": "text",
    "deletable": false,
    "id": "JPYuT7hQgTZn",
    "nbgrader": {
     "cell_type": "markdown",
     "checksum": "f0765df7fa698ab561834c4c4c407450",
     "grade": true,
     "grade_id": "cell-76cb1de2f0899a6b",
     "locked": false,
     "points": 50,
     "schema_version": 3,
     "solution": true,
     "task": false
    }
   },
   "source": [
    "YOUR ANSWER HERE"
   ]
  },
  {
   "cell_type": "markdown",
   "metadata": {
    "colab_type": "text",
    "deletable": false,
    "editable": false,
    "id": "Uf9gcDzWgTZn",
    "nbgrader": {
     "cell_type": "markdown",
     "checksum": "83ec26105e2e3e86aba1e9037ead702d",
     "grade": false,
     "grade_id": "cell-4ceadd33d900b6cf",
     "locked": true,
     "schema_version": 3,
     "solution": false,
     "task": false
    }
   },
   "source": [
    "\n",
    "> (0.75 points) We will investigate how scaling and translation impact the following three\n",
    "similarity measures: Cosine, ExtendedJaccard, and Correlation. Let **x** and **y** be two small vectors of the same size. Let $\\alpha$ and $\\beta$ be two constants. You can generate these randomly or set them as you see fit. Using Python, calculate the following similarity measures, and check if the statements below are correct.\n",
    "\n",
    "\\begin{eqnarray*}\n",
    "\\textrm{Cosine}(\\alpha{x},{y}) & = & \\textrm{Cosine}({x},{y}) \\\\\n",
    "\\textrm{ExtendedJaccard}(\\alpha{x},{y}) & = & \\textrm{ExtendedJaccard}({x},{y}) \\\\\n",
    "\\textrm{Correlation}(\\alpha{x},{y}) & = & \\textrm{Correlation}({x},{y}) \\\\\n",
    "\\textrm{Cosine}(\\beta + {x},{y}) & = & \\textrm{Cosine}({x},{y}) \\\\\n",
    "\\textrm{ExtendedJaccard}(\\beta + {x},{y}) & = & \\textrm{ExtendedJaccard}({x},{y}) \\\\\n",
    "\\textrm{Correlation}(\\beta + {x},{y}) & = & \\textrm{Correlation}({x},{y})\n",
    "\\end{eqnarray*}\n",
    "\n",
    "> Type `help similarity` or study `similarity.py` to learn about the function that is used to compute the similarity measures. Do not forget to also import similarity.py!\n",
    "\n",
    "> Even though a similarity measure is theoretically invariant e.g.\\ to scaling, it might not be exactly invariant numerically.\n",
    "\n",
    "> Do not forget to also provide an explanation in addition to the calculations!\n"
   ]
  },
  {
   "cell_type": "code",
   "execution_count": null,
   "metadata": {
    "colab": {},
    "colab_type": "code",
    "deletable": false,
    "id": "4MMKCpvVgTZn",
    "nbgrader": {
     "cell_type": "code",
     "checksum": "373a9f26adee64e8da2568830a62e707",
     "grade": false,
     "grade_id": "cell-8437413cbb144cb5",
     "locked": false,
     "schema_version": 3,
     "solution": true,
     "task": false
    }
   },
   "outputs": [],
   "source": [
    "# YOUR CODE HERE\n",
    "raise NotImplementedError()"
   ]
  },
  {
   "cell_type": "markdown",
   "metadata": {
    "colab_type": "text",
    "deletable": false,
    "id": "Qu6Czy4OgTZp",
    "nbgrader": {
     "cell_type": "markdown",
     "checksum": "9900af75bb7eaf9db6deae65c79e0a75",
     "grade": true,
     "grade_id": "cell-3ed567a7c26f66a8",
     "locked": false,
     "points": 75,
     "schema_version": 3,
     "solution": true,
     "task": false
    }
   },
   "source": [
    "YOUR ANSWER HERE"
   ]
  }
 ],
 "metadata": {
  "colab": {
   "collapsed_sections": [
    "lAuNDH81gTZj"
   ],
   "name": "assignment_1.ipynb",
   "provenance": [],
   "toc_visible": true
  },
  "kernelspec": {
   "display_name": "Python 3",
   "language": "python",
   "name": "python3"
  },
  "language_info": {
   "codemirror_mode": {
    "name": "ipython",
    "version": 3
   },
   "file_extension": ".py",
   "mimetype": "text/x-python",
   "name": "python",
   "nbconvert_exporter": "python",
   "pygments_lexer": "ipython3",
   "version": "3.8.3"
  },
  "varInspector": {
   "cols": {
    "lenName": 16,
    "lenType": 16,
    "lenVar": 40
   },
   "kernels_config": {
    "python": {
     "delete_cmd_postfix": "",
     "delete_cmd_prefix": "del ",
     "library": "var_list.py",
     "varRefreshCmd": "print(var_dic_list())"
    },
    "r": {
     "delete_cmd_postfix": ") ",
     "delete_cmd_prefix": "rm(",
     "library": "var_list.r",
     "varRefreshCmd": "cat(var_dic_list()) "
    }
   },
   "position": {
    "height": "790px",
    "left": "827px",
    "right": "20px",
    "top": "64px",
    "width": "800px"
   },
   "types_to_exclude": [
    "module",
    "function",
    "builtin_function_or_method",
    "instance",
    "_Feature"
   ],
   "window_display": false
  }
 },
 "nbformat": 4,
 "nbformat_minor": 1
}
